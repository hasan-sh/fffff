{
 "cells": [
  {
   "cell_type": "code",
   "execution_count": 199,
   "id": "3ba6d893-f982-458a-934d-d97853a6a88b",
   "metadata": {
    "tags": []
   },
   "outputs": [],
   "source": [
    "import pandas as pd\n",
    "import numpy as np\n",
    "from langdetect import detect\n",
    "\n",
    "import json\n",
    "import matplotlib.pyplot as plt\n",
    "import plotly.graph_objects as go\n",
    "\n",
    "import seaborn as sns\n",
    "import re \n",
    "import math\n",
    "from collections import defaultdict, Counter\n",
    "\n",
    "import utils\n",
    "# from graph import create_graph"
   ]
  },
  {
   "cell_type": "code",
   "execution_count": 2,
   "id": "7362104c-ec9c-4ed3-a389-963e4401a62d",
   "metadata": {
    "tags": []
   },
   "outputs": [],
   "source": [
    "# !pip install networkx "
   ]
  },
  {
   "cell_type": "code",
   "execution_count": 233,
   "id": "f8ca8368-cd6d-4aab-8634-e832cd326f48",
   "metadata": {
    "tags": []
   },
   "outputs": [],
   "source": [
    "\n",
    "# Open a file for reading\n",
    "with open(\"../data/labels_per_category.json\", \"r\") as f:\n",
    "    # Write the dictionary to the file in JSON format\n",
    "    ocms = json.load(f)"
   ]
  },
  {
   "cell_type": "markdown",
   "id": "2dd5dccb-9c85-4329-ab64-5e184fabb76d",
   "metadata": {},
   "source": [
    "# Params"
   ]
  },
  {
   "cell_type": "code",
   "execution_count": 135,
   "id": "85f9ca94-b785-4791-9d6a-d24a4bbdb382",
   "metadata": {
    "tags": []
   },
   "outputs": [],
   "source": [
    "CHOSEN_CATEGORIES = True\n",
    "LABELS_NEEDED_BEFORE = 626\n",
    "ONLY_PARENT_CATEGORY = False\n",
    "N_TO_SELECT = 10"
   ]
  },
  {
   "cell_type": "markdown",
   "id": "b1f8f279-afb3-44e1-90fe-20f00319f72b",
   "metadata": {
    "tags": []
   },
   "source": [
    "# Split based on OCMs"
   ]
  },
  {
   "cell_type": "code",
   "execution_count": 5,
   "id": "b2141681-e5a8-4ed5-b70b-f5fd2b0eb3a9",
   "metadata": {
    "tags": []
   },
   "outputs": [],
   "source": [
    "df = pd.read_csv('../data/fpsc3.csv', encoding='utf-8')"
   ]
  },
  {
   "cell_type": "code",
   "execution_count": 89,
   "id": "78d77e16-3eef-4e27-a2f4-8e698f72f1e3",
   "metadata": {
    "tags": []
   },
   "outputs": [],
   "source": [
    "pd.set_option('display.max_rows', 500)"
   ]
  },
  {
   "cell_type": "code",
   "execution_count": null,
   "id": "189a32b6-4b46-4b6c-b63b-179d96797404",
   "metadata": {},
   "outputs": [],
   "source": [
    "df.drop(['sectpar', 'sectgpar', 'hdoc', 'mainowc', '"
   ]
  },
  {
   "cell_type": "code",
   "execution_count": 90,
   "id": "3df428a5-bae3-4fd2-8889-4939e774802d",
   "metadata": {
    "tags": []
   },
   "outputs": [
    {
     "data": {
      "text/html": [
       "<div>\n",
       "<style scoped>\n",
       "    .dataframe tbody tr th:only-of-type {\n",
       "        vertical-align: middle;\n",
       "    }\n",
       "\n",
       "    .dataframe tbody tr th {\n",
       "        vertical-align: top;\n",
       "    }\n",
       "\n",
       "    .dataframe thead th {\n",
       "        text-align: right;\n",
       "    }\n",
       "</style>\n",
       "<table border=\"1\" class=\"dataframe\">\n",
       "  <thead>\n",
       "    <tr style=\"text-align: right;\">\n",
       "      <th></th>\n",
       "      <th>sreid</th>\n",
       "      <th>section</th>\n",
       "      <th>sectpar</th>\n",
       "      <th>sectgpar</th>\n",
       "      <th>title</th>\n",
       "      <th>hdoc</th>\n",
       "      <th>culture</th>\n",
       "      <th>pub.date</th>\n",
       "      <th>field.date</th>\n",
       "      <th>byline</th>\n",
       "      <th>...</th>\n",
       "      <th>owcs</th>\n",
       "      <th>mainowc</th>\n",
       "      <th>samples</th>\n",
       "      <th>pub.lang</th>\n",
       "      <th>page</th>\n",
       "      <th>pageEid</th>\n",
       "      <th>prevPage</th>\n",
       "      <th>nextPage</th>\n",
       "      <th>textrecord</th>\n",
       "      <th>ocms</th>\n",
       "    </tr>\n",
       "  </thead>\n",
       "  <tbody>\n",
       "    <tr>\n",
       "      <th>0</th>\n",
       "      <td>aa01-000-000178</td>\n",
       "      <td>aa01-000-000176</td>\n",
       "      <td>aa01-000-000164</td>\n",
       "      <td>NaN</td>\n",
       "      <td>Culture summary: Korea</td>\n",
       "      <td>aa01-000</td>\n",
       "      <td>Korea</td>\n",
       "      <td>NaN</td>\n",
       "      <td>no date</td>\n",
       "      <td>Choong Soon Kim and Ian Skoggard (file evaluat...</td>\n",
       "      <td>...</td>\n",
       "      <td>aa01</td>\n",
       "      <td>aa01</td>\n",
       "      <td>SCCSPS</td>\n",
       "      <td>English</td>\n",
       "      <td>5</td>\n",
       "      <td>aa01-000-000165</td>\n",
       "      <td>aa01-000-000129</td>\n",
       "      <td>aa01-000-000214</td>\n",
       "      <td>Before the 1900s, Koreans lived as subsistence...</td>\n",
       "      <td>241 433</td>\n",
       "    </tr>\n",
       "    <tr>\n",
       "      <th>1</th>\n",
       "      <td>aa01-001-000341</td>\n",
       "      <td>aa01-001-000028</td>\n",
       "      <td>NaN</td>\n",
       "      <td>NaN</td>\n",
       "      <td>The passing of Korea</td>\n",
       "      <td>aa01-001</td>\n",
       "      <td>Korea</td>\n",
       "      <td>NaN</td>\n",
       "      <td>1890-1905</td>\n",
       "      <td>[by] Homer B. Hulbert</td>\n",
       "      <td>...</td>\n",
       "      <td>aa01</td>\n",
       "      <td>aa01</td>\n",
       "      <td>SCCSPS</td>\n",
       "      <td>English</td>\n",
       "      <td>14-15</td>\n",
       "      <td>aa01-001-000331</td>\n",
       "      <td>aa01-001-000308</td>\n",
       "      <td>aa01-001-000347</td>\n",
       "      <td>{{245}} “Korea is richly endowed with fruits o...</td>\n",
       "      <td>245</td>\n",
       "    </tr>\n",
       "    <tr>\n",
       "      <th>2</th>\n",
       "      <td>aa01-001-000357</td>\n",
       "      <td>aa01-001-000028</td>\n",
       "      <td>NaN</td>\n",
       "      <td>NaN</td>\n",
       "      <td>The passing of Korea</td>\n",
       "      <td>aa01-001</td>\n",
       "      <td>Korea</td>\n",
       "      <td>NaN</td>\n",
       "      <td>1890-1905</td>\n",
       "      <td>[by] Homer B. Hulbert</td>\n",
       "      <td>...</td>\n",
       "      <td>aa01</td>\n",
       "      <td>aa01</td>\n",
       "      <td>SCCSPS</td>\n",
       "      <td>English</td>\n",
       "      <td>15-16</td>\n",
       "      <td>aa01-001-000347</td>\n",
       "      <td>aa01-001-000331</td>\n",
       "      <td>aa01-001-000371</td>\n",
       "      <td>{{234}}  {{243}}  {{538}}  {{824}}  {{517}} “T...</td>\n",
       "      <td>234 243 517 538 824</td>\n",
       "    </tr>\n",
       "    <tr>\n",
       "      <th>3</th>\n",
       "      <td>aa01-001-000436</td>\n",
       "      <td>aa01-001-000028</td>\n",
       "      <td>NaN</td>\n",
       "      <td>NaN</td>\n",
       "      <td>The passing of Korea</td>\n",
       "      <td>aa01-001</td>\n",
       "      <td>Korea</td>\n",
       "      <td>NaN</td>\n",
       "      <td>1890-1905</td>\n",
       "      <td>[by] Homer B. Hulbert</td>\n",
       "      <td>...</td>\n",
       "      <td>aa01</td>\n",
       "      <td>aa01</td>\n",
       "      <td>SCCSPS</td>\n",
       "      <td>English</td>\n",
       "      <td>17</td>\n",
       "      <td>aa01-001-000426</td>\n",
       "      <td>aa01-001-000371</td>\n",
       "      <td>aa01-001-000454</td>\n",
       "      <td>{{243}} “Millet is the most ancient form of fo...</td>\n",
       "      <td>243</td>\n",
       "    </tr>\n",
       "    <tr>\n",
       "      <th>4</th>\n",
       "      <td>aa01-001-000442</td>\n",
       "      <td>aa01-001-000028</td>\n",
       "      <td>NaN</td>\n",
       "      <td>NaN</td>\n",
       "      <td>The passing of Korea</td>\n",
       "      <td>aa01-001</td>\n",
       "      <td>Korea</td>\n",
       "      <td>NaN</td>\n",
       "      <td>1890-1905</td>\n",
       "      <td>[by] Homer B. Hulbert</td>\n",
       "      <td>...</td>\n",
       "      <td>aa01</td>\n",
       "      <td>aa01</td>\n",
       "      <td>SCCSPS</td>\n",
       "      <td>English</td>\n",
       "      <td>17</td>\n",
       "      <td>aa01-001-000426</td>\n",
       "      <td>aa01-001-000371</td>\n",
       "      <td>aa01-001-000454</td>\n",
       "      <td>{{243}}  {{252}}  {{263}} “As rice is the nati...</td>\n",
       "      <td>243 252 263</td>\n",
       "    </tr>\n",
       "  </tbody>\n",
       "</table>\n",
       "<p>5 rows × 28 columns</p>\n",
       "</div>"
      ],
      "text/plain": [
       "             sreid          section          sectpar sectgpar   \n",
       "0  aa01-000-000178  aa01-000-000176  aa01-000-000164      NaN  \\\n",
       "1  aa01-001-000341  aa01-001-000028              NaN      NaN   \n",
       "2  aa01-001-000357  aa01-001-000028              NaN      NaN   \n",
       "3  aa01-001-000436  aa01-001-000028              NaN      NaN   \n",
       "4  aa01-001-000442  aa01-001-000028              NaN      NaN   \n",
       "\n",
       "                    title      hdoc culture pub.date field.date   \n",
       "0  Culture summary: Korea  aa01-000   Korea      NaN    no date  \\\n",
       "1    The passing of Korea  aa01-001   Korea      NaN  1890-1905   \n",
       "2    The passing of Korea  aa01-001   Korea      NaN  1890-1905   \n",
       "3    The passing of Korea  aa01-001   Korea      NaN  1890-1905   \n",
       "4    The passing of Korea  aa01-001   Korea      NaN  1890-1905   \n",
       "\n",
       "                                              byline  ...  owcs mainowc   \n",
       "0  Choong Soon Kim and Ian Skoggard (file evaluat...  ...  aa01    aa01  \\\n",
       "1                              [by] Homer B. Hulbert  ...  aa01    aa01   \n",
       "2                              [by] Homer B. Hulbert  ...  aa01    aa01   \n",
       "3                              [by] Homer B. Hulbert  ...  aa01    aa01   \n",
       "4                              [by] Homer B. Hulbert  ...  aa01    aa01   \n",
       "\n",
       "  samples pub.lang   page          pageEid         prevPage         nextPage   \n",
       "0  SCCSPS  English      5  aa01-000-000165  aa01-000-000129  aa01-000-000214  \\\n",
       "1  SCCSPS  English  14-15  aa01-001-000331  aa01-001-000308  aa01-001-000347   \n",
       "2  SCCSPS  English  15-16  aa01-001-000347  aa01-001-000331  aa01-001-000371   \n",
       "3  SCCSPS  English     17  aa01-001-000426  aa01-001-000371  aa01-001-000454   \n",
       "4  SCCSPS  English     17  aa01-001-000426  aa01-001-000371  aa01-001-000454   \n",
       "\n",
       "                                          textrecord                 ocms  \n",
       "0  Before the 1900s, Koreans lived as subsistence...              241 433  \n",
       "1  {{245}} “Korea is richly endowed with fruits o...                  245  \n",
       "2  {{234}}  {{243}}  {{538}}  {{824}}  {{517}} “T...  234 243 517 538 824  \n",
       "3  {{243}} “Millet is the most ancient form of fo...                  243  \n",
       "4  {{243}}  {{252}}  {{263}} “As rice is the nati...          243 252 263  \n",
       "\n",
       "[5 rows x 28 columns]"
      ]
     },
     "execution_count": 90,
     "metadata": {},
     "output_type": "execute_result"
    }
   ],
   "source": [
    "df.head()"
   ]
  },
  {
   "cell_type": "markdown",
   "id": "140d6f86-e987-4629-ac03-09c39f1f2fdc",
   "metadata": {},
   "source": [
    "# Visualization & Preprocessing"
   ]
  },
  {
   "cell_type": "markdown",
   "id": "ec647de4-c945-4cbd-952b-2678421ef946",
   "metadata": {},
   "source": [
    "### Restructure columns"
   ]
  },
  {
   "cell_type": "code",
   "execution_count": 6,
   "id": "82d304af-250f-41e1-b0c9-cc3057924bab",
   "metadata": {
    "tags": []
   },
   "outputs": [],
   "source": [
    "df['ocms'] = df['ocms'].apply(lambda x: x.replace('#', ''))"
   ]
  },
  {
   "cell_type": "code",
   "execution_count": 7,
   "id": "d6f36f96-ebcd-4739-94cb-a992870f42ec",
   "metadata": {
    "tags": []
   },
   "outputs": [],
   "source": [
    "df.dropna(subset=['textrecord'], inplace=True)\n",
    "df = df.reset_index(drop=True)"
   ]
  },
  {
   "cell_type": "code",
   "execution_count": null,
   "id": "9f8173e4-7e57-496c-b18e-2160f2bc810a",
   "metadata": {
    "tags": []
   },
   "outputs": [
    {
     "data": {
      "text/html": [
       "<div>\n",
       "<style scoped>\n",
       "    .dataframe tbody tr th:only-of-type {\n",
       "        vertical-align: middle;\n",
       "    }\n",
       "\n",
       "    .dataframe tbody tr th {\n",
       "        vertical-align: top;\n",
       "    }\n",
       "\n",
       "    .dataframe thead th {\n",
       "        text-align: right;\n",
       "    }\n",
       "</style>\n",
       "<table border=\"1\" class=\"dataframe\">\n",
       "  <thead>\n",
       "    <tr style=\"text-align: right;\">\n",
       "      <th></th>\n",
       "      <th>sreid</th>\n",
       "      <th>section</th>\n",
       "      <th>sectpar</th>\n",
       "      <th>sectgpar</th>\n",
       "      <th>title</th>\n",
       "      <th>hdoc</th>\n",
       "      <th>culture</th>\n",
       "      <th>pub.date</th>\n",
       "      <th>field.date</th>\n",
       "      <th>byline</th>\n",
       "      <th>...</th>\n",
       "      <th>owcs</th>\n",
       "      <th>mainowc</th>\n",
       "      <th>samples</th>\n",
       "      <th>pub.lang</th>\n",
       "      <th>page</th>\n",
       "      <th>pageEid</th>\n",
       "      <th>prevPage</th>\n",
       "      <th>nextPage</th>\n",
       "      <th>textrecord</th>\n",
       "      <th>ocms</th>\n",
       "    </tr>\n",
       "  </thead>\n",
       "  <tbody>\n",
       "  </tbody>\n",
       "</table>\n",
       "<p>0 rows × 28 columns</p>\n",
       "</div>"
      ],
      "text/plain": [
       "Empty DataFrame\n",
       "Columns: [sreid, section, sectpar, sectgpar, title, hdoc, culture, pub.date, field.date, byline, sreprev, srenext, parent, division, coverage, place, roll, pub.type, owcs, mainowc, samples, pub.lang, page, pageEid, prevPage, nextPage, textrecord, ocms]\n",
       "Index: []\n",
       "\n",
       "[0 rows x 28 columns]"
      ]
     },
     "execution_count": 8,
     "metadata": {},
     "output_type": "execute_result"
    }
   ],
   "source": [
    "df[df['ocms'].apply(lambda x: min([int(l) for l in x.split()]) > LABELS_NEEDED_BEFORE)]"
   ]
  },
  {
   "cell_type": "markdown",
   "id": "7894784b-508e-43c9-bcc8-93375add63e3",
   "metadata": {},
   "source": [
    "# Explore columns"
   ]
  },
  {
   "cell_type": "code",
   "execution_count": null,
   "id": "b447b23e-e402-48e2-8511-7d77ed6d0fc4",
   "metadata": {
    "tags": []
   },
   "outputs": [
    {
     "data": {
      "text/plain": [
       "pub.lang\n",
       "English                                                     176462\n",
       "English and Assiniboine                                          1\n",
       "English and Athabaskan                                          55\n",
       "English and Cajun French                                         3\n",
       "English and Delaware                                             3\n",
       "English and French                                              32\n",
       "English and Hawaiian                                           366\n",
       "English and Hopi                                               291\n",
       "English and Ifugao                                              60\n",
       "English and Japanese                                            41\n",
       "English and Klamath                                             63\n",
       "English and Latin                                               12\n",
       "English and Pageh                                               90\n",
       "English and Russian                                             27\n",
       "English and Spanish                                             39\n",
       "English and Tongan                                             180\n",
       "English and Warao (Macro-Chibchan)                               3\n",
       "English and Zulu                                                47\n",
       "English and dialects of Malekula                                96\n",
       "English translation from Aztec                                 261\n",
       "English translation from Chinese                               105\n",
       "English translation from Cuna                                   10\n",
       "English translation from Finnish                               773\n",
       "English translation from French                               8111\n",
       "English translation from German                               3939\n",
       "English translation from German translation from Russian         2\n",
       "English translation from Hebrew                                 25\n",
       "English translation from Iban                                   12\n",
       "English translation from Italian                               188\n",
       "English translation from Italian(?)                             90\n",
       "English translation from Japanese                                2\n",
       "English translation from Latin                                 165\n",
       "English translation from Netherlandish                         168\n",
       "English translation from Norwegian                              21\n",
       "English translation from Portuguese                            655\n",
       "English translation from Russian                               824\n",
       "English translation from Serbian                               181\n",
       "English translation from Serbo-Croatian (Roman)                  3\n",
       "English translation from Spanish                               992\n",
       "English translation from Swedish                                32\n",
       "English translation from Turkish                                81\n",
       "English translation from the French                             84\n",
       "English translation from the German                            117\n",
       "English translation from the Portuguese                         10\n",
       "English translation from the Spanish                            13\n",
       "English with German abstract                                    31\n",
       "English with some Spanish and Cuna                              97\n",
       "English with summary in French                                 376\n",
       "English with summary in Portuguese                              14\n",
       "English, French, German, or Russian                              1\n",
       "English/Hawaiian                                                60\n",
       "English2009                                                      8\n",
       "French                                                        2464\n",
       "German                                                         546\n",
       "German, English, Indonesian                                    314\n",
       "Italian                                                        114\n",
       "Japanese- summary in English                                     9\n",
       "Latin and English                                              659\n",
       "Spanish                                                        325\n",
       "Spanish/English                                                  2\n",
       "english                                                          4\n",
       "Name: textrecord, dtype: int64"
      ]
     },
     "execution_count": 166,
     "metadata": {},
     "output_type": "execute_result"
    }
   ],
   "source": [
    "print(df.groupby('pub.lang')['textrecord'].count().sort_values(ascending=False).to_latex())"
   ]
  },
  {
   "cell_type": "code",
   "execution_count": 207,
   "id": "b9dd2318-ca35-4d7c-abde-750f5a35dadd",
   "metadata": {
    "collapsed": true,
    "jupyter": {
     "outputs_hidden": true
    },
    "tags": []
   },
   "outputs": [
    {
     "data": {
      "text/plain": [
       "149813    {{463 462 241 436 231 226 224}} Die Mentawaier...\n",
       "149814    {{245}} Die Nahrungsgrundlage der Sakuddei ist...\n",
       "149815    {{245 252}} Ein Baum braucht etwa zehn Jahre, ...\n",
       "149816    [%  [caption:   {{252 142 412}} Abb. 35: Klopf...\n",
       "149817    {{262}} Die so gewonnene Basisnahrung reicht f...\n",
       "149818    [%  [caption:   {{142 302 291 252 415}} Abb. 3...\n",
       "149819    [%  [caption:   {{142 302 291 417 245}} Abb. 3...\n",
       "149820    {{262 824 285 342}} Sago gefüttert. Selbst der...\n",
       "149821    {{245}} Zur Arbeit in den Sagosümpfen gehört d...\n",
       "149822    {{245 433 311 583}} Die Sakuddei rechnen ihren...\n",
       "149823    {{252 462 245}} Die Sagoverarbeitung ist Männe...\n",
       "149824    {{252 462 245}} mit einem Grabstock neu bepfla...\n",
       "149825    {{245 249 462}} Neben dem Taro pflanzen die Fr...\n",
       "149826    Jede Frau unterhält ihre eigenen Taropflanzung...\n",
       "149827    Viel ausgedehnter als die Tarofelder sind die ...\n",
       "149828    {{241}} Gemeinschaftsarbeit von Mann und Frau ...\n",
       "149829    Etwa eine Woche nach dem Fällen, wenn die Blat...\n",
       "149830    {{245}} Nach einigen Monaten, wenn die Bananen...\n",
       "149831    Etwa zwei bis drei Jahre werden nun Knollenpfl...\n",
       "149832    {{245 583}} Die Besitzer der Obstbäume sind di...\n",
       "149833    {{476 241}} Gelegentlich legen auch mehrere Fa...\n",
       "149834    {{245 439 415 436}} Eine besondere Stellung ne...\n",
       "149835    {{245 436 423}} Alle Kokospalmen ~~(toitet)~~ ...\n",
       "149836    {{245 423}} Um sich zu schützen, bringt man be...\n",
       "149837    {{245 423}} Wahrscheinlichkeit zunimmt, daß ma...\n",
       "149838    Eine gefährlichere Art des Schutzes ist das An...\n",
       "149839    {{245 825}} Zum Schutz vor Eichhörnchenfraß we...\n",
       "149840    {{245 436}} Der Tauschwert der Kokosnüsse mach...\n",
       "149841    {{231 224}} Andere wichtige Haustiere der Ment...\n",
       "149842    {{231 224}} jeder Verfolgung. Für solche Jagde...\n",
       "149843    In manchen ~~uma~~ hält man zur Kontrolle der ...\n",
       "149844    {{462 224 226}} Eine deutliche Arbeitsteilung ...\n",
       "149845    {{224 411}} Die häufigste ist die Jagd mit Bog...\n",
       "149846    {{224}} In einem selteneren Verfahren wird ein...\n",
       "149847    {{411 224}} Die etwa 80 cm langen Pfeile ~~(si...\n",
       "149848    {{224}} Die Jagden werden teils individuell du...\n",
       "149849    {{224 231}} Die häufigste Jagdmethode ist die ...\n",
       "149850    {{224 231}} haben, kann auch einen Nachbarbaum...\n",
       "149851    {{224}} Neben der Jagd mit Waffen versucht man...\n",
       "149852    Fliegende Hunde fangen die Sakuddei mit Schlin...\n",
       "149853    {{224 784}} Manche dieser Methoden sind sehr w...\n",
       "149854    {{224}} Ein anderer Grund für die Bevorzugung ...\n",
       "149855    [%  [caption:   {{501 225}} Abb. 42: ~~Kalabba...\n",
       "149856    {{225}} Vollständigkeitshalber soll hier noch ...\n",
       "149857    {{225 411}} Der Harpunenspeer ist etwa dreiein...\n",
       "149858    [%  [caption:   {{223 411 142 291}} Abb. 43: K...\n",
       "149859    {{225}} An der Ostküste, wo das Meer ruhiger i...\n",
       "149860    {{224 225 237 534}} Außerhalb der rituellen Ja...\n",
       "149861    {{224 225 237 534}} werden im traditionellen S...\n",
       "149862    {{857 223}} Sobald kleine Jungen ihren ersten ...\n",
       "149863    {{224}} Frauen und Mädchen jagen nachts auf Fr...\n",
       "149864    {{226 462}} Einen regelmäßigeren Beitrag zur t...\n",
       "149865    {{227}} Die Handnetze werden von den Frauen se...\n",
       "149866    {{226}} Eine noch ergiebigere Fangmethode ist ...\n",
       "149867    {{226}} Eine andere Spezialität der Gruppen in...\n",
       "149868    Die von Männern ausgeübten Fischfangmethoden s...\n",
       "149869    {{226 462}} Mann und Frau stellen überdies Reu...\n",
       "149870    {{226}} Auch mit Angelhaken wird gelegentlich ...\n",
       "149871    {{226}} aus Bambus. Sie werden mit einer Schnu...\n",
       "149872    Schließlich beteiligt sich die ganze ~~uma~~ g...\n",
       "149873    {{222}} Das Sammeln zum Nahrungserwerb spielt ...\n",
       "149874    {{462 439 224 226}} Die bisher erwähnten Arbei...\n",
       "149875    [%  [caption:   {{142 302 244}}  {{142 302 226...\n",
       "149876    {{585 607 244}} Die neue Ehefrau gehört nun vö...\n",
       "149877    {{685 231 782 627}} Wenig später fing sich in ...\n",
       "149878    {{685 231 782 627}} die Saroro das linke Ohr a...\n",
       "149879    {{784 224}} Bei allen wichtigen Unternehmungen...\n",
       "149880    {{784 224}} berufen sich die Sakuddei häufig a...\n",
       "149881    {{796 224 778}} Ein wichtiger ritueller Bezirk...\n",
       "149882    {{796 224}} >>Außenwelt&& bezieht sich hier fr...\n",
       "149883    {{784 224}} Diese expliziten Begründungen bezi...\n",
       "149884    Der Bezug auf die Jagd gilt für alle Kulturasp...\n",
       "149885    {{784 224 774}} Dieses allgemeine ökonomische ...\n",
       "149886    {{784 224 774}} ruft man die Seelen entweder d...\n",
       "149887    Alle Tätigkeiten müssen vermieden werden, die ...\n",
       "149888    Zahlreiche weitere solche direkten Analogien h...\n",
       "149889    Alle diese auf den ersten Blick recht folklori...\n",
       "149890    {{784 262 224}} Mit der Jagd werden auch die k...\n",
       "149891    {{784 262 224}} zentralen Geboten des Rituals ...\n",
       "149892    Andere Arten der Zubereitung als Kochen sind j...\n",
       "149893    {{784 152 123 224 578}} Wie stark auch hierbei...\n",
       "149894    {{784 152 123 224 578}} während der Jagd einer...\n",
       "149895    {{224 782 784}} Kulinarisch kommt das soziale ...\n",
       "149896    {{784 783 796 224}} Abgesehen von den beiden S...\n",
       "149897    {{784 783 796 224}} neue Gäste kommen. Wollen ...\n",
       "149898    {{784 224 774}} Strenge Regeln gelten nicht nu...\n",
       "149899    {{784 224 774}} von der Jagd die Beute verzehr...\n",
       "149900    {{224 774}} Auch in diesem Vorstellungsbereich...\n",
       "149901    Die Mentawaier sind jedoch nie dogmatisch, und...\n",
       "149902    {{224 774}} eines ~~puliaijat~~ -Abschnitts no...\n",
       "149903    {{224 769 775 778 784}} Die associative Begrün...\n",
       "149904    {{224 784 753 834}} Diese religiöse Abhängigke...\n",
       "149905    {{784 775 769 224 778}} Bei der Aufhebung der ...\n",
       "149906    {{796 756 224}} Inzwischen sind geladene Mediz...\n",
       "149907    {{796 756 224}} dabei auch die Seelen des Jagd...\n",
       "149908    {{796 224}} In der Abenddämmerung kundschaften...\n",
       "149909    {{796 224 782}} Bevor man mit der Verfolgung d...\n",
       "149910    Nun folgen gemeinsame Mahlzeiten, bis auch der...\n",
       "149911    {{796 782 224 793}} Für den Inhalt des folgend...\n",
       "149912    {{224 226 462 796}} Am nächsten Tag fährt die ...\n",
       "149913    {{796 224}} Die Sakuddei geben für das Jagdlag...\n",
       "149914    {{796 782 793 824 224}} Nach der Errichtung de...\n",
       "149915    Die Jagdzüge können sich über mehrere Tage hin...\n",
       "149916    {{796 782 793 533 224 784}} Während im Triumph...\n",
       "149917    Dazwischen opfert der ~~rimata~~ beim ~~bakkat...\n",
       "149918    {{796}}  {{796 783 793 756 224}} Beim ersten H...\n",
       "149919    {{796 783 793 756 224}} bei der Anlegestelle d...\n",
       "149920    {{796 224 774 782}} Das Haus und seine Bewohne...\n",
       "149921    Er nimmt zuerst die Pflanze >>Nichtvergrämt&& ...\n",
       "149922    {{756 796 774 224 782}} und noch einige weiter...\n",
       "149923    [' >>Ich gebe etwas zum Riechen für dich, oh G...\n",
       "149924    [%  [caption:   {{796 224 782 774}} Abb. 96: N...\n",
       "149925    [' >>Ich gebe etwas, was von deinem Kopf absch...\n",
       "149926    [' >>Nachdem ich dir Schlechtes zu riechen geg...\n",
       "149927    [' >>Ich gebe Blumen für dich, oh Gönner, Blum...\n",
       "149928    [' >>Ich gebe dir etwas zu essen, du Gönner, F...\n",
       "149929    [' >>Ich gebe dir etwas zu essen, du Gönner, d...\n",
       "149930    [' >>Kommt nun her, ihr Seelen der ~~>jago&~~ ...\n",
       "149931    [' >>Getroffen!&& — '] und ißt den Sago. Der ~...\n",
       "149932               [' >>Sie sollen die Hunde packen!&& ']\n",
       "149933               [' >>Happ!&& — '] ißt es der Jüngling.\n",
       "149934    {{224 793 782 784}} Am folgenden Tag gehen die...\n",
       "149935    {{796 224}} Der dritte Tag ist der letzte Tag ...\n",
       "149936    {{796 224 782 787}} Anschließend kommt ein gew...\n",
       "149937    {{796 224 782 787}} gelesen. Meistens sind auc...\n",
       "149938    Das Fleisch wird zubereitet und anschließend d...\n",
       "149939    Dann kommt die gemeinsame Mahlzeit: Huhn, und ...\n",
       "149940    {{224 796}} Damit sind die Zeremonien dieses T...\n",
       "149941    Die Seelen sollen sich nicht zu große Erwartun...\n",
       "149942    {{224 796}} Unternehmung (vgl. S. 410). Man dr...\n",
       "149943    {{224 411 796}} Die Vorbereitungen für die Jag...\n",
       "149944    {{224 411 796 784 224}} Alte und neue Pfeile w...\n",
       "149945    {{224}} Die Jagdmethode in Verbindung mit eine...\n",
       "149946    {{224 784}} Bei der ersten Dämmerung am nächst...\n",
       "149947    {{224 231 782}} Die anderen Jäger gehen unterd...\n",
       "149948    {{224 231 782}} Glasperlen hin, etwas Tabak, n...\n",
       "149949    {{224}} Schließlich ist das Tier aufgescheucht...\n",
       "149950    Endlich trifft ein Pfeil. Das Tier verkriecht ...\n",
       "149951    {{224 782}} Einer der Jäger schneidet ein Stüc...\n",
       "149952    [' >>Ihr unsere verstorbenen Vorfahren, Freund...\n",
       "149953    [%  [caption:   {{224 142 291 301 304}} Abb. 1...\n",
       "149954    {{224}} Mit diesem Ohrstückchen erhalten die W...\n",
       "149955    Hatte die Suche am Abend zuvor kein weiteres E...\n",
       "149956    Diese letzte Methode wendet man auch an, wenn ...\n",
       "149957    Meist noch vor Mittag, mit einem, zwei, selten...\n",
       "149958    {{224 793 784}} Der ~~rimata~~ geht ihnen entg...\n",
       "149959    [%  [caption:   {{224 534 142 291}} Abb. 102: ...\n",
       "149960    {{224}} Nun gehen alle in die ~~uma~~ und lege...\n",
       "149961    {{224 793 203}} Der ~~rimata~~ oder ein andere...\n",
       "149962    ['  {{224 793 203}} >> ~~Bag — ku — bag,~~ ihr...\n",
       "149963    [' Kommt langsam und schnell, erscheint bei un...\n",
       "149964    [' Kommt schnell her zu unserem Wild, einem We...\n",
       "149965    [' >>Ihr unsere verstorbenen Vorfahren — >was ...\n",
       "149966    [' >>Etwas zu riechen für dich, oh Haus, (am) ...\n",
       "149967    ['  {{224 796}} >>Nach dem Riechen, für dich, ...\n",
       "149968    [' >>Ihr unsere verstorbenen Vorfahren, hier i...\n",
       "149969    [' >>Kommt nun her, ihr Seelen seiner Gefährte...\n",
       "149970    [' >>herein! Sie sollst du schießen!&& '] Eine...\n",
       "149971    [' >>Getroffen! Ich hab dich geschossen! Dreh ...\n",
       "149972    {{224 787 252 264 796}} Das Wild wird auf die ...\n",
       "149973    {{224 782 796}} Dann wird der Schädel an den >...\n",
       "149974    Der ~~rimata~~ des Wildlockens spaltet auf dem...\n",
       "149975    {{224 782 793 796}} Der ~~rimata~~ des Wildloc...\n",
       "149976    [%  [caption:   {{224 793 782 142 291 796}} Ab...\n",
       "149977    {{224 782 793 796}} Jetzt kommen auch die übri...\n",
       "149978    [%  [caption:   {{224 533 796 142 534}} Abb. 1...\n",
       "149979    {{224 578 621}} Wenn zwischen der Gruppe und e...\n",
       "149980    {{224 578 621}} Gebrauch gemacht, seinen Erfol...\n",
       "149981    ['  {{796 782 793 264}} >>Empfange die Seelen ...\n",
       "149982    Der gleiche Gedanke liegt auch der nun anschli...\n",
       "149983    {{796 793 513 224}} Spätestens am folgenden Ta...\n",
       "149984    {{224 796}} Das >>Auskehren des Schweinebluts&...\n",
       "149985    {{224 782}} Am nächsten Morgen geht man auf di...\n",
       "149986    Der ~~pangiktek~~ -Bambus mit den Opferstückch...\n",
       "149987    {{224 264 793}} Das Fleisch wird geopfert, mit...\n",
       "149988    Wenn alles Fleisch aufgegessen ist und die Sch...\n",
       "149989    {{224}} Zum Abschluß des >>Zurücksender&&- ~~l...\n",
       "149990    {{784 224 796}} Mit der >>Welk&&-Zeremonie sin...\n",
       "149991    {{461 224 226}} Mit diesen Tatsachen hängt das...\n",
       "149992    {{224 226}} Der Aufbruch ins Jagdlager erfolgt...\n",
       "149993    {{224 776}} Nun geht es darum, sich der Gunst ...\n",
       "149994    {{224 793 789 782}} Vor der Hütte steckt man e...\n",
       "149995    ['  {{224 793 789 782}} >>Kommt her, ihr Ahnen...\n",
       "149996    [' >>Der Platz der Gegenstände für euch, ihr A...\n",
       "149997    [' >>Nachdem (wir) euch Gegenstände (gegeben h...\n",
       "149998    Auf dem Rückweg ins Lager markiert man noch ei...\n",
       "149999    ['  {{224 782 796 536}} >>Etwas zu riechen für...\n",
       "150000    {{224 261 462 226}} Einige Männer gehen Schlaf...\n",
       "150001    Danach brechen die Frauen und Mädchen auf. Sie...\n",
       "150002    {{224 517 513}} Die Männer sitzen nach dem Auf...\n",
       "150003    {{224 793}} Noch bei Dunkelheit, etwa um fünf ...\n",
       "150004    Die Jagd verläuft grundsätzlich wie bereits ge...\n",
       "150005    ['  {{824 224}} >>Eine Ruhestätte für dich, oh...\n",
       "150006    {{224 251 262}} Man bleibt noch zwei oder drei...\n",
       "150007    {{226 793 782}} Sobald man das Gefühl hat, es ...\n",
       "150008    {{224 782}} In der ~~uma~~ werden im Triumph d...\n",
       "150009    [%  [caption:   {{224 782 142 304 302}} Abb. 1...\n",
       "150010    {{224 782}} Beschwörungen wie bei den früheren...\n",
       "150011    {{121 796 224}} Die Zeremonien während des zwe...\n",
       "150012    {{262 224}} Während des ~~puliaijat~~ gelten d...\n",
       "150013    {{784 626}} Im Gegensatz zu den Beziehungen mi...\n",
       "150014    {{784 626}} selbst, aber die Erwartung ist deu...\n",
       "150015    {{224 796}} Nach dem wochenlangen spannungsrei...\n",
       "150016    Derart aller entbehrlichen Kulturprodukte entl...\n",
       "150017    {{224 226 796 890 782}} Von diesen Unternehmun...\n",
       "150018    {{224 226 796 890 782}} der Frauen ist dabei e...\n",
       "150019    {{224}} Das einfache Leben im Jagdlager ersche...\n",
       "150020    {{224}} dem spannungsvollen Wechsel der Ereign...\n",
       "150021    {{224 571}} Die Thematik der abschließenden Ze...\n",
       "150022    {{224}} Als ein Ansatz zu erneuter produktiver...\n",
       "150023    {{224 796}} Diese Abenteuer machen den eigentl...\n",
       "150024    In diesem rituellen Zusammenhang erscheint das...\n",
       "150025    {{224 796}} Angesichts dieser unablässigen Bem...\n",
       "150026    In Bezug auf das produktive Ergebnis ist der m...\n",
       "150027    {{224 796}} Jagdbeute ist in Mentawai nie priv...\n",
       "150028    {{224 796}} hingewiesen, daß das Gefühl, die e...\n",
       "150029    {{224 784}} Eine andere Regel, die mit der Jag...\n",
       "150030    {{224 796}} Wildfleisch muß also innerhalb der...\n",
       "150031    {{224 782}} Ein erstes Indiz für die Annahme e...\n",
       "150032    In den Zeremonien während der ~~lia~~ -Tage ze...\n",
       "150033    Zwei Vorstellungen werden damit deutlich: Der ...\n",
       "150034    {{782 224}} Im Zusammenhang mit dem Anlocken d...\n",
       "150035    {{787 224 796}} Diese beiden Beispiele bedeute...\n",
       "150036    {{202 534 224 533}} Einen ersten Hinweis darau...\n",
       "150037    {{202 534 224 533}} zum Ausdruck, vor allem wä...\n",
       "150038    {{224 533}} Aber die Schlitztrommeltexte entha...\n",
       "150039    {{769 775 224}} Diese kurze Übersicht (vgl. au...\n",
       "150040    {{769 775 224}} Handlungen mit Mittlern sollen...\n",
       "150041    {{224 782 773}} In ganz Siberut wird ein Mytho...\n",
       "150042    ['  {{224 773 5310}} Es war einmal ein Mann, d...\n",
       "150043    [' Da dies nun schon so häufig geschehen war, ...\n",
       "150044                        [' >>Komm herauf, Enkel!&& ']\n",
       "150045    [' So ging der Mensch und stieg zum Haus hinau...\n",
       "150046    [' Der Geist sagte: >>Was ist (denn los), Enke...\n",
       "150047    [' >>Ich weine, Großvater, weil ich das Wild s...\n",
       "150048    [' >>So? Dann geh doch und hol Sago für die Sc...\n",
       "150049    [' Da ging er und holte Sago für die Schweine....\n",
       "150050    ['  {{224 773 5310}} >>Los, wirf es doch (an d...\n",
       "150051    [' Da warf er es. Bums bums bums, er warf es, ...\n",
       "150052                          [' Nun fragte der Geist: ']\n",
       "150053    [' >>Wann gehst du eigentlich wieder zurück, E...\n",
       "150054    [' >>Ja — jetzt wollte ich eigentlich gehen.&& ']\n",
       "150055    [' >>Also wenn du gehst, Enkel, gebe ich dir e...\n",
       "150056                            [' >>Gut, Großvater.&& ']\n",
       "150057    [' Nun stellte der Geist den Menschen auf die ...\n",
       "150058    [' >>Hol deine Pfeile, Enkel, schieß diesen kl...\n",
       "150059    [' Da dachte der Mensch: >Wie, wenn ich (nur) ...\n",
       "150060               [' >>Großvater, er ist gestorben.&& ']\n",
       "150061                          [' Der Geist antwortete: ']\n",
       "150062    [' >>Du bist wirklich verständig. (So) ist es ...\n",
       "150063    [' >>Was sollen wir tun, Großvater? Teilen wir...\n",
       "150064                                       [' >>Gut.&& ']\n",
       "150065    [' Nun sengten sie (den Hirsch) ab. Sengten, s...\n",
       "150066    [' Und der teilte auf. Teilte, teilte, genau g...\n",
       "150067    [' >>Nein, Großvater, (die Teile) sind genau g...\n",
       "150068    [' >>So, Großvater, das da ist das Fleisch für...\n",
       "150069    [' >>Enkel, es ist nicht in Ordnung, was du tu...\n",
       "150070    [' >>Nein, Großvater, ihr habt mehr, für mich ...\n",
       "150071    [' >>Nein&& — und dabei tippte der Geist mit s...\n",
       "150072    [' Nun erblickte der Mensch den Fuß des Geiste...\n",
       "150073    {{224 773 5310}} Fleisch für sich (möchte)?& E...\n",
       "150074    [' >>Jawohl, Enkel, das ist das Fleisch, das w...\n",
       "150075    [' Das sagte er zu dem Menschen, und der holte...\n",
       "150076    [' >>Gut. (Aber vergiß nicht,) was ich dir ges...\n",
       "150077    [' (So) ging er, ging, ging und kam zu Hause a...\n",
       "150078    [' Dann ging er, um Holz zu holen. Während er ...\n",
       "150079    [' >>Wie steht es, Enkel, ist euer Fleisch all...\n",
       "150080                [' >>Ja, Großvater, es ist alle.&& ']\n",
       "150081    [' >>Was, Enkel, bei uns gibt es noch (viel)! ...\n",
       "150082                                  [' >>Wirklich?&& ']\n",
       "150083       [' >>Wenn du meinst, ich lüge, dann komm.&& ']\n",
       "150084    [' So gingen sie zum Haus (der Geister). Und d...\n",
       "150085                              [' >>Ja, wirklich.&& ']\n",
       "150086    [' >>Da, nimm das für euch mit, Enkel, dieses ...\n",
       "150087    [' So nahm der Mensch ein Paar Kochbambusse vo...\n",
       "150088    [' So ist der Vorgang und die Bedeutung vom Op...\n",
       "150089    {{224 773 826 772 820}} Diese Erzählung hilft,...\n",
       "150090    {{224 820 773}} Für die Erlaubnis zur Jagd hat...\n",
       "150091    {{224 773}} In diesen Anschauungen über die Zu...\n",
       "150092    {{224 773}} der getöteten Tiere sollen seinen ...\n",
       "150093    {{224 773}} Aber angesichts dieses Gegensatzes...\n",
       "150094    {{224 773}} Der Mythos zeigt, was die Vorausse...\n",
       "150095    {{787 224}} Nun verstehen wir all die Assoziat...\n",
       "150096    {{224 782 774 775}} Die ganze Jagdsymbolik läß...\n",
       "150097    {{224 782 784}} Die Regeln, wie mit der Beute ...\n",
       "150098    {{773 224}} In vielen mentawaiischen Mythen fi...\n",
       "150099    {{773 224}} Ich glaube, es ist vor dem Hinterg...\n",
       "150100    {{224}} Die erfolgreichen Jagden nach den früh...\n",
       "150101    {{224}} Zeichen festgestellt, die mit der Rela...\n",
       "150102    {{121 224}} Ich habe im ~~puliaijat~~ bisher z...\n",
       "150103    Aber die Kargheit des Jagdlagers endet nicht i...\n",
       "150104    {{121 224 261 793}} Ansätze zu einer solchen H...\n",
       "150105    {{121 224 261 793}} ganze Gruppe. Tagelang wir...\n",
       "150106    {{121 224 554}} Die gesellschaftliche Inversio...\n",
       "150107    {{121 773 782 224}} Ein Vergleich mit den Vorg...\n",
       "150108    {{121 773 782 224}} an. Aber die Folgen sind a...\n",
       "150109    {{224 787}} Die Zeremonien im Zusammenhang mit...\n",
       "150110    {{251 224 796}} Der Akzent dieser zweiten Kate...\n",
       "150111    {{251 224 796}} geht es bei der Symbolik von ~...\n",
       "150112    {{124 224 796}} >>Es würde sonst sein, wie wen...\n",
       "150113    Solche Fälle waren freilich nicht häufig. Und ...\n",
       "150114    Jetzt mußte wieder die erste Antwort kommen un...\n",
       "150115    {{124 224 796 115}} Ich versuchte Tengatiti me...\n",
       "150116    Ich fragte ihn, womit Jagdwild in den Beschwör...\n",
       "150117    Der letzte Satz ~~(ke ta' momoi kukua ia, iaga...\n",
       "150118    Die Assoziation von Jagdwild mit Leben, die Te...\n",
       "150119    >>Die Schweine gehören uns, den Sichtbaren. Da...\n",
       "150120    {{124 224 796 115}} bestimmen. Und nun zeigen ...\n",
       "150121    {{121 224 775 796}} Vor dem Abschluß des Ritua...\n",
       "150122    {{121 224 775 796}} verbürgt die Teilhabe an e...\n",
       "150123    {{105 224 796}} Before the ritual is concluded...\n",
       "150124    {{105 796 182 224 261 772}} Ritual is neither ...\n",
       "150125    {{105 796 182 224 261 772}} mutual ratificatio...\n",
       "150126    [table]  {{796 782 224 775 787}}  [graphic: cl...\n",
       "Name: textrecord, dtype: object"
      ]
     },
     "execution_count": 207,
     "metadata": {},
     "output_type": "execute_result"
    }
   ],
   "source": [
    "df[df['pub.lang'] == 'German, English, Indonesian']['textrecord']"
   ]
  },
  {
   "cell_type": "code",
   "execution_count": 208,
   "id": "8f7351d8-85ef-46b8-84c3-af624766c03c",
   "metadata": {
    "tags": []
   },
   "outputs": [
    {
     "data": {
      "text/plain": [
       "'{{245}} Die Nahrungsgrundlage der Sakuddei ist der Sago ( ~~sagu~~ ). Die Sagopalmen wachsen wild in den sumpfigen Niederungen; weitere werden hinzugepflanzt. Dort werden die Bäume auch verarbeitet (vgl. Abb. 31 und 32). Anbau und Verarbeitung sind im Prinzip Aufgaben der Männer, obwohl gelegentlich auch die heranwachsenden Töchter mithelfen.'"
      ]
     },
     "execution_count": 208,
     "metadata": {},
     "output_type": "execute_result"
    }
   ],
   "source": [
    "df.iloc[149814].textrecord"
   ]
  },
  {
   "cell_type": "markdown",
   "id": "a094e084-cf09-48b2-8fcd-e1ce8a5cc4cf",
   "metadata": {},
   "source": [
    "**NOTE** since it is hard to check every row whether it's enlgish or not, I use a package that detects the language, and if it's not enlgish, the row will be removed."
   ]
  },
  {
   "cell_type": "code",
   "execution_count": 210,
   "id": "ff2d36eb-6a74-4668-bbf1-04091daf409d",
   "metadata": {
    "tags": []
   },
   "outputs": [],
   "source": [
    "# Define a function to detect the language of a text record\n",
    "def detect_language(text):\n",
    "    try:\n",
    "        lang = detect(text)\n",
    "    except:\n",
    "        lang = None\n",
    "    return lang\n",
    "\n",
    "# Apply the detect_language function to the textrecord column\n",
    "df[\"language\"] = df[\"textrecord\"].apply(detect_language)\n",
    "\n",
    "# Filter out the records that are not in English\n",
    "df = df[df[\"language\"] == \"en\"]"
   ]
  },
  {
   "cell_type": "code",
   "execution_count": 209,
   "id": "0f1f26f1-77ba-4749-bbde-f3f2b6d9592d",
   "metadata": {},
   "outputs": [
    {
     "data": {
      "text/plain": [
       "'de'"
      ]
     },
     "execution_count": 209,
     "metadata": {},
     "output_type": "execute_result"
    }
   ],
   "source": [
    "detect(df.iloc[149814].textrecord)"
   ]
  },
  {
   "cell_type": "code",
   "execution_count": 211,
   "id": "e5eaedc9-f70e-477f-9888-097d4b6e8cd0",
   "metadata": {
    "collapsed": true,
    "jupyter": {
     "outputs_hidden": true
    },
    "tags": []
   },
   "outputs": [
    {
     "data": {
      "text/plain": [
       "pub.lang\n",
       "English                                                     164853\n",
       "English and Assiniboine                                          1\n",
       "English and Athabaskan                                          50\n",
       "English and Cajun French                                         3\n",
       "English and Delaware                                             3\n",
       "English and French                                              32\n",
       "English and Hawaiian                                           339\n",
       "English and Hopi                                               290\n",
       "English and Ifugao                                              52\n",
       "English and Japanese                                            41\n",
       "English and Klamath                                             63\n",
       "English and Latin                                               12\n",
       "English and Pageh                                               90\n",
       "English and Russian                                             27\n",
       "English and Spanish                                             15\n",
       "English and Tongan                                             162\n",
       "English and Warao (Macro-Chibchan)                               3\n",
       "English and Zulu                                                34\n",
       "English and dialects of Malekula                                95\n",
       "English translation from Aztec                                 238\n",
       "English translation from Chinese                                96\n",
       "English translation from Cuna                                   10\n",
       "English translation from Finnish                               743\n",
       "English translation from French                               7292\n",
       "English translation from German                               3857\n",
       "English translation from German translation from Russian         2\n",
       "English translation from Hebrew                                 25\n",
       "English translation from Iban                                   12\n",
       "English translation from Italian                               184\n",
       "English translation from Italian(?)                             90\n",
       "English translation from Japanese                                2\n",
       "English translation from Latin                                 165\n",
       "English translation from Netherlandish                         159\n",
       "English translation from Norwegian                              21\n",
       "English translation from Portuguese                            602\n",
       "English translation from Russian                               814\n",
       "English translation from Serbian                               178\n",
       "English translation from Serbo-Croatian (Roman)                  3\n",
       "English translation from Spanish                               933\n",
       "English translation from Swedish                                32\n",
       "English translation from Turkish                                69\n",
       "English translation from the French                             84\n",
       "English translation from the German                             98\n",
       "English translation from the Portuguese                         10\n",
       "English translation from the Spanish                            13\n",
       "English with German abstract                                    31\n",
       "English with some Spanish and Cuna                              89\n",
       "English with summary in French                                 375\n",
       "English with summary in Portuguese                              13\n",
       "English, French, German, or Russian                              1\n",
       "English/Hawaiian                                                60\n",
       "English2009                                                      7\n",
       "French                                                          59\n",
       "German                                                           2\n",
       "German, English, Indonesian                                      5\n",
       "Japanese- summary in English                                     6\n",
       "Latin and English                                              659\n",
       "Spanish                                                         10\n",
       "Spanish/English                                                  2\n",
       "english                                                          4\n",
       "Name: textrecord, dtype: int64"
      ]
     },
     "execution_count": 211,
     "metadata": {},
     "output_type": "execute_result"
    }
   ],
   "source": [
    "df.groupby('pub.lang')['textrecord'].count()"
   ]
  },
  {
   "cell_type": "code",
   "execution_count": 212,
   "id": "13559698-c0ea-47b6-a606-0fbe9866b223",
   "metadata": {
    "tags": []
   },
   "outputs": [],
   "source": [
    "df.to_csv('new_data.csv')"
   ]
  },
  {
   "cell_type": "code",
   "execution_count": 222,
   "id": "59af5f83-f8a3-4633-9234-57bb488d7058",
   "metadata": {
    "collapsed": true,
    "jupyter": {
     "outputs_hidden": true
    },
    "tags": []
   },
   "outputs": [
    {
     "name": "stdout",
     "output_type": "stream",
     "text": [
      "\\begin{tabular}{lr}\n",
      "\\toprule\n",
      " & textrecord \\\\\n",
      "pub.lang &  \\\\\n",
      "\\midrule\n",
      "English & 164853 \\\\\n",
      "English translation from French & 7292 \\\\\n",
      "English translation from German & 3857 \\\\\n",
      "English translation from Spanish & 933 \\\\\n",
      "English translation from Russian & 814 \\\\\n",
      "English translation from Finnish & 743 \\\\\n",
      "Latin and English & 659 \\\\\n",
      "English translation from Portuguese & 602 \\\\\n",
      "English with summary in French & 375 \\\\\n",
      "English and Hawaiian & 339 \\\\\n",
      "English and Hopi & 290 \\\\\n",
      "English translation from Aztec & 238 \\\\\n",
      "English translation from Italian & 184 \\\\\n",
      "English translation from Serbian & 178 \\\\\n",
      "English translation from Latin & 165 \\\\\n",
      "English and Tongan & 162 \\\\\n",
      "English translation from Netherlandish & 159 \\\\\n",
      "English translation from the German & 98 \\\\\n",
      "English translation from Chinese & 96 \\\\\n",
      "English and dialects of Malekula & 95 \\\\\n",
      "English and Pageh & 90 \\\\\n",
      "English translation from Italian(?) & 90 \\\\\n",
      "English with some Spanish and Cuna & 89 \\\\\n",
      "English translation from the French & 84 \\\\\n",
      "English translation from Turkish & 69 \\\\\n",
      "English and Klamath & 63 \\\\\n",
      "English/Hawaiian & 60 \\\\\n",
      "French & 59 \\\\\n",
      "English and Ifugao & 52 \\\\\n",
      "English and Athabaskan & 50 \\\\\n",
      "English and Japanese & 41 \\\\\n",
      "English and Zulu & 34 \\\\\n",
      "English and French & 32 \\\\\n",
      "English translation from Swedish & 32 \\\\\n",
      "English with German abstract & 31 \\\\\n",
      "English and Russian & 27 \\\\\n",
      "English translation from Hebrew & 25 \\\\\n",
      "English translation from Norwegian & 21 \\\\\n",
      "English and Spanish & 15 \\\\\n",
      "English translation from the Spanish & 13 \\\\\n",
      "English with summary in Portuguese & 13 \\\\\n",
      "English translation from Iban & 12 \\\\\n",
      "English and Latin & 12 \\\\\n",
      "English translation from the Portuguese & 10 \\\\\n",
      "English translation from Cuna & 10 \\\\\n",
      "Spanish & 10 \\\\\n",
      "English2009 & 7 \\\\\n",
      "Japanese- summary in English & 6 \\\\\n",
      "German, English, Indonesian & 5 \\\\\n",
      "english & 4 \\\\\n",
      "English translation from Serbo-Croatian (Roman) & 3 \\\\\n",
      "English and Warao (Macro-Chibchan) & 3 \\\\\n",
      "English and Delaware & 3 \\\\\n",
      "English and Cajun French & 3 \\\\\n",
      "German & 2 \\\\\n",
      "English translation from German translation from Russian & 2 \\\\\n",
      "Spanish/English & 2 \\\\\n",
      "English translation from Japanese & 2 \\\\\n",
      "English, French, German, or Russian & 1 \\\\\n",
      "English and Assiniboine & 1 \\\\\n",
      "\\bottomrule\n",
      "\\end{tabular}\n",
      "\n"
     ]
    }
   ],
   "source": [
    "print(df.groupby('pub.lang')['textrecord'].count().sort_values(ascending=False).to_latex())"
   ]
  },
  {
   "cell_type": "code",
   "execution_count": 224,
   "id": "3857d7d7-34db-419b-8824-d14941b6a1f7",
   "metadata": {
    "tags": []
   },
   "outputs": [
    {
     "data": {
      "application/vnd.plotly.v1+json": {
       "config": {
        "plotlyServerURL": "https://plot.ly"
       },
       "data": [
        {
         "type": "bar",
         "x": [
          "Navajo",
          "Ojibwa",
          "Vietnamese",
          "San",
          "Tamil",
          "Saami",
          "Tongans",
          "Hopi",
          "Ifugao",
          "Chipewyans"
         ],
         "y": [
          5221,
          4370,
          3809,
          3429,
          2994,
          2947,
          2881,
          2868,
          2846,
          2557
         ]
        }
       ],
       "layout": {
        "autosize": true,
        "template": {
         "data": {
          "bar": [
           {
            "error_x": {
             "color": "#2a3f5f"
            },
            "error_y": {
             "color": "#2a3f5f"
            },
            "marker": {
             "line": {
              "color": "#E5ECF6",
              "width": 0.5
             },
             "pattern": {
              "fillmode": "overlay",
              "size": 10,
              "solidity": 0.2
             }
            },
            "type": "bar"
           }
          ],
          "barpolar": [
           {
            "marker": {
             "line": {
              "color": "#E5ECF6",
              "width": 0.5
             },
             "pattern": {
              "fillmode": "overlay",
              "size": 10,
              "solidity": 0.2
             }
            },
            "type": "barpolar"
           }
          ],
          "carpet": [
           {
            "aaxis": {
             "endlinecolor": "#2a3f5f",
             "gridcolor": "white",
             "linecolor": "white",
             "minorgridcolor": "white",
             "startlinecolor": "#2a3f5f"
            },
            "baxis": {
             "endlinecolor": "#2a3f5f",
             "gridcolor": "white",
             "linecolor": "white",
             "minorgridcolor": "white",
             "startlinecolor": "#2a3f5f"
            },
            "type": "carpet"
           }
          ],
          "choropleth": [
           {
            "colorbar": {
             "outlinewidth": 0,
             "ticks": ""
            },
            "type": "choropleth"
           }
          ],
          "contour": [
           {
            "colorbar": {
             "outlinewidth": 0,
             "ticks": ""
            },
            "colorscale": [
             [
              0,
              "#0d0887"
             ],
             [
              0.1111111111111111,
              "#46039f"
             ],
             [
              0.2222222222222222,
              "#7201a8"
             ],
             [
              0.3333333333333333,
              "#9c179e"
             ],
             [
              0.4444444444444444,
              "#bd3786"
             ],
             [
              0.5555555555555556,
              "#d8576b"
             ],
             [
              0.6666666666666666,
              "#ed7953"
             ],
             [
              0.7777777777777778,
              "#fb9f3a"
             ],
             [
              0.8888888888888888,
              "#fdca26"
             ],
             [
              1,
              "#f0f921"
             ]
            ],
            "type": "contour"
           }
          ],
          "contourcarpet": [
           {
            "colorbar": {
             "outlinewidth": 0,
             "ticks": ""
            },
            "type": "contourcarpet"
           }
          ],
          "heatmap": [
           {
            "colorbar": {
             "outlinewidth": 0,
             "ticks": ""
            },
            "colorscale": [
             [
              0,
              "#0d0887"
             ],
             [
              0.1111111111111111,
              "#46039f"
             ],
             [
              0.2222222222222222,
              "#7201a8"
             ],
             [
              0.3333333333333333,
              "#9c179e"
             ],
             [
              0.4444444444444444,
              "#bd3786"
             ],
             [
              0.5555555555555556,
              "#d8576b"
             ],
             [
              0.6666666666666666,
              "#ed7953"
             ],
             [
              0.7777777777777778,
              "#fb9f3a"
             ],
             [
              0.8888888888888888,
              "#fdca26"
             ],
             [
              1,
              "#f0f921"
             ]
            ],
            "type": "heatmap"
           }
          ],
          "heatmapgl": [
           {
            "colorbar": {
             "outlinewidth": 0,
             "ticks": ""
            },
            "colorscale": [
             [
              0,
              "#0d0887"
             ],
             [
              0.1111111111111111,
              "#46039f"
             ],
             [
              0.2222222222222222,
              "#7201a8"
             ],
             [
              0.3333333333333333,
              "#9c179e"
             ],
             [
              0.4444444444444444,
              "#bd3786"
             ],
             [
              0.5555555555555556,
              "#d8576b"
             ],
             [
              0.6666666666666666,
              "#ed7953"
             ],
             [
              0.7777777777777778,
              "#fb9f3a"
             ],
             [
              0.8888888888888888,
              "#fdca26"
             ],
             [
              1,
              "#f0f921"
             ]
            ],
            "type": "heatmapgl"
           }
          ],
          "histogram": [
           {
            "marker": {
             "pattern": {
              "fillmode": "overlay",
              "size": 10,
              "solidity": 0.2
             }
            },
            "type": "histogram"
           }
          ],
          "histogram2d": [
           {
            "colorbar": {
             "outlinewidth": 0,
             "ticks": ""
            },
            "colorscale": [
             [
              0,
              "#0d0887"
             ],
             [
              0.1111111111111111,
              "#46039f"
             ],
             [
              0.2222222222222222,
              "#7201a8"
             ],
             [
              0.3333333333333333,
              "#9c179e"
             ],
             [
              0.4444444444444444,
              "#bd3786"
             ],
             [
              0.5555555555555556,
              "#d8576b"
             ],
             [
              0.6666666666666666,
              "#ed7953"
             ],
             [
              0.7777777777777778,
              "#fb9f3a"
             ],
             [
              0.8888888888888888,
              "#fdca26"
             ],
             [
              1,
              "#f0f921"
             ]
            ],
            "type": "histogram2d"
           }
          ],
          "histogram2dcontour": [
           {
            "colorbar": {
             "outlinewidth": 0,
             "ticks": ""
            },
            "colorscale": [
             [
              0,
              "#0d0887"
             ],
             [
              0.1111111111111111,
              "#46039f"
             ],
             [
              0.2222222222222222,
              "#7201a8"
             ],
             [
              0.3333333333333333,
              "#9c179e"
             ],
             [
              0.4444444444444444,
              "#bd3786"
             ],
             [
              0.5555555555555556,
              "#d8576b"
             ],
             [
              0.6666666666666666,
              "#ed7953"
             ],
             [
              0.7777777777777778,
              "#fb9f3a"
             ],
             [
              0.8888888888888888,
              "#fdca26"
             ],
             [
              1,
              "#f0f921"
             ]
            ],
            "type": "histogram2dcontour"
           }
          ],
          "mesh3d": [
           {
            "colorbar": {
             "outlinewidth": 0,
             "ticks": ""
            },
            "type": "mesh3d"
           }
          ],
          "parcoords": [
           {
            "line": {
             "colorbar": {
              "outlinewidth": 0,
              "ticks": ""
             }
            },
            "type": "parcoords"
           }
          ],
          "pie": [
           {
            "automargin": true,
            "type": "pie"
           }
          ],
          "scatter": [
           {
            "fillpattern": {
             "fillmode": "overlay",
             "size": 10,
             "solidity": 0.2
            },
            "type": "scatter"
           }
          ],
          "scatter3d": [
           {
            "line": {
             "colorbar": {
              "outlinewidth": 0,
              "ticks": ""
             }
            },
            "marker": {
             "colorbar": {
              "outlinewidth": 0,
              "ticks": ""
             }
            },
            "type": "scatter3d"
           }
          ],
          "scattercarpet": [
           {
            "marker": {
             "colorbar": {
              "outlinewidth": 0,
              "ticks": ""
             }
            },
            "type": "scattercarpet"
           }
          ],
          "scattergeo": [
           {
            "marker": {
             "colorbar": {
              "outlinewidth": 0,
              "ticks": ""
             }
            },
            "type": "scattergeo"
           }
          ],
          "scattergl": [
           {
            "marker": {
             "colorbar": {
              "outlinewidth": 0,
              "ticks": ""
             }
            },
            "type": "scattergl"
           }
          ],
          "scattermapbox": [
           {
            "marker": {
             "colorbar": {
              "outlinewidth": 0,
              "ticks": ""
             }
            },
            "type": "scattermapbox"
           }
          ],
          "scatterpolar": [
           {
            "marker": {
             "colorbar": {
              "outlinewidth": 0,
              "ticks": ""
             }
            },
            "type": "scatterpolar"
           }
          ],
          "scatterpolargl": [
           {
            "marker": {
             "colorbar": {
              "outlinewidth": 0,
              "ticks": ""
             }
            },
            "type": "scatterpolargl"
           }
          ],
          "scatterternary": [
           {
            "marker": {
             "colorbar": {
              "outlinewidth": 0,
              "ticks": ""
             }
            },
            "type": "scatterternary"
           }
          ],
          "surface": [
           {
            "colorbar": {
             "outlinewidth": 0,
             "ticks": ""
            },
            "colorscale": [
             [
              0,
              "#0d0887"
             ],
             [
              0.1111111111111111,
              "#46039f"
             ],
             [
              0.2222222222222222,
              "#7201a8"
             ],
             [
              0.3333333333333333,
              "#9c179e"
             ],
             [
              0.4444444444444444,
              "#bd3786"
             ],
             [
              0.5555555555555556,
              "#d8576b"
             ],
             [
              0.6666666666666666,
              "#ed7953"
             ],
             [
              0.7777777777777778,
              "#fb9f3a"
             ],
             [
              0.8888888888888888,
              "#fdca26"
             ],
             [
              1,
              "#f0f921"
             ]
            ],
            "type": "surface"
           }
          ],
          "table": [
           {
            "cells": {
             "fill": {
              "color": "#EBF0F8"
             },
             "line": {
              "color": "white"
             }
            },
            "header": {
             "fill": {
              "color": "#C8D4E3"
             },
             "line": {
              "color": "white"
             }
            },
            "type": "table"
           }
          ]
         },
         "layout": {
          "annotationdefaults": {
           "arrowcolor": "#2a3f5f",
           "arrowhead": 0,
           "arrowwidth": 1
          },
          "autotypenumbers": "strict",
          "coloraxis": {
           "colorbar": {
            "outlinewidth": 0,
            "ticks": ""
           }
          },
          "colorscale": {
           "diverging": [
            [
             0,
             "#8e0152"
            ],
            [
             0.1,
             "#c51b7d"
            ],
            [
             0.2,
             "#de77ae"
            ],
            [
             0.3,
             "#f1b6da"
            ],
            [
             0.4,
             "#fde0ef"
            ],
            [
             0.5,
             "#f7f7f7"
            ],
            [
             0.6,
             "#e6f5d0"
            ],
            [
             0.7,
             "#b8e186"
            ],
            [
             0.8,
             "#7fbc41"
            ],
            [
             0.9,
             "#4d9221"
            ],
            [
             1,
             "#276419"
            ]
           ],
           "sequential": [
            [
             0,
             "#0d0887"
            ],
            [
             0.1111111111111111,
             "#46039f"
            ],
            [
             0.2222222222222222,
             "#7201a8"
            ],
            [
             0.3333333333333333,
             "#9c179e"
            ],
            [
             0.4444444444444444,
             "#bd3786"
            ],
            [
             0.5555555555555556,
             "#d8576b"
            ],
            [
             0.6666666666666666,
             "#ed7953"
            ],
            [
             0.7777777777777778,
             "#fb9f3a"
            ],
            [
             0.8888888888888888,
             "#fdca26"
            ],
            [
             1,
             "#f0f921"
            ]
           ],
           "sequentialminus": [
            [
             0,
             "#0d0887"
            ],
            [
             0.1111111111111111,
             "#46039f"
            ],
            [
             0.2222222222222222,
             "#7201a8"
            ],
            [
             0.3333333333333333,
             "#9c179e"
            ],
            [
             0.4444444444444444,
             "#bd3786"
            ],
            [
             0.5555555555555556,
             "#d8576b"
            ],
            [
             0.6666666666666666,
             "#ed7953"
            ],
            [
             0.7777777777777778,
             "#fb9f3a"
            ],
            [
             0.8888888888888888,
             "#fdca26"
            ],
            [
             1,
             "#f0f921"
            ]
           ]
          },
          "colorway": [
           "#636efa",
           "#EF553B",
           "#00cc96",
           "#ab63fa",
           "#FFA15A",
           "#19d3f3",
           "#FF6692",
           "#B6E880",
           "#FF97FF",
           "#FECB52"
          ],
          "font": {
           "color": "#2a3f5f"
          },
          "geo": {
           "bgcolor": "white",
           "lakecolor": "white",
           "landcolor": "#E5ECF6",
           "showlakes": true,
           "showland": true,
           "subunitcolor": "white"
          },
          "hoverlabel": {
           "align": "left"
          },
          "hovermode": "closest",
          "mapbox": {
           "style": "light"
          },
          "paper_bgcolor": "white",
          "plot_bgcolor": "#E5ECF6",
          "polar": {
           "angularaxis": {
            "gridcolor": "white",
            "linecolor": "white",
            "ticks": ""
           },
           "bgcolor": "#E5ECF6",
           "radialaxis": {
            "gridcolor": "white",
            "linecolor": "white",
            "ticks": ""
           }
          },
          "scene": {
           "xaxis": {
            "backgroundcolor": "#E5ECF6",
            "gridcolor": "white",
            "gridwidth": 2,
            "linecolor": "white",
            "showbackground": true,
            "ticks": "",
            "zerolinecolor": "white"
           },
           "yaxis": {
            "backgroundcolor": "#E5ECF6",
            "gridcolor": "white",
            "gridwidth": 2,
            "linecolor": "white",
            "showbackground": true,
            "ticks": "",
            "zerolinecolor": "white"
           },
           "zaxis": {
            "backgroundcolor": "#E5ECF6",
            "gridcolor": "white",
            "gridwidth": 2,
            "linecolor": "white",
            "showbackground": true,
            "ticks": "",
            "zerolinecolor": "white"
           }
          },
          "shapedefaults": {
           "line": {
            "color": "#2a3f5f"
           }
          },
          "ternary": {
           "aaxis": {
            "gridcolor": "white",
            "linecolor": "white",
            "ticks": ""
           },
           "baxis": {
            "gridcolor": "white",
            "linecolor": "white",
            "ticks": ""
           },
           "bgcolor": "#E5ECF6",
           "caxis": {
            "gridcolor": "white",
            "linecolor": "white",
            "ticks": ""
           }
          },
          "title": {
           "x": 0.05
          },
          "xaxis": {
           "automargin": true,
           "gridcolor": "white",
           "linecolor": "white",
           "ticks": "",
           "title": {
            "standoff": 15
           },
           "zerolinecolor": "white",
           "zerolinewidth": 2
          },
          "yaxis": {
           "automargin": true,
           "gridcolor": "white",
           "linecolor": "white",
           "ticks": "",
           "title": {
            "standoff": 15
           },
           "zerolinecolor": "white",
           "zerolinewidth": 2
          }
         }
        },
        "title": {
         "text": "Most 10-recurring Cultures",
         "x": 0.5
        },
        "xaxis": {
         "autorange": true,
         "range": [
          -0.5,
          9.5
         ],
         "title": {
          "font": {
           "color": "#7f7f7f",
           "size": 14
          },
          "text": "Culture"
         },
         "type": "category"
        },
        "yaxis": {
         "autorange": true,
         "range": [
          0,
          5495.789473684211
         ],
         "title": {
          "font": {
           "color": "#7f7f7f",
           "size": 14
          },
          "text": "Count"
         },
         "type": "linear"
        }
       }
      },
      "image/png": "[encoded data removed]",
      "text/html": [
       "<div>                            <div id=\"1172b6d7-d56b-4de0-a51d-3b6fb36fe6d8\" class=\"plotly-graph-div\" style=\"height:525px; width:100%;\"></div>            <script type=\"text/javascript\">                require([\"plotly\"], function(Plotly) {                    window.PLOTLYENV=window.PLOTLYENV || {};                                    if (document.getElementById(\"1172b6d7-d56b-4de0-a51d-3b6fb36fe6d8\")) {                    Plotly.newPlot(                        \"1172b6d7-d56b-4de0-a51d-3b6fb36fe6d8\",                        [{\"x\":[\"Navajo\",\"Ojibwa\",\"Vietnamese\",\"San\",\"Tamil\",\"Saami\",\"Tongans\",\"Hopi\",\"Ifugao\",\"Chipewyans\"],\"y\":[5221,4370,3809,3429,2994,2947,2881,2868,2846,2557],\"type\":\"bar\"}],                        {\"xaxis\":{\"title\":{\"font\":{\"color\":\"#7f7f7f\",\"size\":14},\"text\":\"Culture\"}},\"yaxis\":{\"title\":{\"font\":{\"color\":\"#7f7f7f\",\"size\":14},\"text\":\"Count\"}},\"template\":{\"data\":{\"histogram2dcontour\":[{\"type\":\"histogram2dcontour\",\"colorbar\":{\"outlinewidth\":0,\"ticks\":\"\"},\"colorscale\":[[0.0,\"#0d0887\"],[0.1111111111111111,\"#46039f\"],[0.2222222222222222,\"#7201a8\"],[0.3333333333333333,\"#9c179e\"],[0.4444444444444444,\"#bd3786\"],[0.5555555555555556,\"#d8576b\"],[0.6666666666666666,\"#ed7953\"],[0.7777777777777778,\"#fb9f3a\"],[0.8888888888888888,\"#fdca26\"],[1.0,\"#f0f921\"]]}],\"choropleth\":[{\"type\":\"choropleth\",\"colorbar\":{\"outlinewidth\":0,\"ticks\":\"\"}}],\"histogram2d\":[{\"type\":\"histogram2d\",\"colorbar\":{\"outlinewidth\":0,\"ticks\":\"\"},\"colorscale\":[[0.0,\"#0d0887\"],[0.1111111111111111,\"#46039f\"],[0.2222222222222222,\"#7201a8\"],[0.3333333333333333,\"#9c179e\"],[0.4444444444444444,\"#bd3786\"],[0.5555555555555556,\"#d8576b\"],[0.6666666666666666,\"#ed7953\"],[0.7777777777777778,\"#fb9f3a\"],[0.8888888888888888,\"#fdca26\"],[1.0,\"#f0f921\"]]}],\"heatmap\":[{\"type\":\"heatmap\",\"colorbar\":{\"outlinewidth\":0,\"ticks\":\"\"},\"colorscale\":[[0.0,\"#0d0887\"],[0.1111111111111111,\"#46039f\"],[0.2222222222222222,\"#7201a8\"],[0.3333333333333333,\"#9c179e\"],[0.4444444444444444,\"#bd3786\"],[0.5555555555555556,\"#d8576b\"],[0.6666666666666666,\"#ed7953\"],[0.7777777777777778,\"#fb9f3a\"],[0.8888888888888888,\"#fdca26\"],[1.0,\"#f0f921\"]]}],\"heatmapgl\":[{\"type\":\"heatmapgl\",\"colorbar\":{\"outlinewidth\":0,\"ticks\":\"\"},\"colorscale\":[[0.0,\"#0d0887\"],[0.1111111111111111,\"#46039f\"],[0.2222222222222222,\"#7201a8\"],[0.3333333333333333,\"#9c179e\"],[0.4444444444444444,\"#bd3786\"],[0.5555555555555556,\"#d8576b\"],[0.6666666666666666,\"#ed7953\"],[0.7777777777777778,\"#fb9f3a\"],[0.8888888888888888,\"#fdca26\"],[1.0,\"#f0f921\"]]}],\"contourcarpet\":[{\"type\":\"contourcarpet\",\"colorbar\":{\"outlinewidth\":0,\"ticks\":\"\"}}],\"contour\":[{\"type\":\"contour\",\"colorbar\":{\"outlinewidth\":0,\"ticks\":\"\"},\"colorscale\":[[0.0,\"#0d0887\"],[0.1111111111111111,\"#46039f\"],[0.2222222222222222,\"#7201a8\"],[0.3333333333333333,\"#9c179e\"],[0.4444444444444444,\"#bd3786\"],[0.5555555555555556,\"#d8576b\"],[0.6666666666666666,\"#ed7953\"],[0.7777777777777778,\"#fb9f3a\"],[0.8888888888888888,\"#fdca26\"],[1.0,\"#f0f921\"]]}],\"surface\":[{\"type\":\"surface\",\"colorbar\":{\"outlinewidth\":0,\"ticks\":\"\"},\"colorscale\":[[0.0,\"#0d0887\"],[0.1111111111111111,\"#46039f\"],[0.2222222222222222,\"#7201a8\"],[0.3333333333333333,\"#9c179e\"],[0.4444444444444444,\"#bd3786\"],[0.5555555555555556,\"#d8576b\"],[0.6666666666666666,\"#ed7953\"],[0.7777777777777778,\"#fb9f3a\"],[0.8888888888888888,\"#fdca26\"],[1.0,\"#f0f921\"]]}],\"mesh3d\":[{\"type\":\"mesh3d\",\"colorbar\":{\"outlinewidth\":0,\"ticks\":\"\"}}],\"scatter\":[{\"fillpattern\":{\"fillmode\":\"overlay\",\"size\":10,\"solidity\":0.2},\"type\":\"scatter\"}],\"parcoords\":[{\"type\":\"parcoords\",\"line\":{\"colorbar\":{\"outlinewidth\":0,\"ticks\":\"\"}}}],\"scatterpolargl\":[{\"type\":\"scatterpolargl\",\"marker\":{\"colorbar\":{\"outlinewidth\":0,\"ticks\":\"\"}}}],\"bar\":[{\"error_x\":{\"color\":\"#2a3f5f\"},\"error_y\":{\"color\":\"#2a3f5f\"},\"marker\":{\"line\":{\"color\":\"#E5ECF6\",\"width\":0.5},\"pattern\":{\"fillmode\":\"overlay\",\"size\":10,\"solidity\":0.2}},\"type\":\"bar\"}],\"scattergeo\":[{\"type\":\"scattergeo\",\"marker\":{\"colorbar\":{\"outlinewidth\":0,\"ticks\":\"\"}}}],\"scatterpolar\":[{\"type\":\"scatterpolar\",\"marker\":{\"colorbar\":{\"outlinewidth\":0,\"ticks\":\"\"}}}],\"histogram\":[{\"marker\":{\"pattern\":{\"fillmode\":\"overlay\",\"size\":10,\"solidity\":0.2}},\"type\":\"histogram\"}],\"scattergl\":[{\"type\":\"scattergl\",\"marker\":{\"colorbar\":{\"outlinewidth\":0,\"ticks\":\"\"}}}],\"scatter3d\":[{\"type\":\"scatter3d\",\"line\":{\"colorbar\":{\"outlinewidth\":0,\"ticks\":\"\"}},\"marker\":{\"colorbar\":{\"outlinewidth\":0,\"ticks\":\"\"}}}],\"scattermapbox\":[{\"type\":\"scattermapbox\",\"marker\":{\"colorbar\":{\"outlinewidth\":0,\"ticks\":\"\"}}}],\"scatterternary\":[{\"type\":\"scatterternary\",\"marker\":{\"colorbar\":{\"outlinewidth\":0,\"ticks\":\"\"}}}],\"scattercarpet\":[{\"type\":\"scattercarpet\",\"marker\":{\"colorbar\":{\"outlinewidth\":0,\"ticks\":\"\"}}}],\"carpet\":[{\"aaxis\":{\"endlinecolor\":\"#2a3f5f\",\"gridcolor\":\"white\",\"linecolor\":\"white\",\"minorgridcolor\":\"white\",\"startlinecolor\":\"#2a3f5f\"},\"baxis\":{\"endlinecolor\":\"#2a3f5f\",\"gridcolor\":\"white\",\"linecolor\":\"white\",\"minorgridcolor\":\"white\",\"startlinecolor\":\"#2a3f5f\"},\"type\":\"carpet\"}],\"table\":[{\"cells\":{\"fill\":{\"color\":\"#EBF0F8\"},\"line\":{\"color\":\"white\"}},\"header\":{\"fill\":{\"color\":\"#C8D4E3\"},\"line\":{\"color\":\"white\"}},\"type\":\"table\"}],\"barpolar\":[{\"marker\":{\"line\":{\"color\":\"#E5ECF6\",\"width\":0.5},\"pattern\":{\"fillmode\":\"overlay\",\"size\":10,\"solidity\":0.2}},\"type\":\"barpolar\"}],\"pie\":[{\"automargin\":true,\"type\":\"pie\"}]},\"layout\":{\"autotypenumbers\":\"strict\",\"colorway\":[\"#636efa\",\"#EF553B\",\"#00cc96\",\"#ab63fa\",\"#FFA15A\",\"#19d3f3\",\"#FF6692\",\"#B6E880\",\"#FF97FF\",\"#FECB52\"],\"font\":{\"color\":\"#2a3f5f\"},\"hovermode\":\"closest\",\"hoverlabel\":{\"align\":\"left\"},\"paper_bgcolor\":\"white\",\"plot_bgcolor\":\"#E5ECF6\",\"polar\":{\"bgcolor\":\"#E5ECF6\",\"angularaxis\":{\"gridcolor\":\"white\",\"linecolor\":\"white\",\"ticks\":\"\"},\"radialaxis\":{\"gridcolor\":\"white\",\"linecolor\":\"white\",\"ticks\":\"\"}},\"ternary\":{\"bgcolor\":\"#E5ECF6\",\"aaxis\":{\"gridcolor\":\"white\",\"linecolor\":\"white\",\"ticks\":\"\"},\"baxis\":{\"gridcolor\":\"white\",\"linecolor\":\"white\",\"ticks\":\"\"},\"caxis\":{\"gridcolor\":\"white\",\"linecolor\":\"white\",\"ticks\":\"\"}},\"coloraxis\":{\"colorbar\":{\"outlinewidth\":0,\"ticks\":\"\"}},\"colorscale\":{\"sequential\":[[0.0,\"#0d0887\"],[0.1111111111111111,\"#46039f\"],[0.2222222222222222,\"#7201a8\"],[0.3333333333333333,\"#9c179e\"],[0.4444444444444444,\"#bd3786\"],[0.5555555555555556,\"#d8576b\"],[0.6666666666666666,\"#ed7953\"],[0.7777777777777778,\"#fb9f3a\"],[0.8888888888888888,\"#fdca26\"],[1.0,\"#f0f921\"]],\"sequentialminus\":[[0.0,\"#0d0887\"],[0.1111111111111111,\"#46039f\"],[0.2222222222222222,\"#7201a8\"],[0.3333333333333333,\"#9c179e\"],[0.4444444444444444,\"#bd3786\"],[0.5555555555555556,\"#d8576b\"],[0.6666666666666666,\"#ed7953\"],[0.7777777777777778,\"#fb9f3a\"],[0.8888888888888888,\"#fdca26\"],[1.0,\"#f0f921\"]],\"diverging\":[[0,\"#8e0152\"],[0.1,\"#c51b7d\"],[0.2,\"#de77ae\"],[0.3,\"#f1b6da\"],[0.4,\"#fde0ef\"],[0.5,\"#f7f7f7\"],[0.6,\"#e6f5d0\"],[0.7,\"#b8e186\"],[0.8,\"#7fbc41\"],[0.9,\"#4d9221\"],[1,\"#276419\"]]},\"xaxis\":{\"gridcolor\":\"white\",\"linecolor\":\"white\",\"ticks\":\"\",\"title\":{\"standoff\":15},\"zerolinecolor\":\"white\",\"automargin\":true,\"zerolinewidth\":2},\"yaxis\":{\"gridcolor\":\"white\",\"linecolor\":\"white\",\"ticks\":\"\",\"title\":{\"standoff\":15},\"zerolinecolor\":\"white\",\"automargin\":true,\"zerolinewidth\":2},\"scene\":{\"xaxis\":{\"backgroundcolor\":\"#E5ECF6\",\"gridcolor\":\"white\",\"linecolor\":\"white\",\"showbackground\":true,\"ticks\":\"\",\"zerolinecolor\":\"white\",\"gridwidth\":2},\"yaxis\":{\"backgroundcolor\":\"#E5ECF6\",\"gridcolor\":\"white\",\"linecolor\":\"white\",\"showbackground\":true,\"ticks\":\"\",\"zerolinecolor\":\"white\",\"gridwidth\":2},\"zaxis\":{\"backgroundcolor\":\"#E5ECF6\",\"gridcolor\":\"white\",\"linecolor\":\"white\",\"showbackground\":true,\"ticks\":\"\",\"zerolinecolor\":\"white\",\"gridwidth\":2}},\"shapedefaults\":{\"line\":{\"color\":\"#2a3f5f\"}},\"annotationdefaults\":{\"arrowcolor\":\"#2a3f5f\",\"arrowhead\":0,\"arrowwidth\":1},\"geo\":{\"bgcolor\":\"white\",\"landcolor\":\"#E5ECF6\",\"subunitcolor\":\"white\",\"showland\":true,\"showlakes\":true,\"lakecolor\":\"white\"},\"title\":{\"x\":0.05},\"mapbox\":{\"style\":\"light\"}}},\"title\":{\"text\":\"Most 10-recurring Cultures\",\"x\":0.5}},                        {\"responsive\": true}                    ).then(function(){\n",
       "                            \n",
       "var gd = document.getElementById('1172b6d7-d56b-4de0-a51d-3b6fb36fe6d8');\n",
       "var x = new MutationObserver(function (mutations, observer) {{\n",
       "        var display = window.getComputedStyle(gd).display;\n",
       "        if (!display || display === 'none') {{\n",
       "            console.log([gd, 'removed!']);\n",
       "            Plotly.purge(gd);\n",
       "            observer.disconnect();\n",
       "        }}\n",
       "}});\n",
       "\n",
       "// Listen for the removal of the full notebook cells\n",
       "var notebookContainer = gd.closest('#notebook-container');\n",
       "if (notebookContainer) {{\n",
       "    x.observe(notebookContainer, {childList: true});\n",
       "}}\n",
       "\n",
       "// Listen for the clearing of the current output cell\n",
       "var outputEl = gd.closest('.output');\n",
       "if (outputEl) {{\n",
       "    x.observe(outputEl, {childList: true});\n",
       "}}\n",
       "\n",
       "                        })                };                });            </script>        </div>"
      ]
     },
     "metadata": {},
     "output_type": "display_data"
    },
    {
     "data": {
      "application/vnd.plotly.v1+json": {
       "config": {
        "plotlyServerURL": "https://plot.ly"
       },
       "data": [
        {
         "type": "bar",
         "x": [
          "Hawaiian Islands, United States",
          "Papua New Guinea",
          "Tonga",
          "Gajju Chak, Gujranwala division, Punjab, Pakistan",
          "Tonkin delta, Northern Vietnam (BAC BO)",
          "Mayawyaw valley, Ifugaw province, northern Luzon, Philippines",
          "Kamu Valley, central Highlands, Irian Jaya, Indonesia",
          "Chad",
          "Arizona, New Mexico, and Utah, United States",
          "Northwest Territories, Canada"
         ],
         "y": [
          1881,
          1863,
          1621,
          1546,
          1538,
          1455,
          1444,
          1358,
          1336,
          1333
         ]
        }
       ],
       "layout": {
        "autosize": true,
        "template": {
         "data": {
          "bar": [
           {
            "error_x": {
             "color": "#2a3f5f"
            },
            "error_y": {
             "color": "#2a3f5f"
            },
            "marker": {
             "line": {
              "color": "#E5ECF6",
              "width": 0.5
             },
             "pattern": {
              "fillmode": "overlay",
              "size": 10,
              "solidity": 0.2
             }
            },
            "type": "bar"
           }
          ],
          "barpolar": [
           {
            "marker": {
             "line": {
              "color": "#E5ECF6",
              "width": 0.5
             },
             "pattern": {
              "fillmode": "overlay",
              "size": 10,
              "solidity": 0.2
             }
            },
            "type": "barpolar"
           }
          ],
          "carpet": [
           {
            "aaxis": {
             "endlinecolor": "#2a3f5f",
             "gridcolor": "white",
             "linecolor": "white",
             "minorgridcolor": "white",
             "startlinecolor": "#2a3f5f"
            },
            "baxis": {
             "endlinecolor": "#2a3f5f",
             "gridcolor": "white",
             "linecolor": "white",
             "minorgridcolor": "white",
             "startlinecolor": "#2a3f5f"
            },
            "type": "carpet"
           }
          ],
          "choropleth": [
           {
            "colorbar": {
             "outlinewidth": 0,
             "ticks": ""
            },
            "type": "choropleth"
           }
          ],
          "contour": [
           {
            "colorbar": {
             "outlinewidth": 0,
             "ticks": ""
            },
            "colorscale": [
             [
              0,
              "#0d0887"
             ],
             [
              0.1111111111111111,
              "#46039f"
             ],
             [
              0.2222222222222222,
              "#7201a8"
             ],
             [
              0.3333333333333333,
              "#9c179e"
             ],
             [
              0.4444444444444444,
              "#bd3786"
             ],
             [
              0.5555555555555556,
              "#d8576b"
             ],
             [
              0.6666666666666666,
              "#ed7953"
             ],
             [
              0.7777777777777778,
              "#fb9f3a"
             ],
             [
              0.8888888888888888,
              "#fdca26"
             ],
             [
              1,
              "#f0f921"
             ]
            ],
            "type": "contour"
           }
          ],
          "contourcarpet": [
           {
            "colorbar": {
             "outlinewidth": 0,
             "ticks": ""
            },
            "type": "contourcarpet"
           }
          ],
          "heatmap": [
           {
            "colorbar": {
             "outlinewidth": 0,
             "ticks": ""
            },
            "colorscale": [
             [
              0,
              "#0d0887"
             ],
             [
              0.1111111111111111,
              "#46039f"
             ],
             [
              0.2222222222222222,
              "#7201a8"
             ],
             [
              0.3333333333333333,
              "#9c179e"
             ],
             [
              0.4444444444444444,
              "#bd3786"
             ],
             [
              0.5555555555555556,
              "#d8576b"
             ],
             [
              0.6666666666666666,
              "#ed7953"
             ],
             [
              0.7777777777777778,
              "#fb9f3a"
             ],
             [
              0.8888888888888888,
              "#fdca26"
             ],
             [
              1,
              "#f0f921"
             ]
            ],
            "type": "heatmap"
           }
          ],
          "heatmapgl": [
           {
            "colorbar": {
             "outlinewidth": 0,
             "ticks": ""
            },
            "colorscale": [
             [
              0,
              "#0d0887"
             ],
             [
              0.1111111111111111,
              "#46039f"
             ],
             [
              0.2222222222222222,
              "#7201a8"
             ],
             [
              0.3333333333333333,
              "#9c179e"
             ],
             [
              0.4444444444444444,
              "#bd3786"
             ],
             [
              0.5555555555555556,
              "#d8576b"
             ],
             [
              0.6666666666666666,
              "#ed7953"
             ],
             [
              0.7777777777777778,
              "#fb9f3a"
             ],
             [
              0.8888888888888888,
              "#fdca26"
             ],
             [
              1,
              "#f0f921"
             ]
            ],
            "type": "heatmapgl"
           }
          ],
          "histogram": [
           {
            "marker": {
             "pattern": {
              "fillmode": "overlay",
              "size": 10,
              "solidity": 0.2
             }
            },
            "type": "histogram"
           }
          ],
          "histogram2d": [
           {
            "colorbar": {
             "outlinewidth": 0,
             "ticks": ""
            },
            "colorscale": [
             [
              0,
              "#0d0887"
             ],
             [
              0.1111111111111111,
              "#46039f"
             ],
             [
              0.2222222222222222,
              "#7201a8"
             ],
             [
              0.3333333333333333,
              "#9c179e"
             ],
             [
              0.4444444444444444,
              "#bd3786"
             ],
             [
              0.5555555555555556,
              "#d8576b"
             ],
             [
              0.6666666666666666,
              "#ed7953"
             ],
             [
              0.7777777777777778,
              "#fb9f3a"
             ],
             [
              0.8888888888888888,
              "#fdca26"
             ],
             [
              1,
              "#f0f921"
             ]
            ],
            "type": "histogram2d"
           }
          ],
          "histogram2dcontour": [
           {
            "colorbar": {
             "outlinewidth": 0,
             "ticks": ""
            },
            "colorscale": [
             [
              0,
              "#0d0887"
             ],
             [
              0.1111111111111111,
              "#46039f"
             ],
             [
              0.2222222222222222,
              "#7201a8"
             ],
             [
              0.3333333333333333,
              "#9c179e"
             ],
             [
              0.4444444444444444,
              "#bd3786"
             ],
             [
              0.5555555555555556,
              "#d8576b"
             ],
             [
              0.6666666666666666,
              "#ed7953"
             ],
             [
              0.7777777777777778,
              "#fb9f3a"
             ],
             [
              0.8888888888888888,
              "#fdca26"
             ],
             [
              1,
              "#f0f921"
             ]
            ],
            "type": "histogram2dcontour"
           }
          ],
          "mesh3d": [
           {
            "colorbar": {
             "outlinewidth": 0,
             "ticks": ""
            },
            "type": "mesh3d"
           }
          ],
          "parcoords": [
           {
            "line": {
             "colorbar": {
              "outlinewidth": 0,
              "ticks": ""
             }
            },
            "type": "parcoords"
           }
          ],
          "pie": [
           {
            "automargin": true,
            "type": "pie"
           }
          ],
          "scatter": [
           {
            "fillpattern": {
             "fillmode": "overlay",
             "size": 10,
             "solidity": 0.2
            },
            "type": "scatter"
           }
          ],
          "scatter3d": [
           {
            "line": {
             "colorbar": {
              "outlinewidth": 0,
              "ticks": ""
             }
            },
            "marker": {
             "colorbar": {
              "outlinewidth": 0,
              "ticks": ""
             }
            },
            "type": "scatter3d"
           }
          ],
          "scattercarpet": [
           {
            "marker": {
             "colorbar": {
              "outlinewidth": 0,
              "ticks": ""
             }
            },
            "type": "scattercarpet"
           }
          ],
          "scattergeo": [
           {
            "marker": {
             "colorbar": {
              "outlinewidth": 0,
              "ticks": ""
             }
            },
            "type": "scattergeo"
           }
          ],
          "scattergl": [
           {
            "marker": {
             "colorbar": {
              "outlinewidth": 0,
              "ticks": ""
             }
            },
            "type": "scattergl"
           }
          ],
          "scattermapbox": [
           {
            "marker": {
             "colorbar": {
              "outlinewidth": 0,
              "ticks": ""
             }
            },
            "type": "scattermapbox"
           }
          ],
          "scatterpolar": [
           {
            "marker": {
             "colorbar": {
              "outlinewidth": 0,
              "ticks": ""
             }
            },
            "type": "scatterpolar"
           }
          ],
          "scatterpolargl": [
           {
            "marker": {
             "colorbar": {
              "outlinewidth": 0,
              "ticks": ""
             }
            },
            "type": "scatterpolargl"
           }
          ],
          "scatterternary": [
           {
            "marker": {
             "colorbar": {
              "outlinewidth": 0,
              "ticks": ""
             }
            },
            "type": "scatterternary"
           }
          ],
          "surface": [
           {
            "colorbar": {
             "outlinewidth": 0,
             "ticks": ""
            },
            "colorscale": [
             [
              0,
              "#0d0887"
             ],
             [
              0.1111111111111111,
              "#46039f"
             ],
             [
              0.2222222222222222,
              "#7201a8"
             ],
             [
              0.3333333333333333,
              "#9c179e"
             ],
             [
              0.4444444444444444,
              "#bd3786"
             ],
             [
              0.5555555555555556,
              "#d8576b"
             ],
             [
              0.6666666666666666,
              "#ed7953"
             ],
             [
              0.7777777777777778,
              "#fb9f3a"
             ],
             [
              0.8888888888888888,
              "#fdca26"
             ],
             [
              1,
              "#f0f921"
             ]
            ],
            "type": "surface"
           }
          ],
          "table": [
           {
            "cells": {
             "fill": {
              "color": "#EBF0F8"
             },
             "line": {
              "color": "white"
             }
            },
            "header": {
             "fill": {
              "color": "#C8D4E3"
             },
             "line": {
              "color": "white"
             }
            },
            "type": "table"
           }
          ]
         },
         "layout": {
          "annotationdefaults": {
           "arrowcolor": "#2a3f5f",
           "arrowhead": 0,
           "arrowwidth": 1
          },
          "autotypenumbers": "strict",
          "coloraxis": {
           "colorbar": {
            "outlinewidth": 0,
            "ticks": ""
           }
          },
          "colorscale": {
           "diverging": [
            [
             0,
             "#8e0152"
            ],
            [
             0.1,
             "#c51b7d"
            ],
            [
             0.2,
             "#de77ae"
            ],
            [
             0.3,
             "#f1b6da"
            ],
            [
             0.4,
             "#fde0ef"
            ],
            [
             0.5,
             "#f7f7f7"
            ],
            [
             0.6,
             "#e6f5d0"
            ],
            [
             0.7,
             "#b8e186"
            ],
            [
             0.8,
             "#7fbc41"
            ],
            [
             0.9,
             "#4d9221"
            ],
            [
             1,
             "#276419"
            ]
           ],
           "sequential": [
            [
             0,
             "#0d0887"
            ],
            [
             0.1111111111111111,
             "#46039f"
            ],
            [
             0.2222222222222222,
             "#7201a8"
            ],
            [
             0.3333333333333333,
             "#9c179e"
            ],
            [
             0.4444444444444444,
             "#bd3786"
            ],
            [
             0.5555555555555556,
             "#d8576b"
            ],
            [
             0.6666666666666666,
             "#ed7953"
            ],
            [
             0.7777777777777778,
             "#fb9f3a"
            ],
            [
             0.8888888888888888,
             "#fdca26"
            ],
            [
             1,
             "#f0f921"
            ]
           ],
           "sequentialminus": [
            [
             0,
             "#0d0887"
            ],
            [
             0.1111111111111111,
             "#46039f"
            ],
            [
             0.2222222222222222,
             "#7201a8"
            ],
            [
             0.3333333333333333,
             "#9c179e"
            ],
            [
             0.4444444444444444,
             "#bd3786"
            ],
            [
             0.5555555555555556,
             "#d8576b"
            ],
            [
             0.6666666666666666,
             "#ed7953"
            ],
            [
             0.7777777777777778,
             "#fb9f3a"
            ],
            [
             0.8888888888888888,
             "#fdca26"
            ],
            [
             1,
             "#f0f921"
            ]
           ]
          },
          "colorway": [
           "#636efa",
           "#EF553B",
           "#00cc96",
           "#ab63fa",
           "#FFA15A",
           "#19d3f3",
           "#FF6692",
           "#B6E880",
           "#FF97FF",
           "#FECB52"
          ],
          "font": {
           "color": "#2a3f5f"
          },
          "geo": {
           "bgcolor": "white",
           "lakecolor": "white",
           "landcolor": "#E5ECF6",
           "showlakes": true,
           "showland": true,
           "subunitcolor": "white"
          },
          "hoverlabel": {
           "align": "left"
          },
          "hovermode": "closest",
          "mapbox": {
           "style": "light"
          },
          "paper_bgcolor": "white",
          "plot_bgcolor": "#E5ECF6",
          "polar": {
           "angularaxis": {
            "gridcolor": "white",
            "linecolor": "white",
            "ticks": ""
           },
           "bgcolor": "#E5ECF6",
           "radialaxis": {
            "gridcolor": "white",
            "linecolor": "white",
            "ticks": ""
           }
          },
          "scene": {
           "xaxis": {
            "backgroundcolor": "#E5ECF6",
            "gridcolor": "white",
            "gridwidth": 2,
            "linecolor": "white",
            "showbackground": true,
            "ticks": "",
            "zerolinecolor": "white"
           },
           "yaxis": {
            "backgroundcolor": "#E5ECF6",
            "gridcolor": "white",
            "gridwidth": 2,
            "linecolor": "white",
            "showbackground": true,
            "ticks": "",
            "zerolinecolor": "white"
           },
           "zaxis": {
            "backgroundcolor": "#E5ECF6",
            "gridcolor": "white",
            "gridwidth": 2,
            "linecolor": "white",
            "showbackground": true,
            "ticks": "",
            "zerolinecolor": "white"
           }
          },
          "shapedefaults": {
           "line": {
            "color": "#2a3f5f"
           }
          },
          "ternary": {
           "aaxis": {
            "gridcolor": "white",
            "linecolor": "white",
            "ticks": ""
           },
           "baxis": {
            "gridcolor": "white",
            "linecolor": "white",
            "ticks": ""
           },
           "bgcolor": "#E5ECF6",
           "caxis": {
            "gridcolor": "white",
            "linecolor": "white",
            "ticks": ""
           }
          },
          "title": {
           "x": 0.05
          },
          "xaxis": {
           "automargin": true,
           "gridcolor": "white",
           "linecolor": "white",
           "ticks": "",
           "title": {
            "standoff": 15
           },
           "zerolinecolor": "white",
           "zerolinewidth": 2
          },
          "yaxis": {
           "automargin": true,
           "gridcolor": "white",
           "linecolor": "white",
           "ticks": "",
           "title": {
            "standoff": 15
           },
           "zerolinecolor": "white",
           "zerolinewidth": 2
          }
         }
        },
        "title": {
         "text": "Most 10-recurring Places",
         "x": 0.5
        },
        "xaxis": {
         "autorange": true,
         "range": [
          -0.5,
          9.5
         ],
         "title": {
          "font": {
           "color": "#7f7f7f",
           "size": 14
          },
          "text": "Culture"
         },
         "type": "category"
        },
        "yaxis": {
         "autorange": true,
         "range": [
          0,
          1980
         ],
         "title": {
          "font": {
           "color": "#7f7f7f",
           "size": 14
          },
          "text": "Count"
         },
         "type": "linear"
        }
       }
      },
      "image/png": "[encoded data removed]",
      "text/html": [
       "<div>                            <div id=\"18f6cee7-0db5-4e3e-9570-5042bf78e13f\" class=\"plotly-graph-div\" style=\"height:525px; width:100%;\"></div>            <script type=\"text/javascript\">                require([\"plotly\"], function(Plotly) {                    window.PLOTLYENV=window.PLOTLYENV || {};                                    if (document.getElementById(\"18f6cee7-0db5-4e3e-9570-5042bf78e13f\")) {                    Plotly.newPlot(                        \"18f6cee7-0db5-4e3e-9570-5042bf78e13f\",                        [{\"x\":[\"Hawaiian Islands, United States\",\"Papua New Guinea\",\"Tonga\",\"Gajju Chak, Gujranwala division, Punjab, Pakistan\",\"Tonkin delta, Northern Vietnam (BAC BO)\",\"Mayawyaw valley, Ifugaw province, northern Luzon, Philippines\",\"Kamu Valley, central Highlands, Irian Jaya, Indonesia\",\"Chad\",\"Arizona, New Mexico, and Utah, United States\",\"Northwest Territories, Canada\"],\"y\":[1881,1863,1621,1546,1538,1455,1444,1358,1336,1333],\"type\":\"bar\"}],                        {\"xaxis\":{\"title\":{\"font\":{\"color\":\"#7f7f7f\",\"size\":14},\"text\":\"Culture\"}},\"yaxis\":{\"title\":{\"font\":{\"color\":\"#7f7f7f\",\"size\":14},\"text\":\"Count\"}},\"template\":{\"data\":{\"histogram2dcontour\":[{\"type\":\"histogram2dcontour\",\"colorbar\":{\"outlinewidth\":0,\"ticks\":\"\"},\"colorscale\":[[0.0,\"#0d0887\"],[0.1111111111111111,\"#46039f\"],[0.2222222222222222,\"#7201a8\"],[0.3333333333333333,\"#9c179e\"],[0.4444444444444444,\"#bd3786\"],[0.5555555555555556,\"#d8576b\"],[0.6666666666666666,\"#ed7953\"],[0.7777777777777778,\"#fb9f3a\"],[0.8888888888888888,\"#fdca26\"],[1.0,\"#f0f921\"]]}],\"choropleth\":[{\"type\":\"choropleth\",\"colorbar\":{\"outlinewidth\":0,\"ticks\":\"\"}}],\"histogram2d\":[{\"type\":\"histogram2d\",\"colorbar\":{\"outlinewidth\":0,\"ticks\":\"\"},\"colorscale\":[[0.0,\"#0d0887\"],[0.1111111111111111,\"#46039f\"],[0.2222222222222222,\"#7201a8\"],[0.3333333333333333,\"#9c179e\"],[0.4444444444444444,\"#bd3786\"],[0.5555555555555556,\"#d8576b\"],[0.6666666666666666,\"#ed7953\"],[0.7777777777777778,\"#fb9f3a\"],[0.8888888888888888,\"#fdca26\"],[1.0,\"#f0f921\"]]}],\"heatmap\":[{\"type\":\"heatmap\",\"colorbar\":{\"outlinewidth\":0,\"ticks\":\"\"},\"colorscale\":[[0.0,\"#0d0887\"],[0.1111111111111111,\"#46039f\"],[0.2222222222222222,\"#7201a8\"],[0.3333333333333333,\"#9c179e\"],[0.4444444444444444,\"#bd3786\"],[0.5555555555555556,\"#d8576b\"],[0.6666666666666666,\"#ed7953\"],[0.7777777777777778,\"#fb9f3a\"],[0.8888888888888888,\"#fdca26\"],[1.0,\"#f0f921\"]]}],\"heatmapgl\":[{\"type\":\"heatmapgl\",\"colorbar\":{\"outlinewidth\":0,\"ticks\":\"\"},\"colorscale\":[[0.0,\"#0d0887\"],[0.1111111111111111,\"#46039f\"],[0.2222222222222222,\"#7201a8\"],[0.3333333333333333,\"#9c179e\"],[0.4444444444444444,\"#bd3786\"],[0.5555555555555556,\"#d8576b\"],[0.6666666666666666,\"#ed7953\"],[0.7777777777777778,\"#fb9f3a\"],[0.8888888888888888,\"#fdca26\"],[1.0,\"#f0f921\"]]}],\"contourcarpet\":[{\"type\":\"contourcarpet\",\"colorbar\":{\"outlinewidth\":0,\"ticks\":\"\"}}],\"contour\":[{\"type\":\"contour\",\"colorbar\":{\"outlinewidth\":0,\"ticks\":\"\"},\"colorscale\":[[0.0,\"#0d0887\"],[0.1111111111111111,\"#46039f\"],[0.2222222222222222,\"#7201a8\"],[0.3333333333333333,\"#9c179e\"],[0.4444444444444444,\"#bd3786\"],[0.5555555555555556,\"#d8576b\"],[0.6666666666666666,\"#ed7953\"],[0.7777777777777778,\"#fb9f3a\"],[0.8888888888888888,\"#fdca26\"],[1.0,\"#f0f921\"]]}],\"surface\":[{\"type\":\"surface\",\"colorbar\":{\"outlinewidth\":0,\"ticks\":\"\"},\"colorscale\":[[0.0,\"#0d0887\"],[0.1111111111111111,\"#46039f\"],[0.2222222222222222,\"#7201a8\"],[0.3333333333333333,\"#9c179e\"],[0.4444444444444444,\"#bd3786\"],[0.5555555555555556,\"#d8576b\"],[0.6666666666666666,\"#ed7953\"],[0.7777777777777778,\"#fb9f3a\"],[0.8888888888888888,\"#fdca26\"],[1.0,\"#f0f921\"]]}],\"mesh3d\":[{\"type\":\"mesh3d\",\"colorbar\":{\"outlinewidth\":0,\"ticks\":\"\"}}],\"scatter\":[{\"fillpattern\":{\"fillmode\":\"overlay\",\"size\":10,\"solidity\":0.2},\"type\":\"scatter\"}],\"parcoords\":[{\"type\":\"parcoords\",\"line\":{\"colorbar\":{\"outlinewidth\":0,\"ticks\":\"\"}}}],\"scatterpolargl\":[{\"type\":\"scatterpolargl\",\"marker\":{\"colorbar\":{\"outlinewidth\":0,\"ticks\":\"\"}}}],\"bar\":[{\"error_x\":{\"color\":\"#2a3f5f\"},\"error_y\":{\"color\":\"#2a3f5f\"},\"marker\":{\"line\":{\"color\":\"#E5ECF6\",\"width\":0.5},\"pattern\":{\"fillmode\":\"overlay\",\"size\":10,\"solidity\":0.2}},\"type\":\"bar\"}],\"scattergeo\":[{\"type\":\"scattergeo\",\"marker\":{\"colorbar\":{\"outlinewidth\":0,\"ticks\":\"\"}}}],\"scatterpolar\":[{\"type\":\"scatterpolar\",\"marker\":{\"colorbar\":{\"outlinewidth\":0,\"ticks\":\"\"}}}],\"histogram\":[{\"marker\":{\"pattern\":{\"fillmode\":\"overlay\",\"size\":10,\"solidity\":0.2}},\"type\":\"histogram\"}],\"scattergl\":[{\"type\":\"scattergl\",\"marker\":{\"colorbar\":{\"outlinewidth\":0,\"ticks\":\"\"}}}],\"scatter3d\":[{\"type\":\"scatter3d\",\"line\":{\"colorbar\":{\"outlinewidth\":0,\"ticks\":\"\"}},\"marker\":{\"colorbar\":{\"outlinewidth\":0,\"ticks\":\"\"}}}],\"scattermapbox\":[{\"type\":\"scattermapbox\",\"marker\":{\"colorbar\":{\"outlinewidth\":0,\"ticks\":\"\"}}}],\"scatterternary\":[{\"type\":\"scatterternary\",\"marker\":{\"colorbar\":{\"outlinewidth\":0,\"ticks\":\"\"}}}],\"scattercarpet\":[{\"type\":\"scattercarpet\",\"marker\":{\"colorbar\":{\"outlinewidth\":0,\"ticks\":\"\"}}}],\"carpet\":[{\"aaxis\":{\"endlinecolor\":\"#2a3f5f\",\"gridcolor\":\"white\",\"linecolor\":\"white\",\"minorgridcolor\":\"white\",\"startlinecolor\":\"#2a3f5f\"},\"baxis\":{\"endlinecolor\":\"#2a3f5f\",\"gridcolor\":\"white\",\"linecolor\":\"white\",\"minorgridcolor\":\"white\",\"startlinecolor\":\"#2a3f5f\"},\"type\":\"carpet\"}],\"table\":[{\"cells\":{\"fill\":{\"color\":\"#EBF0F8\"},\"line\":{\"color\":\"white\"}},\"header\":{\"fill\":{\"color\":\"#C8D4E3\"},\"line\":{\"color\":\"white\"}},\"type\":\"table\"}],\"barpolar\":[{\"marker\":{\"line\":{\"color\":\"#E5ECF6\",\"width\":0.5},\"pattern\":{\"fillmode\":\"overlay\",\"size\":10,\"solidity\":0.2}},\"type\":\"barpolar\"}],\"pie\":[{\"automargin\":true,\"type\":\"pie\"}]},\"layout\":{\"autotypenumbers\":\"strict\",\"colorway\":[\"#636efa\",\"#EF553B\",\"#00cc96\",\"#ab63fa\",\"#FFA15A\",\"#19d3f3\",\"#FF6692\",\"#B6E880\",\"#FF97FF\",\"#FECB52\"],\"font\":{\"color\":\"#2a3f5f\"},\"hovermode\":\"closest\",\"hoverlabel\":{\"align\":\"left\"},\"paper_bgcolor\":\"white\",\"plot_bgcolor\":\"#E5ECF6\",\"polar\":{\"bgcolor\":\"#E5ECF6\",\"angularaxis\":{\"gridcolor\":\"white\",\"linecolor\":\"white\",\"ticks\":\"\"},\"radialaxis\":{\"gridcolor\":\"white\",\"linecolor\":\"white\",\"ticks\":\"\"}},\"ternary\":{\"bgcolor\":\"#E5ECF6\",\"aaxis\":{\"gridcolor\":\"white\",\"linecolor\":\"white\",\"ticks\":\"\"},\"baxis\":{\"gridcolor\":\"white\",\"linecolor\":\"white\",\"ticks\":\"\"},\"caxis\":{\"gridcolor\":\"white\",\"linecolor\":\"white\",\"ticks\":\"\"}},\"coloraxis\":{\"colorbar\":{\"outlinewidth\":0,\"ticks\":\"\"}},\"colorscale\":{\"sequential\":[[0.0,\"#0d0887\"],[0.1111111111111111,\"#46039f\"],[0.2222222222222222,\"#7201a8\"],[0.3333333333333333,\"#9c179e\"],[0.4444444444444444,\"#bd3786\"],[0.5555555555555556,\"#d8576b\"],[0.6666666666666666,\"#ed7953\"],[0.7777777777777778,\"#fb9f3a\"],[0.8888888888888888,\"#fdca26\"],[1.0,\"#f0f921\"]],\"sequentialminus\":[[0.0,\"#0d0887\"],[0.1111111111111111,\"#46039f\"],[0.2222222222222222,\"#7201a8\"],[0.3333333333333333,\"#9c179e\"],[0.4444444444444444,\"#bd3786\"],[0.5555555555555556,\"#d8576b\"],[0.6666666666666666,\"#ed7953\"],[0.7777777777777778,\"#fb9f3a\"],[0.8888888888888888,\"#fdca26\"],[1.0,\"#f0f921\"]],\"diverging\":[[0,\"#8e0152\"],[0.1,\"#c51b7d\"],[0.2,\"#de77ae\"],[0.3,\"#f1b6da\"],[0.4,\"#fde0ef\"],[0.5,\"#f7f7f7\"],[0.6,\"#e6f5d0\"],[0.7,\"#b8e186\"],[0.8,\"#7fbc41\"],[0.9,\"#4d9221\"],[1,\"#276419\"]]},\"xaxis\":{\"gridcolor\":\"white\",\"linecolor\":\"white\",\"ticks\":\"\",\"title\":{\"standoff\":15},\"zerolinecolor\":\"white\",\"automargin\":true,\"zerolinewidth\":2},\"yaxis\":{\"gridcolor\":\"white\",\"linecolor\":\"white\",\"ticks\":\"\",\"title\":{\"standoff\":15},\"zerolinecolor\":\"white\",\"automargin\":true,\"zerolinewidth\":2},\"scene\":{\"xaxis\":{\"backgroundcolor\":\"#E5ECF6\",\"gridcolor\":\"white\",\"linecolor\":\"white\",\"showbackground\":true,\"ticks\":\"\",\"zerolinecolor\":\"white\",\"gridwidth\":2},\"yaxis\":{\"backgroundcolor\":\"#E5ECF6\",\"gridcolor\":\"white\",\"linecolor\":\"white\",\"showbackground\":true,\"ticks\":\"\",\"zerolinecolor\":\"white\",\"gridwidth\":2},\"zaxis\":{\"backgroundcolor\":\"#E5ECF6\",\"gridcolor\":\"white\",\"linecolor\":\"white\",\"showbackground\":true,\"ticks\":\"\",\"zerolinecolor\":\"white\",\"gridwidth\":2}},\"shapedefaults\":{\"line\":{\"color\":\"#2a3f5f\"}},\"annotationdefaults\":{\"arrowcolor\":\"#2a3f5f\",\"arrowhead\":0,\"arrowwidth\":1},\"geo\":{\"bgcolor\":\"white\",\"landcolor\":\"#E5ECF6\",\"subunitcolor\":\"white\",\"showland\":true,\"showlakes\":true,\"lakecolor\":\"white\"},\"title\":{\"x\":0.05},\"mapbox\":{\"style\":\"light\"}}},\"title\":{\"text\":\"Most 10-recurring Places\",\"x\":0.5}},                        {\"responsive\": true}                    ).then(function(){\n",
       "                            \n",
       "var gd = document.getElementById('18f6cee7-0db5-4e3e-9570-5042bf78e13f');\n",
       "var x = new MutationObserver(function (mutations, observer) {{\n",
       "        var display = window.getComputedStyle(gd).display;\n",
       "        if (!display || display === 'none') {{\n",
       "            console.log([gd, 'removed!']);\n",
       "            Plotly.purge(gd);\n",
       "            observer.disconnect();\n",
       "        }}\n",
       "}});\n",
       "\n",
       "// Listen for the removal of the full notebook cells\n",
       "var notebookContainer = gd.closest('#notebook-container');\n",
       "if (notebookContainer) {{\n",
       "    x.observe(notebookContainer, {childList: true});\n",
       "}}\n",
       "\n",
       "// Listen for the clearing of the current output cell\n",
       "var outputEl = gd.closest('.output');\n",
       "if (outputEl) {{\n",
       "    x.observe(outputEl, {childList: true});\n",
       "}}\n",
       "\n",
       "                        })                };                });            </script>        </div>"
      ]
     },
     "metadata": {},
     "output_type": "display_data"
    }
   ],
   "source": [
    "\n",
    "layout = go.Layout(\n",
    "    yaxis=dict(title = go.layout.yaxis.Title(text='Count', font=dict(size=14, color='#7f7f7f'))),\n",
    "    xaxis=dict(title = go.layout.xaxis.Title(text='Culture', font=dict(size=14, color='#7f7f7f')))\n",
    ")\n",
    "\n",
    "fig = go.Figure(\n",
    "    data=[go.Bar(x=[l for l, _ in sorted_culture_counts[:N_TO_SELECT]], \n",
    "                 y=[count for _, count in sorted_culture_counts[:N_TO_SELECT]])],\n",
    "    layout=layout,\n",
    "    layout_title=f'Most {N_TO_SELECT}-recurring Cultures',\n",
    "    layout_title_x=0.5,\n",
    ")\n",
    "\n",
    "\n",
    "fig1 = go.Figure(\n",
    "    data=[go.Bar(x=[l for l, _ in sorted_place_counts[:N_TO_SELECT]], \n",
    "                 y=[count for _, count in sorted_place_counts[:N_TO_SELECT]])],\n",
    "    layout=layout,\n",
    "    layout_title=f\"Most {N_TO_SELECT}-recurring Places\",\n",
    "    layout_title_x=0.5,\n",
    ")\n",
    "\n",
    "fig.write_image(f'{ONLY_PARENT_CATEGORY}_culture_counts.png')\n",
    "fig.show()\n",
    "fig1.write_image(f'{ONLY_PARENT_CATEGORY}_place_counts.png')\n",
    "fig1.show()"
   ]
  },
  {
   "cell_type": "code",
   "execution_count": 227,
   "id": "d7aed0dc-735d-4481-ba25-b9d744d1b07d",
   "metadata": {
    "tags": []
   },
   "outputs": [
    {
     "data": {
      "text/plain": [
       "<pandas.core.groupby.generic.SeriesGroupBy object at 0x7f583fdcbbe0>"
      ]
     },
     "execution_count": 227,
     "metadata": {},
     "output_type": "execute_result"
    }
   ],
   "source": [
    "df.groupby('samples')['textrecord']"
   ]
  },
  {
   "cell_type": "code",
   "execution_count": 77,
   "id": "97de5bec-60d7-47fe-8873-1e4e5d34246f",
   "metadata": {
    "tags": []
   },
   "outputs": [],
   "source": [
    "sorted_culture_counts = sorted(list(df.groupby('culture')['ocms'].count().items()), reverse=True,\n",
    "       key=lambda x: x[1])\n",
    "\n",
    "sorted_place_counts = sorted(list(df.groupby('place')['ocms'].count().items()), reverse=True,\n",
    "       key=lambda x: x[1])"
   ]
  },
  {
   "cell_type": "code",
   "execution_count": 96,
   "id": "67481dce-e16f-480d-abf6-b67247e1ee75",
   "metadata": {
    "tags": []
   },
   "outputs": [
    {
     "data": {
      "application/vnd.plotly.v1+json": {
       "config": {
        "plotlyServerURL": "https://plot.ly"
       },
       "data": [
        {
         "type": "bar",
         "x": [
          "Navajo",
          "Ojibwa",
          "Vietnamese",
          "San",
          "Tamil",
          "Saami",
          "Tongans",
          "Hopi",
          "Ifugao",
          "Chipewyans"
         ],
         "y": [
          5221,
          4370,
          3809,
          3429,
          2994,
          2947,
          2881,
          2868,
          2846,
          2557
         ]
        }
       ],
       "layout": {
        "autosize": true,
        "template": {
         "data": {
          "bar": [
           {
            "error_x": {
             "color": "#2a3f5f"
            },
            "error_y": {
             "color": "#2a3f5f"
            },
            "marker": {
             "line": {
              "color": "#E5ECF6",
              "width": 0.5
             },
             "pattern": {
              "fillmode": "overlay",
              "size": 10,
              "solidity": 0.2
             }
            },
            "type": "bar"
           }
          ],
          "barpolar": [
           {
            "marker": {
             "line": {
              "color": "#E5ECF6",
              "width": 0.5
             },
             "pattern": {
              "fillmode": "overlay",
              "size": 10,
              "solidity": 0.2
             }
            },
            "type": "barpolar"
           }
          ],
          "carpet": [
           {
            "aaxis": {
             "endlinecolor": "#2a3f5f",
             "gridcolor": "white",
             "linecolor": "white",
             "minorgridcolor": "white",
             "startlinecolor": "#2a3f5f"
            },
            "baxis": {
             "endlinecolor": "#2a3f5f",
             "gridcolor": "white",
             "linecolor": "white",
             "minorgridcolor": "white",
             "startlinecolor": "#2a3f5f"
            },
            "type": "carpet"
           }
          ],
          "choropleth": [
           {
            "colorbar": {
             "outlinewidth": 0,
             "ticks": ""
            },
            "type": "choropleth"
           }
          ],
          "contour": [
           {
            "colorbar": {
             "outlinewidth": 0,
             "ticks": ""
            },
            "colorscale": [
             [
              0,
              "#0d0887"
             ],
             [
              0.1111111111111111,
              "#46039f"
             ],
             [
              0.2222222222222222,
              "#7201a8"
             ],
             [
              0.3333333333333333,
              "#9c179e"
             ],
             [
              0.4444444444444444,
              "#bd3786"
             ],
             [
              0.5555555555555556,
              "#d8576b"
             ],
             [
              0.6666666666666666,
              "#ed7953"
             ],
             [
              0.7777777777777778,
              "#fb9f3a"
             ],
             [
              0.8888888888888888,
              "#fdca26"
             ],
             [
              1,
              "#f0f921"
             ]
            ],
            "type": "contour"
           }
          ],
          "contourcarpet": [
           {
            "colorbar": {
             "outlinewidth": 0,
             "ticks": ""
            },
            "type": "contourcarpet"
           }
          ],
          "heatmap": [
           {
            "colorbar": {
             "outlinewidth": 0,
             "ticks": ""
            },
            "colorscale": [
             [
              0,
              "#0d0887"
             ],
             [
              0.1111111111111111,
              "#46039f"
             ],
             [
              0.2222222222222222,
              "#7201a8"
             ],
             [
              0.3333333333333333,
              "#9c179e"
             ],
             [
              0.4444444444444444,
              "#bd3786"
             ],
             [
              0.5555555555555556,
              "#d8576b"
             ],
             [
              0.6666666666666666,
              "#ed7953"
             ],
             [
              0.7777777777777778,
              "#fb9f3a"
             ],
             [
              0.8888888888888888,
              "#fdca26"
             ],
             [
              1,
              "#f0f921"
             ]
            ],
            "type": "heatmap"
           }
          ],
          "heatmapgl": [
           {
            "colorbar": {
             "outlinewidth": 0,
             "ticks": ""
            },
            "colorscale": [
             [
              0,
              "#0d0887"
             ],
             [
              0.1111111111111111,
              "#46039f"
             ],
             [
              0.2222222222222222,
              "#7201a8"
             ],
             [
              0.3333333333333333,
              "#9c179e"
             ],
             [
              0.4444444444444444,
              "#bd3786"
             ],
             [
              0.5555555555555556,
              "#d8576b"
             ],
             [
              0.6666666666666666,
              "#ed7953"
             ],
             [
              0.7777777777777778,
              "#fb9f3a"
             ],
             [
              0.8888888888888888,
              "#fdca26"
             ],
             [
              1,
              "#f0f921"
             ]
            ],
            "type": "heatmapgl"
           }
          ],
          "histogram": [
           {
            "marker": {
             "pattern": {
              "fillmode": "overlay",
              "size": 10,
              "solidity": 0.2
             }
            },
            "type": "histogram"
           }
          ],
          "histogram2d": [
           {
            "colorbar": {
             "outlinewidth": 0,
             "ticks": ""
            },
            "colorscale": [
             [
              0,
              "#0d0887"
             ],
             [
              0.1111111111111111,
              "#46039f"
             ],
             [
              0.2222222222222222,
              "#7201a8"
             ],
             [
              0.3333333333333333,
              "#9c179e"
             ],
             [
              0.4444444444444444,
              "#bd3786"
             ],
             [
              0.5555555555555556,
              "#d8576b"
             ],
             [
              0.6666666666666666,
              "#ed7953"
             ],
             [
              0.7777777777777778,
              "#fb9f3a"
             ],
             [
              0.8888888888888888,
              "#fdca26"
             ],
             [
              1,
              "#f0f921"
             ]
            ],
            "type": "histogram2d"
           }
          ],
          "histogram2dcontour": [
           {
            "colorbar": {
             "outlinewidth": 0,
             "ticks": ""
            },
            "colorscale": [
             [
              0,
              "#0d0887"
             ],
             [
              0.1111111111111111,
              "#46039f"
             ],
             [
              0.2222222222222222,
              "#7201a8"
             ],
             [
              0.3333333333333333,
              "#9c179e"
             ],
             [
              0.4444444444444444,
              "#bd3786"
             ],
             [
              0.5555555555555556,
              "#d8576b"
             ],
             [
              0.6666666666666666,
              "#ed7953"
             ],
             [
              0.7777777777777778,
              "#fb9f3a"
             ],
             [
              0.8888888888888888,
              "#fdca26"
             ],
             [
              1,
              "#f0f921"
             ]
            ],
            "type": "histogram2dcontour"
           }
          ],
          "mesh3d": [
           {
            "colorbar": {
             "outlinewidth": 0,
             "ticks": ""
            },
            "type": "mesh3d"
           }
          ],
          "parcoords": [
           {
            "line": {
             "colorbar": {
              "outlinewidth": 0,
              "ticks": ""
             }
            },
            "type": "parcoords"
           }
          ],
          "pie": [
           {
            "automargin": true,
            "type": "pie"
           }
          ],
          "scatter": [
           {
            "fillpattern": {
             "fillmode": "overlay",
             "size": 10,
             "solidity": 0.2
            },
            "type": "scatter"
           }
          ],
          "scatter3d": [
           {
            "line": {
             "colorbar": {
              "outlinewidth": 0,
              "ticks": ""
             }
            },
            "marker": {
             "colorbar": {
              "outlinewidth": 0,
              "ticks": ""
             }
            },
            "type": "scatter3d"
           }
          ],
          "scattercarpet": [
           {
            "marker": {
             "colorbar": {
              "outlinewidth": 0,
              "ticks": ""
             }
            },
            "type": "scattercarpet"
           }
          ],
          "scattergeo": [
           {
            "marker": {
             "colorbar": {
              "outlinewidth": 0,
              "ticks": ""
             }
            },
            "type": "scattergeo"
           }
          ],
          "scattergl": [
           {
            "marker": {
             "colorbar": {
              "outlinewidth": 0,
              "ticks": ""
             }
            },
            "type": "scattergl"
           }
          ],
          "scattermapbox": [
           {
            "marker": {
             "colorbar": {
              "outlinewidth": 0,
              "ticks": ""
             }
            },
            "type": "scattermapbox"
           }
          ],
          "scatterpolar": [
           {
            "marker": {
             "colorbar": {
              "outlinewidth": 0,
              "ticks": ""
             }
            },
            "type": "scatterpolar"
           }
          ],
          "scatterpolargl": [
           {
            "marker": {
             "colorbar": {
              "outlinewidth": 0,
              "ticks": ""
             }
            },
            "type": "scatterpolargl"
           }
          ],
          "scatterternary": [
           {
            "marker": {
             "colorbar": {
              "outlinewidth": 0,
              "ticks": ""
             }
            },
            "type": "scatterternary"
           }
          ],
          "surface": [
           {
            "colorbar": {
             "outlinewidth": 0,
             "ticks": ""
            },
            "colorscale": [
             [
              0,
              "#0d0887"
             ],
             [
              0.1111111111111111,
              "#46039f"
             ],
             [
              0.2222222222222222,
              "#7201a8"
             ],
             [
              0.3333333333333333,
              "#9c179e"
             ],
             [
              0.4444444444444444,
              "#bd3786"
             ],
             [
              0.5555555555555556,
              "#d8576b"
             ],
             [
              0.6666666666666666,
              "#ed7953"
             ],
             [
              0.7777777777777778,
              "#fb9f3a"
             ],
             [
              0.8888888888888888,
              "#fdca26"
             ],
             [
              1,
              "#f0f921"
             ]
            ],
            "type": "surface"
           }
          ],
          "table": [
           {
            "cells": {
             "fill": {
              "color": "#EBF0F8"
             },
             "line": {
              "color": "white"
             }
            },
            "header": {
             "fill": {
              "color": "#C8D4E3"
             },
             "line": {
              "color": "white"
             }
            },
            "type": "table"
           }
          ]
         },
         "layout": {
          "annotationdefaults": {
           "arrowcolor": "#2a3f5f",
           "arrowhead": 0,
           "arrowwidth": 1
          },
          "autotypenumbers": "strict",
          "coloraxis": {
           "colorbar": {
            "outlinewidth": 0,
            "ticks": ""
           }
          },
          "colorscale": {
           "diverging": [
            [
             0,
             "#8e0152"
            ],
            [
             0.1,
             "#c51b7d"
            ],
            [
             0.2,
             "#de77ae"
            ],
            [
             0.3,
             "#f1b6da"
            ],
            [
             0.4,
             "#fde0ef"
            ],
            [
             0.5,
             "#f7f7f7"
            ],
            [
             0.6,
             "#e6f5d0"
            ],
            [
             0.7,
             "#b8e186"
            ],
            [
             0.8,
             "#7fbc41"
            ],
            [
             0.9,
             "#4d9221"
            ],
            [
             1,
             "#276419"
            ]
           ],
           "sequential": [
            [
             0,
             "#0d0887"
            ],
            [
             0.1111111111111111,
             "#46039f"
            ],
            [
             0.2222222222222222,
             "#7201a8"
            ],
            [
             0.3333333333333333,
             "#9c179e"
            ],
            [
             0.4444444444444444,
             "#bd3786"
            ],
            [
             0.5555555555555556,
             "#d8576b"
            ],
            [
             0.6666666666666666,
             "#ed7953"
            ],
            [
             0.7777777777777778,
             "#fb9f3a"
            ],
            [
             0.8888888888888888,
             "#fdca26"
            ],
            [
             1,
             "#f0f921"
            ]
           ],
           "sequentialminus": [
            [
             0,
             "#0d0887"
            ],
            [
             0.1111111111111111,
             "#46039f"
            ],
            [
             0.2222222222222222,
             "#7201a8"
            ],
            [
             0.3333333333333333,
             "#9c179e"
            ],
            [
             0.4444444444444444,
             "#bd3786"
            ],
            [
             0.5555555555555556,
             "#d8576b"
            ],
            [
             0.6666666666666666,
             "#ed7953"
            ],
            [
             0.7777777777777778,
             "#fb9f3a"
            ],
            [
             0.8888888888888888,
             "#fdca26"
            ],
            [
             1,
             "#f0f921"
            ]
           ]
          },
          "colorway": [
           "#636efa",
           "#EF553B",
           "#00cc96",
           "#ab63fa",
           "#FFA15A",
           "#19d3f3",
           "#FF6692",
           "#B6E880",
           "#FF97FF",
           "#FECB52"
          ],
          "font": {
           "color": "#2a3f5f"
          },
          "geo": {
           "bgcolor": "white",
           "lakecolor": "white",
           "landcolor": "#E5ECF6",
           "showlakes": true,
           "showland": true,
           "subunitcolor": "white"
          },
          "hoverlabel": {
           "align": "left"
          },
          "hovermode": "closest",
          "mapbox": {
           "style": "light"
          },
          "paper_bgcolor": "white",
          "plot_bgcolor": "#E5ECF6",
          "polar": {
           "angularaxis": {
            "gridcolor": "white",
            "linecolor": "white",
            "ticks": ""
           },
           "bgcolor": "#E5ECF6",
           "radialaxis": {
            "gridcolor": "white",
            "linecolor": "white",
            "ticks": ""
           }
          },
          "scene": {
           "xaxis": {
            "backgroundcolor": "#E5ECF6",
            "gridcolor": "white",
            "gridwidth": 2,
            "linecolor": "white",
            "showbackground": true,
            "ticks": "",
            "zerolinecolor": "white"
           },
           "yaxis": {
            "backgroundcolor": "#E5ECF6",
            "gridcolor": "white",
            "gridwidth": 2,
            "linecolor": "white",
            "showbackground": true,
            "ticks": "",
            "zerolinecolor": "white"
           },
           "zaxis": {
            "backgroundcolor": "#E5ECF6",
            "gridcolor": "white",
            "gridwidth": 2,
            "linecolor": "white",
            "showbackground": true,
            "ticks": "",
            "zerolinecolor": "white"
           }
          },
          "shapedefaults": {
           "line": {
            "color": "#2a3f5f"
           }
          },
          "ternary": {
           "aaxis": {
            "gridcolor": "white",
            "linecolor": "white",
            "ticks": ""
           },
           "baxis": {
            "gridcolor": "white",
            "linecolor": "white",
            "ticks": ""
           },
           "bgcolor": "#E5ECF6",
           "caxis": {
            "gridcolor": "white",
            "linecolor": "white",
            "ticks": ""
           }
          },
          "title": {
           "x": 0.05
          },
          "xaxis": {
           "automargin": true,
           "gridcolor": "white",
           "linecolor": "white",
           "ticks": "",
           "title": {
            "standoff": 15
           },
           "zerolinecolor": "white",
           "zerolinewidth": 2
          },
          "yaxis": {
           "automargin": true,
           "gridcolor": "white",
           "linecolor": "white",
           "ticks": "",
           "title": {
            "standoff": 15
           },
           "zerolinecolor": "white",
           "zerolinewidth": 2
          }
         }
        },
        "title": {
         "text": "Most 10-recurring Cultures",
         "x": 0.5
        },
        "xaxis": {
         "autorange": true,
         "range": [
          -0.5,
          9.5
         ],
         "showspikes": false,
         "title": {
          "font": {
           "color": "#7f7f7f",
           "size": 14
          },
          "text": "Culture"
         },
         "type": "category"
        },
        "yaxis": {
         "autorange": true,
         "range": [
          0,
          5495.789473684211
         ],
         "showspikes": false,
         "title": {
          "font": {
           "color": "#7f7f7f",
           "size": 14
          },
          "text": "Count"
         },
         "type": "linear"
        }
       }
      },
      "image/png": "[encoded data removed]",
      "text/html": [
       "<div>                            <div id=\"995177d9-c97a-46b9-a0f0-b8564587f416\" class=\"plotly-graph-div\" style=\"height:525px; width:100%;\"></div>            <script type=\"text/javascript\">                require([\"plotly\"], function(Plotly) {                    window.PLOTLYENV=window.PLOTLYENV || {};                                    if (document.getElementById(\"995177d9-c97a-46b9-a0f0-b8564587f416\")) {                    Plotly.newPlot(                        \"995177d9-c97a-46b9-a0f0-b8564587f416\",                        [{\"x\":[\"Navajo\",\"Ojibwa\",\"Vietnamese\",\"San\",\"Tamil\",\"Saami\",\"Tongans\",\"Hopi\",\"Ifugao\",\"Chipewyans\"],\"y\":[5221,4370,3809,3429,2994,2947,2881,2868,2846,2557],\"type\":\"bar\"}],                        {\"xaxis\":{\"title\":{\"font\":{\"color\":\"#7f7f7f\",\"size\":14},\"text\":\"Culture\"}},\"yaxis\":{\"title\":{\"font\":{\"color\":\"#7f7f7f\",\"size\":14},\"text\":\"Count\"}},\"template\":{\"data\":{\"histogram2dcontour\":[{\"type\":\"histogram2dcontour\",\"colorbar\":{\"outlinewidth\":0,\"ticks\":\"\"},\"colorscale\":[[0.0,\"#0d0887\"],[0.1111111111111111,\"#46039f\"],[0.2222222222222222,\"#7201a8\"],[0.3333333333333333,\"#9c179e\"],[0.4444444444444444,\"#bd3786\"],[0.5555555555555556,\"#d8576b\"],[0.6666666666666666,\"#ed7953\"],[0.7777777777777778,\"#fb9f3a\"],[0.8888888888888888,\"#fdca26\"],[1.0,\"#f0f921\"]]}],\"choropleth\":[{\"type\":\"choropleth\",\"colorbar\":{\"outlinewidth\":0,\"ticks\":\"\"}}],\"histogram2d\":[{\"type\":\"histogram2d\",\"colorbar\":{\"outlinewidth\":0,\"ticks\":\"\"},\"colorscale\":[[0.0,\"#0d0887\"],[0.1111111111111111,\"#46039f\"],[0.2222222222222222,\"#7201a8\"],[0.3333333333333333,\"#9c179e\"],[0.4444444444444444,\"#bd3786\"],[0.5555555555555556,\"#d8576b\"],[0.6666666666666666,\"#ed7953\"],[0.7777777777777778,\"#fb9f3a\"],[0.8888888888888888,\"#fdca26\"],[1.0,\"#f0f921\"]]}],\"heatmap\":[{\"type\":\"heatmap\",\"colorbar\":{\"outlinewidth\":0,\"ticks\":\"\"},\"colorscale\":[[0.0,\"#0d0887\"],[0.1111111111111111,\"#46039f\"],[0.2222222222222222,\"#7201a8\"],[0.3333333333333333,\"#9c179e\"],[0.4444444444444444,\"#bd3786\"],[0.5555555555555556,\"#d8576b\"],[0.6666666666666666,\"#ed7953\"],[0.7777777777777778,\"#fb9f3a\"],[0.8888888888888888,\"#fdca26\"],[1.0,\"#f0f921\"]]}],\"heatmapgl\":[{\"type\":\"heatmapgl\",\"colorbar\":{\"outlinewidth\":0,\"ticks\":\"\"},\"colorscale\":[[0.0,\"#0d0887\"],[0.1111111111111111,\"#46039f\"],[0.2222222222222222,\"#7201a8\"],[0.3333333333333333,\"#9c179e\"],[0.4444444444444444,\"#bd3786\"],[0.5555555555555556,\"#d8576b\"],[0.6666666666666666,\"#ed7953\"],[0.7777777777777778,\"#fb9f3a\"],[0.8888888888888888,\"#fdca26\"],[1.0,\"#f0f921\"]]}],\"contourcarpet\":[{\"type\":\"contourcarpet\",\"colorbar\":{\"outlinewidth\":0,\"ticks\":\"\"}}],\"contour\":[{\"type\":\"contour\",\"colorbar\":{\"outlinewidth\":0,\"ticks\":\"\"},\"colorscale\":[[0.0,\"#0d0887\"],[0.1111111111111111,\"#46039f\"],[0.2222222222222222,\"#7201a8\"],[0.3333333333333333,\"#9c179e\"],[0.4444444444444444,\"#bd3786\"],[0.5555555555555556,\"#d8576b\"],[0.6666666666666666,\"#ed7953\"],[0.7777777777777778,\"#fb9f3a\"],[0.8888888888888888,\"#fdca26\"],[1.0,\"#f0f921\"]]}],\"surface\":[{\"type\":\"surface\",\"colorbar\":{\"outlinewidth\":0,\"ticks\":\"\"},\"colorscale\":[[0.0,\"#0d0887\"],[0.1111111111111111,\"#46039f\"],[0.2222222222222222,\"#7201a8\"],[0.3333333333333333,\"#9c179e\"],[0.4444444444444444,\"#bd3786\"],[0.5555555555555556,\"#d8576b\"],[0.6666666666666666,\"#ed7953\"],[0.7777777777777778,\"#fb9f3a\"],[0.8888888888888888,\"#fdca26\"],[1.0,\"#f0f921\"]]}],\"mesh3d\":[{\"type\":\"mesh3d\",\"colorbar\":{\"outlinewidth\":0,\"ticks\":\"\"}}],\"scatter\":[{\"fillpattern\":{\"fillmode\":\"overlay\",\"size\":10,\"solidity\":0.2},\"type\":\"scatter\"}],\"parcoords\":[{\"type\":\"parcoords\",\"line\":{\"colorbar\":{\"outlinewidth\":0,\"ticks\":\"\"}}}],\"scatterpolargl\":[{\"type\":\"scatterpolargl\",\"marker\":{\"colorbar\":{\"outlinewidth\":0,\"ticks\":\"\"}}}],\"bar\":[{\"error_x\":{\"color\":\"#2a3f5f\"},\"error_y\":{\"color\":\"#2a3f5f\"},\"marker\":{\"line\":{\"color\":\"#E5ECF6\",\"width\":0.5},\"pattern\":{\"fillmode\":\"overlay\",\"size\":10,\"solidity\":0.2}},\"type\":\"bar\"}],\"scattergeo\":[{\"type\":\"scattergeo\",\"marker\":{\"colorbar\":{\"outlinewidth\":0,\"ticks\":\"\"}}}],\"scatterpolar\":[{\"type\":\"scatterpolar\",\"marker\":{\"colorbar\":{\"outlinewidth\":0,\"ticks\":\"\"}}}],\"histogram\":[{\"marker\":{\"pattern\":{\"fillmode\":\"overlay\",\"size\":10,\"solidity\":0.2}},\"type\":\"histogram\"}],\"scattergl\":[{\"type\":\"scattergl\",\"marker\":{\"colorbar\":{\"outlinewidth\":0,\"ticks\":\"\"}}}],\"scatter3d\":[{\"type\":\"scatter3d\",\"line\":{\"colorbar\":{\"outlinewidth\":0,\"ticks\":\"\"}},\"marker\":{\"colorbar\":{\"outlinewidth\":0,\"ticks\":\"\"}}}],\"scattermapbox\":[{\"type\":\"scattermapbox\",\"marker\":{\"colorbar\":{\"outlinewidth\":0,\"ticks\":\"\"}}}],\"scatterternary\":[{\"type\":\"scatterternary\",\"marker\":{\"colorbar\":{\"outlinewidth\":0,\"ticks\":\"\"}}}],\"scattercarpet\":[{\"type\":\"scattercarpet\",\"marker\":{\"colorbar\":{\"outlinewidth\":0,\"ticks\":\"\"}}}],\"carpet\":[{\"aaxis\":{\"endlinecolor\":\"#2a3f5f\",\"gridcolor\":\"white\",\"linecolor\":\"white\",\"minorgridcolor\":\"white\",\"startlinecolor\":\"#2a3f5f\"},\"baxis\":{\"endlinecolor\":\"#2a3f5f\",\"gridcolor\":\"white\",\"linecolor\":\"white\",\"minorgridcolor\":\"white\",\"startlinecolor\":\"#2a3f5f\"},\"type\":\"carpet\"}],\"table\":[{\"cells\":{\"fill\":{\"color\":\"#EBF0F8\"},\"line\":{\"color\":\"white\"}},\"header\":{\"fill\":{\"color\":\"#C8D4E3\"},\"line\":{\"color\":\"white\"}},\"type\":\"table\"}],\"barpolar\":[{\"marker\":{\"line\":{\"color\":\"#E5ECF6\",\"width\":0.5},\"pattern\":{\"fillmode\":\"overlay\",\"size\":10,\"solidity\":0.2}},\"type\":\"barpolar\"}],\"pie\":[{\"automargin\":true,\"type\":\"pie\"}]},\"layout\":{\"autotypenumbers\":\"strict\",\"colorway\":[\"#636efa\",\"#EF553B\",\"#00cc96\",\"#ab63fa\",\"#FFA15A\",\"#19d3f3\",\"#FF6692\",\"#B6E880\",\"#FF97FF\",\"#FECB52\"],\"font\":{\"color\":\"#2a3f5f\"},\"hovermode\":\"closest\",\"hoverlabel\":{\"align\":\"left\"},\"paper_bgcolor\":\"white\",\"plot_bgcolor\":\"#E5ECF6\",\"polar\":{\"bgcolor\":\"#E5ECF6\",\"angularaxis\":{\"gridcolor\":\"white\",\"linecolor\":\"white\",\"ticks\":\"\"},\"radialaxis\":{\"gridcolor\":\"white\",\"linecolor\":\"white\",\"ticks\":\"\"}},\"ternary\":{\"bgcolor\":\"#E5ECF6\",\"aaxis\":{\"gridcolor\":\"white\",\"linecolor\":\"white\",\"ticks\":\"\"},\"baxis\":{\"gridcolor\":\"white\",\"linecolor\":\"white\",\"ticks\":\"\"},\"caxis\":{\"gridcolor\":\"white\",\"linecolor\":\"white\",\"ticks\":\"\"}},\"coloraxis\":{\"colorbar\":{\"outlinewidth\":0,\"ticks\":\"\"}},\"colorscale\":{\"sequential\":[[0.0,\"#0d0887\"],[0.1111111111111111,\"#46039f\"],[0.2222222222222222,\"#7201a8\"],[0.3333333333333333,\"#9c179e\"],[0.4444444444444444,\"#bd3786\"],[0.5555555555555556,\"#d8576b\"],[0.6666666666666666,\"#ed7953\"],[0.7777777777777778,\"#fb9f3a\"],[0.8888888888888888,\"#fdca26\"],[1.0,\"#f0f921\"]],\"sequentialminus\":[[0.0,\"#0d0887\"],[0.1111111111111111,\"#46039f\"],[0.2222222222222222,\"#7201a8\"],[0.3333333333333333,\"#9c179e\"],[0.4444444444444444,\"#bd3786\"],[0.5555555555555556,\"#d8576b\"],[0.6666666666666666,\"#ed7953\"],[0.7777777777777778,\"#fb9f3a\"],[0.8888888888888888,\"#fdca26\"],[1.0,\"#f0f921\"]],\"diverging\":[[0,\"#8e0152\"],[0.1,\"#c51b7d\"],[0.2,\"#de77ae\"],[0.3,\"#f1b6da\"],[0.4,\"#fde0ef\"],[0.5,\"#f7f7f7\"],[0.6,\"#e6f5d0\"],[0.7,\"#b8e186\"],[0.8,\"#7fbc41\"],[0.9,\"#4d9221\"],[1,\"#276419\"]]},\"xaxis\":{\"gridcolor\":\"white\",\"linecolor\":\"white\",\"ticks\":\"\",\"title\":{\"standoff\":15},\"zerolinecolor\":\"white\",\"automargin\":true,\"zerolinewidth\":2},\"yaxis\":{\"gridcolor\":\"white\",\"linecolor\":\"white\",\"ticks\":\"\",\"title\":{\"standoff\":15},\"zerolinecolor\":\"white\",\"automargin\":true,\"zerolinewidth\":2},\"scene\":{\"xaxis\":{\"backgroundcolor\":\"#E5ECF6\",\"gridcolor\":\"white\",\"linecolor\":\"white\",\"showbackground\":true,\"ticks\":\"\",\"zerolinecolor\":\"white\",\"gridwidth\":2},\"yaxis\":{\"backgroundcolor\":\"#E5ECF6\",\"gridcolor\":\"white\",\"linecolor\":\"white\",\"showbackground\":true,\"ticks\":\"\",\"zerolinecolor\":\"white\",\"gridwidth\":2},\"zaxis\":{\"backgroundcolor\":\"#E5ECF6\",\"gridcolor\":\"white\",\"linecolor\":\"white\",\"showbackground\":true,\"ticks\":\"\",\"zerolinecolor\":\"white\",\"gridwidth\":2}},\"shapedefaults\":{\"line\":{\"color\":\"#2a3f5f\"}},\"annotationdefaults\":{\"arrowcolor\":\"#2a3f5f\",\"arrowhead\":0,\"arrowwidth\":1},\"geo\":{\"bgcolor\":\"white\",\"landcolor\":\"#E5ECF6\",\"subunitcolor\":\"white\",\"showland\":true,\"showlakes\":true,\"lakecolor\":\"white\"},\"title\":{\"x\":0.05},\"mapbox\":{\"style\":\"light\"}}},\"title\":{\"text\":\"Most 10-recurring Cultures\",\"x\":0.5}},                        {\"responsive\": true}                    ).then(function(){\n",
       "                            \n",
       "var gd = document.getElementById('995177d9-c97a-46b9-a0f0-b8564587f416');\n",
       "var x = new MutationObserver(function (mutations, observer) {{\n",
       "        var display = window.getComputedStyle(gd).display;\n",
       "        if (!display || display === 'none') {{\n",
       "            console.log([gd, 'removed!']);\n",
       "            Plotly.purge(gd);\n",
       "            observer.disconnect();\n",
       "        }}\n",
       "}});\n",
       "\n",
       "// Listen for the removal of the full notebook cells\n",
       "var notebookContainer = gd.closest('#notebook-container');\n",
       "if (notebookContainer) {{\n",
       "    x.observe(notebookContainer, {childList: true});\n",
       "}}\n",
       "\n",
       "// Listen for the clearing of the current output cell\n",
       "var outputEl = gd.closest('.output');\n",
       "if (outputEl) {{\n",
       "    x.observe(outputEl, {childList: true});\n",
       "}}\n",
       "\n",
       "                        })                };                });            </script>        </div>"
      ]
     },
     "metadata": {},
     "output_type": "display_data"
    },
    {
     "data": {
      "application/vnd.plotly.v1+json": {
       "config": {
        "plotlyServerURL": "https://plot.ly"
       },
       "data": [
        {
         "selectedpoints": [
          0,
          1,
          2,
          3,
          4,
          5,
          6,
          7,
          8,
          9
         ],
         "type": "bar",
         "x": [
          "Hawaiian Islands, United States",
          "Papua New Guinea",
          "Tonga",
          "Gajju Chak, Gujranwala division, Punjab, Pakistan",
          "Tonkin delta, Northern Vietnam (BAC BO)",
          "Mayawyaw valley, Ifugaw province, northern Luzon, Philippines",
          "Kamu Valley, central Highlands, Irian Jaya, Indonesia",
          "Chad",
          "Arizona, New Mexico, and Utah, United States",
          "Northwest Territories, Canada"
         ],
         "y": [
          1881,
          1863,
          1621,
          1546,
          1538,
          1455,
          1444,
          1358,
          1336,
          1333
         ]
        }
       ],
       "layout": {
        "autosize": true,
        "dragmode": "select",
        "selections": [
         {
          "line": {
           "dash": "dot",
           "width": 1
          },
          "type": "rect",
          "x0": 10.20044883303411,
          "x1": -1.7744165170556554,
          "xref": "x",
          "y0": 2420.240625,
          "y1": 1089.9281250000001,
          "yref": "y"
         }
        ],
        "template": {
         "data": {
          "bar": [
           {
            "error_x": {
             "color": "#2a3f5f"
            },
            "error_y": {
             "color": "#2a3f5f"
            },
            "marker": {
             "line": {
              "color": "#E5ECF6",
              "width": 0.5
             },
             "pattern": {
              "fillmode": "overlay",
              "size": 10,
              "solidity": 0.2
             }
            },
            "type": "bar"
           }
          ],
          "barpolar": [
           {
            "marker": {
             "line": {
              "color": "#E5ECF6",
              "width": 0.5
             },
             "pattern": {
              "fillmode": "overlay",
              "size": 10,
              "solidity": 0.2
             }
            },
            "type": "barpolar"
           }
          ],
          "carpet": [
           {
            "aaxis": {
             "endlinecolor": "#2a3f5f",
             "gridcolor": "white",
             "linecolor": "white",
             "minorgridcolor": "white",
             "startlinecolor": "#2a3f5f"
            },
            "baxis": {
             "endlinecolor": "#2a3f5f",
             "gridcolor": "white",
             "linecolor": "white",
             "minorgridcolor": "white",
             "startlinecolor": "#2a3f5f"
            },
            "type": "carpet"
           }
          ],
          "choropleth": [
           {
            "colorbar": {
             "outlinewidth": 0,
             "ticks": ""
            },
            "type": "choropleth"
           }
          ],
          "contour": [
           {
            "colorbar": {
             "outlinewidth": 0,
             "ticks": ""
            },
            "colorscale": [
             [
              0,
              "#0d0887"
             ],
             [
              0.1111111111111111,
              "#46039f"
             ],
             [
              0.2222222222222222,
              "#7201a8"
             ],
             [
              0.3333333333333333,
              "#9c179e"
             ],
             [
              0.4444444444444444,
              "#bd3786"
             ],
             [
              0.5555555555555556,
              "#d8576b"
             ],
             [
              0.6666666666666666,
              "#ed7953"
             ],
             [
              0.7777777777777778,
              "#fb9f3a"
             ],
             [
              0.8888888888888888,
              "#fdca26"
             ],
             [
              1,
              "#f0f921"
             ]
            ],
            "type": "contour"
           }
          ],
          "contourcarpet": [
           {
            "colorbar": {
             "outlinewidth": 0,
             "ticks": ""
            },
            "type": "contourcarpet"
           }
          ],
          "heatmap": [
           {
            "colorbar": {
             "outlinewidth": 0,
             "ticks": ""
            },
            "colorscale": [
             [
              0,
              "#0d0887"
             ],
             [
              0.1111111111111111,
              "#46039f"
             ],
             [
              0.2222222222222222,
              "#7201a8"
             ],
             [
              0.3333333333333333,
              "#9c179e"
             ],
             [
              0.4444444444444444,
              "#bd3786"
             ],
             [
              0.5555555555555556,
              "#d8576b"
             ],
             [
              0.6666666666666666,
              "#ed7953"
             ],
             [
              0.7777777777777778,
              "#fb9f3a"
             ],
             [
              0.8888888888888888,
              "#fdca26"
             ],
             [
              1,
              "#f0f921"
             ]
            ],
            "type": "heatmap"
           }
          ],
          "heatmapgl": [
           {
            "colorbar": {
             "outlinewidth": 0,
             "ticks": ""
            },
            "colorscale": [
             [
              0,
              "#0d0887"
             ],
             [
              0.1111111111111111,
              "#46039f"
             ],
             [
              0.2222222222222222,
              "#7201a8"
             ],
             [
              0.3333333333333333,
              "#9c179e"
             ],
             [
              0.4444444444444444,
              "#bd3786"
             ],
             [
              0.5555555555555556,
              "#d8576b"
             ],
             [
              0.6666666666666666,
              "#ed7953"
             ],
             [
              0.7777777777777778,
              "#fb9f3a"
             ],
             [
              0.8888888888888888,
              "#fdca26"
             ],
             [
              1,
              "#f0f921"
             ]
            ],
            "type": "heatmapgl"
           }
          ],
          "histogram": [
           {
            "marker": {
             "pattern": {
              "fillmode": "overlay",
              "size": 10,
              "solidity": 0.2
             }
            },
            "type": "histogram"
           }
          ],
          "histogram2d": [
           {
            "colorbar": {
             "outlinewidth": 0,
             "ticks": ""
            },
            "colorscale": [
             [
              0,
              "#0d0887"
             ],
             [
              0.1111111111111111,
              "#46039f"
             ],
             [
              0.2222222222222222,
              "#7201a8"
             ],
             [
              0.3333333333333333,
              "#9c179e"
             ],
             [
              0.4444444444444444,
              "#bd3786"
             ],
             [
              0.5555555555555556,
              "#d8576b"
             ],
             [
              0.6666666666666666,
              "#ed7953"
             ],
             [
              0.7777777777777778,
              "#fb9f3a"
             ],
             [
              0.8888888888888888,
              "#fdca26"
             ],
             [
              1,
              "#f0f921"
             ]
            ],
            "type": "histogram2d"
           }
          ],
          "histogram2dcontour": [
           {
            "colorbar": {
             "outlinewidth": 0,
             "ticks": ""
            },
            "colorscale": [
             [
              0,
              "#0d0887"
             ],
             [
              0.1111111111111111,
              "#46039f"
             ],
             [
              0.2222222222222222,
              "#7201a8"
             ],
             [
              0.3333333333333333,
              "#9c179e"
             ],
             [
              0.4444444444444444,
              "#bd3786"
             ],
             [
              0.5555555555555556,
              "#d8576b"
             ],
             [
              0.6666666666666666,
              "#ed7953"
             ],
             [
              0.7777777777777778,
              "#fb9f3a"
             ],
             [
              0.8888888888888888,
              "#fdca26"
             ],
             [
              1,
              "#f0f921"
             ]
            ],
            "type": "histogram2dcontour"
           }
          ],
          "mesh3d": [
           {
            "colorbar": {
             "outlinewidth": 0,
             "ticks": ""
            },
            "type": "mesh3d"
           }
          ],
          "parcoords": [
           {
            "line": {
             "colorbar": {
              "outlinewidth": 0,
              "ticks": ""
             }
            },
            "type": "parcoords"
           }
          ],
          "pie": [
           {
            "automargin": true,
            "type": "pie"
           }
          ],
          "scatter": [
           {
            "fillpattern": {
             "fillmode": "overlay",
             "size": 10,
             "solidity": 0.2
            },
            "type": "scatter"
           }
          ],
          "scatter3d": [
           {
            "line": {
             "colorbar": {
              "outlinewidth": 0,
              "ticks": ""
             }
            },
            "marker": {
             "colorbar": {
              "outlinewidth": 0,
              "ticks": ""
             }
            },
            "type": "scatter3d"
           }
          ],
          "scattercarpet": [
           {
            "marker": {
             "colorbar": {
              "outlinewidth": 0,
              "ticks": ""
             }
            },
            "type": "scattercarpet"
           }
          ],
          "scattergeo": [
           {
            "marker": {
             "colorbar": {
              "outlinewidth": 0,
              "ticks": ""
             }
            },
            "type": "scattergeo"
           }
          ],
          "scattergl": [
           {
            "marker": {
             "colorbar": {
              "outlinewidth": 0,
              "ticks": ""
             }
            },
            "type": "scattergl"
           }
          ],
          "scattermapbox": [
           {
            "marker": {
             "colorbar": {
              "outlinewidth": 0,
              "ticks": ""
             }
            },
            "type": "scattermapbox"
           }
          ],
          "scatterpolar": [
           {
            "marker": {
             "colorbar": {
              "outlinewidth": 0,
              "ticks": ""
             }
            },
            "type": "scatterpolar"
           }
          ],
          "scatterpolargl": [
           {
            "marker": {
             "colorbar": {
              "outlinewidth": 0,
              "ticks": ""
             }
            },
            "type": "scatterpolargl"
           }
          ],
          "scatterternary": [
           {
            "marker": {
             "colorbar": {
              "outlinewidth": 0,
              "ticks": ""
             }
            },
            "type": "scatterternary"
           }
          ],
          "surface": [
           {
            "colorbar": {
             "outlinewidth": 0,
             "ticks": ""
            },
            "colorscale": [
             [
              0,
              "#0d0887"
             ],
             [
              0.1111111111111111,
              "#46039f"
             ],
             [
              0.2222222222222222,
              "#7201a8"
             ],
             [
              0.3333333333333333,
              "#9c179e"
             ],
             [
              0.4444444444444444,
              "#bd3786"
             ],
             [
              0.5555555555555556,
              "#d8576b"
             ],
             [
              0.6666666666666666,
              "#ed7953"
             ],
             [
              0.7777777777777778,
              "#fb9f3a"
             ],
             [
              0.8888888888888888,
              "#fdca26"
             ],
             [
              1,
              "#f0f921"
             ]
            ],
            "type": "surface"
           }
          ],
          "table": [
           {
            "cells": {
             "fill": {
              "color": "#EBF0F8"
             },
             "line": {
              "color": "white"
             }
            },
            "header": {
             "fill": {
              "color": "#C8D4E3"
             },
             "line": {
              "color": "white"
             }
            },
            "type": "table"
           }
          ]
         },
         "layout": {
          "annotationdefaults": {
           "arrowcolor": "#2a3f5f",
           "arrowhead": 0,
           "arrowwidth": 1
          },
          "autotypenumbers": "strict",
          "coloraxis": {
           "colorbar": {
            "outlinewidth": 0,
            "ticks": ""
           }
          },
          "colorscale": {
           "diverging": [
            [
             0,
             "#8e0152"
            ],
            [
             0.1,
             "#c51b7d"
            ],
            [
             0.2,
             "#de77ae"
            ],
            [
             0.3,
             "#f1b6da"
            ],
            [
             0.4,
             "#fde0ef"
            ],
            [
             0.5,
             "#f7f7f7"
            ],
            [
             0.6,
             "#e6f5d0"
            ],
            [
             0.7,
             "#b8e186"
            ],
            [
             0.8,
             "#7fbc41"
            ],
            [
             0.9,
             "#4d9221"
            ],
            [
             1,
             "#276419"
            ]
           ],
           "sequential": [
            [
             0,
             "#0d0887"
            ],
            [
             0.1111111111111111,
             "#46039f"
            ],
            [
             0.2222222222222222,
             "#7201a8"
            ],
            [
             0.3333333333333333,
             "#9c179e"
            ],
            [
             0.4444444444444444,
             "#bd3786"
            ],
            [
             0.5555555555555556,
             "#d8576b"
            ],
            [
             0.6666666666666666,
             "#ed7953"
            ],
            [
             0.7777777777777778,
             "#fb9f3a"
            ],
            [
             0.8888888888888888,
             "#fdca26"
            ],
            [
             1,
             "#f0f921"
            ]
           ],
           "sequentialminus": [
            [
             0,
             "#0d0887"
            ],
            [
             0.1111111111111111,
             "#46039f"
            ],
            [
             0.2222222222222222,
             "#7201a8"
            ],
            [
             0.3333333333333333,
             "#9c179e"
            ],
            [
             0.4444444444444444,
             "#bd3786"
            ],
            [
             0.5555555555555556,
             "#d8576b"
            ],
            [
             0.6666666666666666,
             "#ed7953"
            ],
            [
             0.7777777777777778,
             "#fb9f3a"
            ],
            [
             0.8888888888888888,
             "#fdca26"
            ],
            [
             1,
             "#f0f921"
            ]
           ]
          },
          "colorway": [
           "#636efa",
           "#EF553B",
           "#00cc96",
           "#ab63fa",
           "#FFA15A",
           "#19d3f3",
           "#FF6692",
           "#B6E880",
           "#FF97FF",
           "#FECB52"
          ],
          "font": {
           "color": "#2a3f5f"
          },
          "geo": {
           "bgcolor": "white",
           "lakecolor": "white",
           "landcolor": "#E5ECF6",
           "showlakes": true,
           "showland": true,
           "subunitcolor": "white"
          },
          "hoverlabel": {
           "align": "left"
          },
          "hovermode": "closest",
          "mapbox": {
           "style": "light"
          },
          "paper_bgcolor": "white",
          "plot_bgcolor": "#E5ECF6",
          "polar": {
           "angularaxis": {
            "gridcolor": "white",
            "linecolor": "white",
            "ticks": ""
           },
           "bgcolor": "#E5ECF6",
           "radialaxis": {
            "gridcolor": "white",
            "linecolor": "white",
            "ticks": ""
           }
          },
          "scene": {
           "xaxis": {
            "backgroundcolor": "#E5ECF6",
            "gridcolor": "white",
            "gridwidth": 2,
            "linecolor": "white",
            "showbackground": true,
            "ticks": "",
            "zerolinecolor": "white"
           },
           "yaxis": {
            "backgroundcolor": "#E5ECF6",
            "gridcolor": "white",
            "gridwidth": 2,
            "linecolor": "white",
            "showbackground": true,
            "ticks": "",
            "zerolinecolor": "white"
           },
           "zaxis": {
            "backgroundcolor": "#E5ECF6",
            "gridcolor": "white",
            "gridwidth": 2,
            "linecolor": "white",
            "showbackground": true,
            "ticks": "",
            "zerolinecolor": "white"
           }
          },
          "shapedefaults": {
           "line": {
            "color": "#2a3f5f"
           }
          },
          "ternary": {
           "aaxis": {
            "gridcolor": "white",
            "linecolor": "white",
            "ticks": ""
           },
           "baxis": {
            "gridcolor": "white",
            "linecolor": "white",
            "ticks": ""
           },
           "bgcolor": "#E5ECF6",
           "caxis": {
            "gridcolor": "white",
            "linecolor": "white",
            "ticks": ""
           }
          },
          "title": {
           "x": 0.05
          },
          "xaxis": {
           "automargin": true,
           "gridcolor": "white",
           "linecolor": "white",
           "ticks": "",
           "title": {
            "standoff": 15
           },
           "zerolinecolor": "white",
           "zerolinewidth": 2
          },
          "yaxis": {
           "automargin": true,
           "gridcolor": "white",
           "linecolor": "white",
           "ticks": "",
           "title": {
            "standoff": 15
           },
           "zerolinecolor": "white",
           "zerolinewidth": 2
          }
         }
        },
        "title": {
         "text": "Most 10-recurring Places",
         "x": 0.5
        },
        "xaxis": {
         "autorange": true,
         "range": [
          -0.5,
          9.5
         ],
         "showspikes": false,
         "title": {
          "font": {
           "color": "#7f7f7f",
           "size": 14
          },
          "text": "Culture"
         },
         "type": "category"
        },
        "yaxis": {
         "autorange": true,
         "range": [
          0,
          1980
         ],
         "showspikes": false,
         "title": {
          "font": {
           "color": "#7f7f7f",
           "size": 14
          },
          "text": "Count"
         },
         "type": "linear"
        }
       }
      },
      "image/png": "[encoded data removed]",
      "text/html": [
       "<div>                            <div id=\"effc7d2b-dd4f-4e90-9752-3df7e3ee6c32\" class=\"plotly-graph-div\" style=\"height:525px; width:100%;\"></div>            <script type=\"text/javascript\">                require([\"plotly\"], function(Plotly) {                    window.PLOTLYENV=window.PLOTLYENV || {};                                    if (document.getElementById(\"effc7d2b-dd4f-4e90-9752-3df7e3ee6c32\")) {                    Plotly.newPlot(                        \"effc7d2b-dd4f-4e90-9752-3df7e3ee6c32\",                        [{\"x\":[\"Hawaiian Islands, United States\",\"Papua New Guinea\",\"Tonga\",\"Gajju Chak, Gujranwala division, Punjab, Pakistan\",\"Tonkin delta, Northern Vietnam (BAC BO)\",\"Mayawyaw valley, Ifugaw province, northern Luzon, Philippines\",\"Kamu Valley, central Highlands, Irian Jaya, Indonesia\",\"Chad\",\"Arizona, New Mexico, and Utah, United States\",\"Northwest Territories, Canada\"],\"y\":[1881,1863,1621,1546,1538,1455,1444,1358,1336,1333],\"type\":\"bar\"}],                        {\"xaxis\":{\"title\":{\"font\":{\"color\":\"#7f7f7f\",\"size\":14},\"text\":\"Culture\"}},\"yaxis\":{\"title\":{\"font\":{\"color\":\"#7f7f7f\",\"size\":14},\"text\":\"Count\"}},\"template\":{\"data\":{\"histogram2dcontour\":[{\"type\":\"histogram2dcontour\",\"colorbar\":{\"outlinewidth\":0,\"ticks\":\"\"},\"colorscale\":[[0.0,\"#0d0887\"],[0.1111111111111111,\"#46039f\"],[0.2222222222222222,\"#7201a8\"],[0.3333333333333333,\"#9c179e\"],[0.4444444444444444,\"#bd3786\"],[0.5555555555555556,\"#d8576b\"],[0.6666666666666666,\"#ed7953\"],[0.7777777777777778,\"#fb9f3a\"],[0.8888888888888888,\"#fdca26\"],[1.0,\"#f0f921\"]]}],\"choropleth\":[{\"type\":\"choropleth\",\"colorbar\":{\"outlinewidth\":0,\"ticks\":\"\"}}],\"histogram2d\":[{\"type\":\"histogram2d\",\"colorbar\":{\"outlinewidth\":0,\"ticks\":\"\"},\"colorscale\":[[0.0,\"#0d0887\"],[0.1111111111111111,\"#46039f\"],[0.2222222222222222,\"#7201a8\"],[0.3333333333333333,\"#9c179e\"],[0.4444444444444444,\"#bd3786\"],[0.5555555555555556,\"#d8576b\"],[0.6666666666666666,\"#ed7953\"],[0.7777777777777778,\"#fb9f3a\"],[0.8888888888888888,\"#fdca26\"],[1.0,\"#f0f921\"]]}],\"heatmap\":[{\"type\":\"heatmap\",\"colorbar\":{\"outlinewidth\":0,\"ticks\":\"\"},\"colorscale\":[[0.0,\"#0d0887\"],[0.1111111111111111,\"#46039f\"],[0.2222222222222222,\"#7201a8\"],[0.3333333333333333,\"#9c179e\"],[0.4444444444444444,\"#bd3786\"],[0.5555555555555556,\"#d8576b\"],[0.6666666666666666,\"#ed7953\"],[0.7777777777777778,\"#fb9f3a\"],[0.8888888888888888,\"#fdca26\"],[1.0,\"#f0f921\"]]}],\"heatmapgl\":[{\"type\":\"heatmapgl\",\"colorbar\":{\"outlinewidth\":0,\"ticks\":\"\"},\"colorscale\":[[0.0,\"#0d0887\"],[0.1111111111111111,\"#46039f\"],[0.2222222222222222,\"#7201a8\"],[0.3333333333333333,\"#9c179e\"],[0.4444444444444444,\"#bd3786\"],[0.5555555555555556,\"#d8576b\"],[0.6666666666666666,\"#ed7953\"],[0.7777777777777778,\"#fb9f3a\"],[0.8888888888888888,\"#fdca26\"],[1.0,\"#f0f921\"]]}],\"contourcarpet\":[{\"type\":\"contourcarpet\",\"colorbar\":{\"outlinewidth\":0,\"ticks\":\"\"}}],\"contour\":[{\"type\":\"contour\",\"colorbar\":{\"outlinewidth\":0,\"ticks\":\"\"},\"colorscale\":[[0.0,\"#0d0887\"],[0.1111111111111111,\"#46039f\"],[0.2222222222222222,\"#7201a8\"],[0.3333333333333333,\"#9c179e\"],[0.4444444444444444,\"#bd3786\"],[0.5555555555555556,\"#d8576b\"],[0.6666666666666666,\"#ed7953\"],[0.7777777777777778,\"#fb9f3a\"],[0.8888888888888888,\"#fdca26\"],[1.0,\"#f0f921\"]]}],\"surface\":[{\"type\":\"surface\",\"colorbar\":{\"outlinewidth\":0,\"ticks\":\"\"},\"colorscale\":[[0.0,\"#0d0887\"],[0.1111111111111111,\"#46039f\"],[0.2222222222222222,\"#7201a8\"],[0.3333333333333333,\"#9c179e\"],[0.4444444444444444,\"#bd3786\"],[0.5555555555555556,\"#d8576b\"],[0.6666666666666666,\"#ed7953\"],[0.7777777777777778,\"#fb9f3a\"],[0.8888888888888888,\"#fdca26\"],[1.0,\"#f0f921\"]]}],\"mesh3d\":[{\"type\":\"mesh3d\",\"colorbar\":{\"outlinewidth\":0,\"ticks\":\"\"}}],\"scatter\":[{\"fillpattern\":{\"fillmode\":\"overlay\",\"size\":10,\"solidity\":0.2},\"type\":\"scatter\"}],\"parcoords\":[{\"type\":\"parcoords\",\"line\":{\"colorbar\":{\"outlinewidth\":0,\"ticks\":\"\"}}}],\"scatterpolargl\":[{\"type\":\"scatterpolargl\",\"marker\":{\"colorbar\":{\"outlinewidth\":0,\"ticks\":\"\"}}}],\"bar\":[{\"error_x\":{\"color\":\"#2a3f5f\"},\"error_y\":{\"color\":\"#2a3f5f\"},\"marker\":{\"line\":{\"color\":\"#E5ECF6\",\"width\":0.5},\"pattern\":{\"fillmode\":\"overlay\",\"size\":10,\"solidity\":0.2}},\"type\":\"bar\"}],\"scattergeo\":[{\"type\":\"scattergeo\",\"marker\":{\"colorbar\":{\"outlinewidth\":0,\"ticks\":\"\"}}}],\"scatterpolar\":[{\"type\":\"scatterpolar\",\"marker\":{\"colorbar\":{\"outlinewidth\":0,\"ticks\":\"\"}}}],\"histogram\":[{\"marker\":{\"pattern\":{\"fillmode\":\"overlay\",\"size\":10,\"solidity\":0.2}},\"type\":\"histogram\"}],\"scattergl\":[{\"type\":\"scattergl\",\"marker\":{\"colorbar\":{\"outlinewidth\":0,\"ticks\":\"\"}}}],\"scatter3d\":[{\"type\":\"scatter3d\",\"line\":{\"colorbar\":{\"outlinewidth\":0,\"ticks\":\"\"}},\"marker\":{\"colorbar\":{\"outlinewidth\":0,\"ticks\":\"\"}}}],\"scattermapbox\":[{\"type\":\"scattermapbox\",\"marker\":{\"colorbar\":{\"outlinewidth\":0,\"ticks\":\"\"}}}],\"scatterternary\":[{\"type\":\"scatterternary\",\"marker\":{\"colorbar\":{\"outlinewidth\":0,\"ticks\":\"\"}}}],\"scattercarpet\":[{\"type\":\"scattercarpet\",\"marker\":{\"colorbar\":{\"outlinewidth\":0,\"ticks\":\"\"}}}],\"carpet\":[{\"aaxis\":{\"endlinecolor\":\"#2a3f5f\",\"gridcolor\":\"white\",\"linecolor\":\"white\",\"minorgridcolor\":\"white\",\"startlinecolor\":\"#2a3f5f\"},\"baxis\":{\"endlinecolor\":\"#2a3f5f\",\"gridcolor\":\"white\",\"linecolor\":\"white\",\"minorgridcolor\":\"white\",\"startlinecolor\":\"#2a3f5f\"},\"type\":\"carpet\"}],\"table\":[{\"cells\":{\"fill\":{\"color\":\"#EBF0F8\"},\"line\":{\"color\":\"white\"}},\"header\":{\"fill\":{\"color\":\"#C8D4E3\"},\"line\":{\"color\":\"white\"}},\"type\":\"table\"}],\"barpolar\":[{\"marker\":{\"line\":{\"color\":\"#E5ECF6\",\"width\":0.5},\"pattern\":{\"fillmode\":\"overlay\",\"size\":10,\"solidity\":0.2}},\"type\":\"barpolar\"}],\"pie\":[{\"automargin\":true,\"type\":\"pie\"}]},\"layout\":{\"autotypenumbers\":\"strict\",\"colorway\":[\"#636efa\",\"#EF553B\",\"#00cc96\",\"#ab63fa\",\"#FFA15A\",\"#19d3f3\",\"#FF6692\",\"#B6E880\",\"#FF97FF\",\"#FECB52\"],\"font\":{\"color\":\"#2a3f5f\"},\"hovermode\":\"closest\",\"hoverlabel\":{\"align\":\"left\"},\"paper_bgcolor\":\"white\",\"plot_bgcolor\":\"#E5ECF6\",\"polar\":{\"bgcolor\":\"#E5ECF6\",\"angularaxis\":{\"gridcolor\":\"white\",\"linecolor\":\"white\",\"ticks\":\"\"},\"radialaxis\":{\"gridcolor\":\"white\",\"linecolor\":\"white\",\"ticks\":\"\"}},\"ternary\":{\"bgcolor\":\"#E5ECF6\",\"aaxis\":{\"gridcolor\":\"white\",\"linecolor\":\"white\",\"ticks\":\"\"},\"baxis\":{\"gridcolor\":\"white\",\"linecolor\":\"white\",\"ticks\":\"\"},\"caxis\":{\"gridcolor\":\"white\",\"linecolor\":\"white\",\"ticks\":\"\"}},\"coloraxis\":{\"colorbar\":{\"outlinewidth\":0,\"ticks\":\"\"}},\"colorscale\":{\"sequential\":[[0.0,\"#0d0887\"],[0.1111111111111111,\"#46039f\"],[0.2222222222222222,\"#7201a8\"],[0.3333333333333333,\"#9c179e\"],[0.4444444444444444,\"#bd3786\"],[0.5555555555555556,\"#d8576b\"],[0.6666666666666666,\"#ed7953\"],[0.7777777777777778,\"#fb9f3a\"],[0.8888888888888888,\"#fdca26\"],[1.0,\"#f0f921\"]],\"sequentialminus\":[[0.0,\"#0d0887\"],[0.1111111111111111,\"#46039f\"],[0.2222222222222222,\"#7201a8\"],[0.3333333333333333,\"#9c179e\"],[0.4444444444444444,\"#bd3786\"],[0.5555555555555556,\"#d8576b\"],[0.6666666666666666,\"#ed7953\"],[0.7777777777777778,\"#fb9f3a\"],[0.8888888888888888,\"#fdca26\"],[1.0,\"#f0f921\"]],\"diverging\":[[0,\"#8e0152\"],[0.1,\"#c51b7d\"],[0.2,\"#de77ae\"],[0.3,\"#f1b6da\"],[0.4,\"#fde0ef\"],[0.5,\"#f7f7f7\"],[0.6,\"#e6f5d0\"],[0.7,\"#b8e186\"],[0.8,\"#7fbc41\"],[0.9,\"#4d9221\"],[1,\"#276419\"]]},\"xaxis\":{\"gridcolor\":\"white\",\"linecolor\":\"white\",\"ticks\":\"\",\"title\":{\"standoff\":15},\"zerolinecolor\":\"white\",\"automargin\":true,\"zerolinewidth\":2},\"yaxis\":{\"gridcolor\":\"white\",\"linecolor\":\"white\",\"ticks\":\"\",\"title\":{\"standoff\":15},\"zerolinecolor\":\"white\",\"automargin\":true,\"zerolinewidth\":2},\"scene\":{\"xaxis\":{\"backgroundcolor\":\"#E5ECF6\",\"gridcolor\":\"white\",\"linecolor\":\"white\",\"showbackground\":true,\"ticks\":\"\",\"zerolinecolor\":\"white\",\"gridwidth\":2},\"yaxis\":{\"backgroundcolor\":\"#E5ECF6\",\"gridcolor\":\"white\",\"linecolor\":\"white\",\"showbackground\":true,\"ticks\":\"\",\"zerolinecolor\":\"white\",\"gridwidth\":2},\"zaxis\":{\"backgroundcolor\":\"#E5ECF6\",\"gridcolor\":\"white\",\"linecolor\":\"white\",\"showbackground\":true,\"ticks\":\"\",\"zerolinecolor\":\"white\",\"gridwidth\":2}},\"shapedefaults\":{\"line\":{\"color\":\"#2a3f5f\"}},\"annotationdefaults\":{\"arrowcolor\":\"#2a3f5f\",\"arrowhead\":0,\"arrowwidth\":1},\"geo\":{\"bgcolor\":\"white\",\"landcolor\":\"#E5ECF6\",\"subunitcolor\":\"white\",\"showland\":true,\"showlakes\":true,\"lakecolor\":\"white\"},\"title\":{\"x\":0.05},\"mapbox\":{\"style\":\"light\"}}},\"title\":{\"text\":\"Most 10-recurring Places\",\"x\":0.5}},                        {\"responsive\": true}                    ).then(function(){\n",
       "                            \n",
       "var gd = document.getElementById('effc7d2b-dd4f-4e90-9752-3df7e3ee6c32');\n",
       "var x = new MutationObserver(function (mutations, observer) {{\n",
       "        var display = window.getComputedStyle(gd).display;\n",
       "        if (!display || display === 'none') {{\n",
       "            console.log([gd, 'removed!']);\n",
       "            Plotly.purge(gd);\n",
       "            observer.disconnect();\n",
       "        }}\n",
       "}});\n",
       "\n",
       "// Listen for the removal of the full notebook cells\n",
       "var notebookContainer = gd.closest('#notebook-container');\n",
       "if (notebookContainer) {{\n",
       "    x.observe(notebookContainer, {childList: true});\n",
       "}}\n",
       "\n",
       "// Listen for the clearing of the current output cell\n",
       "var outputEl = gd.closest('.output');\n",
       "if (outputEl) {{\n",
       "    x.observe(outputEl, {childList: true});\n",
       "}}\n",
       "\n",
       "                        })                };                });            </script>        </div>"
      ]
     },
     "metadata": {},
     "output_type": "display_data"
    }
   ],
   "source": [
    "\n",
    "layout = go.Layout(\n",
    "    yaxis=dict(title = go.layout.yaxis.Title(text='Count', font=dict(size=14, color='#7f7f7f'))),\n",
    "    xaxis=dict(title = go.layout.xaxis.Title(text='Culture', font=dict(size=14, color='#7f7f7f')))\n",
    ")\n",
    "\n",
    "fig = go.Figure(\n",
    "    data=[go.Bar(x=[l for l, _ in sorted_culture_counts[:N_TO_SELECT]], \n",
    "                 y=[count for _, count in sorted_culture_counts[:N_TO_SELECT]])],\n",
    "    layout=layout,\n",
    "    layout_title=f'Most {N_TO_SELECT}-recurring Cultures',\n",
    "    layout_title_x=0.5,\n",
    ")\n",
    "\n",
    "\n",
    "fig1 = go.Figure(\n",
    "    data=[go.Bar(x=[l for l, _ in sorted_place_counts[:N_TO_SELECT]], \n",
    "                 y=[count for _, count in sorted_place_counts[:N_TO_SELECT]])],\n",
    "    layout=layout,\n",
    "    layout_title=f\"Most {N_TO_SELECT}-recurring Places\",\n",
    "    layout_title_x=0.5,\n",
    ")\n",
    "\n",
    "fig.write_image(f'{ONLY_PARENT_CATEGORY}_culture_counts.png')\n",
    "fig.show()\n",
    "fig1.write_image(f'{ONLY_PARENT_CATEGORY}_place_counts.png')\n",
    "fig1.show()"
   ]
  },
  {
   "cell_type": "code",
   "execution_count": 230,
   "id": "a357938d-a3d9-43fc-8416-3bbbaf14bed9",
   "metadata": {
    "tags": []
   },
   "outputs": [],
   "source": [
    "with open(\"../data/id_to_label.json\", \"r\") as f:\n",
    "    # Write the dictionary to the file in JSON format\n",
    "    id_to_label = json.load(f)\n",
    "\n",
    "id_to_label = {int(i): l for i, l in id_to_label.items()}\n",
    "label_to_id = {v: k for k, v in id_to_label.items()}"
   ]
  },
  {
   "cell_type": "code",
   "execution_count": 234,
   "id": "4fdc8035-052e-447f-a972-f9d9dc0a74c0",
   "metadata": {
    "tags": []
   },
   "outputs": [],
   "source": [
    "id_to_category = {000: 000}\n",
    "for item in ocms:\n",
    "    category, values = list(item.items())[0]\n",
    "    cat_id = label_to_id[category]\n",
    "    \n",
    "    id_to_category[cat_id] = cat_id\n",
    "    for x in values:\n",
    "        id_to_category[int(x[0])] = cat_id\n",
    "    "
   ]
  },
  {
   "cell_type": "code",
   "execution_count": 235,
   "id": "80e4456b-60af-4c7a-8cdb-8d3521a34c73",
   "metadata": {
    "tags": []
   },
   "outputs": [
    {
     "data": {
      "text/plain": [
       "('collecting', 220)"
      ]
     },
     "execution_count": 235,
     "metadata": {},
     "output_type": "execute_result"
    }
   ],
   "source": [
    "id_to_label[222], id_to_category[221]"
   ]
  },
  {
   "cell_type": "code",
   "execution_count": 236,
   "id": "cee870df-3d0d-4b03-81ab-a91cc7332ad2",
   "metadata": {
    "tags": []
   },
   "outputs": [],
   "source": [
    "ocms_counts = utils.get_ocm_counts(df, id_to_category if ONLY_PARENT_CATEGORY else None, \n",
    "                                   limit=LABELS_NEEDED_BEFORE)\n"
   ]
  },
  {
   "cell_type": "code",
   "execution_count": 237,
   "id": "8bce6756-bfef-4263-9290-da2f73d9a4a9",
   "metadata": {
    "tags": []
   },
   "outputs": [
    {
     "name": "stdout",
     "output_type": "stream",
     "text": [
      "tillage (241, 46381)\n",
      "hunting and trapping (224, 30864)\n",
      "cereal agriculture (243, 22816)\n",
      "fishing (226, 21697)\n",
      "annual cycle (221, 18274)\n",
      "diet (262, 13668)\n",
      "social control (626, 12744)\n",
      "vegetable production (244, 11822)\n",
      "production and supply (433, 11366)\n",
      "real property (423, 10975)\n"
     ]
    }
   ],
   "source": [
    "for ocm in ocms_counts.most_common(N_TO_SELECT):\n",
    "    print(id_to_label[ocm[0]], ocm)"
   ]
  },
  {
   "cell_type": "code",
   "execution_count": 238,
   "id": "a3ac811c-75e6-48c2-8e07-d9277298789f",
   "metadata": {
    "tags": []
   },
   "outputs": [
    {
     "data": {
      "application/vnd.plotly.v1+json": {
       "config": {
        "plotlyServerURL": "https://plot.ly"
       },
       "data": [
        {
         "type": "bar",
         "x": [
          "tillage(241)",
          "hunting and trapping(224)",
          "cereal agriculture(243)",
          "fishing(226)",
          "annual cycle(221)",
          "diet(262)",
          "social control(626)",
          "vegetable production(244)",
          "production and supply(433)",
          "real property(423)"
         ],
         "y": [
          46381,
          30864,
          22816,
          21697,
          18274,
          13668,
          12744,
          11822,
          11366,
          10975
         ]
        }
       ],
       "layout": {
        "autosize": true,
        "template": {
         "data": {
          "bar": [
           {
            "error_x": {
             "color": "#2a3f5f"
            },
            "error_y": {
             "color": "#2a3f5f"
            },
            "marker": {
             "line": {
              "color": "#E5ECF6",
              "width": 0.5
             },
             "pattern": {
              "fillmode": "overlay",
              "size": 10,
              "solidity": 0.2
             }
            },
            "type": "bar"
           }
          ],
          "barpolar": [
           {
            "marker": {
             "line": {
              "color": "#E5ECF6",
              "width": 0.5
             },
             "pattern": {
              "fillmode": "overlay",
              "size": 10,
              "solidity": 0.2
             }
            },
            "type": "barpolar"
           }
          ],
          "carpet": [
           {
            "aaxis": {
             "endlinecolor": "#2a3f5f",
             "gridcolor": "white",
             "linecolor": "white",
             "minorgridcolor": "white",
             "startlinecolor": "#2a3f5f"
            },
            "baxis": {
             "endlinecolor": "#2a3f5f",
             "gridcolor": "white",
             "linecolor": "white",
             "minorgridcolor": "white",
             "startlinecolor": "#2a3f5f"
            },
            "type": "carpet"
           }
          ],
          "choropleth": [
           {
            "colorbar": {
             "outlinewidth": 0,
             "ticks": ""
            },
            "type": "choropleth"
           }
          ],
          "contour": [
           {
            "colorbar": {
             "outlinewidth": 0,
             "ticks": ""
            },
            "colorscale": [
             [
              0,
              "#0d0887"
             ],
             [
              0.1111111111111111,
              "#46039f"
             ],
             [
              0.2222222222222222,
              "#7201a8"
             ],
             [
              0.3333333333333333,
              "#9c179e"
             ],
             [
              0.4444444444444444,
              "#bd3786"
             ],
             [
              0.5555555555555556,
              "#d8576b"
             ],
             [
              0.6666666666666666,
              "#ed7953"
             ],
             [
              0.7777777777777778,
              "#fb9f3a"
             ],
             [
              0.8888888888888888,
              "#fdca26"
             ],
             [
              1,
              "#f0f921"
             ]
            ],
            "type": "contour"
           }
          ],
          "contourcarpet": [
           {
            "colorbar": {
             "outlinewidth": 0,
             "ticks": ""
            },
            "type": "contourcarpet"
           }
          ],
          "heatmap": [
           {
            "colorbar": {
             "outlinewidth": 0,
             "ticks": ""
            },
            "colorscale": [
             [
              0,
              "#0d0887"
             ],
             [
              0.1111111111111111,
              "#46039f"
             ],
             [
              0.2222222222222222,
              "#7201a8"
             ],
             [
              0.3333333333333333,
              "#9c179e"
             ],
             [
              0.4444444444444444,
              "#bd3786"
             ],
             [
              0.5555555555555556,
              "#d8576b"
             ],
             [
              0.6666666666666666,
              "#ed7953"
             ],
             [
              0.7777777777777778,
              "#fb9f3a"
             ],
             [
              0.8888888888888888,
              "#fdca26"
             ],
             [
              1,
              "#f0f921"
             ]
            ],
            "type": "heatmap"
           }
          ],
          "heatmapgl": [
           {
            "colorbar": {
             "outlinewidth": 0,
             "ticks": ""
            },
            "colorscale": [
             [
              0,
              "#0d0887"
             ],
             [
              0.1111111111111111,
              "#46039f"
             ],
             [
              0.2222222222222222,
              "#7201a8"
             ],
             [
              0.3333333333333333,
              "#9c179e"
             ],
             [
              0.4444444444444444,
              "#bd3786"
             ],
             [
              0.5555555555555556,
              "#d8576b"
             ],
             [
              0.6666666666666666,
              "#ed7953"
             ],
             [
              0.7777777777777778,
              "#fb9f3a"
             ],
             [
              0.8888888888888888,
              "#fdca26"
             ],
             [
              1,
              "#f0f921"
             ]
            ],
            "type": "heatmapgl"
           }
          ],
          "histogram": [
           {
            "marker": {
             "pattern": {
              "fillmode": "overlay",
              "size": 10,
              "solidity": 0.2
             }
            },
            "type": "histogram"
           }
          ],
          "histogram2d": [
           {
            "colorbar": {
             "outlinewidth": 0,
             "ticks": ""
            },
            "colorscale": [
             [
              0,
              "#0d0887"
             ],
             [
              0.1111111111111111,
              "#46039f"
             ],
             [
              0.2222222222222222,
              "#7201a8"
             ],
             [
              0.3333333333333333,
              "#9c179e"
             ],
             [
              0.4444444444444444,
              "#bd3786"
             ],
             [
              0.5555555555555556,
              "#d8576b"
             ],
             [
              0.6666666666666666,
              "#ed7953"
             ],
             [
              0.7777777777777778,
              "#fb9f3a"
             ],
             [
              0.8888888888888888,
              "#fdca26"
             ],
             [
              1,
              "#f0f921"
             ]
            ],
            "type": "histogram2d"
           }
          ],
          "histogram2dcontour": [
           {
            "colorbar": {
             "outlinewidth": 0,
             "ticks": ""
            },
            "colorscale": [
             [
              0,
              "#0d0887"
             ],
             [
              0.1111111111111111,
              "#46039f"
             ],
             [
              0.2222222222222222,
              "#7201a8"
             ],
             [
              0.3333333333333333,
              "#9c179e"
             ],
             [
              0.4444444444444444,
              "#bd3786"
             ],
             [
              0.5555555555555556,
              "#d8576b"
             ],
             [
              0.6666666666666666,
              "#ed7953"
             ],
             [
              0.7777777777777778,
              "#fb9f3a"
             ],
             [
              0.8888888888888888,
              "#fdca26"
             ],
             [
              1,
              "#f0f921"
             ]
            ],
            "type": "histogram2dcontour"
           }
          ],
          "mesh3d": [
           {
            "colorbar": {
             "outlinewidth": 0,
             "ticks": ""
            },
            "type": "mesh3d"
           }
          ],
          "parcoords": [
           {
            "line": {
             "colorbar": {
              "outlinewidth": 0,
              "ticks": ""
             }
            },
            "type": "parcoords"
           }
          ],
          "pie": [
           {
            "automargin": true,
            "type": "pie"
           }
          ],
          "scatter": [
           {
            "fillpattern": {
             "fillmode": "overlay",
             "size": 10,
             "solidity": 0.2
            },
            "type": "scatter"
           }
          ],
          "scatter3d": [
           {
            "line": {
             "colorbar": {
              "outlinewidth": 0,
              "ticks": ""
             }
            },
            "marker": {
             "colorbar": {
              "outlinewidth": 0,
              "ticks": ""
             }
            },
            "type": "scatter3d"
           }
          ],
          "scattercarpet": [
           {
            "marker": {
             "colorbar": {
              "outlinewidth": 0,
              "ticks": ""
             }
            },
            "type": "scattercarpet"
           }
          ],
          "scattergeo": [
           {
            "marker": {
             "colorbar": {
              "outlinewidth": 0,
              "ticks": ""
             }
            },
            "type": "scattergeo"
           }
          ],
          "scattergl": [
           {
            "marker": {
             "colorbar": {
              "outlinewidth": 0,
              "ticks": ""
             }
            },
            "type": "scattergl"
           }
          ],
          "scattermapbox": [
           {
            "marker": {
             "colorbar": {
              "outlinewidth": 0,
              "ticks": ""
             }
            },
            "type": "scattermapbox"
           }
          ],
          "scatterpolar": [
           {
            "marker": {
             "colorbar": {
              "outlinewidth": 0,
              "ticks": ""
             }
            },
            "type": "scatterpolar"
           }
          ],
          "scatterpolargl": [
           {
            "marker": {
             "colorbar": {
              "outlinewidth": 0,
              "ticks": ""
             }
            },
            "type": "scatterpolargl"
           }
          ],
          "scatterternary": [
           {
            "marker": {
             "colorbar": {
              "outlinewidth": 0,
              "ticks": ""
             }
            },
            "type": "scatterternary"
           }
          ],
          "surface": [
           {
            "colorbar": {
             "outlinewidth": 0,
             "ticks": ""
            },
            "colorscale": [
             [
              0,
              "#0d0887"
             ],
             [
              0.1111111111111111,
              "#46039f"
             ],
             [
              0.2222222222222222,
              "#7201a8"
             ],
             [
              0.3333333333333333,
              "#9c179e"
             ],
             [
              0.4444444444444444,
              "#bd3786"
             ],
             [
              0.5555555555555556,
              "#d8576b"
             ],
             [
              0.6666666666666666,
              "#ed7953"
             ],
             [
              0.7777777777777778,
              "#fb9f3a"
             ],
             [
              0.8888888888888888,
              "#fdca26"
             ],
             [
              1,
              "#f0f921"
             ]
            ],
            "type": "surface"
           }
          ],
          "table": [
           {
            "cells": {
             "fill": {
              "color": "#EBF0F8"
             },
             "line": {
              "color": "white"
             }
            },
            "header": {
             "fill": {
              "color": "#C8D4E3"
             },
             "line": {
              "color": "white"
             }
            },
            "type": "table"
           }
          ]
         },
         "layout": {
          "annotationdefaults": {
           "arrowcolor": "#2a3f5f",
           "arrowhead": 0,
           "arrowwidth": 1
          },
          "autotypenumbers": "strict",
          "coloraxis": {
           "colorbar": {
            "outlinewidth": 0,
            "ticks": ""
           }
          },
          "colorscale": {
           "diverging": [
            [
             0,
             "#8e0152"
            ],
            [
             0.1,
             "#c51b7d"
            ],
            [
             0.2,
             "#de77ae"
            ],
            [
             0.3,
             "#f1b6da"
            ],
            [
             0.4,
             "#fde0ef"
            ],
            [
             0.5,
             "#f7f7f7"
            ],
            [
             0.6,
             "#e6f5d0"
            ],
            [
             0.7,
             "#b8e186"
            ],
            [
             0.8,
             "#7fbc41"
            ],
            [
             0.9,
             "#4d9221"
            ],
            [
             1,
             "#276419"
            ]
           ],
           "sequential": [
            [
             0,
             "#0d0887"
            ],
            [
             0.1111111111111111,
             "#46039f"
            ],
            [
             0.2222222222222222,
             "#7201a8"
            ],
            [
             0.3333333333333333,
             "#9c179e"
            ],
            [
             0.4444444444444444,
             "#bd3786"
            ],
            [
             0.5555555555555556,
             "#d8576b"
            ],
            [
             0.6666666666666666,
             "#ed7953"
            ],
            [
             0.7777777777777778,
             "#fb9f3a"
            ],
            [
             0.8888888888888888,
             "#fdca26"
            ],
            [
             1,
             "#f0f921"
            ]
           ],
           "sequentialminus": [
            [
             0,
             "#0d0887"
            ],
            [
             0.1111111111111111,
             "#46039f"
            ],
            [
             0.2222222222222222,
             "#7201a8"
            ],
            [
             0.3333333333333333,
             "#9c179e"
            ],
            [
             0.4444444444444444,
             "#bd3786"
            ],
            [
             0.5555555555555556,
             "#d8576b"
            ],
            [
             0.6666666666666666,
             "#ed7953"
            ],
            [
             0.7777777777777778,
             "#fb9f3a"
            ],
            [
             0.8888888888888888,
             "#fdca26"
            ],
            [
             1,
             "#f0f921"
            ]
           ]
          },
          "colorway": [
           "#636efa",
           "#EF553B",
           "#00cc96",
           "#ab63fa",
           "#FFA15A",
           "#19d3f3",
           "#FF6692",
           "#B6E880",
           "#FF97FF",
           "#FECB52"
          ],
          "font": {
           "color": "#2a3f5f"
          },
          "geo": {
           "bgcolor": "white",
           "lakecolor": "white",
           "landcolor": "#E5ECF6",
           "showlakes": true,
           "showland": true,
           "subunitcolor": "white"
          },
          "hoverlabel": {
           "align": "left"
          },
          "hovermode": "closest",
          "mapbox": {
           "style": "light"
          },
          "paper_bgcolor": "white",
          "plot_bgcolor": "#E5ECF6",
          "polar": {
           "angularaxis": {
            "gridcolor": "white",
            "linecolor": "white",
            "ticks": ""
           },
           "bgcolor": "#E5ECF6",
           "radialaxis": {
            "gridcolor": "white",
            "linecolor": "white",
            "ticks": ""
           }
          },
          "scene": {
           "xaxis": {
            "backgroundcolor": "#E5ECF6",
            "gridcolor": "white",
            "gridwidth": 2,
            "linecolor": "white",
            "showbackground": true,
            "ticks": "",
            "zerolinecolor": "white"
           },
           "yaxis": {
            "backgroundcolor": "#E5ECF6",
            "gridcolor": "white",
            "gridwidth": 2,
            "linecolor": "white",
            "showbackground": true,
            "ticks": "",
            "zerolinecolor": "white"
           },
           "zaxis": {
            "backgroundcolor": "#E5ECF6",
            "gridcolor": "white",
            "gridwidth": 2,
            "linecolor": "white",
            "showbackground": true,
            "ticks": "",
            "zerolinecolor": "white"
           }
          },
          "shapedefaults": {
           "line": {
            "color": "#2a3f5f"
           }
          },
          "ternary": {
           "aaxis": {
            "gridcolor": "white",
            "linecolor": "white",
            "ticks": ""
           },
           "baxis": {
            "gridcolor": "white",
            "linecolor": "white",
            "ticks": ""
           },
           "bgcolor": "#E5ECF6",
           "caxis": {
            "gridcolor": "white",
            "linecolor": "white",
            "ticks": ""
           }
          },
          "title": {
           "x": 0.05
          },
          "xaxis": {
           "automargin": true,
           "gridcolor": "white",
           "linecolor": "white",
           "ticks": "",
           "title": {
            "standoff": 15
           },
           "zerolinecolor": "white",
           "zerolinewidth": 2
          },
          "yaxis": {
           "automargin": true,
           "gridcolor": "white",
           "linecolor": "white",
           "ticks": "",
           "title": {
            "standoff": 15
           },
           "zerolinecolor": "white",
           "zerolinewidth": 2
          }
         }
        },
        "title": {
         "text": "Label Counts",
         "x": 0.5
        },
        "xaxis": {
         "autorange": true,
         "range": [
          -0.5,
          9.5
         ],
         "title": {
          "font": {
           "color": "#7f7f7f",
           "size": 14
          },
          "text": "Label"
         },
         "type": "category"
        },
        "yaxis": {
         "range": [
          -4,
          46381
         ],
         "title": {
          "font": {
           "color": "#7f7f7f",
           "size": 14
          },
          "text": "Count"
         },
         "type": "linear"
        }
       }
      },
      "image/png": "[encoded data removed]",
      "text/html": [
       "<div>                            <div id=\"cc7f0c78-f539-4555-95fa-2bf1ccc1582b\" class=\"plotly-graph-div\" style=\"height:525px; width:100%;\"></div>            <script type=\"text/javascript\">                require([\"plotly\"], function(Plotly) {                    window.PLOTLYENV=window.PLOTLYENV || {};                                    if (document.getElementById(\"cc7f0c78-f539-4555-95fa-2bf1ccc1582b\")) {                    Plotly.newPlot(                        \"cc7f0c78-f539-4555-95fa-2bf1ccc1582b\",                        [{\"x\":[\"tillage(241)\",\"hunting and trapping(224)\",\"cereal agriculture(243)\",\"fishing(226)\",\"annual cycle(221)\",\"diet(262)\",\"social control(626)\",\"vegetable production(244)\",\"production and supply(433)\",\"real property(423)\"],\"y\":[46381,30864,22816,21697,18274,13668,12744,11822,11366,10975],\"type\":\"bar\"}],                        {\"title\":{\"text\":\"Label Counts\",\"x\":0.5},\"xaxis\":{\"title\":{\"font\":{\"color\":\"#7f7f7f\",\"size\":14},\"text\":\"Label\"}},\"yaxis\":{\"range\":[-4,46381],\"title\":{\"font\":{\"color\":\"#7f7f7f\",\"size\":14},\"text\":\"Count\"}},\"template\":{\"data\":{\"histogram2dcontour\":[{\"type\":\"histogram2dcontour\",\"colorbar\":{\"outlinewidth\":0,\"ticks\":\"\"},\"colorscale\":[[0.0,\"#0d0887\"],[0.1111111111111111,\"#46039f\"],[0.2222222222222222,\"#7201a8\"],[0.3333333333333333,\"#9c179e\"],[0.4444444444444444,\"#bd3786\"],[0.5555555555555556,\"#d8576b\"],[0.6666666666666666,\"#ed7953\"],[0.7777777777777778,\"#fb9f3a\"],[0.8888888888888888,\"#fdca26\"],[1.0,\"#f0f921\"]]}],\"choropleth\":[{\"type\":\"choropleth\",\"colorbar\":{\"outlinewidth\":0,\"ticks\":\"\"}}],\"histogram2d\":[{\"type\":\"histogram2d\",\"colorbar\":{\"outlinewidth\":0,\"ticks\":\"\"},\"colorscale\":[[0.0,\"#0d0887\"],[0.1111111111111111,\"#46039f\"],[0.2222222222222222,\"#7201a8\"],[0.3333333333333333,\"#9c179e\"],[0.4444444444444444,\"#bd3786\"],[0.5555555555555556,\"#d8576b\"],[0.6666666666666666,\"#ed7953\"],[0.7777777777777778,\"#fb9f3a\"],[0.8888888888888888,\"#fdca26\"],[1.0,\"#f0f921\"]]}],\"heatmap\":[{\"type\":\"heatmap\",\"colorbar\":{\"outlinewidth\":0,\"ticks\":\"\"},\"colorscale\":[[0.0,\"#0d0887\"],[0.1111111111111111,\"#46039f\"],[0.2222222222222222,\"#7201a8\"],[0.3333333333333333,\"#9c179e\"],[0.4444444444444444,\"#bd3786\"],[0.5555555555555556,\"#d8576b\"],[0.6666666666666666,\"#ed7953\"],[0.7777777777777778,\"#fb9f3a\"],[0.8888888888888888,\"#fdca26\"],[1.0,\"#f0f921\"]]}],\"heatmapgl\":[{\"type\":\"heatmapgl\",\"colorbar\":{\"outlinewidth\":0,\"ticks\":\"\"},\"colorscale\":[[0.0,\"#0d0887\"],[0.1111111111111111,\"#46039f\"],[0.2222222222222222,\"#7201a8\"],[0.3333333333333333,\"#9c179e\"],[0.4444444444444444,\"#bd3786\"],[0.5555555555555556,\"#d8576b\"],[0.6666666666666666,\"#ed7953\"],[0.7777777777777778,\"#fb9f3a\"],[0.8888888888888888,\"#fdca26\"],[1.0,\"#f0f921\"]]}],\"contourcarpet\":[{\"type\":\"contourcarpet\",\"colorbar\":{\"outlinewidth\":0,\"ticks\":\"\"}}],\"contour\":[{\"type\":\"contour\",\"colorbar\":{\"outlinewidth\":0,\"ticks\":\"\"},\"colorscale\":[[0.0,\"#0d0887\"],[0.1111111111111111,\"#46039f\"],[0.2222222222222222,\"#7201a8\"],[0.3333333333333333,\"#9c179e\"],[0.4444444444444444,\"#bd3786\"],[0.5555555555555556,\"#d8576b\"],[0.6666666666666666,\"#ed7953\"],[0.7777777777777778,\"#fb9f3a\"],[0.8888888888888888,\"#fdca26\"],[1.0,\"#f0f921\"]]}],\"surface\":[{\"type\":\"surface\",\"colorbar\":{\"outlinewidth\":0,\"ticks\":\"\"},\"colorscale\":[[0.0,\"#0d0887\"],[0.1111111111111111,\"#46039f\"],[0.2222222222222222,\"#7201a8\"],[0.3333333333333333,\"#9c179e\"],[0.4444444444444444,\"#bd3786\"],[0.5555555555555556,\"#d8576b\"],[0.6666666666666666,\"#ed7953\"],[0.7777777777777778,\"#fb9f3a\"],[0.8888888888888888,\"#fdca26\"],[1.0,\"#f0f921\"]]}],\"mesh3d\":[{\"type\":\"mesh3d\",\"colorbar\":{\"outlinewidth\":0,\"ticks\":\"\"}}],\"scatter\":[{\"fillpattern\":{\"fillmode\":\"overlay\",\"size\":10,\"solidity\":0.2},\"type\":\"scatter\"}],\"parcoords\":[{\"type\":\"parcoords\",\"line\":{\"colorbar\":{\"outlinewidth\":0,\"ticks\":\"\"}}}],\"scatterpolargl\":[{\"type\":\"scatterpolargl\",\"marker\":{\"colorbar\":{\"outlinewidth\":0,\"ticks\":\"\"}}}],\"bar\":[{\"error_x\":{\"color\":\"#2a3f5f\"},\"error_y\":{\"color\":\"#2a3f5f\"},\"marker\":{\"line\":{\"color\":\"#E5ECF6\",\"width\":0.5},\"pattern\":{\"fillmode\":\"overlay\",\"size\":10,\"solidity\":0.2}},\"type\":\"bar\"}],\"scattergeo\":[{\"type\":\"scattergeo\",\"marker\":{\"colorbar\":{\"outlinewidth\":0,\"ticks\":\"\"}}}],\"scatterpolar\":[{\"type\":\"scatterpolar\",\"marker\":{\"colorbar\":{\"outlinewidth\":0,\"ticks\":\"\"}}}],\"histogram\":[{\"marker\":{\"pattern\":{\"fillmode\":\"overlay\",\"size\":10,\"solidity\":0.2}},\"type\":\"histogram\"}],\"scattergl\":[{\"type\":\"scattergl\",\"marker\":{\"colorbar\":{\"outlinewidth\":0,\"ticks\":\"\"}}}],\"scatter3d\":[{\"type\":\"scatter3d\",\"line\":{\"colorbar\":{\"outlinewidth\":0,\"ticks\":\"\"}},\"marker\":{\"colorbar\":{\"outlinewidth\":0,\"ticks\":\"\"}}}],\"scattermapbox\":[{\"type\":\"scattermapbox\",\"marker\":{\"colorbar\":{\"outlinewidth\":0,\"ticks\":\"\"}}}],\"scatterternary\":[{\"type\":\"scatterternary\",\"marker\":{\"colorbar\":{\"outlinewidth\":0,\"ticks\":\"\"}}}],\"scattercarpet\":[{\"type\":\"scattercarpet\",\"marker\":{\"colorbar\":{\"outlinewidth\":0,\"ticks\":\"\"}}}],\"carpet\":[{\"aaxis\":{\"endlinecolor\":\"#2a3f5f\",\"gridcolor\":\"white\",\"linecolor\":\"white\",\"minorgridcolor\":\"white\",\"startlinecolor\":\"#2a3f5f\"},\"baxis\":{\"endlinecolor\":\"#2a3f5f\",\"gridcolor\":\"white\",\"linecolor\":\"white\",\"minorgridcolor\":\"white\",\"startlinecolor\":\"#2a3f5f\"},\"type\":\"carpet\"}],\"table\":[{\"cells\":{\"fill\":{\"color\":\"#EBF0F8\"},\"line\":{\"color\":\"white\"}},\"header\":{\"fill\":{\"color\":\"#C8D4E3\"},\"line\":{\"color\":\"white\"}},\"type\":\"table\"}],\"barpolar\":[{\"marker\":{\"line\":{\"color\":\"#E5ECF6\",\"width\":0.5},\"pattern\":{\"fillmode\":\"overlay\",\"size\":10,\"solidity\":0.2}},\"type\":\"barpolar\"}],\"pie\":[{\"automargin\":true,\"type\":\"pie\"}]},\"layout\":{\"autotypenumbers\":\"strict\",\"colorway\":[\"#636efa\",\"#EF553B\",\"#00cc96\",\"#ab63fa\",\"#FFA15A\",\"#19d3f3\",\"#FF6692\",\"#B6E880\",\"#FF97FF\",\"#FECB52\"],\"font\":{\"color\":\"#2a3f5f\"},\"hovermode\":\"closest\",\"hoverlabel\":{\"align\":\"left\"},\"paper_bgcolor\":\"white\",\"plot_bgcolor\":\"#E5ECF6\",\"polar\":{\"bgcolor\":\"#E5ECF6\",\"angularaxis\":{\"gridcolor\":\"white\",\"linecolor\":\"white\",\"ticks\":\"\"},\"radialaxis\":{\"gridcolor\":\"white\",\"linecolor\":\"white\",\"ticks\":\"\"}},\"ternary\":{\"bgcolor\":\"#E5ECF6\",\"aaxis\":{\"gridcolor\":\"white\",\"linecolor\":\"white\",\"ticks\":\"\"},\"baxis\":{\"gridcolor\":\"white\",\"linecolor\":\"white\",\"ticks\":\"\"},\"caxis\":{\"gridcolor\":\"white\",\"linecolor\":\"white\",\"ticks\":\"\"}},\"coloraxis\":{\"colorbar\":{\"outlinewidth\":0,\"ticks\":\"\"}},\"colorscale\":{\"sequential\":[[0.0,\"#0d0887\"],[0.1111111111111111,\"#46039f\"],[0.2222222222222222,\"#7201a8\"],[0.3333333333333333,\"#9c179e\"],[0.4444444444444444,\"#bd3786\"],[0.5555555555555556,\"#d8576b\"],[0.6666666666666666,\"#ed7953\"],[0.7777777777777778,\"#fb9f3a\"],[0.8888888888888888,\"#fdca26\"],[1.0,\"#f0f921\"]],\"sequentialminus\":[[0.0,\"#0d0887\"],[0.1111111111111111,\"#46039f\"],[0.2222222222222222,\"#7201a8\"],[0.3333333333333333,\"#9c179e\"],[0.4444444444444444,\"#bd3786\"],[0.5555555555555556,\"#d8576b\"],[0.6666666666666666,\"#ed7953\"],[0.7777777777777778,\"#fb9f3a\"],[0.8888888888888888,\"#fdca26\"],[1.0,\"#f0f921\"]],\"diverging\":[[0,\"#8e0152\"],[0.1,\"#c51b7d\"],[0.2,\"#de77ae\"],[0.3,\"#f1b6da\"],[0.4,\"#fde0ef\"],[0.5,\"#f7f7f7\"],[0.6,\"#e6f5d0\"],[0.7,\"#b8e186\"],[0.8,\"#7fbc41\"],[0.9,\"#4d9221\"],[1,\"#276419\"]]},\"xaxis\":{\"gridcolor\":\"white\",\"linecolor\":\"white\",\"ticks\":\"\",\"title\":{\"standoff\":15},\"zerolinecolor\":\"white\",\"automargin\":true,\"zerolinewidth\":2},\"yaxis\":{\"gridcolor\":\"white\",\"linecolor\":\"white\",\"ticks\":\"\",\"title\":{\"standoff\":15},\"zerolinecolor\":\"white\",\"automargin\":true,\"zerolinewidth\":2},\"scene\":{\"xaxis\":{\"backgroundcolor\":\"#E5ECF6\",\"gridcolor\":\"white\",\"linecolor\":\"white\",\"showbackground\":true,\"ticks\":\"\",\"zerolinecolor\":\"white\",\"gridwidth\":2},\"yaxis\":{\"backgroundcolor\":\"#E5ECF6\",\"gridcolor\":\"white\",\"linecolor\":\"white\",\"showbackground\":true,\"ticks\":\"\",\"zerolinecolor\":\"white\",\"gridwidth\":2},\"zaxis\":{\"backgroundcolor\":\"#E5ECF6\",\"gridcolor\":\"white\",\"linecolor\":\"white\",\"showbackground\":true,\"ticks\":\"\",\"zerolinecolor\":\"white\",\"gridwidth\":2}},\"shapedefaults\":{\"line\":{\"color\":\"#2a3f5f\"}},\"annotationdefaults\":{\"arrowcolor\":\"#2a3f5f\",\"arrowhead\":0,\"arrowwidth\":1},\"geo\":{\"bgcolor\":\"white\",\"landcolor\":\"#E5ECF6\",\"subunitcolor\":\"white\",\"showland\":true,\"showlakes\":true,\"lakecolor\":\"white\"},\"title\":{\"x\":0.05},\"mapbox\":{\"style\":\"light\"}}}},                        {\"responsive\": true}                    ).then(function(){\n",
       "                            \n",
       "var gd = document.getElementById('cc7f0c78-f539-4555-95fa-2bf1ccc1582b');\n",
       "var x = new MutationObserver(function (mutations, observer) {{\n",
       "        var display = window.getComputedStyle(gd).display;\n",
       "        if (!display || display === 'none') {{\n",
       "            console.log([gd, 'removed!']);\n",
       "            Plotly.purge(gd);\n",
       "            observer.disconnect();\n",
       "        }}\n",
       "}});\n",
       "\n",
       "// Listen for the removal of the full notebook cells\n",
       "var notebookContainer = gd.closest('#notebook-container');\n",
       "if (notebookContainer) {{\n",
       "    x.observe(notebookContainer, {childList: true});\n",
       "}}\n",
       "\n",
       "// Listen for the clearing of the current output cell\n",
       "var outputEl = gd.closest('.output');\n",
       "if (outputEl) {{\n",
       "    x.observe(outputEl, {childList: true});\n",
       "}}\n",
       "\n",
       "                        })                };                });            </script>        </div>"
      ]
     },
     "metadata": {},
     "output_type": "display_data"
    }
   ],
   "source": [
    "layout = go.Layout(\n",
    "    title='Label Counts',\n",
    "    title_x=0.5,\n",
    "    yaxis=dict(range=[-4, ocms_counts.most_common(1)[0][1]],\n",
    "    title = go.layout.yaxis.Title(text='Count', font=dict(size=14, color='#7f7f7f'))),\n",
    "    xaxis=dict(title = go.layout.xaxis.Title(text='Label', font=dict(size=14, color='#7f7f7f')))\n",
    ")\n",
    "\n",
    "fig = go.Figure(\n",
    "    data=[go.Bar(x=[f'{id_to_label[ocm[0]]}({ocm[0]})' for ocm in ocms_counts.most_common(N_TO_SELECT)], \n",
    "                 y=[ocm[1] for ocm in ocms_counts.most_common(N_TO_SELECT)])],\n",
    "    layout=layout,\n",
    ")\n",
    "fig.write_image(f'{\"Parent \" if ONLY_PARENT_CATEGORY else \"\"}Categories.png')\n",
    "fig.show()"
   ]
  },
  {
   "cell_type": "code",
   "execution_count": 239,
   "id": "b4ed754b-a3b2-4bd0-b772-5fef93028989",
   "metadata": {
    "tags": []
   },
   "outputs": [],
   "source": [
    "# ocms_counts.pop(0)"
   ]
  },
  {
   "cell_type": "code",
   "execution_count": 240,
   "id": "f2025bcf-d8ce-4d60-9331-ef08aa1a09fd",
   "metadata": {
    "tags": []
   },
   "outputs": [
    {
     "data": {
      "application/vnd.plotly.v1+json": {
       "config": {
        "plotlyServerURL": "https://plot.ly"
       },
       "data": [
        {
         "type": "bar",
         "x": [
          241,
          433,
          245,
          234,
          243,
          517,
          538,
          252,
          263,
          247,
          369,
          136,
          224,
          476,
          237,
          278,
          226,
          228,
          222,
          225,
          262,
          175,
          316,
          425,
          248,
          249,
          276,
          531,
          231,
          562,
          462,
          626,
          233,
          492,
          574,
          484,
          159,
          577,
          177,
          302,
          183,
          152,
          155,
          522,
          312,
          338,
          407,
          412,
          539,
          208,
          563,
          454,
          619,
          114,
          133,
          311,
          132,
          343,
          102,
          438,
          423,
          178,
          127,
          387,
          162,
          565,
          439,
          435,
          472,
          427,
          471,
          244,
          246,
          361,
          426,
          464,
          466,
          465,
          442,
          443,
          474,
          434,
          171,
          221,
          242,
          137,
          161,
          227,
          501,
          134,
          313,
          173,
          174,
          167,
          511,
          592,
          461,
          512,
          527,
          437,
          286,
          415,
          421,
          322,
          376,
          533,
          625,
          482,
          516,
          571,
          534,
          157,
          251,
          256,
          582,
          514,
          521,
          195,
          261,
          273,
          277,
          428,
          597,
          526,
          463,
          363,
          554,
          288,
          0,
          593,
          606,
          130,
          374,
          411,
          555,
          372,
          131,
          491,
          176,
          342,
          513,
          485,
          609,
          487,
          113,
          223,
          505,
          115,
          292,
          291,
          121,
          396,
          504,
          235,
          103,
          621,
          128,
          493,
          575,
          203,
          368,
          432,
          622,
          264,
          272,
          354,
          357,
          456,
          535,
          122,
          305,
          325,
          326,
          335,
          346,
          351,
          352,
          353,
          365,
          417,
          444,
          481,
          508,
          585,
          596,
          614,
          436,
          499,
          503,
          185,
          166,
          377,
          441,
          561,
          184,
          356,
          515,
          603,
          296,
          294,
          285,
          524,
          590,
          602,
          576,
          532,
          212,
          123,
          613,
          584,
          556,
          146,
          275,
          255,
          496,
          142,
          124,
          578,
          125,
          558,
          586,
          156,
          181,
          604,
          182,
          440,
          452,
          386,
          379,
          344,
          494,
          430,
          572,
          318,
          431,
          601,
          265,
          477,
          453,
          179,
          467,
          207,
          381,
          528,
          623,
          101,
          373,
          458,
          422,
          333,
          192,
          211,
          366,
          323,
          172,
          583,
          105,
          557,
          220,
          191,
          301,
          304,
          489,
          331,
          117,
          523,
          283,
          126,
          293,
          413,
          445,
          198,
          611,
          144,
          197,
          624,
          364,
          349,
          416,
          314,
          287,
          186,
          196,
          281,
          163,
          347,
          406,
          591,
          204,
          317,
          375,
          391,
          392,
          564,
          370,
          488,
          217,
          258,
          324,
          608,
          403,
          404,
          405,
          154,
          581,
          402,
          341,
          362,
          566,
          567,
          284,
          257,
          525,
          589,
          214,
          502,
          385,
          253,
          573,
          382,
          414,
          193,
          164,
          358,
          274,
          545,
          345,
          541,
          548,
          473,
          104,
          202,
          240,
          579,
          612,
          618,
          490,
          551,
          587,
          232,
          158,
          607,
          457,
          594,
          135,
          497,
          447,
          321,
          332,
          388,
          271,
          588,
          236,
          168,
          546,
          475,
          460,
          213,
          455,
          367,
          205,
          250,
          295,
          470,
          595,
          206,
          486,
          483,
          282,
          151,
          389,
          141,
          315,
          543,
          429,
          165,
          216,
          147,
          112,
          529,
          360,
          536,
          230,
          552,
          116,
          310,
          306,
          401,
          398,
          289,
          120,
          339,
          320,
          544,
          383,
          348,
          119,
          410,
          153,
          160,
          170,
          468,
          400,
          553,
          610,
          201,
          451,
          498,
          560,
          254,
          424,
          145,
          371,
          615,
          550,
          580,
          340,
          290,
          350,
          355,
          266,
          143,
          260,
          384,
          537,
          446,
          495,
          303,
          450,
          420,
          330,
          509,
          200,
          328,
          280,
          150,
          605,
          129,
          542,
          336,
          547,
          180,
          520,
          327,
          194,
          616,
          380,
          620,
          530,
          110,
          500,
          209,
          215,
          190,
          107,
          506,
          507,
          395,
          617,
          393,
          337,
          570,
          334,
          100,
          118,
          138,
          510,
          480,
          106
         ],
         "y": [
          46381,
          11366,
          8648,
          832,
          22816,
          658,
          703,
          6529,
          1407,
          362,
          547,
          6066,
          30864,
          3620,
          3302,
          1756,
          21697,
          4054,
          10084,
          3260,
          13668,
          4311,
          569,
          1696,
          2132,
          7021,
          1993,
          1291,
          8464,
          2455,
          8030,
          12744,
          6291,
          2963,
          2462,
          3415,
          2221,
          1453,
          9725,
          2465,
          576,
          1197,
          73,
          520,
          5604,
          11,
          1543,
          5343,
          4494,
          144,
          1560,
          708,
          538,
          3358,
          6804,
          6976,
          4082,
          1508,
          1525,
          2431,
          10975,
          8041,
          893,
          27,
          1681,
          1580,
          5863,
          3487,
          795,
          2628,
          859,
          11822,
          1319,
          9502,
          2280,
          6456,
          1116,
          2138,
          629,
          1686,
          1897,
          3990,
          4265,
          18274,
          4154,
          5610,
          1438,
          6216,
          2679,
          2080,
          1320,
          1434,
          1418,
          1243,
          1587,
          5866,
          5377,
          921,
          1251,
          1132,
          1434,
          4333,
          477,
          702,
          56,
          3945,
          576,
          1683,
          930,
          2831,
          2183,
          456,
          4628,
          244,
          956,
          503,
          751,
          853,
          1183,
          1850,
          28,
          1318,
          265,
          884,
          2367,
          145,
          4348,
          168,
          2458,
          2558,
          403,
          159,
          329,
          4564,
          264,
          1602,
          2151,
          711,
          92,
          4971,
          951,
          119,
          660,
          662,
          4123,
          4100,
          546,
          538,
          1506,
          4493,
          3164,
          235,
          240,
          667,
          1627,
          5569,
          2841,
          1037,
          1813,
          593,
          221,
          2129,
          2650,
          1673,
          882,
          785,
          185,
          55,
          1971,
          263,
          91,
          324,
          651,
          246,
          637,
          979,
          948,
          1025,
          68,
          1717,
          104,
          716,
          22,
          1714,
          951,
          2580,
          780,
          42,
          50,
          961,
          1539,
          47,
          539,
          992,
          4657,
          557,
          718,
          137,
          268,
          548,
          2533,
          1540,
          78,
          1826,
          1095,
          1190,
          625,
          1437,
          1773,
          1167,
          1806,
          613,
          120,
          183,
          135,
          1529,
          1408,
          3675,
          359,
          284,
          824,
          858,
          1400,
          549,
          3282,
          34,
          774,
          1404,
          81,
          312,
          346,
          219,
          219,
          1091,
          3472,
          1501,
          71,
          327,
          59,
          1214,
          143,
          166,
          303,
          14,
          816,
          2076,
          176,
          435,
          1345,
          221,
          4407,
          671,
          407,
          625,
          1161,
          1351,
          309,
          83,
          763,
          264,
          2401,
          799,
          237,
          210,
          89,
          22,
          2202,
          715,
          542,
          604,
          105,
          416,
          251,
          92,
          344,
          520,
          187,
          211,
          229,
          1288,
          155,
          1003,
          83,
          1106,
          87,
          70,
          258,
          777,
          93,
          257,
          24,
          56,
          5,
          1095,
          2,
          63,
          241,
          275,
          175,
          228,
          32,
          279,
          59,
          177,
          716,
          141,
          271,
          284,
          154,
          1081,
          621,
          642,
          278,
          536,
          37,
          269,
          5,
          54,
          341,
          13,
          51,
          308,
          1026,
          24,
          60,
          16,
          101,
          213,
          265,
          260,
          678,
          415,
          214,
          205,
          186,
          91,
          6,
          1059,
          428,
          704,
          74,
          146,
          59,
          320,
          420,
          40,
          43,
          374,
          46,
          68,
          312,
          127,
          179,
          44,
          51,
          93,
          89,
          11,
          38,
          42,
          36,
          19,
          18,
          12,
          720,
          20,
          30,
          147,
          31,
          179,
          46,
          40,
          33,
          89,
          44,
          419,
          3,
          175,
          18,
          98,
          18,
          124,
          30,
          466,
          2500,
          19,
          24,
          96,
          5,
          7,
          32,
          29,
          14,
          100,
          35,
          13,
          12,
          52,
          75,
          16,
          152,
          62,
          1,
          675,
          14,
          305,
          162,
          4,
          30,
          66,
          944,
          36,
          11,
          54,
          6,
          21,
          21,
          2,
          13,
          3,
          68,
          11,
          155,
          7,
          312,
          12,
          12,
          59,
          1,
          30,
          7,
          42,
          7,
          3,
          8,
          7,
          29,
          69,
          29,
          6,
          8,
          21,
          4,
          16,
          17,
          219,
          3,
          16,
          7,
          1,
          12,
          5,
          6,
          5,
          1,
          2,
          1,
          1,
          11,
          1,
          2,
          2,
          2,
          2,
          2,
          10,
          4,
          1,
          10
         ]
        }
       ],
       "layout": {
        "autosize": true,
        "template": {
         "data": {
          "bar": [
           {
            "error_x": {
             "color": "#2a3f5f"
            },
            "error_y": {
             "color": "#2a3f5f"
            },
            "marker": {
             "line": {
              "color": "#E5ECF6",
              "width": 0.5
             },
             "pattern": {
              "fillmode": "overlay",
              "size": 10,
              "solidity": 0.2
             }
            },
            "type": "bar"
           }
          ],
          "barpolar": [
           {
            "marker": {
             "line": {
              "color": "#E5ECF6",
              "width": 0.5
             },
             "pattern": {
              "fillmode": "overlay",
              "size": 10,
              "solidity": 0.2
             }
            },
            "type": "barpolar"
           }
          ],
          "carpet": [
           {
            "aaxis": {
             "endlinecolor": "#2a3f5f",
             "gridcolor": "white",
             "linecolor": "white",
             "minorgridcolor": "white",
             "startlinecolor": "#2a3f5f"
            },
            "baxis": {
             "endlinecolor": "#2a3f5f",
             "gridcolor": "white",
             "linecolor": "white",
             "minorgridcolor": "white",
             "startlinecolor": "#2a3f5f"
            },
            "type": "carpet"
           }
          ],
          "choropleth": [
           {
            "colorbar": {
             "outlinewidth": 0,
             "ticks": ""
            },
            "type": "choropleth"
           }
          ],
          "contour": [
           {
            "colorbar": {
             "outlinewidth": 0,
             "ticks": ""
            },
            "colorscale": [
             [
              0,
              "#0d0887"
             ],
             [
              0.1111111111111111,
              "#46039f"
             ],
             [
              0.2222222222222222,
              "#7201a8"
             ],
             [
              0.3333333333333333,
              "#9c179e"
             ],
             [
              0.4444444444444444,
              "#bd3786"
             ],
             [
              0.5555555555555556,
              "#d8576b"
             ],
             [
              0.6666666666666666,
              "#ed7953"
             ],
             [
              0.7777777777777778,
              "#fb9f3a"
             ],
             [
              0.8888888888888888,
              "#fdca26"
             ],
             [
              1,
              "#f0f921"
             ]
            ],
            "type": "contour"
           }
          ],
          "contourcarpet": [
           {
            "colorbar": {
             "outlinewidth": 0,
             "ticks": ""
            },
            "type": "contourcarpet"
           }
          ],
          "heatmap": [
           {
            "colorbar": {
             "outlinewidth": 0,
             "ticks": ""
            },
            "colorscale": [
             [
              0,
              "#0d0887"
             ],
             [
              0.1111111111111111,
              "#46039f"
             ],
             [
              0.2222222222222222,
              "#7201a8"
             ],
             [
              0.3333333333333333,
              "#9c179e"
             ],
             [
              0.4444444444444444,
              "#bd3786"
             ],
             [
              0.5555555555555556,
              "#d8576b"
             ],
             [
              0.6666666666666666,
              "#ed7953"
             ],
             [
              0.7777777777777778,
              "#fb9f3a"
             ],
             [
              0.8888888888888888,
              "#fdca26"
             ],
             [
              1,
              "#f0f921"
             ]
            ],
            "type": "heatmap"
           }
          ],
          "heatmapgl": [
           {
            "colorbar": {
             "outlinewidth": 0,
             "ticks": ""
            },
            "colorscale": [
             [
              0,
              "#0d0887"
             ],
             [
              0.1111111111111111,
              "#46039f"
             ],
             [
              0.2222222222222222,
              "#7201a8"
             ],
             [
              0.3333333333333333,
              "#9c179e"
             ],
             [
              0.4444444444444444,
              "#bd3786"
             ],
             [
              0.5555555555555556,
              "#d8576b"
             ],
             [
              0.6666666666666666,
              "#ed7953"
             ],
             [
              0.7777777777777778,
              "#fb9f3a"
             ],
             [
              0.8888888888888888,
              "#fdca26"
             ],
             [
              1,
              "#f0f921"
             ]
            ],
            "type": "heatmapgl"
           }
          ],
          "histogram": [
           {
            "marker": {
             "pattern": {
              "fillmode": "overlay",
              "size": 10,
              "solidity": 0.2
             }
            },
            "type": "histogram"
           }
          ],
          "histogram2d": [
           {
            "colorbar": {
             "outlinewidth": 0,
             "ticks": ""
            },
            "colorscale": [
             [
              0,
              "#0d0887"
             ],
             [
              0.1111111111111111,
              "#46039f"
             ],
             [
              0.2222222222222222,
              "#7201a8"
             ],
             [
              0.3333333333333333,
              "#9c179e"
             ],
             [
              0.4444444444444444,
              "#bd3786"
             ],
             [
              0.5555555555555556,
              "#d8576b"
             ],
             [
              0.6666666666666666,
              "#ed7953"
             ],
             [
              0.7777777777777778,
              "#fb9f3a"
             ],
             [
              0.8888888888888888,
              "#fdca26"
             ],
             [
              1,
              "#f0f921"
             ]
            ],
            "type": "histogram2d"
           }
          ],
          "histogram2dcontour": [
           {
            "colorbar": {
             "outlinewidth": 0,
             "ticks": ""
            },
            "colorscale": [
             [
              0,
              "#0d0887"
             ],
             [
              0.1111111111111111,
              "#46039f"
             ],
             [
              0.2222222222222222,
              "#7201a8"
             ],
             [
              0.3333333333333333,
              "#9c179e"
             ],
             [
              0.4444444444444444,
              "#bd3786"
             ],
             [
              0.5555555555555556,
              "#d8576b"
             ],
             [
              0.6666666666666666,
              "#ed7953"
             ],
             [
              0.7777777777777778,
              "#fb9f3a"
             ],
             [
              0.8888888888888888,
              "#fdca26"
             ],
             [
              1,
              "#f0f921"
             ]
            ],
            "type": "histogram2dcontour"
           }
          ],
          "mesh3d": [
           {
            "colorbar": {
             "outlinewidth": 0,
             "ticks": ""
            },
            "type": "mesh3d"
           }
          ],
          "parcoords": [
           {
            "line": {
             "colorbar": {
              "outlinewidth": 0,
              "ticks": ""
             }
            },
            "type": "parcoords"
           }
          ],
          "pie": [
           {
            "automargin": true,
            "type": "pie"
           }
          ],
          "scatter": [
           {
            "fillpattern": {
             "fillmode": "overlay",
             "size": 10,
             "solidity": 0.2
            },
            "type": "scatter"
           }
          ],
          "scatter3d": [
           {
            "line": {
             "colorbar": {
              "outlinewidth": 0,
              "ticks": ""
             }
            },
            "marker": {
             "colorbar": {
              "outlinewidth": 0,
              "ticks": ""
             }
            },
            "type": "scatter3d"
           }
          ],
          "scattercarpet": [
           {
            "marker": {
             "colorbar": {
              "outlinewidth": 0,
              "ticks": ""
             }
            },
            "type": "scattercarpet"
           }
          ],
          "scattergeo": [
           {
            "marker": {
             "colorbar": {
              "outlinewidth": 0,
              "ticks": ""
             }
            },
            "type": "scattergeo"
           }
          ],
          "scattergl": [
           {
            "marker": {
             "colorbar": {
              "outlinewidth": 0,
              "ticks": ""
             }
            },
            "type": "scattergl"
           }
          ],
          "scattermapbox": [
           {
            "marker": {
             "colorbar": {
              "outlinewidth": 0,
              "ticks": ""
             }
            },
            "type": "scattermapbox"
           }
          ],
          "scatterpolar": [
           {
            "marker": {
             "colorbar": {
              "outlinewidth": 0,
              "ticks": ""
             }
            },
            "type": "scatterpolar"
           }
          ],
          "scatterpolargl": [
           {
            "marker": {
             "colorbar": {
              "outlinewidth": 0,
              "ticks": ""
             }
            },
            "type": "scatterpolargl"
           }
          ],
          "scatterternary": [
           {
            "marker": {
             "colorbar": {
              "outlinewidth": 0,
              "ticks": ""
             }
            },
            "type": "scatterternary"
           }
          ],
          "surface": [
           {
            "colorbar": {
             "outlinewidth": 0,
             "ticks": ""
            },
            "colorscale": [
             [
              0,
              "#0d0887"
             ],
             [
              0.1111111111111111,
              "#46039f"
             ],
             [
              0.2222222222222222,
              "#7201a8"
             ],
             [
              0.3333333333333333,
              "#9c179e"
             ],
             [
              0.4444444444444444,
              "#bd3786"
             ],
             [
              0.5555555555555556,
              "#d8576b"
             ],
             [
              0.6666666666666666,
              "#ed7953"
             ],
             [
              0.7777777777777778,
              "#fb9f3a"
             ],
             [
              0.8888888888888888,
              "#fdca26"
             ],
             [
              1,
              "#f0f921"
             ]
            ],
            "type": "surface"
           }
          ],
          "table": [
           {
            "cells": {
             "fill": {
              "color": "#EBF0F8"
             },
             "line": {
              "color": "white"
             }
            },
            "header": {
             "fill": {
              "color": "#C8D4E3"
             },
             "line": {
              "color": "white"
             }
            },
            "type": "table"
           }
          ]
         },
         "layout": {
          "annotationdefaults": {
           "arrowcolor": "#2a3f5f",
           "arrowhead": 0,
           "arrowwidth": 1
          },
          "autotypenumbers": "strict",
          "coloraxis": {
           "colorbar": {
            "outlinewidth": 0,
            "ticks": ""
           }
          },
          "colorscale": {
           "diverging": [
            [
             0,
             "#8e0152"
            ],
            [
             0.1,
             "#c51b7d"
            ],
            [
             0.2,
             "#de77ae"
            ],
            [
             0.3,
             "#f1b6da"
            ],
            [
             0.4,
             "#fde0ef"
            ],
            [
             0.5,
             "#f7f7f7"
            ],
            [
             0.6,
             "#e6f5d0"
            ],
            [
             0.7,
             "#b8e186"
            ],
            [
             0.8,
             "#7fbc41"
            ],
            [
             0.9,
             "#4d9221"
            ],
            [
             1,
             "#276419"
            ]
           ],
           "sequential": [
            [
             0,
             "#0d0887"
            ],
            [
             0.1111111111111111,
             "#46039f"
            ],
            [
             0.2222222222222222,
             "#7201a8"
            ],
            [
             0.3333333333333333,
             "#9c179e"
            ],
            [
             0.4444444444444444,
             "#bd3786"
            ],
            [
             0.5555555555555556,
             "#d8576b"
            ],
            [
             0.6666666666666666,
             "#ed7953"
            ],
            [
             0.7777777777777778,
             "#fb9f3a"
            ],
            [
             0.8888888888888888,
             "#fdca26"
            ],
            [
             1,
             "#f0f921"
            ]
           ],
           "sequentialminus": [
            [
             0,
             "#0d0887"
            ],
            [
             0.1111111111111111,
             "#46039f"
            ],
            [
             0.2222222222222222,
             "#7201a8"
            ],
            [
             0.3333333333333333,
             "#9c179e"
            ],
            [
             0.4444444444444444,
             "#bd3786"
            ],
            [
             0.5555555555555556,
             "#d8576b"
            ],
            [
             0.6666666666666666,
             "#ed7953"
            ],
            [
             0.7777777777777778,
             "#fb9f3a"
            ],
            [
             0.8888888888888888,
             "#fdca26"
            ],
            [
             1,
             "#f0f921"
            ]
           ]
          },
          "colorway": [
           "#636efa",
           "#EF553B",
           "#00cc96",
           "#ab63fa",
           "#FFA15A",
           "#19d3f3",
           "#FF6692",
           "#B6E880",
           "#FF97FF",
           "#FECB52"
          ],
          "font": {
           "color": "#2a3f5f"
          },
          "geo": {
           "bgcolor": "white",
           "lakecolor": "white",
           "landcolor": "#E5ECF6",
           "showlakes": true,
           "showland": true,
           "subunitcolor": "white"
          },
          "hoverlabel": {
           "align": "left"
          },
          "hovermode": "closest",
          "mapbox": {
           "style": "light"
          },
          "paper_bgcolor": "white",
          "plot_bgcolor": "#E5ECF6",
          "polar": {
           "angularaxis": {
            "gridcolor": "white",
            "linecolor": "white",
            "ticks": ""
           },
           "bgcolor": "#E5ECF6",
           "radialaxis": {
            "gridcolor": "white",
            "linecolor": "white",
            "ticks": ""
           }
          },
          "scene": {
           "xaxis": {
            "backgroundcolor": "#E5ECF6",
            "gridcolor": "white",
            "gridwidth": 2,
            "linecolor": "white",
            "showbackground": true,
            "ticks": "",
            "zerolinecolor": "white"
           },
           "yaxis": {
            "backgroundcolor": "#E5ECF6",
            "gridcolor": "white",
            "gridwidth": 2,
            "linecolor": "white",
            "showbackground": true,
            "ticks": "",
            "zerolinecolor": "white"
           },
           "zaxis": {
            "backgroundcolor": "#E5ECF6",
            "gridcolor": "white",
            "gridwidth": 2,
            "linecolor": "white",
            "showbackground": true,
            "ticks": "",
            "zerolinecolor": "white"
           }
          },
          "shapedefaults": {
           "line": {
            "color": "#2a3f5f"
           }
          },
          "ternary": {
           "aaxis": {
            "gridcolor": "white",
            "linecolor": "white",
            "ticks": ""
           },
           "baxis": {
            "gridcolor": "white",
            "linecolor": "white",
            "ticks": ""
           },
           "bgcolor": "#E5ECF6",
           "caxis": {
            "gridcolor": "white",
            "linecolor": "white",
            "ticks": ""
           }
          },
          "title": {
           "x": 0.05
          },
          "xaxis": {
           "automargin": true,
           "gridcolor": "white",
           "linecolor": "white",
           "ticks": "",
           "title": {
            "standoff": 15
           },
           "zerolinecolor": "white",
           "zerolinewidth": 2
          },
          "yaxis": {
           "automargin": true,
           "gridcolor": "white",
           "linecolor": "white",
           "ticks": "",
           "title": {
            "standoff": 15
           },
           "zerolinecolor": "white",
           "zerolinewidth": 2
          }
         }
        },
        "title": {
         "text": "Distribution of ALL OCM codes",
         "x": 0.5
        },
        "xaxis": {
         "autorange": true,
         "range": [
          -0.5,
          626.5
         ],
         "showgrid": true,
         "ticklen": 10,
         "ticks": "outside",
         "title": {
          "text": "OCM code"
         },
         "type": "linear"
        },
        "yaxis": {
         "autorange": true,
         "range": [
          0,
          48822.10526315789
         ],
         "title": {
          "text": "Count"
         },
         "type": "linear"
        }
       }
      },
      "image/png": "[encoded data removed]",
      "text/html": [
       "<div>                            <div id=\"8d7e887a-751c-49a5-9bf6-1c76fe05be45\" class=\"plotly-graph-div\" style=\"height:525px; width:100%;\"></div>            <script type=\"text/javascript\">                require([\"plotly\"], function(Plotly) {                    window.PLOTLYENV=window.PLOTLYENV || {};                                    if (document.getElementById(\"8d7e887a-751c-49a5-9bf6-1c76fe05be45\")) {                    Plotly.newPlot(                        \"8d7e887a-751c-49a5-9bf6-1c76fe05be45\",                        [{\"x\":[241,433,245,234,243,517,538,252,263,247,369,136,224,476,237,278,226,228,222,225,262,175,316,425,248,249,276,531,231,562,462,626,233,492,574,484,159,577,177,302,183,152,155,522,312,338,407,412,539,208,563,454,619,114,133,311,132,343,102,438,423,178,127,387,162,565,439,435,472,427,471,244,246,361,426,464,466,465,442,443,474,434,171,221,242,137,161,227,501,134,313,173,174,167,511,592,461,512,527,437,286,415,421,322,376,533,625,482,516,571,534,157,251,256,582,514,521,195,261,273,277,428,597,526,463,363,554,288,0,593,606,130,374,411,555,372,131,491,176,342,513,485,609,487,113,223,505,115,292,291,121,396,504,235,103,621,128,493,575,203,368,432,622,264,272,354,357,456,535,122,305,325,326,335,346,351,352,353,365,417,444,481,508,585,596,614,436,499,503,185,166,377,441,561,184,356,515,603,296,294,285,524,590,602,576,532,212,123,613,584,556,146,275,255,496,142,124,578,125,558,586,156,181,604,182,440,452,386,379,344,494,430,572,318,431,601,265,477,453,179,467,207,381,528,623,101,373,458,422,333,192,211,366,323,172,583,105,557,220,191,301,304,489,331,117,523,283,126,293,413,445,198,611,144,197,624,364,349,416,314,287,186,196,281,163,347,406,591,204,317,375,391,392,564,370,488,217,258,324,608,403,404,405,154,581,402,341,362,566,567,284,257,525,589,214,502,385,253,573,382,414,193,164,358,274,545,345,541,548,473,104,202,240,579,612,618,490,551,587,232,158,607,457,594,135,497,447,321,332,388,271,588,236,168,546,475,460,213,455,367,205,250,295,470,595,206,486,483,282,151,389,141,315,543,429,165,216,147,112,529,360,536,230,552,116,310,306,401,398,289,120,339,320,544,383,348,119,410,153,160,170,468,400,553,610,201,451,498,560,254,424,145,371,615,550,580,340,290,350,355,266,143,260,384,537,446,495,303,450,420,330,509,200,328,280,150,605,129,542,336,547,180,520,327,194,616,380,620,530,110,500,209,215,190,107,506,507,395,617,393,337,570,334,100,118,138,510,480,106],\"y\":[46381,11366,8648,832,22816,658,703,6529,1407,362,547,6066,30864,3620,3302,1756,21697,4054,10084,3260,13668,4311,569,1696,2132,7021,1993,1291,8464,2455,8030,12744,6291,2963,2462,3415,2221,1453,9725,2465,576,1197,73,520,5604,11,1543,5343,4494,144,1560,708,538,3358,6804,6976,4082,1508,1525,2431,10975,8041,893,27,1681,1580,5863,3487,795,2628,859,11822,1319,9502,2280,6456,1116,2138,629,1686,1897,3990,4265,18274,4154,5610,1438,6216,2679,2080,1320,1434,1418,1243,1587,5866,5377,921,1251,1132,1434,4333,477,702,56,3945,576,1683,930,2831,2183,456,4628,244,956,503,751,853,1183,1850,28,1318,265,884,2367,145,4348,168,2458,2558,403,159,329,4564,264,1602,2151,711,92,4971,951,119,660,662,4123,4100,546,538,1506,4493,3164,235,240,667,1627,5569,2841,1037,1813,593,221,2129,2650,1673,882,785,185,55,1971,263,91,324,651,246,637,979,948,1025,68,1717,104,716,22,1714,951,2580,780,42,50,961,1539,47,539,992,4657,557,718,137,268,548,2533,1540,78,1826,1095,1190,625,1437,1773,1167,1806,613,120,183,135,1529,1408,3675,359,284,824,858,1400,549,3282,34,774,1404,81,312,346,219,219,1091,3472,1501,71,327,59,1214,143,166,303,14,816,2076,176,435,1345,221,4407,671,407,625,1161,1351,309,83,763,264,2401,799,237,210,89,22,2202,715,542,604,105,416,251,92,344,520,187,211,229,1288,155,1003,83,1106,87,70,258,777,93,257,24,56,5,1095,2,63,241,275,175,228,32,279,59,177,716,141,271,284,154,1081,621,642,278,536,37,269,5,54,341,13,51,308,1026,24,60,16,101,213,265,260,678,415,214,205,186,91,6,1059,428,704,74,146,59,320,420,40,43,374,46,68,312,127,179,44,51,93,89,11,38,42,36,19,18,12,720,20,30,147,31,179,46,40,33,89,44,419,3,175,18,98,18,124,30,466,2500,19,24,96,5,7,32,29,14,100,35,13,12,52,75,16,152,62,1,675,14,305,162,4,30,66,944,36,11,54,6,21,21,2,13,3,68,11,155,7,312,12,12,59,1,30,7,42,7,3,8,7,29,69,29,6,8,21,4,16,17,219,3,16,7,1,12,5,6,5,1,2,1,1,11,1,2,2,2,2,2,10,4,1,10],\"type\":\"bar\"}],                        {\"template\":{\"data\":{\"histogram2dcontour\":[{\"type\":\"histogram2dcontour\",\"colorbar\":{\"outlinewidth\":0,\"ticks\":\"\"},\"colorscale\":[[0.0,\"#0d0887\"],[0.1111111111111111,\"#46039f\"],[0.2222222222222222,\"#7201a8\"],[0.3333333333333333,\"#9c179e\"],[0.4444444444444444,\"#bd3786\"],[0.5555555555555556,\"#d8576b\"],[0.6666666666666666,\"#ed7953\"],[0.7777777777777778,\"#fb9f3a\"],[0.8888888888888888,\"#fdca26\"],[1.0,\"#f0f921\"]]}],\"choropleth\":[{\"type\":\"choropleth\",\"colorbar\":{\"outlinewidth\":0,\"ticks\":\"\"}}],\"histogram2d\":[{\"type\":\"histogram2d\",\"colorbar\":{\"outlinewidth\":0,\"ticks\":\"\"},\"colorscale\":[[0.0,\"#0d0887\"],[0.1111111111111111,\"#46039f\"],[0.2222222222222222,\"#7201a8\"],[0.3333333333333333,\"#9c179e\"],[0.4444444444444444,\"#bd3786\"],[0.5555555555555556,\"#d8576b\"],[0.6666666666666666,\"#ed7953\"],[0.7777777777777778,\"#fb9f3a\"],[0.8888888888888888,\"#fdca26\"],[1.0,\"#f0f921\"]]}],\"heatmap\":[{\"type\":\"heatmap\",\"colorbar\":{\"outlinewidth\":0,\"ticks\":\"\"},\"colorscale\":[[0.0,\"#0d0887\"],[0.1111111111111111,\"#46039f\"],[0.2222222222222222,\"#7201a8\"],[0.3333333333333333,\"#9c179e\"],[0.4444444444444444,\"#bd3786\"],[0.5555555555555556,\"#d8576b\"],[0.6666666666666666,\"#ed7953\"],[0.7777777777777778,\"#fb9f3a\"],[0.8888888888888888,\"#fdca26\"],[1.0,\"#f0f921\"]]}],\"heatmapgl\":[{\"type\":\"heatmapgl\",\"colorbar\":{\"outlinewidth\":0,\"ticks\":\"\"},\"colorscale\":[[0.0,\"#0d0887\"],[0.1111111111111111,\"#46039f\"],[0.2222222222222222,\"#7201a8\"],[0.3333333333333333,\"#9c179e\"],[0.4444444444444444,\"#bd3786\"],[0.5555555555555556,\"#d8576b\"],[0.6666666666666666,\"#ed7953\"],[0.7777777777777778,\"#fb9f3a\"],[0.8888888888888888,\"#fdca26\"],[1.0,\"#f0f921\"]]}],\"contourcarpet\":[{\"type\":\"contourcarpet\",\"colorbar\":{\"outlinewidth\":0,\"ticks\":\"\"}}],\"contour\":[{\"type\":\"contour\",\"colorbar\":{\"outlinewidth\":0,\"ticks\":\"\"},\"colorscale\":[[0.0,\"#0d0887\"],[0.1111111111111111,\"#46039f\"],[0.2222222222222222,\"#7201a8\"],[0.3333333333333333,\"#9c179e\"],[0.4444444444444444,\"#bd3786\"],[0.5555555555555556,\"#d8576b\"],[0.6666666666666666,\"#ed7953\"],[0.7777777777777778,\"#fb9f3a\"],[0.8888888888888888,\"#fdca26\"],[1.0,\"#f0f921\"]]}],\"surface\":[{\"type\":\"surface\",\"colorbar\":{\"outlinewidth\":0,\"ticks\":\"\"},\"colorscale\":[[0.0,\"#0d0887\"],[0.1111111111111111,\"#46039f\"],[0.2222222222222222,\"#7201a8\"],[0.3333333333333333,\"#9c179e\"],[0.4444444444444444,\"#bd3786\"],[0.5555555555555556,\"#d8576b\"],[0.6666666666666666,\"#ed7953\"],[0.7777777777777778,\"#fb9f3a\"],[0.8888888888888888,\"#fdca26\"],[1.0,\"#f0f921\"]]}],\"mesh3d\":[{\"type\":\"mesh3d\",\"colorbar\":{\"outlinewidth\":0,\"ticks\":\"\"}}],\"scatter\":[{\"fillpattern\":{\"fillmode\":\"overlay\",\"size\":10,\"solidity\":0.2},\"type\":\"scatter\"}],\"parcoords\":[{\"type\":\"parcoords\",\"line\":{\"colorbar\":{\"outlinewidth\":0,\"ticks\":\"\"}}}],\"scatterpolargl\":[{\"type\":\"scatterpolargl\",\"marker\":{\"colorbar\":{\"outlinewidth\":0,\"ticks\":\"\"}}}],\"bar\":[{\"error_x\":{\"color\":\"#2a3f5f\"},\"error_y\":{\"color\":\"#2a3f5f\"},\"marker\":{\"line\":{\"color\":\"#E5ECF6\",\"width\":0.5},\"pattern\":{\"fillmode\":\"overlay\",\"size\":10,\"solidity\":0.2}},\"type\":\"bar\"}],\"scattergeo\":[{\"type\":\"scattergeo\",\"marker\":{\"colorbar\":{\"outlinewidth\":0,\"ticks\":\"\"}}}],\"scatterpolar\":[{\"type\":\"scatterpolar\",\"marker\":{\"colorbar\":{\"outlinewidth\":0,\"ticks\":\"\"}}}],\"histogram\":[{\"marker\":{\"pattern\":{\"fillmode\":\"overlay\",\"size\":10,\"solidity\":0.2}},\"type\":\"histogram\"}],\"scattergl\":[{\"type\":\"scattergl\",\"marker\":{\"colorbar\":{\"outlinewidth\":0,\"ticks\":\"\"}}}],\"scatter3d\":[{\"type\":\"scatter3d\",\"line\":{\"colorbar\":{\"outlinewidth\":0,\"ticks\":\"\"}},\"marker\":{\"colorbar\":{\"outlinewidth\":0,\"ticks\":\"\"}}}],\"scattermapbox\":[{\"type\":\"scattermapbox\",\"marker\":{\"colorbar\":{\"outlinewidth\":0,\"ticks\":\"\"}}}],\"scatterternary\":[{\"type\":\"scatterternary\",\"marker\":{\"colorbar\":{\"outlinewidth\":0,\"ticks\":\"\"}}}],\"scattercarpet\":[{\"type\":\"scattercarpet\",\"marker\":{\"colorbar\":{\"outlinewidth\":0,\"ticks\":\"\"}}}],\"carpet\":[{\"aaxis\":{\"endlinecolor\":\"#2a3f5f\",\"gridcolor\":\"white\",\"linecolor\":\"white\",\"minorgridcolor\":\"white\",\"startlinecolor\":\"#2a3f5f\"},\"baxis\":{\"endlinecolor\":\"#2a3f5f\",\"gridcolor\":\"white\",\"linecolor\":\"white\",\"minorgridcolor\":\"white\",\"startlinecolor\":\"#2a3f5f\"},\"type\":\"carpet\"}],\"table\":[{\"cells\":{\"fill\":{\"color\":\"#EBF0F8\"},\"line\":{\"color\":\"white\"}},\"header\":{\"fill\":{\"color\":\"#C8D4E3\"},\"line\":{\"color\":\"white\"}},\"type\":\"table\"}],\"barpolar\":[{\"marker\":{\"line\":{\"color\":\"#E5ECF6\",\"width\":0.5},\"pattern\":{\"fillmode\":\"overlay\",\"size\":10,\"solidity\":0.2}},\"type\":\"barpolar\"}],\"pie\":[{\"automargin\":true,\"type\":\"pie\"}]},\"layout\":{\"autotypenumbers\":\"strict\",\"colorway\":[\"#636efa\",\"#EF553B\",\"#00cc96\",\"#ab63fa\",\"#FFA15A\",\"#19d3f3\",\"#FF6692\",\"#B6E880\",\"#FF97FF\",\"#FECB52\"],\"font\":{\"color\":\"#2a3f5f\"},\"hovermode\":\"closest\",\"hoverlabel\":{\"align\":\"left\"},\"paper_bgcolor\":\"white\",\"plot_bgcolor\":\"#E5ECF6\",\"polar\":{\"bgcolor\":\"#E5ECF6\",\"angularaxis\":{\"gridcolor\":\"white\",\"linecolor\":\"white\",\"ticks\":\"\"},\"radialaxis\":{\"gridcolor\":\"white\",\"linecolor\":\"white\",\"ticks\":\"\"}},\"ternary\":{\"bgcolor\":\"#E5ECF6\",\"aaxis\":{\"gridcolor\":\"white\",\"linecolor\":\"white\",\"ticks\":\"\"},\"baxis\":{\"gridcolor\":\"white\",\"linecolor\":\"white\",\"ticks\":\"\"},\"caxis\":{\"gridcolor\":\"white\",\"linecolor\":\"white\",\"ticks\":\"\"}},\"coloraxis\":{\"colorbar\":{\"outlinewidth\":0,\"ticks\":\"\"}},\"colorscale\":{\"sequential\":[[0.0,\"#0d0887\"],[0.1111111111111111,\"#46039f\"],[0.2222222222222222,\"#7201a8\"],[0.3333333333333333,\"#9c179e\"],[0.4444444444444444,\"#bd3786\"],[0.5555555555555556,\"#d8576b\"],[0.6666666666666666,\"#ed7953\"],[0.7777777777777778,\"#fb9f3a\"],[0.8888888888888888,\"#fdca26\"],[1.0,\"#f0f921\"]],\"sequentialminus\":[[0.0,\"#0d0887\"],[0.1111111111111111,\"#46039f\"],[0.2222222222222222,\"#7201a8\"],[0.3333333333333333,\"#9c179e\"],[0.4444444444444444,\"#bd3786\"],[0.5555555555555556,\"#d8576b\"],[0.6666666666666666,\"#ed7953\"],[0.7777777777777778,\"#fb9f3a\"],[0.8888888888888888,\"#fdca26\"],[1.0,\"#f0f921\"]],\"diverging\":[[0,\"#8e0152\"],[0.1,\"#c51b7d\"],[0.2,\"#de77ae\"],[0.3,\"#f1b6da\"],[0.4,\"#fde0ef\"],[0.5,\"#f7f7f7\"],[0.6,\"#e6f5d0\"],[0.7,\"#b8e186\"],[0.8,\"#7fbc41\"],[0.9,\"#4d9221\"],[1,\"#276419\"]]},\"xaxis\":{\"gridcolor\":\"white\",\"linecolor\":\"white\",\"ticks\":\"\",\"title\":{\"standoff\":15},\"zerolinecolor\":\"white\",\"automargin\":true,\"zerolinewidth\":2},\"yaxis\":{\"gridcolor\":\"white\",\"linecolor\":\"white\",\"ticks\":\"\",\"title\":{\"standoff\":15},\"zerolinecolor\":\"white\",\"automargin\":true,\"zerolinewidth\":2},\"scene\":{\"xaxis\":{\"backgroundcolor\":\"#E5ECF6\",\"gridcolor\":\"white\",\"linecolor\":\"white\",\"showbackground\":true,\"ticks\":\"\",\"zerolinecolor\":\"white\",\"gridwidth\":2},\"yaxis\":{\"backgroundcolor\":\"#E5ECF6\",\"gridcolor\":\"white\",\"linecolor\":\"white\",\"showbackground\":true,\"ticks\":\"\",\"zerolinecolor\":\"white\",\"gridwidth\":2},\"zaxis\":{\"backgroundcolor\":\"#E5ECF6\",\"gridcolor\":\"white\",\"linecolor\":\"white\",\"showbackground\":true,\"ticks\":\"\",\"zerolinecolor\":\"white\",\"gridwidth\":2}},\"shapedefaults\":{\"line\":{\"color\":\"#2a3f5f\"}},\"annotationdefaults\":{\"arrowcolor\":\"#2a3f5f\",\"arrowhead\":0,\"arrowwidth\":1},\"geo\":{\"bgcolor\":\"white\",\"landcolor\":\"#E5ECF6\",\"subunitcolor\":\"white\",\"showland\":true,\"showlakes\":true,\"lakecolor\":\"white\"},\"title\":{\"x\":0.05},\"mapbox\":{\"style\":\"light\"}}},\"title\":{\"text\":\"Distribution of ALL OCM codes\",\"x\":0.5},\"xaxis\":{\"title\":{\"text\":\"OCM code\"},\"ticks\":\"outside\",\"showgrid\":true,\"ticklen\":10},\"yaxis\":{\"title\":{\"text\":\"Count\"}}},                        {\"responsive\": true}                    ).then(function(){\n",
       "                            \n",
       "var gd = document.getElementById('8d7e887a-751c-49a5-9bf6-1c76fe05be45');\n",
       "var x = new MutationObserver(function (mutations, observer) {{\n",
       "        var display = window.getComputedStyle(gd).display;\n",
       "        if (!display || display === 'none') {{\n",
       "            console.log([gd, 'removed!']);\n",
       "            Plotly.purge(gd);\n",
       "            observer.disconnect();\n",
       "        }}\n",
       "}});\n",
       "\n",
       "// Listen for the removal of the full notebook cells\n",
       "var notebookContainer = gd.closest('#notebook-container');\n",
       "if (notebookContainer) {{\n",
       "    x.observe(notebookContainer, {childList: true});\n",
       "}}\n",
       "\n",
       "// Listen for the clearing of the current output cell\n",
       "var outputEl = gd.closest('.output');\n",
       "if (outputEl) {{\n",
       "    x.observe(outputEl, {childList: true});\n",
       "}}\n",
       "\n",
       "                        })                };                });            </script>        </div>"
      ]
     },
     "metadata": {},
     "output_type": "display_data"
    }
   ],
   "source": [
    "# create a list of OCM codes and their corresponding counts\n",
    "ocms = list(ocms_counts.keys())\n",
    "counts = list(ocms_counts.values())\n",
    "\n",
    "fig = go.Figure(\n",
    "    # data=[go.Bar(x=ocms, y=counts)],\n",
    "    data=[go.Bar(x=ocms, y=counts)],\n",
    "    layout_title_text=f\"Distribution of {'' if ONLY_PARENT_CATEGORY else 'ALL '}OCM codes\",\n",
    "    layout_title_x=0.5\n",
    ")\n",
    "fig.update_xaxes(title='OCM code', ticks=\"outside\", showgrid=True, ticklen=10)\n",
    "fig.update_yaxes(title=\"Count\")\n",
    "fig.write_json('test.json')\n",
    "fig.write_image(f'OCM_dist{\"\" if ONLY_PARENT_CATEGORY else \"_all\"}.png')\n",
    "fig.show()\n"
   ]
  },
  {
   "cell_type": "markdown",
   "id": "3f143262-b4ae-49eb-8a2b-94a23718c8d0",
   "metadata": {},
   "source": [
    "**NOTE** after observing that categories between the first and fifth after the tenth, i decided to group by parent categories. For instnace, 241, 245 or 249 would link to 240 and so on."
   ]
  },
  {
   "cell_type": "markdown",
   "id": "260d836a-ff54-4787-8293-1d65cee89489",
   "metadata": {},
   "source": [
    "# Visualization 2"
   ]
  },
  {
   "cell_type": "code",
   "execution_count": 241,
   "id": "8cd5a74b-eeff-411d-ad66-82398dc53a2f",
   "metadata": {
    "tags": []
   },
   "outputs": [],
   "source": [
    "ONLY_PARENT_CATEGORY = True"
   ]
  },
  {
   "cell_type": "code",
   "execution_count": 242,
   "id": "893ff4ec-203e-49e2-9197-de28e2eb5d94",
   "metadata": {
    "tags": []
   },
   "outputs": [],
   "source": [
    "ocms_counts = utils.get_ocm_counts(df, id_to_category if ONLY_PARENT_CATEGORY else None, \n",
    "                                   limit=LABELS_NEEDED_BEFORE)"
   ]
  },
  {
   "cell_type": "code",
   "execution_count": 111,
   "id": "573c6028-c9d2-46bf-9d7e-65574bed13ee",
   "metadata": {
    "tags": []
   },
   "outputs": [
    {
     "data": {
      "text/plain": [
       "2847"
      ]
     },
     "execution_count": 111,
     "metadata": {},
     "output_type": "execute_result"
    }
   ],
   "source": [
    "ocms_counts.pop(0)"
   ]
  },
  {
   "cell_type": "code",
   "execution_count": 243,
   "id": "296e5521-af5b-4904-8175-2ebd23d053ad",
   "metadata": {
    "tags": []
   },
   "outputs": [
    {
     "data": {
      "application/vnd.plotly.v1+json": {
       "config": {
        "plotlyServerURL": "https://plot.ly"
       },
       "data": [
        {
         "type": "bar",
         "x": [
          240,
          430,
          230,
          510,
          530,
          250,
          260,
          360,
          130,
          220,
          470,
          270,
          170,
          310,
          420,
          560,
          460,
          620,
          490,
          570,
          480,
          150,
          300,
          180,
          520,
          330,
          400,
          410,
          200,
          450,
          610,
          110,
          340,
          100,
          120,
          380,
          160,
          440,
          500,
          590,
          280,
          320,
          370,
          580,
          190,
          550,
          0,
          600,
          290,
          390,
          350,
          210,
          140,
          540
         ],
         "y": [
          104869,
          34869,
          20469,
          6272,
          16220,
          12640,
          18225,
          11421,
          27382,
          99312,
          7863,
          7001,
          31813,
          17157,
          21737,
          8947,
          25778,
          22891,
          5296,
          14096,
          7073,
          5317,
          5839,
          11900,
          5362,
          780,
          2409,
          16893,
          1784,
          2291,
          5717,
          10641,
          8115,
          6228,
          11181,
          1911,
          7493,
          3152,
          3863,
          11535,
          8265,
          2884,
          2328,
          7840,
          6697,
          8991,
          2458,
          5479,
          7377,
          303,
          4519,
          1594,
          2496,
          771
         ]
        }
       ],
       "layout": {
        "autosize": true,
        "template": {
         "data": {
          "bar": [
           {
            "error_x": {
             "color": "#2a3f5f"
            },
            "error_y": {
             "color": "#2a3f5f"
            },
            "marker": {
             "line": {
              "color": "#E5ECF6",
              "width": 0.5
             },
             "pattern": {
              "fillmode": "overlay",
              "size": 10,
              "solidity": 0.2
             }
            },
            "type": "bar"
           }
          ],
          "barpolar": [
           {
            "marker": {
             "line": {
              "color": "#E5ECF6",
              "width": 0.5
             },
             "pattern": {
              "fillmode": "overlay",
              "size": 10,
              "solidity": 0.2
             }
            },
            "type": "barpolar"
           }
          ],
          "carpet": [
           {
            "aaxis": {
             "endlinecolor": "#2a3f5f",
             "gridcolor": "white",
             "linecolor": "white",
             "minorgridcolor": "white",
             "startlinecolor": "#2a3f5f"
            },
            "baxis": {
             "endlinecolor": "#2a3f5f",
             "gridcolor": "white",
             "linecolor": "white",
             "minorgridcolor": "white",
             "startlinecolor": "#2a3f5f"
            },
            "type": "carpet"
           }
          ],
          "choropleth": [
           {
            "colorbar": {
             "outlinewidth": 0,
             "ticks": ""
            },
            "type": "choropleth"
           }
          ],
          "contour": [
           {
            "colorbar": {
             "outlinewidth": 0,
             "ticks": ""
            },
            "colorscale": [
             [
              0,
              "#0d0887"
             ],
             [
              0.1111111111111111,
              "#46039f"
             ],
             [
              0.2222222222222222,
              "#7201a8"
             ],
             [
              0.3333333333333333,
              "#9c179e"
             ],
             [
              0.4444444444444444,
              "#bd3786"
             ],
             [
              0.5555555555555556,
              "#d8576b"
             ],
             [
              0.6666666666666666,
              "#ed7953"
             ],
             [
              0.7777777777777778,
              "#fb9f3a"
             ],
             [
              0.8888888888888888,
              "#fdca26"
             ],
             [
              1,
              "#f0f921"
             ]
            ],
            "type": "contour"
           }
          ],
          "contourcarpet": [
           {
            "colorbar": {
             "outlinewidth": 0,
             "ticks": ""
            },
            "type": "contourcarpet"
           }
          ],
          "heatmap": [
           {
            "colorbar": {
             "outlinewidth": 0,
             "ticks": ""
            },
            "colorscale": [
             [
              0,
              "#0d0887"
             ],
             [
              0.1111111111111111,
              "#46039f"
             ],
             [
              0.2222222222222222,
              "#7201a8"
             ],
             [
              0.3333333333333333,
              "#9c179e"
             ],
             [
              0.4444444444444444,
              "#bd3786"
             ],
             [
              0.5555555555555556,
              "#d8576b"
             ],
             [
              0.6666666666666666,
              "#ed7953"
             ],
             [
              0.7777777777777778,
              "#fb9f3a"
             ],
             [
              0.8888888888888888,
              "#fdca26"
             ],
             [
              1,
              "#f0f921"
             ]
            ],
            "type": "heatmap"
           }
          ],
          "heatmapgl": [
           {
            "colorbar": {
             "outlinewidth": 0,
             "ticks": ""
            },
            "colorscale": [
             [
              0,
              "#0d0887"
             ],
             [
              0.1111111111111111,
              "#46039f"
             ],
             [
              0.2222222222222222,
              "#7201a8"
             ],
             [
              0.3333333333333333,
              "#9c179e"
             ],
             [
              0.4444444444444444,
              "#bd3786"
             ],
             [
              0.5555555555555556,
              "#d8576b"
             ],
             [
              0.6666666666666666,
              "#ed7953"
             ],
             [
              0.7777777777777778,
              "#fb9f3a"
             ],
             [
              0.8888888888888888,
              "#fdca26"
             ],
             [
              1,
              "#f0f921"
             ]
            ],
            "type": "heatmapgl"
           }
          ],
          "histogram": [
           {
            "marker": {
             "pattern": {
              "fillmode": "overlay",
              "size": 10,
              "solidity": 0.2
             }
            },
            "type": "histogram"
           }
          ],
          "histogram2d": [
           {
            "colorbar": {
             "outlinewidth": 0,
             "ticks": ""
            },
            "colorscale": [
             [
              0,
              "#0d0887"
             ],
             [
              0.1111111111111111,
              "#46039f"
             ],
             [
              0.2222222222222222,
              "#7201a8"
             ],
             [
              0.3333333333333333,
              "#9c179e"
             ],
             [
              0.4444444444444444,
              "#bd3786"
             ],
             [
              0.5555555555555556,
              "#d8576b"
             ],
             [
              0.6666666666666666,
              "#ed7953"
             ],
             [
              0.7777777777777778,
              "#fb9f3a"
             ],
             [
              0.8888888888888888,
              "#fdca26"
             ],
             [
              1,
              "#f0f921"
             ]
            ],
            "type": "histogram2d"
           }
          ],
          "histogram2dcontour": [
           {
            "colorbar": {
             "outlinewidth": 0,
             "ticks": ""
            },
            "colorscale": [
             [
              0,
              "#0d0887"
             ],
             [
              0.1111111111111111,
              "#46039f"
             ],
             [
              0.2222222222222222,
              "#7201a8"
             ],
             [
              0.3333333333333333,
              "#9c179e"
             ],
             [
              0.4444444444444444,
              "#bd3786"
             ],
             [
              0.5555555555555556,
              "#d8576b"
             ],
             [
              0.6666666666666666,
              "#ed7953"
             ],
             [
              0.7777777777777778,
              "#fb9f3a"
             ],
             [
              0.8888888888888888,
              "#fdca26"
             ],
             [
              1,
              "#f0f921"
             ]
            ],
            "type": "histogram2dcontour"
           }
          ],
          "mesh3d": [
           {
            "colorbar": {
             "outlinewidth": 0,
             "ticks": ""
            },
            "type": "mesh3d"
           }
          ],
          "parcoords": [
           {
            "line": {
             "colorbar": {
              "outlinewidth": 0,
              "ticks": ""
             }
            },
            "type": "parcoords"
           }
          ],
          "pie": [
           {
            "automargin": true,
            "type": "pie"
           }
          ],
          "scatter": [
           {
            "fillpattern": {
             "fillmode": "overlay",
             "size": 10,
             "solidity": 0.2
            },
            "type": "scatter"
           }
          ],
          "scatter3d": [
           {
            "line": {
             "colorbar": {
              "outlinewidth": 0,
              "ticks": ""
             }
            },
            "marker": {
             "colorbar": {
              "outlinewidth": 0,
              "ticks": ""
             }
            },
            "type": "scatter3d"
           }
          ],
          "scattercarpet": [
           {
            "marker": {
             "colorbar": {
              "outlinewidth": 0,
              "ticks": ""
             }
            },
            "type": "scattercarpet"
           }
          ],
          "scattergeo": [
           {
            "marker": {
             "colorbar": {
              "outlinewidth": 0,
              "ticks": ""
             }
            },
            "type": "scattergeo"
           }
          ],
          "scattergl": [
           {
            "marker": {
             "colorbar": {
              "outlinewidth": 0,
              "ticks": ""
             }
            },
            "type": "scattergl"
           }
          ],
          "scattermapbox": [
           {
            "marker": {
             "colorbar": {
              "outlinewidth": 0,
              "ticks": ""
             }
            },
            "type": "scattermapbox"
           }
          ],
          "scatterpolar": [
           {
            "marker": {
             "colorbar": {
              "outlinewidth": 0,
              "ticks": ""
             }
            },
            "type": "scatterpolar"
           }
          ],
          "scatterpolargl": [
           {
            "marker": {
             "colorbar": {
              "outlinewidth": 0,
              "ticks": ""
             }
            },
            "type": "scatterpolargl"
           }
          ],
          "scatterternary": [
           {
            "marker": {
             "colorbar": {
              "outlinewidth": 0,
              "ticks": ""
             }
            },
            "type": "scatterternary"
           }
          ],
          "surface": [
           {
            "colorbar": {
             "outlinewidth": 0,
             "ticks": ""
            },
            "colorscale": [
             [
              0,
              "#0d0887"
             ],
             [
              0.1111111111111111,
              "#46039f"
             ],
             [
              0.2222222222222222,
              "#7201a8"
             ],
             [
              0.3333333333333333,
              "#9c179e"
             ],
             [
              0.4444444444444444,
              "#bd3786"
             ],
             [
              0.5555555555555556,
              "#d8576b"
             ],
             [
              0.6666666666666666,
              "#ed7953"
             ],
             [
              0.7777777777777778,
              "#fb9f3a"
             ],
             [
              0.8888888888888888,
              "#fdca26"
             ],
             [
              1,
              "#f0f921"
             ]
            ],
            "type": "surface"
           }
          ],
          "table": [
           {
            "cells": {
             "fill": {
              "color": "#EBF0F8"
             },
             "line": {
              "color": "white"
             }
            },
            "header": {
             "fill": {
              "color": "#C8D4E3"
             },
             "line": {
              "color": "white"
             }
            },
            "type": "table"
           }
          ]
         },
         "layout": {
          "annotationdefaults": {
           "arrowcolor": "#2a3f5f",
           "arrowhead": 0,
           "arrowwidth": 1
          },
          "autotypenumbers": "strict",
          "coloraxis": {
           "colorbar": {
            "outlinewidth": 0,
            "ticks": ""
           }
          },
          "colorscale": {
           "diverging": [
            [
             0,
             "#8e0152"
            ],
            [
             0.1,
             "#c51b7d"
            ],
            [
             0.2,
             "#de77ae"
            ],
            [
             0.3,
             "#f1b6da"
            ],
            [
             0.4,
             "#fde0ef"
            ],
            [
             0.5,
             "#f7f7f7"
            ],
            [
             0.6,
             "#e6f5d0"
            ],
            [
             0.7,
             "#b8e186"
            ],
            [
             0.8,
             "#7fbc41"
            ],
            [
             0.9,
             "#4d9221"
            ],
            [
             1,
             "#276419"
            ]
           ],
           "sequential": [
            [
             0,
             "#0d0887"
            ],
            [
             0.1111111111111111,
             "#46039f"
            ],
            [
             0.2222222222222222,
             "#7201a8"
            ],
            [
             0.3333333333333333,
             "#9c179e"
            ],
            [
             0.4444444444444444,
             "#bd3786"
            ],
            [
             0.5555555555555556,
             "#d8576b"
            ],
            [
             0.6666666666666666,
             "#ed7953"
            ],
            [
             0.7777777777777778,
             "#fb9f3a"
            ],
            [
             0.8888888888888888,
             "#fdca26"
            ],
            [
             1,
             "#f0f921"
            ]
           ],
           "sequentialminus": [
            [
             0,
             "#0d0887"
            ],
            [
             0.1111111111111111,
             "#46039f"
            ],
            [
             0.2222222222222222,
             "#7201a8"
            ],
            [
             0.3333333333333333,
             "#9c179e"
            ],
            [
             0.4444444444444444,
             "#bd3786"
            ],
            [
             0.5555555555555556,
             "#d8576b"
            ],
            [
             0.6666666666666666,
             "#ed7953"
            ],
            [
             0.7777777777777778,
             "#fb9f3a"
            ],
            [
             0.8888888888888888,
             "#fdca26"
            ],
            [
             1,
             "#f0f921"
            ]
           ]
          },
          "colorway": [
           "#636efa",
           "#EF553B",
           "#00cc96",
           "#ab63fa",
           "#FFA15A",
           "#19d3f3",
           "#FF6692",
           "#B6E880",
           "#FF97FF",
           "#FECB52"
          ],
          "font": {
           "color": "#2a3f5f"
          },
          "geo": {
           "bgcolor": "white",
           "lakecolor": "white",
           "landcolor": "#E5ECF6",
           "showlakes": true,
           "showland": true,
           "subunitcolor": "white"
          },
          "hoverlabel": {
           "align": "left"
          },
          "hovermode": "closest",
          "mapbox": {
           "style": "light"
          },
          "paper_bgcolor": "white",
          "plot_bgcolor": "#E5ECF6",
          "polar": {
           "angularaxis": {
            "gridcolor": "white",
            "linecolor": "white",
            "ticks": ""
           },
           "bgcolor": "#E5ECF6",
           "radialaxis": {
            "gridcolor": "white",
            "linecolor": "white",
            "ticks": ""
           }
          },
          "scene": {
           "xaxis": {
            "backgroundcolor": "#E5ECF6",
            "gridcolor": "white",
            "gridwidth": 2,
            "linecolor": "white",
            "showbackground": true,
            "ticks": "",
            "zerolinecolor": "white"
           },
           "yaxis": {
            "backgroundcolor": "#E5ECF6",
            "gridcolor": "white",
            "gridwidth": 2,
            "linecolor": "white",
            "showbackground": true,
            "ticks": "",
            "zerolinecolor": "white"
           },
           "zaxis": {
            "backgroundcolor": "#E5ECF6",
            "gridcolor": "white",
            "gridwidth": 2,
            "linecolor": "white",
            "showbackground": true,
            "ticks": "",
            "zerolinecolor": "white"
           }
          },
          "shapedefaults": {
           "line": {
            "color": "#2a3f5f"
           }
          },
          "ternary": {
           "aaxis": {
            "gridcolor": "white",
            "linecolor": "white",
            "ticks": ""
           },
           "baxis": {
            "gridcolor": "white",
            "linecolor": "white",
            "ticks": ""
           },
           "bgcolor": "#E5ECF6",
           "caxis": {
            "gridcolor": "white",
            "linecolor": "white",
            "ticks": ""
           }
          },
          "title": {
           "x": 0.05
          },
          "xaxis": {
           "automargin": true,
           "gridcolor": "white",
           "linecolor": "white",
           "ticks": "",
           "title": {
            "standoff": 15
           },
           "zerolinecolor": "white",
           "zerolinewidth": 2
          },
          "yaxis": {
           "automargin": true,
           "gridcolor": "white",
           "linecolor": "white",
           "ticks": "",
           "title": {
            "standoff": 15
           },
           "zerolinecolor": "white",
           "zerolinewidth": 2
          }
         }
        },
        "title": {
         "text": "Distribution of OCM codes",
         "x": 0.5
        },
        "xaxis": {
         "autorange": true,
         "range": [
          -5,
          625
         ],
         "showgrid": true,
         "ticklen": 10,
         "ticks": "outside",
         "title": {
          "text": "OCM code"
         },
         "type": "linear"
        },
        "yaxis": {
         "autorange": true,
         "range": [
          0,
          110388.42105263157
         ],
         "title": {
          "text": "Count"
         },
         "type": "linear"
        }
       }
      },
      "image/png": "[encoded data removed]",
      "text/html": [
       "<div>                            <div id=\"9222b434-cb7d-4283-a70a-d9712476f6d3\" class=\"plotly-graph-div\" style=\"height:525px; width:100%;\"></div>            <script type=\"text/javascript\">                require([\"plotly\"], function(Plotly) {                    window.PLOTLYENV=window.PLOTLYENV || {};                                    if (document.getElementById(\"9222b434-cb7d-4283-a70a-d9712476f6d3\")) {                    Plotly.newPlot(                        \"9222b434-cb7d-4283-a70a-d9712476f6d3\",                        [{\"x\":[240,430,230,510,530,250,260,360,130,220,470,270,170,310,420,560,460,620,490,570,480,150,300,180,520,330,400,410,200,450,610,110,340,100,120,380,160,440,500,590,280,320,370,580,190,550,0,600,290,390,350,210,140,540],\"y\":[104869,34869,20469,6272,16220,12640,18225,11421,27382,99312,7863,7001,31813,17157,21737,8947,25778,22891,5296,14096,7073,5317,5839,11900,5362,780,2409,16893,1784,2291,5717,10641,8115,6228,11181,1911,7493,3152,3863,11535,8265,2884,2328,7840,6697,8991,2458,5479,7377,303,4519,1594,2496,771],\"type\":\"bar\"}],                        {\"template\":{\"data\":{\"histogram2dcontour\":[{\"type\":\"histogram2dcontour\",\"colorbar\":{\"outlinewidth\":0,\"ticks\":\"\"},\"colorscale\":[[0.0,\"#0d0887\"],[0.1111111111111111,\"#46039f\"],[0.2222222222222222,\"#7201a8\"],[0.3333333333333333,\"#9c179e\"],[0.4444444444444444,\"#bd3786\"],[0.5555555555555556,\"#d8576b\"],[0.6666666666666666,\"#ed7953\"],[0.7777777777777778,\"#fb9f3a\"],[0.8888888888888888,\"#fdca26\"],[1.0,\"#f0f921\"]]}],\"choropleth\":[{\"type\":\"choropleth\",\"colorbar\":{\"outlinewidth\":0,\"ticks\":\"\"}}],\"histogram2d\":[{\"type\":\"histogram2d\",\"colorbar\":{\"outlinewidth\":0,\"ticks\":\"\"},\"colorscale\":[[0.0,\"#0d0887\"],[0.1111111111111111,\"#46039f\"],[0.2222222222222222,\"#7201a8\"],[0.3333333333333333,\"#9c179e\"],[0.4444444444444444,\"#bd3786\"],[0.5555555555555556,\"#d8576b\"],[0.6666666666666666,\"#ed7953\"],[0.7777777777777778,\"#fb9f3a\"],[0.8888888888888888,\"#fdca26\"],[1.0,\"#f0f921\"]]}],\"heatmap\":[{\"type\":\"heatmap\",\"colorbar\":{\"outlinewidth\":0,\"ticks\":\"\"},\"colorscale\":[[0.0,\"#0d0887\"],[0.1111111111111111,\"#46039f\"],[0.2222222222222222,\"#7201a8\"],[0.3333333333333333,\"#9c179e\"],[0.4444444444444444,\"#bd3786\"],[0.5555555555555556,\"#d8576b\"],[0.6666666666666666,\"#ed7953\"],[0.7777777777777778,\"#fb9f3a\"],[0.8888888888888888,\"#fdca26\"],[1.0,\"#f0f921\"]]}],\"heatmapgl\":[{\"type\":\"heatmapgl\",\"colorbar\":{\"outlinewidth\":0,\"ticks\":\"\"},\"colorscale\":[[0.0,\"#0d0887\"],[0.1111111111111111,\"#46039f\"],[0.2222222222222222,\"#7201a8\"],[0.3333333333333333,\"#9c179e\"],[0.4444444444444444,\"#bd3786\"],[0.5555555555555556,\"#d8576b\"],[0.6666666666666666,\"#ed7953\"],[0.7777777777777778,\"#fb9f3a\"],[0.8888888888888888,\"#fdca26\"],[1.0,\"#f0f921\"]]}],\"contourcarpet\":[{\"type\":\"contourcarpet\",\"colorbar\":{\"outlinewidth\":0,\"ticks\":\"\"}}],\"contour\":[{\"type\":\"contour\",\"colorbar\":{\"outlinewidth\":0,\"ticks\":\"\"},\"colorscale\":[[0.0,\"#0d0887\"],[0.1111111111111111,\"#46039f\"],[0.2222222222222222,\"#7201a8\"],[0.3333333333333333,\"#9c179e\"],[0.4444444444444444,\"#bd3786\"],[0.5555555555555556,\"#d8576b\"],[0.6666666666666666,\"#ed7953\"],[0.7777777777777778,\"#fb9f3a\"],[0.8888888888888888,\"#fdca26\"],[1.0,\"#f0f921\"]]}],\"surface\":[{\"type\":\"surface\",\"colorbar\":{\"outlinewidth\":0,\"ticks\":\"\"},\"colorscale\":[[0.0,\"#0d0887\"],[0.1111111111111111,\"#46039f\"],[0.2222222222222222,\"#7201a8\"],[0.3333333333333333,\"#9c179e\"],[0.4444444444444444,\"#bd3786\"],[0.5555555555555556,\"#d8576b\"],[0.6666666666666666,\"#ed7953\"],[0.7777777777777778,\"#fb9f3a\"],[0.8888888888888888,\"#fdca26\"],[1.0,\"#f0f921\"]]}],\"mesh3d\":[{\"type\":\"mesh3d\",\"colorbar\":{\"outlinewidth\":0,\"ticks\":\"\"}}],\"scatter\":[{\"fillpattern\":{\"fillmode\":\"overlay\",\"size\":10,\"solidity\":0.2},\"type\":\"scatter\"}],\"parcoords\":[{\"type\":\"parcoords\",\"line\":{\"colorbar\":{\"outlinewidth\":0,\"ticks\":\"\"}}}],\"scatterpolargl\":[{\"type\":\"scatterpolargl\",\"marker\":{\"colorbar\":{\"outlinewidth\":0,\"ticks\":\"\"}}}],\"bar\":[{\"error_x\":{\"color\":\"#2a3f5f\"},\"error_y\":{\"color\":\"#2a3f5f\"},\"marker\":{\"line\":{\"color\":\"#E5ECF6\",\"width\":0.5},\"pattern\":{\"fillmode\":\"overlay\",\"size\":10,\"solidity\":0.2}},\"type\":\"bar\"}],\"scattergeo\":[{\"type\":\"scattergeo\",\"marker\":{\"colorbar\":{\"outlinewidth\":0,\"ticks\":\"\"}}}],\"scatterpolar\":[{\"type\":\"scatterpolar\",\"marker\":{\"colorbar\":{\"outlinewidth\":0,\"ticks\":\"\"}}}],\"histogram\":[{\"marker\":{\"pattern\":{\"fillmode\":\"overlay\",\"size\":10,\"solidity\":0.2}},\"type\":\"histogram\"}],\"scattergl\":[{\"type\":\"scattergl\",\"marker\":{\"colorbar\":{\"outlinewidth\":0,\"ticks\":\"\"}}}],\"scatter3d\":[{\"type\":\"scatter3d\",\"line\":{\"colorbar\":{\"outlinewidth\":0,\"ticks\":\"\"}},\"marker\":{\"colorbar\":{\"outlinewidth\":0,\"ticks\":\"\"}}}],\"scattermapbox\":[{\"type\":\"scattermapbox\",\"marker\":{\"colorbar\":{\"outlinewidth\":0,\"ticks\":\"\"}}}],\"scatterternary\":[{\"type\":\"scatterternary\",\"marker\":{\"colorbar\":{\"outlinewidth\":0,\"ticks\":\"\"}}}],\"scattercarpet\":[{\"type\":\"scattercarpet\",\"marker\":{\"colorbar\":{\"outlinewidth\":0,\"ticks\":\"\"}}}],\"carpet\":[{\"aaxis\":{\"endlinecolor\":\"#2a3f5f\",\"gridcolor\":\"white\",\"linecolor\":\"white\",\"minorgridcolor\":\"white\",\"startlinecolor\":\"#2a3f5f\"},\"baxis\":{\"endlinecolor\":\"#2a3f5f\",\"gridcolor\":\"white\",\"linecolor\":\"white\",\"minorgridcolor\":\"white\",\"startlinecolor\":\"#2a3f5f\"},\"type\":\"carpet\"}],\"table\":[{\"cells\":{\"fill\":{\"color\":\"#EBF0F8\"},\"line\":{\"color\":\"white\"}},\"header\":{\"fill\":{\"color\":\"#C8D4E3\"},\"line\":{\"color\":\"white\"}},\"type\":\"table\"}],\"barpolar\":[{\"marker\":{\"line\":{\"color\":\"#E5ECF6\",\"width\":0.5},\"pattern\":{\"fillmode\":\"overlay\",\"size\":10,\"solidity\":0.2}},\"type\":\"barpolar\"}],\"pie\":[{\"automargin\":true,\"type\":\"pie\"}]},\"layout\":{\"autotypenumbers\":\"strict\",\"colorway\":[\"#636efa\",\"#EF553B\",\"#00cc96\",\"#ab63fa\",\"#FFA15A\",\"#19d3f3\",\"#FF6692\",\"#B6E880\",\"#FF97FF\",\"#FECB52\"],\"font\":{\"color\":\"#2a3f5f\"},\"hovermode\":\"closest\",\"hoverlabel\":{\"align\":\"left\"},\"paper_bgcolor\":\"white\",\"plot_bgcolor\":\"#E5ECF6\",\"polar\":{\"bgcolor\":\"#E5ECF6\",\"angularaxis\":{\"gridcolor\":\"white\",\"linecolor\":\"white\",\"ticks\":\"\"},\"radialaxis\":{\"gridcolor\":\"white\",\"linecolor\":\"white\",\"ticks\":\"\"}},\"ternary\":{\"bgcolor\":\"#E5ECF6\",\"aaxis\":{\"gridcolor\":\"white\",\"linecolor\":\"white\",\"ticks\":\"\"},\"baxis\":{\"gridcolor\":\"white\",\"linecolor\":\"white\",\"ticks\":\"\"},\"caxis\":{\"gridcolor\":\"white\",\"linecolor\":\"white\",\"ticks\":\"\"}},\"coloraxis\":{\"colorbar\":{\"outlinewidth\":0,\"ticks\":\"\"}},\"colorscale\":{\"sequential\":[[0.0,\"#0d0887\"],[0.1111111111111111,\"#46039f\"],[0.2222222222222222,\"#7201a8\"],[0.3333333333333333,\"#9c179e\"],[0.4444444444444444,\"#bd3786\"],[0.5555555555555556,\"#d8576b\"],[0.6666666666666666,\"#ed7953\"],[0.7777777777777778,\"#fb9f3a\"],[0.8888888888888888,\"#fdca26\"],[1.0,\"#f0f921\"]],\"sequentialminus\":[[0.0,\"#0d0887\"],[0.1111111111111111,\"#46039f\"],[0.2222222222222222,\"#7201a8\"],[0.3333333333333333,\"#9c179e\"],[0.4444444444444444,\"#bd3786\"],[0.5555555555555556,\"#d8576b\"],[0.6666666666666666,\"#ed7953\"],[0.7777777777777778,\"#fb9f3a\"],[0.8888888888888888,\"#fdca26\"],[1.0,\"#f0f921\"]],\"diverging\":[[0,\"#8e0152\"],[0.1,\"#c51b7d\"],[0.2,\"#de77ae\"],[0.3,\"#f1b6da\"],[0.4,\"#fde0ef\"],[0.5,\"#f7f7f7\"],[0.6,\"#e6f5d0\"],[0.7,\"#b8e186\"],[0.8,\"#7fbc41\"],[0.9,\"#4d9221\"],[1,\"#276419\"]]},\"xaxis\":{\"gridcolor\":\"white\",\"linecolor\":\"white\",\"ticks\":\"\",\"title\":{\"standoff\":15},\"zerolinecolor\":\"white\",\"automargin\":true,\"zerolinewidth\":2},\"yaxis\":{\"gridcolor\":\"white\",\"linecolor\":\"white\",\"ticks\":\"\",\"title\":{\"standoff\":15},\"zerolinecolor\":\"white\",\"automargin\":true,\"zerolinewidth\":2},\"scene\":{\"xaxis\":{\"backgroundcolor\":\"#E5ECF6\",\"gridcolor\":\"white\",\"linecolor\":\"white\",\"showbackground\":true,\"ticks\":\"\",\"zerolinecolor\":\"white\",\"gridwidth\":2},\"yaxis\":{\"backgroundcolor\":\"#E5ECF6\",\"gridcolor\":\"white\",\"linecolor\":\"white\",\"showbackground\":true,\"ticks\":\"\",\"zerolinecolor\":\"white\",\"gridwidth\":2},\"zaxis\":{\"backgroundcolor\":\"#E5ECF6\",\"gridcolor\":\"white\",\"linecolor\":\"white\",\"showbackground\":true,\"ticks\":\"\",\"zerolinecolor\":\"white\",\"gridwidth\":2}},\"shapedefaults\":{\"line\":{\"color\":\"#2a3f5f\"}},\"annotationdefaults\":{\"arrowcolor\":\"#2a3f5f\",\"arrowhead\":0,\"arrowwidth\":1},\"geo\":{\"bgcolor\":\"white\",\"landcolor\":\"#E5ECF6\",\"subunitcolor\":\"white\",\"showland\":true,\"showlakes\":true,\"lakecolor\":\"white\"},\"title\":{\"x\":0.05},\"mapbox\":{\"style\":\"light\"}}},\"title\":{\"text\":\"Distribution of OCM codes\",\"x\":0.5},\"xaxis\":{\"title\":{\"text\":\"OCM code\"},\"ticks\":\"outside\",\"showgrid\":true,\"ticklen\":10},\"yaxis\":{\"title\":{\"text\":\"Count\"}}},                        {\"responsive\": true}                    ).then(function(){\n",
       "                            \n",
       "var gd = document.getElementById('9222b434-cb7d-4283-a70a-d9712476f6d3');\n",
       "var x = new MutationObserver(function (mutations, observer) {{\n",
       "        var display = window.getComputedStyle(gd).display;\n",
       "        if (!display || display === 'none') {{\n",
       "            console.log([gd, 'removed!']);\n",
       "            Plotly.purge(gd);\n",
       "            observer.disconnect();\n",
       "        }}\n",
       "}});\n",
       "\n",
       "// Listen for the removal of the full notebook cells\n",
       "var notebookContainer = gd.closest('#notebook-container');\n",
       "if (notebookContainer) {{\n",
       "    x.observe(notebookContainer, {childList: true});\n",
       "}}\n",
       "\n",
       "// Listen for the clearing of the current output cell\n",
       "var outputEl = gd.closest('.output');\n",
       "if (outputEl) {{\n",
       "    x.observe(outputEl, {childList: true});\n",
       "}}\n",
       "\n",
       "                        })                };                });            </script>        </div>"
      ]
     },
     "metadata": {},
     "output_type": "display_data"
    }
   ],
   "source": [
    "# create a list of OCM codes and their corresponding counts\n",
    "ocms = list(ocms_counts.keys())\n",
    "counts = list(ocms_counts.values())\n",
    "\n",
    "fig = go.Figure(\n",
    "    # data=[go.Bar(x=ocms, y=counts)],\n",
    "    data=[go.Bar(x=ocms, y=counts)],\n",
    "    layout_title_text=f\"Distribution of {'' if ONLY_PARENT_CATEGORY else 'ALL '}OCM codes\",\n",
    "    layout_title_x=0.5\n",
    ")\n",
    "fig.update_xaxes(title='OCM code', ticks=\"outside\", showgrid=True, ticklen=10)\n",
    "fig.update_yaxes(title=\"Count\")\n",
    "fig.write_json('test.json')\n",
    "fig.write_image(f'OCM_dist{\"\" if ONLY_PARENT_CATEGORY else \"_all\"}.png')\n",
    "fig.show()\n"
   ]
  },
  {
   "cell_type": "code",
   "execution_count": 244,
   "id": "e7481bb3-e561-4e07-8a88-0e453fab62d3",
   "metadata": {
    "tags": []
   },
   "outputs": [],
   "source": [
    "# CHECK OUT: 310, 340, 400, 520, 570, 580, 870] activities, building structures, machines, recreation, interpersonal relations, marriage, education.\n",
    "chosen_categories = [140, 150, 160, 170, 180, 190, 200, 220, 240, 260, 360, 420, 430, 590, 620]#, 780, 820]"
   ]
  },
  {
   "cell_type": "code",
   "execution_count": 245,
   "id": "2a823724-ce53-4fe8-89ae-ad7c7acccba0",
   "metadata": {
    "tags": []
   },
   "outputs": [],
   "source": [
    "def top_n_count(ocm_id, n=400):\n",
    "    top_400 = any([ocm_id == y[0] for y in ocms_counts.most_common(n)])\n",
    "    x_i = list(map(lambda x:x[0], ocms_counts.most_common(n))).index(ocm_id)\n",
    "\n",
    "    return top_400, x_i , ocms_counts[ocm_id]"
   ]
  },
  {
   "cell_type": "code",
   "execution_count": 246,
   "id": "3e325422-e95c-4232-9012-92b0932ac428",
   "metadata": {
    "tags": []
   },
   "outputs": [
    {
     "name": "stdout",
     "output_type": "stream",
     "text": [
      "\"Human biology\" id(140) count(True, 43, 2496)\n",
      "\n",
      "\"Behavior processes and personality\" id(150) count(True, 37, 5317)\n",
      "\n",
      "\"Demography\" id(160) count(True, 26, 7493)\n",
      "\n",
      "\"History and culture change\" id(170) count(True, 3, 31813)\n",
      "\n",
      "\"Total culture\" id(180) count(True, 15, 11900)\n",
      "\n",
      "\"Language\" id(190) count(True, 30, 6697)\n",
      "\n",
      "\"Communication\" id(200) count(True, 49, 1784)\n",
      "\n",
      "\"Food quest\" id(220) count(True, 1, 99312)\n",
      "\n",
      "\"Agriculture\" id(240) count(True, 0, 104869)\n",
      "\n",
      "\"Food consumption\" id(260) count(True, 9, 18225)\n",
      "\n",
      "\"Settlements\" id(360) count(True, 17, 11421)\n",
      "\n",
      "\"Property\" id(420) count(True, 7, 21737)\n",
      "\n",
      "\"Exchange and transfers\" id(430) count(True, 2, 34869)\n",
      "\n",
      "\"Family\" id(590) count(True, 16, 11535)\n",
      "\n",
      "\"Community\" id(620) count(True, 6, 22891)\n",
      "\n"
     ]
    }
   ],
   "source": [
    "for ocm_id in chosen_categories:\n",
    "    print(f'\"{id_to_label[ocm_id].capitalize()}\" id({ocm_id}) count{top_n_count(ocm_id)}\\n')"
   ]
  },
  {
   "cell_type": "markdown",
   "id": "e2920b34-21b5-420a-b7c7-f86ee32df9d4",
   "metadata": {},
   "source": [
    "# Preprocessing"
   ]
  },
  {
   "cell_type": "markdown",
   "id": "6ef2a563-b430-40c9-b81f-4735d04645ed",
   "metadata": {},
   "source": [
    "- placeholders within {{}}.\n",
    "- multiple may occur within the pattern.\n",
    "- anything within [ ] should be excluded, since these are pictures or links.\n",
    "- "
   ]
  },
  {
   "cell_type": "code",
   "execution_count": 129,
   "id": "54556339-15d5-4bdf-b8bd-1484459ceebf",
   "metadata": {
    "tags": []
   },
   "outputs": [],
   "source": [
    "# df.iloc[212] # VERY WEIRD!!"
   ]
  },
  {
   "cell_type": "code",
   "execution_count": 147,
   "id": "1d7fd4e0-86ee-447f-8bb2-1450d42b8159",
   "metadata": {
    "collapsed": true,
    "jupyter": {
     "outputs_hidden": true
    },
    "tags": []
   },
   "outputs": [
    {
     "data": {
      "text/plain": [
       "sreid                                           aw42-001-001104\n",
       "section                                         aw42-001-000481\n",
       "sectpar                                         aw42-001-000458\n",
       "sectgpar                                                    NaN\n",
       "title         The Santal: a tribe in search of a great tradi...\n",
       "hdoc                                                   aw42-001\n",
       "culture                                                  Santal\n",
       "pub.date                                                   1965\n",
       "field.date                                            1957-1958\n",
       "byline                                          by Martin Orans\n",
       "sreprev                                         aw42-001-001098\n",
       "srenext                                       aw42-001-001104-0\n",
       "parent                                          aw42-001-000481\n",
       "division                                        aw42-001-000447\n",
       "coverage                                          not specified\n",
       "place                                                     India\n",
       "roll                                                        NaN\n",
       "pub.type                                              Monograph\n",
       "owcs                                                       aw42\n",
       "mainowc                                                    aw42\n",
       "samples                                                  SCCSPS\n",
       "pub.lang                                                English\n",
       "page                                                         18\n",
       "pageEid                                         aw42-001-001079\n",
       "prevPage                                        aw42-001-001035\n",
       "nextPage                                        aw42-001-001110\n",
       "textrecord    {{626}} The practice of readily giving assent ...\n",
       "ocms                                                        626\n",
       "Name: 31144, dtype: object"
      ]
     },
     "execution_count": 147,
     "metadata": {},
     "output_type": "execute_result"
    }
   ],
   "source": [
    "df.iloc[31144]"
   ]
  },
  {
   "cell_type": "code",
   "execution_count": 153,
   "id": "1777006b-2029-41f6-b451-e309bd28fdf2",
   "metadata": {
    "collapsed": true,
    "jupyter": {
     "outputs_hidden": true
    },
    "tags": []
   },
   "outputs": [
    {
     "data": {
      "text/plain": [
       "sreid                                         aw42-001-001104-0\n",
       "section                                         aw42-001-000481\n",
       "sectpar                                         aw42-001-000458\n",
       "sectgpar                                                    NaN\n",
       "title         The Santal: a tribe in search of a great tradi...\n",
       "hdoc                                                   aw42-001\n",
       "culture                                                  Santal\n",
       "pub.date                                                   1965\n",
       "field.date                                            1957-1958\n",
       "byline                                          by Martin Orans\n",
       "sreprev                                         aw42-001-001104\n",
       "srenext                                         aw42-001-001120\n",
       "parent                                          aw42-001-001104\n",
       "division                                        aw42-001-000447\n",
       "coverage                                          not specified\n",
       "place                                                     India\n",
       "roll                                            aw42-001-001104\n",
       "pub.type                                              Monograph\n",
       "owcs                                                       aw42\n",
       "mainowc                                                    aw42\n",
       "samples                                                  SCCSPS\n",
       "pub.lang                                                English\n",
       "page                                                         18\n",
       "pageEid                                         aw42-001-001079\n",
       "prevPage                                        aw42-001-001035\n",
       "nextPage                                        aw42-001-001110\n",
       "textrecord    which are held to be traditional, sacred, and ...\n",
       "ocms                                                        626\n",
       "Name: 31145, dtype: object"
      ]
     },
     "execution_count": 153,
     "metadata": {},
     "output_type": "execute_result"
    }
   ],
   "source": [
    "df.iloc[31145]"
   ]
  },
  {
   "cell_type": "code",
   "execution_count": 19,
   "id": "8194beea-fb76-4796-b686-846819d7f78c",
   "metadata": {
    "tags": []
   },
   "outputs": [
    {
     "data": {
      "text/plain": [
       "378    {{249}} For the seasoning of foods and for the...\n",
       "Name: textrecord, dtype: object"
      ]
     },
     "execution_count": 19,
     "metadata": {},
     "output_type": "execute_result"
    }
   ],
   "source": [
    "df[df['sreid'] == 'aa01-007-002174'].textrecord"
   ]
  },
  {
   "cell_type": "code",
   "execution_count": 21,
   "id": "8295b9f1-3428-42e4-b03c-115ec7eb228a",
   "metadata": {
    "tags": []
   },
   "outputs": [
    {
     "data": {
      "text/plain": [
       "379    [%  [caption:  TABLE 29. AVERAGE ACREAGE, PROD...\n",
       "Name: textrecord, dtype: object"
      ]
     },
     "execution_count": 21,
     "metadata": {},
     "output_type": "execute_result"
    }
   ],
   "source": [
    "df[df['sreid'] == 'aa01-007-002174-0'].textrecord"
   ]
  },
  {
   "cell_type": "code",
   "execution_count": 154,
   "id": "743d9637-20e3-4253-b2ca-1a42c14459fd",
   "metadata": {
    "collapsed": true,
    "jupyter": {
     "outputs_hidden": true
    },
    "tags": []
   },
   "outputs": [
    {
     "data": {
      "text/plain": [
       "sreid                                           aw42-001-001211\n",
       "section                                         aw42-001-000481\n",
       "sectpar                                         aw42-001-000458\n",
       "sectgpar                                                    NaN\n",
       "title         The Santal: a tribe in search of a great tradi...\n",
       "hdoc                                                   aw42-001\n",
       "culture                                                  Santal\n",
       "pub.date                                                   1965\n",
       "field.date                                            1957-1958\n",
       "byline                                          by Martin Orans\n",
       "sreprev                                         aw42-001-001203\n",
       "srenext                                       aw42-001-001211-0\n",
       "parent                                          aw42-001-000481\n",
       "division                                        aw42-001-000447\n",
       "coverage                                          not specified\n",
       "place                                                     India\n",
       "roll                                                        NaN\n",
       "pub.type                                              Monograph\n",
       "owcs                                                       aw42\n",
       "mainowc                                                    aw42\n",
       "samples                                                  SCCSPS\n",
       "pub.lang                                                English\n",
       "page                                                         21\n",
       "pageEid                                         aw42-001-001177\n",
       "prevPage                                        aw42-001-001140\n",
       "nextPage                                        aw42-001-001225\n",
       "textrecord    {{630}}  {{184}}  {{224}}  {{628}}  {{273}} Be...\n",
       "ocms                                        184 224 273 628 630\n",
       "Name: 31146, dtype: object"
      ]
     },
     "execution_count": 154,
     "metadata": {},
     "output_type": "execute_result"
    }
   ],
   "source": [
    "df.iloc[31146]"
   ]
  },
  {
   "cell_type": "code",
   "execution_count": 20,
   "id": "eb8db569-c92e-43ea-8435-4f9346611d74",
   "metadata": {
    "tags": []
   },
   "outputs": [
    {
     "data": {
      "text/plain": [
       "'social control'"
      ]
     },
     "execution_count": 20,
     "metadata": {},
     "output_type": "execute_result"
    }
   ],
   "source": [
    "id_to_label[626]"
   ]
  },
  {
   "cell_type": "code",
   "execution_count": 255,
   "id": "538f251b-93c2-4e97-84bc-e00ab36dedd3",
   "metadata": {
    "tags": []
   },
   "outputs": [
    {
     "data": {
      "text/plain": [
       "\"Lewis and Clark, whose visit was brief, list but three bands: Canoe (700 individuals), Girl's (850), and Big Devil (1600) or the later Mountain Village bands. Under __Remarks,__ they wrote: “These bands act entirely independent of each other, although they claim a natural affinity and never make war on each other (49).”\""
      ]
     },
     "execution_count": 255,
     "metadata": {},
     "output_type": "execute_result"
    }
   ],
   "source": [
    "test = df.iloc[89687].textrecord  \n",
    "test[:4327]"
   ]
  },
  {
   "cell_type": "code",
   "execution_count": 247,
   "id": "dcde2d83-dc9f-4a4c-8ec1-958c305c3fbb",
   "metadata": {
    "tags": []
   },
   "outputs": [],
   "source": [
    "def get_parent_category_i(cat):\n",
    "    return math.floor(int(cat) / 10) * 10"
   ]
  },
  {
   "cell_type": "markdown",
   "id": "8c5b391f-989c-4b2a-a86b-87a694fc75f1",
   "metadata": {
    "tags": []
   },
   "source": [
    "#TODO\n",
    "- if no OCMs in text, take the ones in the columns with the whole text instead.\n",
    "- detect EN only one time (use the saved one for now)\n",
    "- plot other interesting columns. If none, remove the rest."
   ]
  },
  {
   "cell_type": "code",
   "execution_count": 267,
   "id": "cb779506-cc9e-4572-90fe-735ace0e78bf",
   "metadata": {
    "tags": []
   },
   "outputs": [],
   "source": [
    "def split_data(row):\n",
    "    text = row['textrecord']\n",
    "    print(text)\n",
    "    text = re.sub(r\"\\[%.*?%\\]\", \"\", text) # exclude text within [%  %]\n",
    "\n",
    "    sentences = re.split(r'\\{\\{(\\d+(\\s+\\d+)*)\\}\\}', text.strip())\n",
    "\n",
    "    filtered_ocms = []\n",
    "    filtered_sentences = []\n",
    "    used_per_sentence = defaultdict(list)\n",
    "    current_labels = []\n",
    "    for i, s in enumerate(sentences):\n",
    "        if s and s.strip() != '':\n",
    "            s = s.strip()\n",
    "            if re.match(r\"\\d+\", s):\n",
    "                for cat in s.split():\n",
    "                    # print(used_per_sentence.get(len(filtered_sentences)))\n",
    "                    already_used = used_per_sentence.get(len(filtered_sentences))\n",
    "                    if not already_used or (cat not in already_used):\n",
    "                        # print(s)\n",
    "                        current_labels.append(get_parent_category_i(cat) if ONLY_PARENT_CATEGORY else int(cat))\n",
    "                        # filtered_ocms.append((len(filtered_sentences), get_parent_category_i(cat) if ONLY_PARENT_CATEGORY else cat))\n",
    "                        used_per_sentence[len(filtered_sentences)] = cat\n",
    "            else:\n",
    "                # group \n",
    "                filtered_sentences.append(s)\n",
    "                filtered_ocms.append(current_labels)\n",
    "                current_labels = []\n",
    "    return [{**row, \n",
    "             'textrecord': t, \n",
    "             'ocms': ocm, 'count': ocms_counts[ocm], 'label_name': id_to_label[ocm],\n",
    "             'parent_ocms': get_parent_category_i(ocm), 'parent_label_name': id_to_label[get_parent_category_i(ocm)]} \n",
    "            for i, t in enumerate(filtered_sentences)\n",
    "            for ocm in filtered_ocms[i] \n",
    "            if ocm <= LABELS_NEEDED_BEFORE\n",
    "           ]#if CHOSEN_CATEGORIES and ocm in chosen_categories]\n",
    "    return filtered_sentences, filtered_ocms"
   ]
  },
  {
   "cell_type": "code",
   "execution_count": 263,
   "id": "3fc1112a-da2c-42ec-ac7c-b8184eac862c",
   "metadata": {
    "tags": []
   },
   "outputs": [
    {
     "data": {
      "text/plain": [
       "\"Lewis and Clark, whose visit was brief, list but three bands: Canoe (700 individuals), Girl's (850), and Big Devil (1600) or the later Mountain Village bands. Under __Remarks,__ they wrote: “These bands act entirely independent of each other, although they claim a natural affinity and never make war on each other (49).”\""
      ]
     },
     "execution_count": 263,
     "metadata": {},
     "output_type": "execute_result"
    }
   ],
   "source": [
    "test"
   ]
  },
  {
   "cell_type": "code",
   "execution_count": 269,
   "id": "eb6f329b-a454-4f18-82b4-5397512cc9ac",
   "metadata": {
    "tags": []
   },
   "outputs": [
    {
     "data": {
      "text/plain": [
       "sreid                                           nf04-025-002648\n",
       "section                                         nf04-025-002551\n",
       "sectpar                                         nf04-025-001810\n",
       "sectgpar                                                    NaN\n",
       "title                   The Fort Belknap Assiniboine of Montana\n",
       "hdoc                                                   nf04-025\n",
       "culture                                             Assiniboine\n",
       "pub.date                                                   1938\n",
       "field.date                                                 1935\n",
       "byline                                       [by] David Rodnick\n",
       "sreprev                                         nf04-025-002642\n",
       "srenext                                         nf04-025-002655\n",
       "parent                                          nf04-025-002551\n",
       "division                                        nf04-025-000155\n",
       "coverage                                              1640-1935\n",
       "place                                    Montana, United States\n",
       "roll                                                        NaN\n",
       "pub.type                                              Monograph\n",
       "owcs                                                       nf04\n",
       "mainowc                                                    nf04\n",
       "samples                                                     NaN\n",
       "pub.lang                                                English\n",
       "page                                                         34\n",
       "pageEid                                         nf04-025-002631\n",
       "prevPage                                        nf04-025-002562\n",
       "nextPage                                        nf04-025-002791\n",
       "textrecord    Lewis and Clark, whose visit was brief, list b...\n",
       "ocms                                                    162 221\n",
       "language                                                     en\n",
       "Name: 99459, dtype: object"
      ]
     },
     "execution_count": 269,
     "metadata": {},
     "output_type": "execute_result"
    }
   ],
   "source": [
    "df.iloc[89687]"
   ]
  },
  {
   "cell_type": "code",
   "execution_count": 268,
   "id": "abc13205-85af-4c01-a8e0-405e237373fb",
   "metadata": {
    "tags": []
   },
   "outputs": [
    {
     "name": "stdout",
     "output_type": "stream",
     "text": [
      "Lewis and Clark, whose visit was brief, list but three bands: Canoe (700 individuals), Girl's (850), and Big Devil (1600) or the later Mountain Village bands. Under __Remarks,__ they wrote: “These bands act entirely independent of each other, although they claim a natural affinity and never make war on each other (49).”\n"
     ]
    },
    {
     "data": {
      "text/html": [
       "<div>\n",
       "<style scoped>\n",
       "    .dataframe tbody tr th:only-of-type {\n",
       "        vertical-align: middle;\n",
       "    }\n",
       "\n",
       "    .dataframe tbody tr th {\n",
       "        vertical-align: top;\n",
       "    }\n",
       "\n",
       "    .dataframe thead th {\n",
       "        text-align: right;\n",
       "    }\n",
       "</style>\n",
       "<table border=\"1\" class=\"dataframe\">\n",
       "  <thead>\n",
       "    <tr style=\"text-align: right;\">\n",
       "      <th></th>\n",
       "      <th>99459</th>\n",
       "    </tr>\n",
       "  </thead>\n",
       "  <tbody>\n",
       "  </tbody>\n",
       "</table>\n",
       "</div>"
      ],
      "text/plain": [
       "Empty DataFrame\n",
       "Columns: [99459]\n",
       "Index: []"
      ]
     },
     "execution_count": 268,
     "metadata": {},
     "output_type": "execute_result"
    }
   ],
   "source": [
    "pd.DataFrame(df.iloc[89687]).apply(split_data, axis=0)\n",
    "# [{'text': t, 'ocm': ocm} for i, t in enumerate(filtered_sentences) for ocm in filtered_ocms[i]]"
   ]
  },
  {
   "cell_type": "code",
   "execution_count": 123,
   "id": "3296bf39-7ebb-4652-9ae8-2730444ab4c2",
   "metadata": {
    "tags": []
   },
   "outputs": [],
   "source": [
    "pd.set_option('display.max_rows', None)\n",
    "pd.set_option('display.max_columns', None)\n"
   ]
  },
  {
   "cell_type": "code",
   "execution_count": 139,
   "id": "8a4e1add-7fed-4474-bc20-ff250076f0d8",
   "metadata": {
    "tags": []
   },
   "outputs": [],
   "source": [
    "all_data = []\n",
    "for item in df.apply(split_data, axis=1):\n",
    "    if item:\n",
    "        [all_data.append(i) for i in item]"
   ]
  },
  {
   "cell_type": "code",
   "execution_count": 141,
   "id": "1ee84d1f-38cd-4047-83ca-e7ccbec3cab2",
   "metadata": {
    "tags": []
   },
   "outputs": [
    {
     "data": {
      "text/html": [
       "<div>\n",
       "<style scoped>\n",
       "    .dataframe tbody tr th:only-of-type {\n",
       "        vertical-align: middle;\n",
       "    }\n",
       "\n",
       "    .dataframe tbody tr th {\n",
       "        vertical-align: top;\n",
       "    }\n",
       "\n",
       "    .dataframe thead th {\n",
       "        text-align: right;\n",
       "    }\n",
       "</style>\n",
       "<table border=\"1\" class=\"dataframe\">\n",
       "  <thead>\n",
       "    <tr style=\"text-align: right;\">\n",
       "      <th></th>\n",
       "      <th>sreid</th>\n",
       "      <th>section</th>\n",
       "      <th>sectpar</th>\n",
       "      <th>sectgpar</th>\n",
       "      <th>title</th>\n",
       "      <th>hdoc</th>\n",
       "      <th>culture</th>\n",
       "      <th>pub.date</th>\n",
       "      <th>field.date</th>\n",
       "      <th>byline</th>\n",
       "      <th>...</th>\n",
       "      <th>page</th>\n",
       "      <th>pageEid</th>\n",
       "      <th>prevPage</th>\n",
       "      <th>nextPage</th>\n",
       "      <th>textrecord</th>\n",
       "      <th>ocms</th>\n",
       "      <th>count</th>\n",
       "      <th>label_name</th>\n",
       "      <th>parent_ocms</th>\n",
       "      <th>parent_label_name</th>\n",
       "    </tr>\n",
       "  </thead>\n",
       "  <tbody>\n",
       "    <tr>\n",
       "      <th>0</th>\n",
       "      <td>aa01-001-000341</td>\n",
       "      <td>aa01-001-000028</td>\n",
       "      <td>NaN</td>\n",
       "      <td>NaN</td>\n",
       "      <td>The passing of Korea</td>\n",
       "      <td>aa01-001</td>\n",
       "      <td>Korea</td>\n",
       "      <td>NaN</td>\n",
       "      <td>1890-1905</td>\n",
       "      <td>[by] Homer B. Hulbert</td>\n",
       "      <td>...</td>\n",
       "      <td>14-15</td>\n",
       "      <td>aa01-001-000331</td>\n",
       "      <td>aa01-001-000308</td>\n",
       "      <td>aa01-001-000347</td>\n",
       "      <td>“Korea is richly endowed with fruits of almost...</td>\n",
       "      <td>245</td>\n",
       "      <td>9633</td>\n",
       "      <td>arboriculture</td>\n",
       "      <td>240</td>\n",
       "      <td>agriculture</td>\n",
       "    </tr>\n",
       "    <tr>\n",
       "      <th>1</th>\n",
       "      <td>aa01-001-000357</td>\n",
       "      <td>aa01-001-000028</td>\n",
       "      <td>NaN</td>\n",
       "      <td>NaN</td>\n",
       "      <td>The passing of Korea</td>\n",
       "      <td>aa01-001</td>\n",
       "      <td>Korea</td>\n",
       "      <td>NaN</td>\n",
       "      <td>1890-1905</td>\n",
       "      <td>[by] Homer B. Hulbert</td>\n",
       "      <td>...</td>\n",
       "      <td>15-16</td>\n",
       "      <td>aa01-001-000347</td>\n",
       "      <td>aa01-001-000331</td>\n",
       "      <td>aa01-001-000371</td>\n",
       "      <td>“The question of cereals is, of course, of pri...</td>\n",
       "      <td>234</td>\n",
       "      <td>1078</td>\n",
       "      <td>dairying</td>\n",
       "      <td>230</td>\n",
       "      <td>animal husbandry</td>\n",
       "    </tr>\n",
       "    <tr>\n",
       "      <th>2</th>\n",
       "      <td>aa01-001-000357</td>\n",
       "      <td>aa01-001-000028</td>\n",
       "      <td>NaN</td>\n",
       "      <td>NaN</td>\n",
       "      <td>The passing of Korea</td>\n",
       "      <td>aa01-001</td>\n",
       "      <td>Korea</td>\n",
       "      <td>NaN</td>\n",
       "      <td>1890-1905</td>\n",
       "      <td>[by] Homer B. Hulbert</td>\n",
       "      <td>...</td>\n",
       "      <td>15-16</td>\n",
       "      <td>aa01-001-000347</td>\n",
       "      <td>aa01-001-000331</td>\n",
       "      <td>aa01-001-000371</td>\n",
       "      <td>“The question of cereals is, of course, of pri...</td>\n",
       "      <td>243</td>\n",
       "      <td>25723</td>\n",
       "      <td>cereal agriculture</td>\n",
       "      <td>240</td>\n",
       "      <td>agriculture</td>\n",
       "    </tr>\n",
       "    <tr>\n",
       "      <th>3</th>\n",
       "      <td>aa01-001-000357</td>\n",
       "      <td>aa01-001-000028</td>\n",
       "      <td>NaN</td>\n",
       "      <td>NaN</td>\n",
       "      <td>The passing of Korea</td>\n",
       "      <td>aa01-001</td>\n",
       "      <td>Korea</td>\n",
       "      <td>NaN</td>\n",
       "      <td>1890-1905</td>\n",
       "      <td>[by] Homer B. Hulbert</td>\n",
       "      <td>...</td>\n",
       "      <td>15-16</td>\n",
       "      <td>aa01-001-000347</td>\n",
       "      <td>aa01-001-000331</td>\n",
       "      <td>aa01-001-000371</td>\n",
       "      <td>“The question of cereals is, of course, of pri...</td>\n",
       "      <td>538</td>\n",
       "      <td>822</td>\n",
       "      <td>literature</td>\n",
       "      <td>530</td>\n",
       "      <td>art</td>\n",
       "    </tr>\n",
       "    <tr>\n",
       "      <th>4</th>\n",
       "      <td>aa01-001-000357</td>\n",
       "      <td>aa01-001-000028</td>\n",
       "      <td>NaN</td>\n",
       "      <td>NaN</td>\n",
       "      <td>The passing of Korea</td>\n",
       "      <td>aa01-001</td>\n",
       "      <td>Korea</td>\n",
       "      <td>NaN</td>\n",
       "      <td>1890-1905</td>\n",
       "      <td>[by] Homer B. Hulbert</td>\n",
       "      <td>...</td>\n",
       "      <td>15-16</td>\n",
       "      <td>aa01-001-000347</td>\n",
       "      <td>aa01-001-000331</td>\n",
       "      <td>aa01-001-000371</td>\n",
       "      <td>“The question of cereals is, of course, of pri...</td>\n",
       "      <td>517</td>\n",
       "      <td>717</td>\n",
       "      <td>leisure time activities</td>\n",
       "      <td>510</td>\n",
       "      <td>living standards and routines</td>\n",
       "    </tr>\n",
       "    <tr>\n",
       "      <th>5</th>\n",
       "      <td>aa01-001-000436</td>\n",
       "      <td>aa01-001-000028</td>\n",
       "      <td>NaN</td>\n",
       "      <td>NaN</td>\n",
       "      <td>The passing of Korea</td>\n",
       "      <td>aa01-001</td>\n",
       "      <td>Korea</td>\n",
       "      <td>NaN</td>\n",
       "      <td>1890-1905</td>\n",
       "      <td>[by] Homer B. Hulbert</td>\n",
       "      <td>...</td>\n",
       "      <td>17</td>\n",
       "      <td>aa01-001-000426</td>\n",
       "      <td>aa01-001-000371</td>\n",
       "      <td>aa01-001-000454</td>\n",
       "      <td>“Millet is the most ancient form of food known...</td>\n",
       "      <td>243</td>\n",
       "      <td>25723</td>\n",
       "      <td>cereal agriculture</td>\n",
       "      <td>240</td>\n",
       "      <td>agriculture</td>\n",
       "    </tr>\n",
       "    <tr>\n",
       "      <th>6</th>\n",
       "      <td>aa01-001-000442</td>\n",
       "      <td>aa01-001-000028</td>\n",
       "      <td>NaN</td>\n",
       "      <td>NaN</td>\n",
       "      <td>The passing of Korea</td>\n",
       "      <td>aa01-001</td>\n",
       "      <td>Korea</td>\n",
       "      <td>NaN</td>\n",
       "      <td>1890-1905</td>\n",
       "      <td>[by] Homer B. Hulbert</td>\n",
       "      <td>...</td>\n",
       "      <td>17</td>\n",
       "      <td>aa01-001-000426</td>\n",
       "      <td>aa01-001-000371</td>\n",
       "      <td>aa01-001-000454</td>\n",
       "      <td>“As rice is the national dish, we naturally ex...</td>\n",
       "      <td>243</td>\n",
       "      <td>25723</td>\n",
       "      <td>cereal agriculture</td>\n",
       "      <td>240</td>\n",
       "      <td>agriculture</td>\n",
       "    </tr>\n",
       "    <tr>\n",
       "      <th>7</th>\n",
       "      <td>aa01-001-000442</td>\n",
       "      <td>aa01-001-000028</td>\n",
       "      <td>NaN</td>\n",
       "      <td>NaN</td>\n",
       "      <td>The passing of Korea</td>\n",
       "      <td>aa01-001</td>\n",
       "      <td>Korea</td>\n",
       "      <td>NaN</td>\n",
       "      <td>1890-1905</td>\n",
       "      <td>[by] Homer B. Hulbert</td>\n",
       "      <td>...</td>\n",
       "      <td>17</td>\n",
       "      <td>aa01-001-000426</td>\n",
       "      <td>aa01-001-000371</td>\n",
       "      <td>aa01-001-000454</td>\n",
       "      <td>“As rice is the national dish, we naturally ex...</td>\n",
       "      <td>252</td>\n",
       "      <td>7645</td>\n",
       "      <td>food preparation</td>\n",
       "      <td>250</td>\n",
       "      <td>food processing</td>\n",
       "    </tr>\n",
       "    <tr>\n",
       "      <th>8</th>\n",
       "      <td>aa01-001-000442</td>\n",
       "      <td>aa01-001-000028</td>\n",
       "      <td>NaN</td>\n",
       "      <td>NaN</td>\n",
       "      <td>The passing of Korea</td>\n",
       "      <td>aa01-001</td>\n",
       "      <td>Korea</td>\n",
       "      <td>NaN</td>\n",
       "      <td>1890-1905</td>\n",
       "      <td>[by] Homer B. Hulbert</td>\n",
       "      <td>...</td>\n",
       "      <td>17</td>\n",
       "      <td>aa01-001-000426</td>\n",
       "      <td>aa01-001-000371</td>\n",
       "      <td>aa01-001-000454</td>\n",
       "      <td>“As rice is the national dish, we naturally ex...</td>\n",
       "      <td>263</td>\n",
       "      <td>1811</td>\n",
       "      <td>condiments</td>\n",
       "      <td>260</td>\n",
       "      <td>food consumption</td>\n",
       "    </tr>\n",
       "    <tr>\n",
       "      <th>9</th>\n",
       "      <td>aa01-001-000480</td>\n",
       "      <td>aa01-001-000028</td>\n",
       "      <td>NaN</td>\n",
       "      <td>NaN</td>\n",
       "      <td>The passing of Korea</td>\n",
       "      <td>aa01-001</td>\n",
       "      <td>Korea</td>\n",
       "      <td>NaN</td>\n",
       "      <td>1890-1905</td>\n",
       "      <td>[by] Homer B. Hulbert</td>\n",
       "      <td>...</td>\n",
       "      <td>18-19</td>\n",
       "      <td>aa01-001-000470</td>\n",
       "      <td>aa01-001-000454</td>\n",
       "      <td>aa01-001-000488</td>\n",
       "      <td>“The Koreans are great lovers of flowers, thou...</td>\n",
       "      <td>247</td>\n",
       "      <td>370</td>\n",
       "      <td>floriculture</td>\n",
       "      <td>240</td>\n",
       "      <td>agriculture</td>\n",
       "    </tr>\n",
       "    <tr>\n",
       "      <th>10</th>\n",
       "      <td>aa01-001-000480</td>\n",
       "      <td>aa01-001-000028</td>\n",
       "      <td>NaN</td>\n",
       "      <td>NaN</td>\n",
       "      <td>The passing of Korea</td>\n",
       "      <td>aa01-001</td>\n",
       "      <td>Korea</td>\n",
       "      <td>NaN</td>\n",
       "      <td>1890-1905</td>\n",
       "      <td>[by] Homer B. Hulbert</td>\n",
       "      <td>...</td>\n",
       "      <td>18-19</td>\n",
       "      <td>aa01-001-000470</td>\n",
       "      <td>aa01-001-000454</td>\n",
       "      <td>aa01-001-000488</td>\n",
       "      <td>“The Koreans are great lovers of flowers, thou...</td>\n",
       "      <td>369</td>\n",
       "      <td>579</td>\n",
       "      <td>urban and rural life</td>\n",
       "      <td>360</td>\n",
       "      <td>settlements</td>\n",
       "    </tr>\n",
       "    <tr>\n",
       "      <th>11</th>\n",
       "      <td>aa01-001-000606</td>\n",
       "      <td>aa01-001-000028</td>\n",
       "      <td>NaN</td>\n",
       "      <td>NaN</td>\n",
       "      <td>The passing of Korea</td>\n",
       "      <td>aa01-001</td>\n",
       "      <td>Korea</td>\n",
       "      <td>NaN</td>\n",
       "      <td>1890-1905</td>\n",
       "      <td>[by] Homer B. Hulbert</td>\n",
       "      <td>...</td>\n",
       "      <td>21-22</td>\n",
       "      <td>aa01-001-000596</td>\n",
       "      <td>aa01-001-000580</td>\n",
       "      <td>aa01-001-000616</td>\n",
       "      <td>“So much for domestic animals. Of wild beasts ...</td>\n",
       "      <td>136</td>\n",
       "      <td>7144</td>\n",
       "      <td>fauna</td>\n",
       "      <td>130</td>\n",
       "      <td>geography</td>\n",
       "    </tr>\n",
       "    <tr>\n",
       "      <th>12</th>\n",
       "      <td>aa01-001-000606</td>\n",
       "      <td>aa01-001-000028</td>\n",
       "      <td>NaN</td>\n",
       "      <td>NaN</td>\n",
       "      <td>The passing of Korea</td>\n",
       "      <td>aa01-001</td>\n",
       "      <td>Korea</td>\n",
       "      <td>NaN</td>\n",
       "      <td>1890-1905</td>\n",
       "      <td>[by] Homer B. Hulbert</td>\n",
       "      <td>...</td>\n",
       "      <td>21-22</td>\n",
       "      <td>aa01-001-000596</td>\n",
       "      <td>aa01-001-000580</td>\n",
       "      <td>aa01-001-000616</td>\n",
       "      <td>“So much for domestic animals. Of wild beasts ...</td>\n",
       "      <td>224</td>\n",
       "      <td>32918</td>\n",
       "      <td>hunting and trapping</td>\n",
       "      <td>220</td>\n",
       "      <td>food quest</td>\n",
       "    </tr>\n",
       "    <tr>\n",
       "      <th>13</th>\n",
       "      <td>aa01-001-000606</td>\n",
       "      <td>aa01-001-000028</td>\n",
       "      <td>NaN</td>\n",
       "      <td>NaN</td>\n",
       "      <td>The passing of Korea</td>\n",
       "      <td>aa01-001</td>\n",
       "      <td>Korea</td>\n",
       "      <td>NaN</td>\n",
       "      <td>1890-1905</td>\n",
       "      <td>[by] Homer B. Hulbert</td>\n",
       "      <td>...</td>\n",
       "      <td>21-22</td>\n",
       "      <td>aa01-001-000596</td>\n",
       "      <td>aa01-001-000580</td>\n",
       "      <td>aa01-001-000616</td>\n",
       "      <td>“So much for domestic animals. Of wild beasts ...</td>\n",
       "      <td>476</td>\n",
       "      <td>3893</td>\n",
       "      <td>mutual aid</td>\n",
       "      <td>470</td>\n",
       "      <td>business and industrial organization</td>\n",
       "    </tr>\n",
       "    <tr>\n",
       "      <th>14</th>\n",
       "      <td>aa01-001-000636</td>\n",
       "      <td>aa01-001-000028</td>\n",
       "      <td>NaN</td>\n",
       "      <td>NaN</td>\n",
       "      <td>The passing of Korea</td>\n",
       "      <td>aa01-001</td>\n",
       "      <td>Korea</td>\n",
       "      <td>NaN</td>\n",
       "      <td>1890-1905</td>\n",
       "      <td>[by] Homer B. Hulbert</td>\n",
       "      <td>...</td>\n",
       "      <td>22</td>\n",
       "      <td>aa01-001-000616</td>\n",
       "      <td>aa01-001-000596</td>\n",
       "      <td>aa01-001-000648</td>\n",
       "      <td>“Deer are common throughout the land, and at t...</td>\n",
       "      <td>136</td>\n",
       "      <td>7144</td>\n",
       "      <td>fauna</td>\n",
       "      <td>130</td>\n",
       "      <td>geography</td>\n",
       "    </tr>\n",
       "    <tr>\n",
       "      <th>15</th>\n",
       "      <td>aa01-001-000636</td>\n",
       "      <td>aa01-001-000028</td>\n",
       "      <td>NaN</td>\n",
       "      <td>NaN</td>\n",
       "      <td>The passing of Korea</td>\n",
       "      <td>aa01-001</td>\n",
       "      <td>Korea</td>\n",
       "      <td>NaN</td>\n",
       "      <td>1890-1905</td>\n",
       "      <td>[by] Homer B. Hulbert</td>\n",
       "      <td>...</td>\n",
       "      <td>22</td>\n",
       "      <td>aa01-001-000616</td>\n",
       "      <td>aa01-001-000596</td>\n",
       "      <td>aa01-001-000648</td>\n",
       "      <td>“Deer are common throughout the land, and at t...</td>\n",
       "      <td>224</td>\n",
       "      <td>32918</td>\n",
       "      <td>hunting and trapping</td>\n",
       "      <td>220</td>\n",
       "      <td>food quest</td>\n",
       "    </tr>\n",
       "    <tr>\n",
       "      <th>16</th>\n",
       "      <td>aa01-001-000636</td>\n",
       "      <td>aa01-001-000028</td>\n",
       "      <td>NaN</td>\n",
       "      <td>NaN</td>\n",
       "      <td>The passing of Korea</td>\n",
       "      <td>aa01-001</td>\n",
       "      <td>Korea</td>\n",
       "      <td>NaN</td>\n",
       "      <td>1890-1905</td>\n",
       "      <td>[by] Homer B. Hulbert</td>\n",
       "      <td>...</td>\n",
       "      <td>22</td>\n",
       "      <td>aa01-001-000616</td>\n",
       "      <td>aa01-001-000596</td>\n",
       "      <td>aa01-001-000648</td>\n",
       "      <td>“Deer are common throughout the land, and at t...</td>\n",
       "      <td>278</td>\n",
       "      <td>2312</td>\n",
       "      <td>pharmaceuticals</td>\n",
       "      <td>270</td>\n",
       "      <td>drink and drugs</td>\n",
       "    </tr>\n",
       "    <tr>\n",
       "      <th>17</th>\n",
       "      <td>aa01-001-000636</td>\n",
       "      <td>aa01-001-000028</td>\n",
       "      <td>NaN</td>\n",
       "      <td>NaN</td>\n",
       "      <td>The passing of Korea</td>\n",
       "      <td>aa01-001</td>\n",
       "      <td>Korea</td>\n",
       "      <td>NaN</td>\n",
       "      <td>1890-1905</td>\n",
       "      <td>[by] Homer B. Hulbert</td>\n",
       "      <td>...</td>\n",
       "      <td>22</td>\n",
       "      <td>aa01-001-000616</td>\n",
       "      <td>aa01-001-000596</td>\n",
       "      <td>aa01-001-000648</td>\n",
       "      <td>“Deer are common throughout the land, and at t...</td>\n",
       "      <td>237</td>\n",
       "      <td>3938</td>\n",
       "      <td>animal by-products</td>\n",
       "      <td>230</td>\n",
       "      <td>animal husbandry</td>\n",
       "    </tr>\n",
       "    <tr>\n",
       "      <th>18</th>\n",
       "      <td>aa01-001-000706</td>\n",
       "      <td>aa01-001-000028</td>\n",
       "      <td>NaN</td>\n",
       "      <td>NaN</td>\n",
       "      <td>The passing of Korea</td>\n",
       "      <td>aa01-001</td>\n",
       "      <td>Korea</td>\n",
       "      <td>NaN</td>\n",
       "      <td>1890-1905</td>\n",
       "      <td>[by] Homer B. Hulbert</td>\n",
       "      <td>...</td>\n",
       "      <td>23-24</td>\n",
       "      <td>aa01-001-000696</td>\n",
       "      <td>aa01-001-000666</td>\n",
       "      <td>aa01-001-000714</td>\n",
       "      <td>“For its bird life, especially game birds, Kor...</td>\n",
       "      <td>136</td>\n",
       "      <td>7144</td>\n",
       "      <td>fauna</td>\n",
       "      <td>130</td>\n",
       "      <td>geography</td>\n",
       "    </tr>\n",
       "    <tr>\n",
       "      <th>19</th>\n",
       "      <td>aa01-001-000706</td>\n",
       "      <td>aa01-001-000028</td>\n",
       "      <td>NaN</td>\n",
       "      <td>NaN</td>\n",
       "      <td>The passing of Korea</td>\n",
       "      <td>aa01-001</td>\n",
       "      <td>Korea</td>\n",
       "      <td>NaN</td>\n",
       "      <td>1890-1905</td>\n",
       "      <td>[by] Homer B. Hulbert</td>\n",
       "      <td>...</td>\n",
       "      <td>23-24</td>\n",
       "      <td>aa01-001-000696</td>\n",
       "      <td>aa01-001-000666</td>\n",
       "      <td>aa01-001-000714</td>\n",
       "      <td>“For its bird life, especially game birds, Kor...</td>\n",
       "      <td>224</td>\n",
       "      <td>32918</td>\n",
       "      <td>hunting and trapping</td>\n",
       "      <td>220</td>\n",
       "      <td>food quest</td>\n",
       "    </tr>\n",
       "    <tr>\n",
       "      <th>20</th>\n",
       "      <td>aa01-001-000799</td>\n",
       "      <td>aa01-001-000028</td>\n",
       "      <td>NaN</td>\n",
       "      <td>NaN</td>\n",
       "      <td>The passing of Korea</td>\n",
       "      <td>aa01-001</td>\n",
       "      <td>Korea</td>\n",
       "      <td>NaN</td>\n",
       "      <td>1890-1905</td>\n",
       "      <td>[by] Homer B. Hulbert</td>\n",
       "      <td>...</td>\n",
       "      <td>25-26</td>\n",
       "      <td>aa01-001-000789</td>\n",
       "      <td>aa01-001-000757</td>\n",
       "      <td>aa01-001-000809</td>\n",
       "      <td>“More important than all these, except cattle,...</td>\n",
       "      <td>136</td>\n",
       "      <td>7144</td>\n",
       "      <td>fauna</td>\n",
       "      <td>130</td>\n",
       "      <td>geography</td>\n",
       "    </tr>\n",
       "    <tr>\n",
       "      <th>21</th>\n",
       "      <td>aa01-001-000799</td>\n",
       "      <td>aa01-001-000028</td>\n",
       "      <td>NaN</td>\n",
       "      <td>NaN</td>\n",
       "      <td>The passing of Korea</td>\n",
       "      <td>aa01-001</td>\n",
       "      <td>Korea</td>\n",
       "      <td>NaN</td>\n",
       "      <td>1890-1905</td>\n",
       "      <td>[by] Homer B. Hulbert</td>\n",
       "      <td>...</td>\n",
       "      <td>25-26</td>\n",
       "      <td>aa01-001-000789</td>\n",
       "      <td>aa01-001-000757</td>\n",
       "      <td>aa01-001-000809</td>\n",
       "      <td>“More important than all these, except cattle,...</td>\n",
       "      <td>226</td>\n",
       "      <td>23359</td>\n",
       "      <td>fishing</td>\n",
       "      <td>220</td>\n",
       "      <td>food quest</td>\n",
       "    </tr>\n",
       "    <tr>\n",
       "      <th>22</th>\n",
       "      <td>aa01-001-000799</td>\n",
       "      <td>aa01-001-000028</td>\n",
       "      <td>NaN</td>\n",
       "      <td>NaN</td>\n",
       "      <td>The passing of Korea</td>\n",
       "      <td>aa01-001</td>\n",
       "      <td>Korea</td>\n",
       "      <td>NaN</td>\n",
       "      <td>1890-1905</td>\n",
       "      <td>[by] Homer B. Hulbert</td>\n",
       "      <td>...</td>\n",
       "      <td>25-26</td>\n",
       "      <td>aa01-001-000789</td>\n",
       "      <td>aa01-001-000757</td>\n",
       "      <td>aa01-001-000809</td>\n",
       "      <td>“More important than all these, except cattle,...</td>\n",
       "      <td>228</td>\n",
       "      <td>4275</td>\n",
       "      <td>marine industries</td>\n",
       "      <td>220</td>\n",
       "      <td>food quest</td>\n",
       "    </tr>\n",
       "  </tbody>\n",
       "</table>\n",
       "<p>23 rows × 32 columns</p>\n",
       "</div>"
      ],
      "text/plain": [
       "              sreid          section  sectpar  sectgpar                 title   \n",
       "0   aa01-001-000341  aa01-001-000028      NaN       NaN  The passing of Korea  \\\n",
       "1   aa01-001-000357  aa01-001-000028      NaN       NaN  The passing of Korea   \n",
       "2   aa01-001-000357  aa01-001-000028      NaN       NaN  The passing of Korea   \n",
       "3   aa01-001-000357  aa01-001-000028      NaN       NaN  The passing of Korea   \n",
       "4   aa01-001-000357  aa01-001-000028      NaN       NaN  The passing of Korea   \n",
       "5   aa01-001-000436  aa01-001-000028      NaN       NaN  The passing of Korea   \n",
       "6   aa01-001-000442  aa01-001-000028      NaN       NaN  The passing of Korea   \n",
       "7   aa01-001-000442  aa01-001-000028      NaN       NaN  The passing of Korea   \n",
       "8   aa01-001-000442  aa01-001-000028      NaN       NaN  The passing of Korea   \n",
       "9   aa01-001-000480  aa01-001-000028      NaN       NaN  The passing of Korea   \n",
       "10  aa01-001-000480  aa01-001-000028      NaN       NaN  The passing of Korea   \n",
       "11  aa01-001-000606  aa01-001-000028      NaN       NaN  The passing of Korea   \n",
       "12  aa01-001-000606  aa01-001-000028      NaN       NaN  The passing of Korea   \n",
       "13  aa01-001-000606  aa01-001-000028      NaN       NaN  The passing of Korea   \n",
       "14  aa01-001-000636  aa01-001-000028      NaN       NaN  The passing of Korea   \n",
       "15  aa01-001-000636  aa01-001-000028      NaN       NaN  The passing of Korea   \n",
       "16  aa01-001-000636  aa01-001-000028      NaN       NaN  The passing of Korea   \n",
       "17  aa01-001-000636  aa01-001-000028      NaN       NaN  The passing of Korea   \n",
       "18  aa01-001-000706  aa01-001-000028      NaN       NaN  The passing of Korea   \n",
       "19  aa01-001-000706  aa01-001-000028      NaN       NaN  The passing of Korea   \n",
       "20  aa01-001-000799  aa01-001-000028      NaN       NaN  The passing of Korea   \n",
       "21  aa01-001-000799  aa01-001-000028      NaN       NaN  The passing of Korea   \n",
       "22  aa01-001-000799  aa01-001-000028      NaN       NaN  The passing of Korea   \n",
       "\n",
       "        hdoc culture  pub.date field.date                 byline  ...   page   \n",
       "0   aa01-001   Korea       NaN  1890-1905  [by] Homer B. Hulbert  ...  14-15  \\\n",
       "1   aa01-001   Korea       NaN  1890-1905  [by] Homer B. Hulbert  ...  15-16   \n",
       "2   aa01-001   Korea       NaN  1890-1905  [by] Homer B. Hulbert  ...  15-16   \n",
       "3   aa01-001   Korea       NaN  1890-1905  [by] Homer B. Hulbert  ...  15-16   \n",
       "4   aa01-001   Korea       NaN  1890-1905  [by] Homer B. Hulbert  ...  15-16   \n",
       "5   aa01-001   Korea       NaN  1890-1905  [by] Homer B. Hulbert  ...     17   \n",
       "6   aa01-001   Korea       NaN  1890-1905  [by] Homer B. Hulbert  ...     17   \n",
       "7   aa01-001   Korea       NaN  1890-1905  [by] Homer B. Hulbert  ...     17   \n",
       "8   aa01-001   Korea       NaN  1890-1905  [by] Homer B. Hulbert  ...     17   \n",
       "9   aa01-001   Korea       NaN  1890-1905  [by] Homer B. Hulbert  ...  18-19   \n",
       "10  aa01-001   Korea       NaN  1890-1905  [by] Homer B. Hulbert  ...  18-19   \n",
       "11  aa01-001   Korea       NaN  1890-1905  [by] Homer B. Hulbert  ...  21-22   \n",
       "12  aa01-001   Korea       NaN  1890-1905  [by] Homer B. Hulbert  ...  21-22   \n",
       "13  aa01-001   Korea       NaN  1890-1905  [by] Homer B. Hulbert  ...  21-22   \n",
       "14  aa01-001   Korea       NaN  1890-1905  [by] Homer B. Hulbert  ...     22   \n",
       "15  aa01-001   Korea       NaN  1890-1905  [by] Homer B. Hulbert  ...     22   \n",
       "16  aa01-001   Korea       NaN  1890-1905  [by] Homer B. Hulbert  ...     22   \n",
       "17  aa01-001   Korea       NaN  1890-1905  [by] Homer B. Hulbert  ...     22   \n",
       "18  aa01-001   Korea       NaN  1890-1905  [by] Homer B. Hulbert  ...  23-24   \n",
       "19  aa01-001   Korea       NaN  1890-1905  [by] Homer B. Hulbert  ...  23-24   \n",
       "20  aa01-001   Korea       NaN  1890-1905  [by] Homer B. Hulbert  ...  25-26   \n",
       "21  aa01-001   Korea       NaN  1890-1905  [by] Homer B. Hulbert  ...  25-26   \n",
       "22  aa01-001   Korea       NaN  1890-1905  [by] Homer B. Hulbert  ...  25-26   \n",
       "\n",
       "            pageEid         prevPage         nextPage   \n",
       "0   aa01-001-000331  aa01-001-000308  aa01-001-000347  \\\n",
       "1   aa01-001-000347  aa01-001-000331  aa01-001-000371   \n",
       "2   aa01-001-000347  aa01-001-000331  aa01-001-000371   \n",
       "3   aa01-001-000347  aa01-001-000331  aa01-001-000371   \n",
       "4   aa01-001-000347  aa01-001-000331  aa01-001-000371   \n",
       "5   aa01-001-000426  aa01-001-000371  aa01-001-000454   \n",
       "6   aa01-001-000426  aa01-001-000371  aa01-001-000454   \n",
       "7   aa01-001-000426  aa01-001-000371  aa01-001-000454   \n",
       "8   aa01-001-000426  aa01-001-000371  aa01-001-000454   \n",
       "9   aa01-001-000470  aa01-001-000454  aa01-001-000488   \n",
       "10  aa01-001-000470  aa01-001-000454  aa01-001-000488   \n",
       "11  aa01-001-000596  aa01-001-000580  aa01-001-000616   \n",
       "12  aa01-001-000596  aa01-001-000580  aa01-001-000616   \n",
       "13  aa01-001-000596  aa01-001-000580  aa01-001-000616   \n",
       "14  aa01-001-000616  aa01-001-000596  aa01-001-000648   \n",
       "15  aa01-001-000616  aa01-001-000596  aa01-001-000648   \n",
       "16  aa01-001-000616  aa01-001-000596  aa01-001-000648   \n",
       "17  aa01-001-000616  aa01-001-000596  aa01-001-000648   \n",
       "18  aa01-001-000696  aa01-001-000666  aa01-001-000714   \n",
       "19  aa01-001-000696  aa01-001-000666  aa01-001-000714   \n",
       "20  aa01-001-000789  aa01-001-000757  aa01-001-000809   \n",
       "21  aa01-001-000789  aa01-001-000757  aa01-001-000809   \n",
       "22  aa01-001-000789  aa01-001-000757  aa01-001-000809   \n",
       "\n",
       "                                           textrecord ocms  count   \n",
       "0   “Korea is richly endowed with fruits of almost...  245   9633  \\\n",
       "1   “The question of cereals is, of course, of pri...  234   1078   \n",
       "2   “The question of cereals is, of course, of pri...  243  25723   \n",
       "3   “The question of cereals is, of course, of pri...  538    822   \n",
       "4   “The question of cereals is, of course, of pri...  517    717   \n",
       "5   “Millet is the most ancient form of food known...  243  25723   \n",
       "6   “As rice is the national dish, we naturally ex...  243  25723   \n",
       "7   “As rice is the national dish, we naturally ex...  252   7645   \n",
       "8   “As rice is the national dish, we naturally ex...  263   1811   \n",
       "9   “The Koreans are great lovers of flowers, thou...  247    370   \n",
       "10  “The Koreans are great lovers of flowers, thou...  369    579   \n",
       "11  “So much for domestic animals. Of wild beasts ...  136   7144   \n",
       "12  “So much for domestic animals. Of wild beasts ...  224  32918   \n",
       "13  “So much for domestic animals. Of wild beasts ...  476   3893   \n",
       "14  “Deer are common throughout the land, and at t...  136   7144   \n",
       "15  “Deer are common throughout the land, and at t...  224  32918   \n",
       "16  “Deer are common throughout the land, and at t...  278   2312   \n",
       "17  “Deer are common throughout the land, and at t...  237   3938   \n",
       "18  “For its bird life, especially game birds, Kor...  136   7144   \n",
       "19  “For its bird life, especially game birds, Kor...  224  32918   \n",
       "20  “More important than all these, except cattle,...  136   7144   \n",
       "21  “More important than all these, except cattle,...  226  23359   \n",
       "22  “More important than all these, except cattle,...  228   4275   \n",
       "\n",
       "                 label_name parent_ocms                     parent_label_name  \n",
       "0             arboriculture         240                           agriculture  \n",
       "1                  dairying         230                      animal husbandry  \n",
       "2        cereal agriculture         240                           agriculture  \n",
       "3                literature         530                                   art  \n",
       "4   leisure time activities         510         living standards and routines  \n",
       "5        cereal agriculture         240                           agriculture  \n",
       "6        cereal agriculture         240                           agriculture  \n",
       "7          food preparation         250                       food processing  \n",
       "8                condiments         260                      food consumption  \n",
       "9              floriculture         240                           agriculture  \n",
       "10     urban and rural life         360                           settlements  \n",
       "11                    fauna         130                             geography  \n",
       "12     hunting and trapping         220                            food quest  \n",
       "13               mutual aid         470  business and industrial organization  \n",
       "14                    fauna         130                             geography  \n",
       "15     hunting and trapping         220                            food quest  \n",
       "16          pharmaceuticals         270                       drink and drugs  \n",
       "17       animal by-products         230                      animal husbandry  \n",
       "18                    fauna         130                             geography  \n",
       "19     hunting and trapping         220                            food quest  \n",
       "20                    fauna         130                             geography  \n",
       "21                  fishing         220                            food quest  \n",
       "22        marine industries         220                            food quest  \n",
       "\n",
       "[23 rows x 32 columns]"
      ]
     },
     "execution_count": 141,
     "metadata": {},
     "output_type": "execute_result"
    }
   ],
   "source": [
    "pd.DataFrame(all_data)"
   ]
  },
  {
   "cell_type": "code",
   "execution_count": 143,
   "id": "9ac91ada-faf2-4317-bde7-687ca8c924f0",
   "metadata": {
    "tags": []
   },
   "outputs": [
    {
     "data": {
      "text/html": [
       "<div>\n",
       "<style scoped>\n",
       "    .dataframe tbody tr th:only-of-type {\n",
       "        vertical-align: middle;\n",
       "    }\n",
       "\n",
       "    .dataframe tbody tr th {\n",
       "        vertical-align: top;\n",
       "    }\n",
       "\n",
       "    .dataframe thead th {\n",
       "        text-align: right;\n",
       "    }\n",
       "</style>\n",
       "<table border=\"1\" class=\"dataframe\">\n",
       "  <thead>\n",
       "    <tr style=\"text-align: right;\">\n",
       "      <th></th>\n",
       "      <th>sreid</th>\n",
       "      <th>section</th>\n",
       "      <th>sectpar</th>\n",
       "      <th>sectgpar</th>\n",
       "      <th>title</th>\n",
       "      <th>hdoc</th>\n",
       "      <th>culture</th>\n",
       "      <th>pub.date</th>\n",
       "      <th>field.date</th>\n",
       "      <th>byline</th>\n",
       "      <th>sreprev</th>\n",
       "      <th>srenext</th>\n",
       "      <th>parent</th>\n",
       "      <th>division</th>\n",
       "      <th>coverage</th>\n",
       "      <th>place</th>\n",
       "      <th>roll</th>\n",
       "      <th>pub.type</th>\n",
       "      <th>owcs</th>\n",
       "      <th>mainowc</th>\n",
       "      <th>samples</th>\n",
       "      <th>pub.lang</th>\n",
       "      <th>page</th>\n",
       "      <th>pageEid</th>\n",
       "      <th>prevPage</th>\n",
       "      <th>nextPage</th>\n",
       "      <th>textrecord</th>\n",
       "      <th>ocms</th>\n",
       "    </tr>\n",
       "  </thead>\n",
       "  <tbody>\n",
       "    <tr>\n",
       "      <th>9</th>\n",
       "      <td>aa01-001-000799</td>\n",
       "      <td>aa01-001-000028</td>\n",
       "      <td>NaN</td>\n",
       "      <td>NaN</td>\n",
       "      <td>The passing of Korea</td>\n",
       "      <td>aa01-001</td>\n",
       "      <td>Korea</td>\n",
       "      <td>NaN</td>\n",
       "      <td>1890-1905</td>\n",
       "      <td>[by] Homer B. Hulbert</td>\n",
       "      <td>aa01-001-000779</td>\n",
       "      <td>aa01-001-000819</td>\n",
       "      <td>aa01-001-000028</td>\n",
       "      <td>aa01-001-000027</td>\n",
       "      <td>Early 1900's</td>\n",
       "      <td>Korea</td>\n",
       "      <td>NaN</td>\n",
       "      <td>Component part(s), monograph</td>\n",
       "      <td>aa01</td>\n",
       "      <td>aa01</td>\n",
       "      <td>SCCSPS</td>\n",
       "      <td>English</td>\n",
       "      <td>25-26</td>\n",
       "      <td>aa01-001-000789</td>\n",
       "      <td>aa01-001-000757</td>\n",
       "      <td>aa01-001-000809</td>\n",
       "      <td>{{136}}  {{226}}  {{228}} “More important than...</td>\n",
       "      <td>#136 #226 #228</td>\n",
       "    </tr>\n",
       "  </tbody>\n",
       "</table>\n",
       "</div>"
      ],
      "text/plain": [
       "             sreid          section sectpar sectgpar                 title   \n",
       "9  aa01-001-000799  aa01-001-000028     NaN      NaN  The passing of Korea  \\\n",
       "\n",
       "       hdoc culture pub.date field.date                 byline   \n",
       "9  aa01-001   Korea      NaN  1890-1905  [by] Homer B. Hulbert  \\\n",
       "\n",
       "           sreprev          srenext           parent         division   \n",
       "9  aa01-001-000779  aa01-001-000819  aa01-001-000028  aa01-001-000027  \\\n",
       "\n",
       "       coverage  place roll                      pub.type  owcs mainowc   \n",
       "9  Early 1900's  Korea  NaN  Component part(s), monograph  aa01    aa01  \\\n",
       "\n",
       "  samples pub.lang   page          pageEid         prevPage         nextPage   \n",
       "9  SCCSPS  English  25-26  aa01-001-000789  aa01-001-000757  aa01-001-000809  \\\n",
       "\n",
       "                                          textrecord            ocms  \n",
       "9  {{136}}  {{226}}  {{228}} “More important than...  #136 #226 #228  "
      ]
     },
     "execution_count": 143,
     "metadata": {},
     "output_type": "execute_result"
    }
   ],
   "source": [
    "df[df['sreid'] == 'aa01-001-000799']"
   ]
  },
  {
   "cell_type": "code",
   "execution_count": 144,
   "id": "d3dc27c4-d343-4414-8b17-c5f1ac2a7261",
   "metadata": {
    "tags": []
   },
   "outputs": [
    {
     "data": {
      "text/html": [
       "<div>\n",
       "<style scoped>\n",
       "    .dataframe tbody tr th:only-of-type {\n",
       "        vertical-align: middle;\n",
       "    }\n",
       "\n",
       "    .dataframe tbody tr th {\n",
       "        vertical-align: top;\n",
       "    }\n",
       "\n",
       "    .dataframe thead th {\n",
       "        text-align: right;\n",
       "    }\n",
       "</style>\n",
       "<table border=\"1\" class=\"dataframe\">\n",
       "  <thead>\n",
       "    <tr style=\"text-align: right;\">\n",
       "      <th></th>\n",
       "      <th>sreid</th>\n",
       "      <th>section</th>\n",
       "      <th>sectpar</th>\n",
       "      <th>sectgpar</th>\n",
       "      <th>title</th>\n",
       "      <th>hdoc</th>\n",
       "      <th>culture</th>\n",
       "      <th>pub.date</th>\n",
       "      <th>field.date</th>\n",
       "      <th>byline</th>\n",
       "      <th>sreprev</th>\n",
       "      <th>srenext</th>\n",
       "      <th>parent</th>\n",
       "      <th>division</th>\n",
       "      <th>coverage</th>\n",
       "      <th>place</th>\n",
       "      <th>roll</th>\n",
       "      <th>pub.type</th>\n",
       "      <th>owcs</th>\n",
       "      <th>mainowc</th>\n",
       "      <th>samples</th>\n",
       "      <th>pub.lang</th>\n",
       "      <th>page</th>\n",
       "      <th>pageEid</th>\n",
       "      <th>prevPage</th>\n",
       "      <th>nextPage</th>\n",
       "      <th>textrecord</th>\n",
       "      <th>ocms</th>\n",
       "    </tr>\n",
       "  </thead>\n",
       "  <tbody>\n",
       "    <tr>\n",
       "      <th>10</th>\n",
       "      <td>aa01-001-000819</td>\n",
       "      <td>aa01-001-000028</td>\n",
       "      <td>NaN</td>\n",
       "      <td>NaN</td>\n",
       "      <td>The passing of Korea</td>\n",
       "      <td>aa01-001</td>\n",
       "      <td>Korea</td>\n",
       "      <td>NaN</td>\n",
       "      <td>1890-1905</td>\n",
       "      <td>[by] Homer B. Hulbert</td>\n",
       "      <td>aa01-001-000799</td>\n",
       "      <td>aa01-001-000839</td>\n",
       "      <td>aa01-001-000028</td>\n",
       "      <td>aa01-001-000027</td>\n",
       "      <td>Early 1900's</td>\n",
       "      <td>Korea</td>\n",
       "      <td>NaN</td>\n",
       "      <td>Component part(s), monograph</td>\n",
       "      <td>aa01</td>\n",
       "      <td>aa01</td>\n",
       "      <td>SCCSPS</td>\n",
       "      <td>English</td>\n",
       "      <td>26</td>\n",
       "      <td>aa01-001-000809</td>\n",
       "      <td>aa01-001-000789</td>\n",
       "      <td>aa01-001-000829</td>\n",
       "      <td>{{222}}  {{225}}  {{262}} “But fish and pearls...</td>\n",
       "      <td>#222 #225 #262</td>\n",
       "    </tr>\n",
       "  </tbody>\n",
       "</table>\n",
       "</div>"
      ],
      "text/plain": [
       "              sreid          section sectpar sectgpar                 title   \n",
       "10  aa01-001-000819  aa01-001-000028     NaN      NaN  The passing of Korea  \\\n",
       "\n",
       "        hdoc culture pub.date field.date                 byline   \n",
       "10  aa01-001   Korea      NaN  1890-1905  [by] Homer B. Hulbert  \\\n",
       "\n",
       "            sreprev          srenext           parent         division   \n",
       "10  aa01-001-000799  aa01-001-000839  aa01-001-000028  aa01-001-000027  \\\n",
       "\n",
       "        coverage  place roll                      pub.type  owcs mainowc   \n",
       "10  Early 1900's  Korea  NaN  Component part(s), monograph  aa01    aa01  \\\n",
       "\n",
       "   samples pub.lang page          pageEid         prevPage         nextPage   \n",
       "10  SCCSPS  English   26  aa01-001-000809  aa01-001-000789  aa01-001-000829  \\\n",
       "\n",
       "                                           textrecord            ocms  \n",
       "10  {{222}}  {{225}}  {{262}} “But fish and pearls...  #222 #225 #262  "
      ]
     },
     "execution_count": 144,
     "metadata": {},
     "output_type": "execute_result"
    }
   ],
   "source": [
    "df[df['sreid'] == 'aa01-001-000819']"
   ]
  },
  {
   "cell_type": "code",
   "execution_count": null,
   "id": "1babd922-7aab-4ce3-9ba6-538fbcf7e5b2",
   "metadata": {},
   "outputs": [],
   "source": [
    "fil"
   ]
  },
  {
   "cell_type": "code",
   "execution_count": 158,
   "id": "173a067f-373d-4b18-a7ef-9d1dd7ed2101",
   "metadata": {
    "tags": []
   },
   "outputs": [
    {
     "data": {
      "text/plain": [
       "'{{444}}'"
      ]
     },
     "execution_count": 158,
     "metadata": {},
     "output_type": "execute_result"
    }
   ],
   "source": [
    "matches[0]"
   ]
  },
  {
   "cell_type": "code",
   "execution_count": 170,
   "id": "538213cc-6242-41a3-bc90-3105c79eaef3",
   "metadata": {
    "tags": []
   },
   "outputs": [
    {
     "name": "stdout",
     "output_type": "stream",
     "text": [
      " {{243}}  {{412}} Even today some of the old methods of threshing persist.\n",
      "[' ', '243', None, '  ', '412', None, ' Even today some of the old methods of threshing persist.']\n"
     ]
    }
   ],
   "source": [
    "import re\n",
    "\n",
    "test = \"[%  [caption:   {{221 241 821 796}}  Chart 2 The Annual Economic Cycle in Matsunagl [/caption]  [graphic: ab43007020]  [/graphic] %] [%  [caption:   {{221 241 821 796}}  Chart 2 The Annual Economic Cycle in Matsunagl [/caption]  [graphic: ab43007020]  [/graphic] %] {{243}}  {{412}} Even today some of the old methods of threshing persist.\"\n",
    "\n",
    "pattern = r'\\{\\{(\\d+(\\s+\\d+)*)\\}\\}'\n",
    "\n",
    "# exclude text within [%  %]\n",
    "test = re.sub(r\"\\[.*\\]\", \"\", test)\n",
    "print(test)\n",
    "\n",
    "sentences = re.split(pattern, test)\n",
    "\n",
    "print(sentences)"
   ]
  },
  {
   "cell_type": "code",
   "execution_count": 14,
   "id": "312be7fb-e3be-47be-a7a0-9862df13ac6e",
   "metadata": {},
   "outputs": [
    {
     "name": "stdout",
     "output_type": "stream",
     "text": [
      "                section                                              title  \\\n",
      "count              5218                                               5218   \n",
      "unique             5218                                               1679   \n",
      "top     aa01-008-000031  Herds of the tundra: a portrait of Saami reind...   \n",
      "freq                  1                                                 63   \n",
      "\n",
      "        culture pub.date field.date            byline  \\\n",
      "count      5218     5044       5218              5217   \n",
      "unique      308      267        845              1482   \n",
      "top     Turkana     1994    no date  Cornelius Osgood   \n",
      "freq        178      142        589                87   \n",
      "\n",
      "                                               textrecord  ocms  \n",
      "count                                                5218  5218  \n",
      "unique                                               5218  4878  \n",
      "top     {{241}}  {{311}} As a result of the porous qua...   221  \n",
      "freq                                                    1    46  \n",
      "\n",
      "non-numerical columns: \n",
      "                 section                                              title  \\\n",
      "count              5218                                               5218   \n",
      "unique             5218                                               1679   \n",
      "top     aa01-008-000031  Herds of the tundra: a portrait of Saami reind...   \n",
      "freq                  1                                                 63   \n",
      "\n",
      "        culture pub.date field.date            byline  \\\n",
      "count      5218     5044       5218              5217   \n",
      "unique      308      267        845              1482   \n",
      "top     Turkana     1994    no date  Cornelius Osgood   \n",
      "freq        178      142        589                87   \n",
      "\n",
      "                                               textrecord  ocms  \n",
      "count                                                5218  5218  \n",
      "unique                                               5218  4878  \n",
      "top     {{241}}  {{311}} As a result of the porous qua...   221  \n",
      "freq                                                    1    46  \n",
      "section       5218\n",
      "title         1679\n",
      "culture        308\n",
      "pub.date       267\n",
      "field.date     845\n",
      "byline        1482\n",
      "textrecord    5218\n",
      "ocms          4878\n",
      "dtype: int64\n"
     ]
    }
   ],
   "source": [
    "# Basic statistics of the numerical columns\n",
    "print(df.describe())\n",
    "\n",
    "# Basic statistics of the non-numerical columns\n",
    "print('\\nnon-numerical columns: \\n', df.describe(include=['O']))\n",
    "\n",
    "# Count of unique values in the non-numerical columns\n",
    "print(df.nunique())"
   ]
  },
  {
   "cell_type": "code",
   "execution_count": 25,
   "id": "ca24e370-588c-4d6b-a765-08266c7d0255",
   "metadata": {},
   "outputs": [],
   "source": [
    "\n",
    "# Convert the pub.date column to numeric\n",
    "df['pub.date'] = pd.to_numeric(df['pub.date'], errors='coerce')\n",
    "\n",
    "# Convert the field.date column to numeric\n",
    "df['field.date'] = pd.to_numeric(df['field.date'], errors='coerce')\n"
   ]
  },
  {
   "cell_type": "code",
   "execution_count": 31,
   "id": "42ef08ea-d0c9-4f3d-94d7-ddafab1ee134",
   "metadata": {},
   "outputs": [
    {
     "data": {
      "image/png": "[encoded data removed]",
      "text/plain": [
       "<Figure size 640x480 with 1 Axes>"
      ]
     },
     "metadata": {},
     "output_type": "display_data"
    }
   ],
   "source": [
    "\n",
    "# Count the occurrences of values in each row for the ocms column\n",
    "ocms_counts = df['ocms'].str.split(expand=True).stack().value_counts()\n",
    "\n",
    "# Plot the distribution of ocms values\n",
    "sns.countplot(y=df['ocms'].str.split(expand=True).stack(), order=ocms_counts.index)\n",
    "plt.title(\"Distribution of OCMS Values\")\n",
    "plt.show()"
   ]
  },
  {
   "cell_type": "code",
   "execution_count": 40,
   "id": "89ef3fbe-2bc9-4501-b725-1ecaada5208d",
   "metadata": {},
   "outputs": [
    {
     "data": {
      "text/plain": [
       "<seaborn.axisgrid.FacetGrid at 0x7fa66d78fdf0>"
      ]
     },
     "execution_count": 40,
     "metadata": {},
     "output_type": "execute_result"
    },
    {
     "data": {
      "image/png": "[encoded data removed]",
      "text/plain": [
       "<Figure size 500x500 with 1 Axes>"
      ]
     },
     "metadata": {},
     "output_type": "display_data"
    }
   ],
   "source": [
    "sns.displot(ocms_counts[1:20], )"
   ]
  },
  {
   "cell_type": "code",
   "execution_count": null,
   "id": "e5c5c7f6-0b94-4a3c-9086-7871c3cbde54",
   "metadata": {},
   "outputs": [],
   "source": []
  },
  {
   "cell_type": "code",
   "execution_count": 16,
   "id": "0cb71762-f4d4-4810-8bd6-36a3c177c49e",
   "metadata": {},
   "outputs": [
    {
     "ename": "TypeError",
     "evalue": "Horizontal orientation requires numeric `x` variable.",
     "output_type": "error",
     "traceback": [
      "\u001b[0;31m---------------------------------------------------------------------------\u001b[0m",
      "\u001b[0;31mTypeError\u001b[0m                                 Traceback (most recent call last)",
      "Cell \u001b[0;32mIn[16], line 2\u001b[0m\n\u001b[1;32m      1\u001b[0m \u001b[38;5;66;03m# Plot the distribution of the culture target variable\u001b[39;00m\n\u001b[0;32m----> 2\u001b[0m \u001b[43msns\u001b[49m\u001b[38;5;241;43m.\u001b[39;49m\u001b[43mbarplot\u001b[49m\u001b[43m(\u001b[49m\u001b[43mx\u001b[49m\u001b[38;5;241;43m=\u001b[39;49m\u001b[38;5;124;43m\"\u001b[39;49m\u001b[38;5;124;43mculture\u001b[39;49m\u001b[38;5;124;43m\"\u001b[39;49m\u001b[43m,\u001b[49m\u001b[43m \u001b[49m\u001b[43mdata\u001b[49m\u001b[38;5;241;43m=\u001b[39;49m\u001b[43mdf\u001b[49m\u001b[43m)\u001b[49m\n\u001b[1;32m      3\u001b[0m plt\u001b[38;5;241m.\u001b[39mtitle(\u001b[38;5;124m\"\u001b[39m\u001b[38;5;124mDistribution of Culture\u001b[39m\u001b[38;5;124m\"\u001b[39m)\n\u001b[1;32m      4\u001b[0m plt\u001b[38;5;241m.\u001b[39mshow()\n",
      "File \u001b[0;32m~/.virtualenvs/tm/lib/python3.10/site-packages/seaborn/categorical.py:2755\u001b[0m, in \u001b[0;36mbarplot\u001b[0;34m(data, x, y, hue, order, hue_order, estimator, errorbar, n_boot, units, seed, orient, color, palette, saturation, width, errcolor, errwidth, capsize, dodge, ci, ax, **kwargs)\u001b[0m\n\u001b[1;32m   2752\u001b[0m \u001b[38;5;28;01mif\u001b[39;00m estimator \u001b[38;5;129;01mis\u001b[39;00m \u001b[38;5;28mlen\u001b[39m:\n\u001b[1;32m   2753\u001b[0m     estimator \u001b[38;5;241m=\u001b[39m \u001b[38;5;124m\"\u001b[39m\u001b[38;5;124msize\u001b[39m\u001b[38;5;124m\"\u001b[39m\n\u001b[0;32m-> 2755\u001b[0m plotter \u001b[38;5;241m=\u001b[39m \u001b[43m_BarPlotter\u001b[49m\u001b[43m(\u001b[49m\u001b[43mx\u001b[49m\u001b[43m,\u001b[49m\u001b[43m \u001b[49m\u001b[43my\u001b[49m\u001b[43m,\u001b[49m\u001b[43m \u001b[49m\u001b[43mhue\u001b[49m\u001b[43m,\u001b[49m\u001b[43m \u001b[49m\u001b[43mdata\u001b[49m\u001b[43m,\u001b[49m\u001b[43m \u001b[49m\u001b[43morder\u001b[49m\u001b[43m,\u001b[49m\u001b[43m \u001b[49m\u001b[43mhue_order\u001b[49m\u001b[43m,\u001b[49m\n\u001b[1;32m   2756\u001b[0m \u001b[43m                      \u001b[49m\u001b[43mestimator\u001b[49m\u001b[43m,\u001b[49m\u001b[43m \u001b[49m\u001b[43merrorbar\u001b[49m\u001b[43m,\u001b[49m\u001b[43m \u001b[49m\u001b[43mn_boot\u001b[49m\u001b[43m,\u001b[49m\u001b[43m \u001b[49m\u001b[43munits\u001b[49m\u001b[43m,\u001b[49m\u001b[43m \u001b[49m\u001b[43mseed\u001b[49m\u001b[43m,\u001b[49m\n\u001b[1;32m   2757\u001b[0m \u001b[43m                      \u001b[49m\u001b[43morient\u001b[49m\u001b[43m,\u001b[49m\u001b[43m \u001b[49m\u001b[43mcolor\u001b[49m\u001b[43m,\u001b[49m\u001b[43m \u001b[49m\u001b[43mpalette\u001b[49m\u001b[43m,\u001b[49m\u001b[43m \u001b[49m\u001b[43msaturation\u001b[49m\u001b[43m,\u001b[49m\n\u001b[1;32m   2758\u001b[0m \u001b[43m                      \u001b[49m\u001b[43mwidth\u001b[49m\u001b[43m,\u001b[49m\u001b[43m \u001b[49m\u001b[43merrcolor\u001b[49m\u001b[43m,\u001b[49m\u001b[43m \u001b[49m\u001b[43merrwidth\u001b[49m\u001b[43m,\u001b[49m\u001b[43m \u001b[49m\u001b[43mcapsize\u001b[49m\u001b[43m,\u001b[49m\u001b[43m \u001b[49m\u001b[43mdodge\u001b[49m\u001b[43m)\u001b[49m\n\u001b[1;32m   2760\u001b[0m \u001b[38;5;28;01mif\u001b[39;00m ax \u001b[38;5;129;01mis\u001b[39;00m \u001b[38;5;28;01mNone\u001b[39;00m:\n\u001b[1;32m   2761\u001b[0m     ax \u001b[38;5;241m=\u001b[39m plt\u001b[38;5;241m.\u001b[39mgca()\n",
      "File \u001b[0;32m~/.virtualenvs/tm/lib/python3.10/site-packages/seaborn/categorical.py:1530\u001b[0m, in \u001b[0;36m_BarPlotter.__init__\u001b[0;34m(self, x, y, hue, data, order, hue_order, estimator, errorbar, n_boot, units, seed, orient, color, palette, saturation, width, errcolor, errwidth, capsize, dodge)\u001b[0m\n\u001b[1;32m   1525\u001b[0m \u001b[38;5;28;01mdef\u001b[39;00m \u001b[38;5;21m__init__\u001b[39m(\u001b[38;5;28mself\u001b[39m, x, y, hue, data, order, hue_order,\n\u001b[1;32m   1526\u001b[0m              estimator, errorbar, n_boot, units, seed,\n\u001b[1;32m   1527\u001b[0m              orient, color, palette, saturation, width,\n\u001b[1;32m   1528\u001b[0m              errcolor, errwidth, capsize, dodge):\n\u001b[1;32m   1529\u001b[0m \u001b[38;5;250m    \u001b[39m\u001b[38;5;124;03m\"\"\"Initialize the plotter.\"\"\"\u001b[39;00m\n\u001b[0;32m-> 1530\u001b[0m     \u001b[38;5;28;43mself\u001b[39;49m\u001b[38;5;241;43m.\u001b[39;49m\u001b[43mestablish_variables\u001b[49m\u001b[43m(\u001b[49m\u001b[43mx\u001b[49m\u001b[43m,\u001b[49m\u001b[43m \u001b[49m\u001b[43my\u001b[49m\u001b[43m,\u001b[49m\u001b[43m \u001b[49m\u001b[43mhue\u001b[49m\u001b[43m,\u001b[49m\u001b[43m \u001b[49m\u001b[43mdata\u001b[49m\u001b[43m,\u001b[49m\u001b[43m \u001b[49m\u001b[43morient\u001b[49m\u001b[43m,\u001b[49m\n\u001b[1;32m   1531\u001b[0m \u001b[43m                             \u001b[49m\u001b[43morder\u001b[49m\u001b[43m,\u001b[49m\u001b[43m \u001b[49m\u001b[43mhue_order\u001b[49m\u001b[43m,\u001b[49m\u001b[43m \u001b[49m\u001b[43munits\u001b[49m\u001b[43m)\u001b[49m\n\u001b[1;32m   1532\u001b[0m     \u001b[38;5;28mself\u001b[39m\u001b[38;5;241m.\u001b[39mestablish_colors(color, palette, saturation)\n\u001b[1;32m   1533\u001b[0m     \u001b[38;5;28mself\u001b[39m\u001b[38;5;241m.\u001b[39mestimate_statistic(estimator, errorbar, n_boot, seed)\n",
      "File \u001b[0;32m~/.virtualenvs/tm/lib/python3.10/site-packages/seaborn/categorical.py:544\u001b[0m, in \u001b[0;36m_CategoricalPlotter.establish_variables\u001b[0;34m(self, x, y, hue, data, orient, order, hue_order, units)\u001b[0m\n\u001b[1;32m    541\u001b[0m         \u001b[38;5;28;01mraise\u001b[39;00m \u001b[38;5;167;01mValueError\u001b[39;00m(err)\n\u001b[1;32m    543\u001b[0m \u001b[38;5;66;03m# Figure out the plotting orientation\u001b[39;00m\n\u001b[0;32m--> 544\u001b[0m orient \u001b[38;5;241m=\u001b[39m \u001b[43minfer_orient\u001b[49m\u001b[43m(\u001b[49m\n\u001b[1;32m    545\u001b[0m \u001b[43m    \u001b[49m\u001b[43mx\u001b[49m\u001b[43m,\u001b[49m\u001b[43m \u001b[49m\u001b[43my\u001b[49m\u001b[43m,\u001b[49m\u001b[43m \u001b[49m\u001b[43morient\u001b[49m\u001b[43m,\u001b[49m\u001b[43m \u001b[49m\u001b[43mrequire_numeric\u001b[49m\u001b[38;5;241;43m=\u001b[39;49m\u001b[38;5;28;43mself\u001b[39;49m\u001b[38;5;241;43m.\u001b[39;49m\u001b[43mrequire_numeric\u001b[49m\n\u001b[1;32m    546\u001b[0m \u001b[43m\u001b[49m\u001b[43m)\u001b[49m\n\u001b[1;32m    548\u001b[0m \u001b[38;5;66;03m# Option 2a:\u001b[39;00m\n\u001b[1;32m    549\u001b[0m \u001b[38;5;66;03m# We are plotting a single set of data\u001b[39;00m\n\u001b[1;32m    550\u001b[0m \u001b[38;5;66;03m# ------------------------------------\u001b[39;00m\n\u001b[1;32m    551\u001b[0m \u001b[38;5;28;01mif\u001b[39;00m x \u001b[38;5;129;01mis\u001b[39;00m \u001b[38;5;28;01mNone\u001b[39;00m \u001b[38;5;129;01mor\u001b[39;00m y \u001b[38;5;129;01mis\u001b[39;00m \u001b[38;5;28;01mNone\u001b[39;00m:\n\u001b[1;32m    552\u001b[0m \n\u001b[1;32m    553\u001b[0m     \u001b[38;5;66;03m# Determine where the data are\u001b[39;00m\n",
      "File \u001b[0;32m~/.virtualenvs/tm/lib/python3.10/site-packages/seaborn/_oldcore.py:1601\u001b[0m, in \u001b[0;36minfer_orient\u001b[0;34m(x, y, orient, require_numeric)\u001b[0m\n\u001b[1;32m   1599\u001b[0m         warnings\u001b[38;5;241m.\u001b[39mwarn(single_var_warning\u001b[38;5;241m.\u001b[39mformat(\u001b[38;5;124m\"\u001b[39m\u001b[38;5;124mVertical\u001b[39m\u001b[38;5;124m\"\u001b[39m, \u001b[38;5;124m\"\u001b[39m\u001b[38;5;124mx\u001b[39m\u001b[38;5;124m\"\u001b[39m))\n\u001b[1;32m   1600\u001b[0m     \u001b[38;5;28;01mif\u001b[39;00m require_numeric \u001b[38;5;129;01mand\u001b[39;00m x_type \u001b[38;5;241m!=\u001b[39m \u001b[38;5;124m\"\u001b[39m\u001b[38;5;124mnumeric\u001b[39m\u001b[38;5;124m\"\u001b[39m:\n\u001b[0;32m-> 1601\u001b[0m         \u001b[38;5;28;01mraise\u001b[39;00m \u001b[38;5;167;01mTypeError\u001b[39;00m(nonnumeric_dv_error\u001b[38;5;241m.\u001b[39mformat(\u001b[38;5;124m\"\u001b[39m\u001b[38;5;124mHorizontal\u001b[39m\u001b[38;5;124m\"\u001b[39m, \u001b[38;5;124m\"\u001b[39m\u001b[38;5;124mx\u001b[39m\u001b[38;5;124m\"\u001b[39m))\n\u001b[1;32m   1602\u001b[0m     \u001b[38;5;28;01mreturn\u001b[39;00m \u001b[38;5;124m\"\u001b[39m\u001b[38;5;124mh\u001b[39m\u001b[38;5;124m\"\u001b[39m\n\u001b[1;32m   1604\u001b[0m \u001b[38;5;28;01melif\u001b[39;00m \u001b[38;5;28mstr\u001b[39m(orient)\u001b[38;5;241m.\u001b[39mstartswith(\u001b[38;5;124m\"\u001b[39m\u001b[38;5;124mv\u001b[39m\u001b[38;5;124m\"\u001b[39m):\n",
      "\u001b[0;31mTypeError\u001b[0m: Horizontal orientation requires numeric `x` variable."
     ]
    }
   ],
   "source": [
    "\n",
    "# Plot the distribution of the culture target variable\n",
    "sns.barplot(x=\"culture\", data=df)\n",
    "plt.title(\"Distribution of Culture\")\n",
    "plt.show()\n",
    "\n",
    "# Plot the correlation heatmap\n",
    "sns.heatmap(df.corr(), annot=True, cmap=\"coolwarm\")\n",
    "plt.title(\"Correlation Heatmap\")\n",
    "plt.show()\n",
    "\n",
    "# Plot a histogram of the publication dates\n",
    "sns.histplot(x=\"pub.date\", data=df)\n",
    "plt.title(\"Distribution of Publication Dates\")\n",
    "plt.show()\n",
    "\n",
    "# Plot a scatter plot of field date versus publication date\n",
    "sns.scatterplot(x=\"field.date\", y=\"pub.date\", data=df)\n",
    "plt.title(\"Field Date vs. Publication Date\")\n",
    "plt.show()\n",
    "\n",
    "# Create a box plot of text record length by culture\n",
    "sns.boxplot(x=\"culture\", y=\"textrecord\", data=df)\n",
    "plt.title(\"Text Record Length by Culture\")\n",
    "plt.show()"
   ]
  }
 ],
 "metadata": {
  "kernelspec": {
   "display_name": "Python 3 (ipykernel)",
   "language": "python",
   "name": "python3"
  },
  "language_info": {
   "codemirror_mode": {
    "name": "ipython",
    "version": 3
   },
   "file_extension": ".py",
   "mimetype": "text/x-python",
   "name": "python",
   "nbconvert_exporter": "python",
   "pygments_lexer": "ipython3",
   "version": "3.10.6"
  }
 },
 "nbformat": 4,
 "nbformat_minor": 5
}
