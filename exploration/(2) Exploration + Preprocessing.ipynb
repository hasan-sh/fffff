{
 "cells": [
  {
   "cell_type": "code",
   "execution_count": 1,
   "id": "3ba6d893-f982-458a-934d-d97853a6a88b",
   "metadata": {
    "tags": []
   },
   "outputs": [],
   "source": [
    "import pandas as pd\n",
    "import numpy as np\n",
    "from langdetect import detect\n",
    "\n",
    "import json\n",
    "import matplotlib.pyplot as plt\n",
    "import plotly.graph_objects as go\n",
    "\n",
    "import seaborn as sns\n",
    "import re\n",
    "import math\n",
    "from collections import defaultdict, Counter\n",
    "\n",
    "import utils\n",
    "# from graph import create_graph"
   ]
  },
  {
   "cell_type": "code",
   "execution_count": 2,
   "id": "f8ca8368-cd6d-4aab-8634-e832cd326f48",
   "metadata": {
    "tags": []
   },
   "outputs": [],
   "source": [
    "\n",
    "# Open a file for reading\n",
    "with open(\"../data/labels_per_category.json\", \"r\") as f:\n",
    "    # Write the dictionary to the file in JSON format\n",
    "    ocms = json.load(f)"
   ]
  },
  {
   "cell_type": "markdown",
   "id": "2dd5dccb-9c85-4329-ab64-5e184fabb76d",
   "metadata": {},
   "source": [
    "# Params"
   ]
  },
  {
   "cell_type": "code",
   "execution_count": 3,
   "id": "85f9ca94-b785-4791-9d6a-d24a4bbdb382",
   "metadata": {
    "tags": []
   },
   "outputs": [],
   "source": [
    "CHOSEN_CATEGORIES = True\n",
    "LABELS_NEEDED_BEFORE = 626\n",
    "ONLY_PARENT_CATEGORY = False\n",
    "N_TO_SELECT = 10"
   ]
  },
  {
   "cell_type": "markdown",
   "id": "b1f8f279-afb3-44e1-90fe-20f00319f72b",
   "metadata": {
    "tags": []
   },
   "source": [
    "# Split based on OCMs"
   ]
  },
  {
   "cell_type": "code",
   "execution_count": 4,
   "id": "b2141681-e5a8-4ed5-b70b-f5fd2b0eb3a9",
   "metadata": {
    "tags": []
   },
   "outputs": [],
   "source": [
    "df_all = pd.read_csv('../data/en_data.csv', encoding='utf-8')"
   ]
  },
  {
   "cell_type": "code",
   "execution_count": 6,
   "id": "189a32b6-4b46-4b6c-b63b-179d96797404",
   "metadata": {
    "tags": []
   },
   "outputs": [],
   "source": [
    "df = df_all[['sreid', 'srenext', 'textrecord', 'ocms', 'culture', 'place', 'pub.date', 'field.date', 'pub.lang']]"
   ]
  },
  {
   "cell_type": "code",
   "execution_count": 7,
   "id": "3df428a5-bae3-4fd2-8889-4939e774802d",
   "metadata": {
    "tags": []
   },
   "outputs": [
    {
     "data": {
      "text/html": [
       "<div>\n",
       "<style scoped>\n",
       "    .dataframe tbody tr th:only-of-type {\n",
       "        vertical-align: middle;\n",
       "    }\n",
       "\n",
       "    .dataframe tbody tr th {\n",
       "        vertical-align: top;\n",
       "    }\n",
       "\n",
       "    .dataframe thead th {\n",
       "        text-align: right;\n",
       "    }\n",
       "</style>\n",
       "<table border=\"1\" class=\"dataframe\">\n",
       "  <thead>\n",
       "    <tr style=\"text-align: right;\">\n",
       "      <th></th>\n",
       "      <th>sreid</th>\n",
       "      <th>srenext</th>\n",
       "      <th>textrecord</th>\n",
       "      <th>ocms</th>\n",
       "      <th>culture</th>\n",
       "      <th>place</th>\n",
       "      <th>pub.date</th>\n",
       "      <th>field.date</th>\n",
       "      <th>pub.lang</th>\n",
       "    </tr>\n",
       "  </thead>\n",
       "  <tbody>\n",
       "    <tr>\n",
       "      <th>0</th>\n",
       "      <td>aa01-000-000178</td>\n",
       "      <td>aa01-000-000186</td>\n",
       "      <td>Before the 1900s, Koreans lived as subsistence...</td>\n",
       "      <td>241 433</td>\n",
       "      <td>Korea</td>\n",
       "      <td>Korea</td>\n",
       "      <td>NaN</td>\n",
       "      <td>no date</td>\n",
       "      <td>English</td>\n",
       "    </tr>\n",
       "    <tr>\n",
       "      <th>1</th>\n",
       "      <td>aa01-001-000341</td>\n",
       "      <td>aa01-001-000357</td>\n",
       "      <td>{{245}} “Korea is richly endowed with fruits o...</td>\n",
       "      <td>245</td>\n",
       "      <td>Korea</td>\n",
       "      <td>Korea</td>\n",
       "      <td>NaN</td>\n",
       "      <td>1890-1905</td>\n",
       "      <td>English</td>\n",
       "    </tr>\n",
       "  </tbody>\n",
       "</table>\n",
       "</div>"
      ],
      "text/plain": [
       "             sreid          srenext   \n",
       "0  aa01-000-000178  aa01-000-000186  \\\n",
       "1  aa01-001-000341  aa01-001-000357   \n",
       "\n",
       "                                          textrecord     ocms culture  place   \n",
       "0  Before the 1900s, Koreans lived as subsistence...  241 433   Korea  Korea  \\\n",
       "1  {{245}} “Korea is richly endowed with fruits o...      245   Korea  Korea   \n",
       "\n",
       "  pub.date field.date pub.lang  \n",
       "0      NaN    no date  English  \n",
       "1      NaN  1890-1905  English  "
      ]
     },
     "execution_count": 7,
     "metadata": {},
     "output_type": "execute_result"
    }
   ],
   "source": [
    "df.head(2)"
   ]
  },
  {
   "cell_type": "markdown",
   "id": "48fec929-4e4d-4142-8513-4600bff1502b",
   "metadata": {
    "tags": []
   },
   "source": [
    "# TODO\n",
    "- if no OCMs in text, take the ones in the columns with the whole text instead.\n",
    "- ~~detect EN only one time (use the saved one for now)~~\n",
    "- plot other interesting columns. If none, remove the rest."
   ]
  },
  {
   "cell_type": "markdown",
   "id": "e2920b34-21b5-420a-b7c7-f86ee32df9d4",
   "metadata": {},
   "source": [
    "# Preprocessing"
   ]
  },
  {
   "cell_type": "markdown",
   "id": "6ef2a563-b430-40c9-b81f-4735d04645ed",
   "metadata": {},
   "source": [
    "- placeholders within {{}}.\n",
    "- multiple may occur within the pattern.\n",
    "- if no ocms present in textrecord, get them from the ocsms column.\n",
    "- anything within [ ] should be excluded, since these are pictures or links.\n"
   ]
  },
  {
   "cell_type": "code",
   "execution_count": 11,
   "id": "e7481bb3-e561-4e07-8a88-0e453fab62d3",
   "metadata": {
    "tags": []
   },
   "outputs": [],
   "source": [
    "# CHECK OUT: 310, 340, 400, 520, 570, 580, 870] activities, building structures, machines, recreation, interpersonal relations, marriage, education.\n",
    "chosen_categories = [140, 150, 160, 170, 180, 190, 200, 220, 240, 260, 360, 420, 430, 590, 620]#, 780, 820]"
   ]
  },
  {
   "cell_type": "code",
   "execution_count": 12,
   "id": "0ef01266-58a1-46fc-abb4-dcf633f06965",
   "metadata": {
    "tags": []
   },
   "outputs": [],
   "source": [
    "with open(\"../data/id_to_label.json\", \"r\") as f:\n",
    "    # Write the dictionary to the file in JSON format\n",
    "    id_to_label = json.load(f)\n",
    "\n",
    "id_to_label = {int(i): l for i, l in id_to_label.items()}\n",
    "label_to_id = {v: k for k, v in id_to_label.items()}"
   ]
  },
  {
   "cell_type": "code",
   "execution_count": 13,
   "id": "6b232a4e-111a-45b9-8556-4033ea53e408",
   "metadata": {
    "tags": []
   },
   "outputs": [],
   "source": [
    "id_to_category = utils.make_id_category(ocms, label_to_id)"
   ]
  },
  {
   "cell_type": "code",
   "execution_count": 14,
   "id": "816657b5-a7fa-47ba-9e14-07463a9005bd",
   "metadata": {
    "tags": []
   },
   "outputs": [],
   "source": [
    "ocms_counts = utils.get_ocm_counts(df, id_to_category if ONLY_PARENT_CATEGORY else None, \n",
    "                                   limit=LABELS_NEEDED_BEFORE)"
   ]
  },
  {
   "cell_type": "code",
   "execution_count": 15,
   "id": "2ee4e65a-2bd1-4946-a04a-e319428e3579",
   "metadata": {
    "tags": []
   },
   "outputs": [],
   "source": [
    "valid_ocms = list(id_to_label.keys())"
   ]
  },
  {
   "cell_type": "code",
   "execution_count": 16,
   "id": "2a823724-ce53-4fe8-89ae-ad7c7acccba0",
   "metadata": {
    "tags": []
   },
   "outputs": [],
   "source": [
    "def top_n_count(ocm_id, n=400):\n",
    "    top_400 = any([ocm_id == y[0] for y in ocms_counts.most_common(n)])\n",
    "    x_i = list(map(lambda x:x[0], ocms_counts.most_common(n))).index(ocm_id)\n",
    "\n",
    "    return top_400, x_i , ocms_counts[ocm_id]"
   ]
  },
  {
   "cell_type": "code",
   "execution_count": 19,
   "id": "3e325422-e95c-4232-9012-92b0932ac428",
   "metadata": {
    "tags": []
   },
   "outputs": [],
   "source": [
    "# for ocm_id in chosen_categories:\n",
    "#     print(f'\"{id_to_label[ocm_id].capitalize()}\" id({ocm_id}) count{top_n_count(ocm_id)}\\n')"
   ]
  },
  {
   "cell_type": "code",
   "execution_count": 129,
   "id": "54556339-15d5-4bdf-b8bd-1484459ceebf",
   "metadata": {
    "tags": []
   },
   "outputs": [],
   "source": [
    "# df.iloc[212] # VERY WEIRD!!"
   ]
  },
  {
   "cell_type": "code",
   "execution_count": 12,
   "id": "1d7fd4e0-86ee-447f-8bb2-1450d42b8159",
   "metadata": {
    "collapsed": true,
    "jupyter": {
     "outputs_hidden": true
    },
    "tags": []
   },
   "outputs": [
    {
     "data": {
      "text/plain": [
       "textrecord    in the forest during the summer. During this s...\n",
       "ocms                                221 233 241 243 244 246 262\n",
       "culture                                            Montenegrins\n",
       "place                                     Serbia and Montenegro\n",
       "pub.date                                                   1983\n",
       "field.date                                            1964-1966\n",
       "pub.lang                                                English\n",
       "Name: 31144, dtype: object"
      ]
     },
     "execution_count": 12,
     "metadata": {},
     "output_type": "execute_result"
    }
   ],
   "source": [
    "df.iloc[31144]"
   ]
  },
  {
   "cell_type": "code",
   "execution_count": 153,
   "id": "1777006b-2029-41f6-b451-e309bd28fdf2",
   "metadata": {
    "collapsed": true,
    "jupyter": {
     "outputs_hidden": true
    },
    "tags": []
   },
   "outputs": [
    {
     "data": {
      "text/plain": [
       "sreid                                         aw42-001-001104-0\n",
       "section                                         aw42-001-000481\n",
       "sectpar                                         aw42-001-000458\n",
       "sectgpar                                                    NaN\n",
       "title         The Santal: a tribe in search of a great tradi...\n",
       "hdoc                                                   aw42-001\n",
       "culture                                                  Santal\n",
       "pub.date                                                   1965\n",
       "field.date                                            1957-1958\n",
       "byline                                          by Martin Orans\n",
       "sreprev                                         aw42-001-001104\n",
       "srenext                                         aw42-001-001120\n",
       "parent                                          aw42-001-001104\n",
       "division                                        aw42-001-000447\n",
       "coverage                                          not specified\n",
       "place                                                     India\n",
       "roll                                            aw42-001-001104\n",
       "pub.type                                              Monograph\n",
       "owcs                                                       aw42\n",
       "mainowc                                                    aw42\n",
       "samples                                                  SCCSPS\n",
       "pub.lang                                                English\n",
       "page                                                         18\n",
       "pageEid                                         aw42-001-001079\n",
       "prevPage                                        aw42-001-001035\n",
       "nextPage                                        aw42-001-001110\n",
       "textrecord    which are held to be traditional, sacred, and ...\n",
       "ocms                                                        626\n",
       "Name: 31145, dtype: object"
      ]
     },
     "execution_count": 153,
     "metadata": {},
     "output_type": "execute_result"
    }
   ],
   "source": [
    "df.iloc[31145]"
   ]
  },
  {
   "cell_type": "code",
   "execution_count": 13,
   "id": "8194beea-fb76-4796-b686-846819d7f78c",
   "metadata": {
    "collapsed": true,
    "jupyter": {
     "outputs_hidden": true
    },
    "tags": []
   },
   "outputs": [
    {
     "ename": "KeyError",
     "evalue": "'sreid'",
     "output_type": "error",
     "traceback": [
      "\u001b[0;31m---------------------------------------------------------------------------\u001b[0m",
      "\u001b[0;31mKeyError\u001b[0m                                  Traceback (most recent call last)",
      "File \u001b[0;32m~/.virtualenvs/thesis/lib/python3.10/site-packages/pandas/core/indexes/base.py:3652\u001b[0m, in \u001b[0;36mIndex.get_loc\u001b[0;34m(self, key)\u001b[0m\n\u001b[1;32m   3651\u001b[0m \u001b[38;5;28;01mtry\u001b[39;00m:\n\u001b[0;32m-> 3652\u001b[0m     \u001b[38;5;28;01mreturn\u001b[39;00m \u001b[38;5;28;43mself\u001b[39;49m\u001b[38;5;241;43m.\u001b[39;49m\u001b[43m_engine\u001b[49m\u001b[38;5;241;43m.\u001b[39;49m\u001b[43mget_loc\u001b[49m\u001b[43m(\u001b[49m\u001b[43mcasted_key\u001b[49m\u001b[43m)\u001b[49m\n\u001b[1;32m   3653\u001b[0m \u001b[38;5;28;01mexcept\u001b[39;00m \u001b[38;5;167;01mKeyError\u001b[39;00m \u001b[38;5;28;01mas\u001b[39;00m err:\n",
      "File \u001b[0;32m~/.virtualenvs/thesis/lib/python3.10/site-packages/pandas/_libs/index.pyx:147\u001b[0m, in \u001b[0;36mpandas._libs.index.IndexEngine.get_loc\u001b[0;34m()\u001b[0m\n",
      "File \u001b[0;32m~/.virtualenvs/thesis/lib/python3.10/site-packages/pandas/_libs/index.pyx:176\u001b[0m, in \u001b[0;36mpandas._libs.index.IndexEngine.get_loc\u001b[0;34m()\u001b[0m\n",
      "File \u001b[0;32mpandas/_libs/hashtable_class_helper.pxi:7080\u001b[0m, in \u001b[0;36mpandas._libs.hashtable.PyObjectHashTable.get_item\u001b[0;34m()\u001b[0m\n",
      "File \u001b[0;32mpandas/_libs/hashtable_class_helper.pxi:7088\u001b[0m, in \u001b[0;36mpandas._libs.hashtable.PyObjectHashTable.get_item\u001b[0;34m()\u001b[0m\n",
      "\u001b[0;31mKeyError\u001b[0m: 'sreid'",
      "\nThe above exception was the direct cause of the following exception:\n",
      "\u001b[0;31mKeyError\u001b[0m                                  Traceback (most recent call last)",
      "Cell \u001b[0;32mIn[13], line 1\u001b[0m\n\u001b[0;32m----> 1\u001b[0m df[\u001b[43mdf\u001b[49m\u001b[43m[\u001b[49m\u001b[38;5;124;43m'\u001b[39;49m\u001b[38;5;124;43msreid\u001b[39;49m\u001b[38;5;124;43m'\u001b[39;49m\u001b[43m]\u001b[49m \u001b[38;5;241m==\u001b[39m \u001b[38;5;124m'\u001b[39m\u001b[38;5;124maa01-007-002174\u001b[39m\u001b[38;5;124m'\u001b[39m]\u001b[38;5;241m.\u001b[39mtextrecord\n",
      "File \u001b[0;32m~/.virtualenvs/thesis/lib/python3.10/site-packages/pandas/core/frame.py:3760\u001b[0m, in \u001b[0;36mDataFrame.__getitem__\u001b[0;34m(self, key)\u001b[0m\n\u001b[1;32m   3758\u001b[0m \u001b[38;5;28;01mif\u001b[39;00m \u001b[38;5;28mself\u001b[39m\u001b[38;5;241m.\u001b[39mcolumns\u001b[38;5;241m.\u001b[39mnlevels \u001b[38;5;241m>\u001b[39m \u001b[38;5;241m1\u001b[39m:\n\u001b[1;32m   3759\u001b[0m     \u001b[38;5;28;01mreturn\u001b[39;00m \u001b[38;5;28mself\u001b[39m\u001b[38;5;241m.\u001b[39m_getitem_multilevel(key)\n\u001b[0;32m-> 3760\u001b[0m indexer \u001b[38;5;241m=\u001b[39m \u001b[38;5;28;43mself\u001b[39;49m\u001b[38;5;241;43m.\u001b[39;49m\u001b[43mcolumns\u001b[49m\u001b[38;5;241;43m.\u001b[39;49m\u001b[43mget_loc\u001b[49m\u001b[43m(\u001b[49m\u001b[43mkey\u001b[49m\u001b[43m)\u001b[49m\n\u001b[1;32m   3761\u001b[0m \u001b[38;5;28;01mif\u001b[39;00m is_integer(indexer):\n\u001b[1;32m   3762\u001b[0m     indexer \u001b[38;5;241m=\u001b[39m [indexer]\n",
      "File \u001b[0;32m~/.virtualenvs/thesis/lib/python3.10/site-packages/pandas/core/indexes/base.py:3654\u001b[0m, in \u001b[0;36mIndex.get_loc\u001b[0;34m(self, key)\u001b[0m\n\u001b[1;32m   3652\u001b[0m     \u001b[38;5;28;01mreturn\u001b[39;00m \u001b[38;5;28mself\u001b[39m\u001b[38;5;241m.\u001b[39m_engine\u001b[38;5;241m.\u001b[39mget_loc(casted_key)\n\u001b[1;32m   3653\u001b[0m \u001b[38;5;28;01mexcept\u001b[39;00m \u001b[38;5;167;01mKeyError\u001b[39;00m \u001b[38;5;28;01mas\u001b[39;00m err:\n\u001b[0;32m-> 3654\u001b[0m     \u001b[38;5;28;01mraise\u001b[39;00m \u001b[38;5;167;01mKeyError\u001b[39;00m(key) \u001b[38;5;28;01mfrom\u001b[39;00m \u001b[38;5;21;01merr\u001b[39;00m\n\u001b[1;32m   3655\u001b[0m \u001b[38;5;28;01mexcept\u001b[39;00m \u001b[38;5;167;01mTypeError\u001b[39;00m:\n\u001b[1;32m   3656\u001b[0m     \u001b[38;5;66;03m# If we have a listlike key, _check_indexing_error will raise\u001b[39;00m\n\u001b[1;32m   3657\u001b[0m     \u001b[38;5;66;03m#  InvalidIndexError. Otherwise we fall through and re-raise\u001b[39;00m\n\u001b[1;32m   3658\u001b[0m     \u001b[38;5;66;03m#  the TypeError.\u001b[39;00m\n\u001b[1;32m   3659\u001b[0m     \u001b[38;5;28mself\u001b[39m\u001b[38;5;241m.\u001b[39m_check_indexing_error(key)\n",
      "\u001b[0;31mKeyError\u001b[0m: 'sreid'"
     ]
    }
   ],
   "source": [
    "# df[df['sreid'] == 'aa01-007-002174'].textrecord"
   ]
  },
  {
   "cell_type": "code",
   "execution_count": 21,
   "id": "8295b9f1-3428-42e4-b03c-115ec7eb228a",
   "metadata": {
    "tags": []
   },
   "outputs": [
    {
     "data": {
      "text/plain": [
       "379    [%  [caption:  TABLE 29. AVERAGE ACREAGE, PROD...\n",
       "Name: textrecord, dtype: object"
      ]
     },
     "execution_count": 21,
     "metadata": {},
     "output_type": "execute_result"
    }
   ],
   "source": [
    "# df[df['sreid'] == 'aa01-007-002174-0'].textrecord"
   ]
  },
  {
   "cell_type": "code",
   "execution_count": 14,
   "id": "743d9637-20e3-4253-b2ca-1a42c14459fd",
   "metadata": {
    "tags": []
   },
   "outputs": [
    {
     "data": {
      "text/plain": [
       "textrecord    {{231}}  {{233}}  {{221}}  {{423}} Mainly shee...\n",
       "ocms                                            221 231 233 423\n",
       "culture                                            Montenegrins\n",
       "place                                     Serbia and Montenegro\n",
       "pub.date                                                   1983\n",
       "field.date                                            1964-1966\n",
       "pub.lang                                                English\n",
       "Name: 31146, dtype: object"
      ]
     },
     "execution_count": 14,
     "metadata": {},
     "output_type": "execute_result"
    }
   ],
   "source": [
    "df.iloc[31146]"
   ]
  },
  {
   "cell_type": "code",
   "execution_count": 11,
   "id": "eb8db569-c92e-43ea-8435-4f9346611d74",
   "metadata": {
    "tags": []
   },
   "outputs": [
    {
     "data": {
      "text/plain": [
       "'social control'"
      ]
     },
     "execution_count": 11,
     "metadata": {},
     "output_type": "execute_result"
    }
   ],
   "source": [
    "id_to_label[626]"
   ]
  },
  {
   "cell_type": "code",
   "execution_count": 103,
   "id": "538f251b-93c2-4e97-84bc-e00ab36dedd3",
   "metadata": {
    "tags": []
   },
   "outputs": [
    {
     "data": {
      "text/plain": [
       "'[%  [caption:   {{102}}  {{241}}  {{438}} THE LIMIT LINES OF IMPORTANT CROPS. (n. indicates northern and s. southern limit of the Crop named) [/caption]  [graphic: b7006006]  [/graphic] %]'"
      ]
     },
     "execution_count": 103,
     "metadata": {},
     "output_type": "execute_result"
    }
   ],
   "source": [
    "test = df.iloc[135].textrecord  # No ocms in textrecord.\n",
    "test[:4327]"
   ]
  },
  {
   "cell_type": "code",
   "execution_count": 54,
   "id": "d3172c9e-8601-4e72-94de-bdd632cb92ad",
   "metadata": {
    "tags": []
   },
   "outputs": [
    {
     "data": {
      "text/plain": [
       "'{{228}}  {{433}} waters are used for other than food purposes, while 91 per cent of the catch of ~~iwashi~~ in 1937 was processed further, chiefly into oil and ~~iwashi~~ cakes. ~~Iwashi~~ oil is used in the production of hard oils, glycerine, fatty acids, gunpowder, medicines, soap, candles, and margarine, while the cake is used for fertilizer. [^^   ~~Chosen Keizai Nempo,~~ 1939, p. 183 ~~et seq.~~  ^^]'"
      ]
     },
     "execution_count": 54,
     "metadata": {},
     "output_type": "execute_result"
    }
   ],
   "source": [
    "df.iloc[170].textrecord"
   ]
  },
  {
   "cell_type": "code",
   "execution_count": 20,
   "id": "dcde2d83-dc9f-4a4c-8ec1-958c305c3fbb",
   "metadata": {
    "tags": []
   },
   "outputs": [],
   "source": [
    "def get_parent_category_i(cat):\n",
    "    return math.floor(int(cat) / 10) * 10"
   ]
  },
  {
   "cell_type": "code",
   "execution_count": 58,
   "id": "cb779506-cc9e-4572-90fe-735ace0e78bf",
   "metadata": {
    "tags": []
   },
   "outputs": [],
   "source": [
    "def split_data(row):\n",
    "    text = row['textrecord']\n",
    "    # print(text)\n",
    "    text = re.sub(r\"\\[%.*?%\\]\", \"\", text) # exclude text within [%  %]\n",
    "    \n",
    "    text = re.sub(r\"\\[//.*//\\]\", \"\", text) # exclude text within [//  //] which gives weird, unstractured info\n",
    "    \n",
    "    # text = re.sub(r\"\\[\\^\\^.*?\\^\\^\\]\", \"\", text) # exclude text within [^^  ^^] which gives extra info\n",
    "    text = re.sub(r\"\\[\\^\\^|\\^\\^\\]\", \"\", text) # exclude text within [^^  ^^] which gives extra info\n",
    "    \n",
    "    text = re.sub(r\"\\[(c|\\/c|r|\\/r)\\]\", \"\", text) # special case for c, /c, r and /r\n",
    "    \n",
    "    text = re.sub(r\"\\[table .*?\\]\", \"\", text) # special case for table\n",
    "    text = re.sub(r\"\\[\\/table]\", \"\", text) # special case for c, /table\n",
    "    text = re.sub(r\"\\~~United\\~~\", \"\", text) # exclude text within ~~  ~~ since it gives names that are irrelevant.\n",
    "    # print(text)\n",
    "\n",
    "    sentences = re.split(r'\\{\\{(\\d+(\\s+\\d+)*)\\}\\}', text.strip())\n",
    "\n",
    "    # print(text, sentences)\n",
    "    filtered_ocms = []\n",
    "    filtered_sentences = []\n",
    "    used_per_sentence = defaultdict(list)\n",
    "    current_labels = []\n",
    "    for i, s in enumerate(sentences):\n",
    "        if s and s.strip() != '':\n",
    "            s = s.strip()\n",
    "            all_cat = all([re.fullmatch(r\"\\d+\", c) for c in s.split()])\n",
    "            # if re.match(r\"\\d+\", s):\n",
    "            if all_cat:\n",
    "                for cat in s.split():\n",
    "                    # print(used_per_sentence.get(len(filtered_sentences)))\n",
    "                    already_used = used_per_sentence.get(len(filtered_sentences))\n",
    "                    if not already_used or (cat not in already_used):\n",
    "                        # print(get_parent_category_i(cat))\n",
    "                        current_labels.append(get_parent_category_i(cat) if ONLY_PARENT_CATEGORY else int(cat))\n",
    "                        # current_labels.append(get_parent_category_i(cat))\n",
    "                        # print(s, current_labels, cat)\n",
    "                        # filtered_ocms.append((len(filtered_sentences), get_parent_category_i(cat) if ONLY_PARENT_CATEGORY else cat))\n",
    "                        used_per_sentence[len(filtered_sentences)] = cat\n",
    "            else:\n",
    "                # group \n",
    "                filtered_sentences.append(s)\n",
    "                filtered_ocms.append(current_labels)\n",
    "                current_labels = []\n",
    "    \n",
    "    \n",
    "    if filtered_sentences and not filtered_ocms[0]:\n",
    "        filtered_ocms = [list(map(lambda x: int(x), row['ocms'].split()))]\n",
    "        # print(len(filtered_sentences), len(filtered_ocms))\n",
    "        if len(filtered_sentences) != len(filtered_ocms):\n",
    "            filtered_sentences = [' '.join(filtered_sentences)]\n",
    "            # print(row)\n",
    "    # print(row)\n",
    "    \n",
    "    # filtered_ocms = validate_ocm(filtered_ocms)\n",
    "    # print(filtered_ocms)\n",
    "    return [{**row, \n",
    "             'textrecord': t, \n",
    "             'ocms': ocm, 'count': ocms_counts[ocm], 'label_name': id_to_label[ocm],\n",
    "             'parent_ocms': get_parent_category_i(ocm), 'parent_label_name': id_to_label[get_parent_category_i(ocm)]} \n",
    "            for i, t in enumerate(filtered_sentences)\n",
    "            for ocm in filtered_ocms[i] \n",
    "            # for i, ocm in  enumerate(filtered_ocms) \n",
    "            # for t in filtered_sentences[i]\n",
    "            if ocm <= LABELS_NEEDED_BEFORE and\n",
    "            ocm in valid_ocms # whether it's valid ocm code or not.\n",
    "           ]#if CHOSEN_CATEGORIES and ocm in chosen_categories]\n"
   ]
  },
  {
   "cell_type": "code",
   "execution_count": 22,
   "id": "59c0c2f9-cf34-47b1-ae78-986579210f09",
   "metadata": {
    "tags": []
   },
   "outputs": [],
   "source": [
    "# 29: [//  [//  {{233}}  {{839}}  {{226}}  {{857}} Fast asleep in my grass roof, //]  [// The birds sing me awake. ... //]  [// Behind those plum flowers the raindrops shine, //]  [// The sun begins to sink. //]  [// Gar[unknown] on, bring fishing rods quick! //]  [// It gets late to fish.” //]  [//  //]  //]\n",
    "# 170: .... [^^   ~~Chosen Keizai Nempo,~~ 1939, p. 183 ~~et seq.~~  ^^]\n",
    "# 130: [r]  [c]   [/c]  [c]   [/c]  [c]   [/c]  [c]   ~~United~~  [/c]  [c]   [/c]  [c]   [/c]  [c]   ~~United~~  [/c]  [/r]\n",
    "# 796:  ... {{013} ...\n"
   ]
  },
  {
   "cell_type": "code",
   "execution_count": 123,
   "id": "3296bf39-7ebb-4652-9ae8-2730444ab4c2",
   "metadata": {
    "tags": []
   },
   "outputs": [],
   "source": [
    "pd.set_option('display.max_rows', None)\n",
    "pd.set_option('display.max_columns', None)\n"
   ]
  },
  {
   "cell_type": "code",
   "execution_count": 24,
   "id": "8a4e1add-7fed-4474-bc20-ff250076f0d8",
   "metadata": {
    "tags": []
   },
   "outputs": [],
   "source": [
    "all_data = []\n",
    "for item in df.apply(split_data, axis=1):\n",
    "    if item:\n",
    "        [all_data.append(i) for i in item];"
   ]
  },
  {
   "cell_type": "code",
   "execution_count": 175,
   "id": "eeabf1d3-9586-4598-8c5b-33973a1f4d4d",
   "metadata": {
    "tags": []
   },
   "outputs": [
    {
     "data": {
      "text/plain": [
       "[]"
      ]
     },
     "execution_count": 175,
     "metadata": {},
     "output_type": "execute_result"
    }
   ],
   "source": [
    "all_data"
   ]
  },
  {
   "cell_type": "code",
   "execution_count": 25,
   "id": "1ee84d1f-38cd-4047-83ca-e7ccbec3cab2",
   "metadata": {
    "tags": []
   },
   "outputs": [],
   "source": [
    "splitted_df = pd.DataFrame(all_data)"
   ]
  },
  {
   "cell_type": "code",
   "execution_count": 26,
   "id": "ac110f24-1c4c-4fe9-9c04-ce492cf33c8b",
   "metadata": {
    "tags": []
   },
   "outputs": [
    {
     "name": "stdout",
     "output_type": "stream",
     "text": [
      "Total of 455660 was added due to splitting by a single label\n"
     ]
    }
   ],
   "source": [
    "print(f'Total of {splitted_df.shape[0] - df.shape[0]} was added due to splitting by a single label')"
   ]
  },
  {
   "cell_type": "code",
   "execution_count": 27,
   "id": "b40a27b6-43ca-4276-8934-0306cbf40aac",
   "metadata": {
    "tags": []
   },
   "outputs": [],
   "source": [
    "splitted_df.to_csv('../data/splitted_data.csv', index=False)"
   ]
  },
  {
   "cell_type": "code",
   "execution_count": 202,
   "id": "b5911683-c386-45e5-8eab-16be227194cd",
   "metadata": {
    "tags": []
   },
   "outputs": [
    {
     "data": {
      "text/html": [
       "<div>\n",
       "<style scoped>\n",
       "    .dataframe tbody tr th:only-of-type {\n",
       "        vertical-align: middle;\n",
       "    }\n",
       "\n",
       "    .dataframe tbody tr th {\n",
       "        vertical-align: top;\n",
       "    }\n",
       "\n",
       "    .dataframe thead th {\n",
       "        text-align: right;\n",
       "    }\n",
       "</style>\n",
       "<table border=\"1\" class=\"dataframe\">\n",
       "  <thead>\n",
       "    <tr style=\"text-align: right;\">\n",
       "      <th></th>\n",
       "      <th>sreid</th>\n",
       "      <th>srenext</th>\n",
       "      <th>textrecord</th>\n",
       "      <th>ocms</th>\n",
       "      <th>culture</th>\n",
       "      <th>place</th>\n",
       "      <th>pub.date</th>\n",
       "      <th>field.date</th>\n",
       "      <th>pub.lang</th>\n",
       "      <th>count</th>\n",
       "      <th>label_name</th>\n",
       "      <th>parent_ocms</th>\n",
       "      <th>parent_label_name</th>\n",
       "    </tr>\n",
       "  </thead>\n",
       "  <tbody>\n",
       "    <tr>\n",
       "      <th>12594</th>\n",
       "      <td>ac07-001-010968</td>\n",
       "      <td>ac07-001-010978</td>\n",
       "      <td>In an agricultural community, the first son re...</td>\n",
       "      <td>226</td>\n",
       "      <td>Okinawans</td>\n",
       "      <td>villages of Hanashiro, Minatogawa, and Matsuda...</td>\n",
       "      <td>1953</td>\n",
       "      <td>1951-1952</td>\n",
       "      <td>English</td>\n",
       "      <td>21697</td>\n",
       "      <td>fishing</td>\n",
       "      <td>220</td>\n",
       "      <td>food quest</td>\n",
       "    </tr>\n",
       "    <tr>\n",
       "      <th>12595</th>\n",
       "      <td>ac07-001-010968</td>\n",
       "      <td>ac07-001-010978</td>\n",
       "      <td>In an agricultural community, the first son re...</td>\n",
       "      <td>593</td>\n",
       "      <td>Okinawans</td>\n",
       "      <td>villages of Hanashiro, Minatogawa, and Matsuda...</td>\n",
       "      <td>1953</td>\n",
       "      <td>1951-1952</td>\n",
       "      <td>English</td>\n",
       "      <td>2558</td>\n",
       "      <td>family relationships</td>\n",
       "      <td>590</td>\n",
       "      <td>family</td>\n",
       "    </tr>\n",
       "    <tr>\n",
       "      <th>12596</th>\n",
       "      <td>ac07-001-010968</td>\n",
       "      <td>ac07-001-010978</td>\n",
       "      <td>have two members of the same immediate family ...</td>\n",
       "      <td>183</td>\n",
       "      <td>Okinawans</td>\n",
       "      <td>villages of Hanashiro, Minatogawa, and Matsuda...</td>\n",
       "      <td>1953</td>\n",
       "      <td>1951-1952</td>\n",
       "      <td>English</td>\n",
       "      <td>576</td>\n",
       "      <td>norms</td>\n",
       "      <td>180</td>\n",
       "      <td>total culture</td>\n",
       "    </tr>\n",
       "  </tbody>\n",
       "</table>\n",
       "</div>"
      ],
      "text/plain": [
       "                 sreid          srenext   \n",
       "12594  ac07-001-010968  ac07-001-010978  \\\n",
       "12595  ac07-001-010968  ac07-001-010978   \n",
       "12596  ac07-001-010968  ac07-001-010978   \n",
       "\n",
       "                                              textrecord  ocms    culture   \n",
       "12594  In an agricultural community, the first son re...   226  Okinawans  \\\n",
       "12595  In an agricultural community, the first son re...   593  Okinawans   \n",
       "12596  have two members of the same immediate family ...   183  Okinawans   \n",
       "\n",
       "                                                   place pub.date field.date   \n",
       "12594  villages of Hanashiro, Minatogawa, and Matsuda...     1953  1951-1952  \\\n",
       "12595  villages of Hanashiro, Minatogawa, and Matsuda...     1953  1951-1952   \n",
       "12596  villages of Hanashiro, Minatogawa, and Matsuda...     1953  1951-1952   \n",
       "\n",
       "      pub.lang  count            label_name  parent_ocms parent_label_name  \n",
       "12594  English  21697               fishing          220        food quest  \n",
       "12595  English   2558  family relationships          590            family  \n",
       "12596  English    576                 norms          180     total culture  "
      ]
     },
     "execution_count": 202,
     "metadata": {},
     "output_type": "execute_result"
    }
   ],
   "source": [
    "splitted_df[splitted_df.sreid == 'ac07-001-010968']"
   ]
  },
  {
   "cell_type": "code",
   "execution_count": 200,
   "id": "b3351550-fdb3-418f-83cc-35838e4162d4",
   "metadata": {
    "tags": []
   },
   "outputs": [
    {
     "data": {
      "text/plain": [
       "'{{226 593}} In an agricultural community, the first son remains in the home working the fields of his father. In fishing, through long custom, there is an avoidance of teamwork among close relatives. Members of the immediate family will not go out on the same fishing boat. A father will not take his son, an elder brother will not take a younger. Partners and working teams on boats are more distant relatives or friends. If a father and a son are on the same boat and it is lost, the present and the succeeding head both perish. To this incontrovertible possibility, there has been added the belief that if two persons of the same immediate family go to sea together on the same boat, there will be a disaster. And actual and near disasters are frequent enough to make both points of view understandable. The sons of fishermen, who are learning the ways of the fish and of the sea, go on the boats of others. Many younger fishermen regard the belief that it is inviting disaster to {{183}} have two members of the same immediate family together on the same boat as a superstition ( __meishin__ ), but to my knowledge, no fisherman ignores the custom.'"
      ]
     },
     "execution_count": 200,
     "metadata": {},
     "output_type": "execute_result"
    }
   ],
   "source": [
    "df.iloc[3257].textrecord"
   ]
  },
  {
   "cell_type": "code",
   "execution_count": 166,
   "id": "312be7fb-e3be-47be-a7a0-9862df13ac6e",
   "metadata": {
    "tags": []
   },
   "outputs": [],
   "source": [
    "# Basic statistics of the numerical columns\n",
    "# print(df.describe())\n",
    "\n",
    "# # Basic statistics of the non-numerical columns\n",
    "# print('\\nnon-numerical columns: \\n', df.describe(include=['O']))\n",
    "\n",
    "# # Count of unique values in the non-numerical columns\n",
    "# print(df.nunique())"
   ]
  },
  {
   "cell_type": "code",
   "execution_count": 25,
   "id": "ca24e370-588c-4d6b-a765-08266c7d0255",
   "metadata": {},
   "outputs": [],
   "source": [
    "\n",
    "# # Convert the pub.date column to numeric\n",
    "# df['pub.date'] = pd.to_numeric(df['pub.date'], errors='coerce')\n",
    "\n",
    "# # Convert the field.date column to numeric\n",
    "# df['field.date'] = pd.to_numeric(df['field.date'], errors='coerce')\n"
   ]
  }
 ],
 "metadata": {
  "kernelspec": {
   "display_name": "Python 3 (ipykernel)",
   "language": "python",
   "name": "python3"
  },
  "language_info": {
   "codemirror_mode": {
    "name": "ipython",
    "version": 3
   },
   "file_extension": ".py",
   "mimetype": "text/x-python",
   "name": "python",
   "nbconvert_exporter": "python",
   "pygments_lexer": "ipython3",
   "version": "3.10.6"
  }
 },
 "nbformat": 4,
 "nbformat_minor": 5
}
